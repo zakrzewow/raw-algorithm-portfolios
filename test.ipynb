{
 "cells": [
  {
   "cell_type": "code",
   "execution_count": 1,
   "metadata": {},
   "outputs": [],
   "source": [
    "import os\n",
    "\n",
    "os.environ[\"SEED\"] = \"0\"\n",
    "import numpy as np\n",
    "import pandas as pd\n",
    "from ConfigSpace import Configuration\n",
    "\n",
    "from src.aac.AAC import AAC\n",
    "from src.configuration_space.LKH import CONFIGURATION_SPACE\n",
    "from src.constant import DATA_DIR, SEED\n",
    "from src.database import DB\n",
    "from src.database.queries import *\n",
    "from src.instance.Instance import Instance\n",
    "from src.instance.InstanceList import InstanceList\n",
    "from src.instance.TSP_Instance import TSP_Instance, TSP_train_test_from_index_file\n",
    "from src.solver.Portfolio import Portfolio\n",
    "from src.solver.TSP_LKH_Solver import TSP_LKH_Solver\n",
    "from src.aac.SurrogateEstimator import Estimator1, SurrogateEstimator"
   ]
  },
  {
   "cell_type": "code",
   "execution_count": 2,
   "metadata": {},
   "outputs": [
    {
     "data": {
      "text/plain": [
       "InstanceList(size=3)[TSP_Instance(filepath=TSP/CEPS_benchmark/explosion/21.tsp), TSP_Instance(filepath=TSP/CEPS_benchmark/rotation/34.tsp), TSP_Instance(filepath=TSP/CEPS_benchmark/compression/09.tsp)]"
      ]
     },
     "execution_count": 2,
     "metadata": {},
     "output_type": "execute_result"
    }
   ],
   "source": [
    "train_instances, test_instances = TSP_train_test_from_index_file(\n",
    "    filepath=DATA_DIR / \"TSP\" / \"CEPS_benchmark\" / \"index.json\",\n",
    "    train_size=3,\n",
    ")\n",
    "train_instances"
   ]
  },
  {
   "cell_type": "code",
   "execution_count": 3,
   "metadata": {},
   "outputs": [
    {
     "data": {
      "text/plain": [
       "Portfolio(size=1)[Solver(id=52980316141715150)]"
      ]
     },
     "execution_count": 3,
     "metadata": {},
     "output_type": "execute_result"
    }
   ],
   "source": [
    "portfolio = Portfolio.from_solver_class(TSP_LKH_Solver, size=1)\n",
    "portfolio"
   ]
  },
  {
   "cell_type": "code",
   "execution_count": 4,
   "metadata": {},
   "outputs": [
    {
     "name": "stderr",
     "output_type": "stream",
     "text": [
      "[2024-12-28 21:51:44] DEBUG     Portfolio.evaluate(test1)\n",
      "[2024-12-28 21:51:44] DEBUG     Portfolio(size=1)[Solver(id=52980316141715150)]\n",
      "[2024-12-28 21:51:44] DEBUG     solve(prefix=test1, solver=Solver(id=52980316141715150), instance=TSP_Instance(filepath=TSP/CEPS_benchmark/explosion/21.tsp))\n",
      "[2024-12-28 21:51:44] DEBUG     solve(prefix=test1, solver=Solver(id=52980316141715150), instance=TSP_Instance(filepath=TSP/CEPS_benchmark/rotation/34.tsp))\n",
      "[2024-12-28 21:51:44] DEBUG     solve(prefix=test1, solver=Solver(id=52980316141715150), instance=TSP_Instance(filepath=TSP/CEPS_benchmark/compression/09.tsp))\n",
      "[2024-12-28 21:51:56] DEBUG     Solver.Result(prefix=test1, solver=Solver(id=52980316141715150), instance=TSP_Instance(filepath=TSP/CEPS_benchmark/rotation/34.tsp), cost=100.00, time=10.00, cached=False, surrogate=False, error=False)\n",
      "[2024-12-28 21:52:01] DEBUG     Solver.Result(prefix=test1, solver=Solver(id=52980316141715150), instance=TSP_Instance(filepath=TSP/CEPS_benchmark/explosion/21.tsp), cost=100.00, time=10.00, cached=False, surrogate=False, error=False)\n",
      "[2024-12-28 21:52:21] DEBUG     Solver.Result(prefix=test1, solver=Solver(id=52980316141715150), instance=TSP_Instance(filepath=TSP/CEPS_benchmark/compression/09.tsp), cost=100.00, time=10.00, cached=False, surrogate=False, error=False)\n",
      "[2024-12-28 21:52:21] DEBUG     Portfolio.Result(prefix=test1, cost=100.00, time=[30.00])\n"
     ]
    },
    {
     "data": {
      "text/plain": [
       "Portfolio.Result(prefix=test1, cost=100.00, time=[30.00])"
      ]
     },
     "execution_count": 4,
     "metadata": {},
     "output_type": "execute_result"
    }
   ],
   "source": [
    "portfolio.evaluate(\n",
    "    train_instances,\n",
    "    prefix=\"test1\",\n",
    "    calculate_features=False,\n",
    "    cache=False,\n",
    ")"
   ]
  },
  {
   "cell_type": "code",
   "execution_count": 5,
   "metadata": {},
   "outputs": [
    {
     "name": "stderr",
     "output_type": "stream",
     "text": [
      "[2024-12-28 21:52:26] DEBUG     Portfolio.evaluate(test2)\n",
      "[2024-12-28 21:52:26] DEBUG     Portfolio(size=1)[Solver(id=52980316141715150)]\n",
      "[2024-12-28 21:52:26] DEBUG     solve(prefix=test2, solver=Solver(id=52980316141715150), instance=TSP_Instance(filepath=TSP/CEPS_benchmark/explosion/21.tsp))\n",
      "[2024-12-28 21:52:26] DEBUG     solve(prefix=test2, solver=Solver(id=52980316141715150), instance=TSP_Instance(filepath=TSP/CEPS_benchmark/rotation/34.tsp))\n",
      "[2024-12-28 21:52:26] DEBUG     solve(prefix=test2, solver=Solver(id=52980316141715150), instance=TSP_Instance(filepath=TSP/CEPS_benchmark/compression/09.tsp))\n",
      "[2024-12-28 21:52:38] DEBUG     Solver.Result(prefix=test2, solver=Solver(id=52980316141715150), instance=TSP_Instance(filepath=TSP/CEPS_benchmark/rotation/34.tsp), cost=100.00, time=10.00, cached=False, surrogate=False, error=False)\n",
      "[2024-12-28 21:52:39] DEBUG     Solver.Result(prefix=test2, solver=Solver(id=52980316141715150), instance=TSP_Instance(filepath=TSP/CEPS_benchmark/explosion/21.tsp), cost=100.00, time=10.00, cached=False, surrogate=False, error=False)\n",
      "[2024-12-28 21:52:59] DEBUG     Solver.Result(prefix=test2, solver=Solver(id=52980316141715150), instance=TSP_Instance(filepath=TSP/CEPS_benchmark/compression/09.tsp), cost=100.00, time=10.00, cached=False, surrogate=False, error=True)\n",
      "[2024-12-28 21:52:59] DEBUG     Portfolio.Result(prefix=test2, cost=100.00, time=[30.00])\n"
     ]
    },
    {
     "data": {
      "text/plain": [
       "Portfolio.Result(prefix=test2, cost=100.00, time=[30.00])"
      ]
     },
     "execution_count": 5,
     "metadata": {},
     "output_type": "execute_result"
    },
    {
     "name": "stderr",
     "output_type": "stream",
     "text": [
      "[2024-12-28 21:53:03] DEBUG     Solver.Result(prefix=test2, solver=Solver(id=52980316141715150), instance=TSP_Instance(filepath=TSP/CEPS_benchmark/compression/09.tsp), cost=100.00, time=10.00, cached=False, surrogate=False, error=False)\n"
     ]
    }
   ],
   "source": [
    "portfolio.evaluate(\n",
    "    train_instances,\n",
    "    prefix=\"test2\",\n",
    "    calculate_features=False,\n",
    "    cache=False,\n",
    ")"
   ]
  },
  {
   "cell_type": "code",
   "execution_count": 5,
   "metadata": {},
   "outputs": [],
   "source": [
    "aac = AAC(\n",
    "    portfolio=portfolio,\n",
    "    instance_list=train_instances,\n",
    "    prefix=\"config\",\n",
    "    t_c=100,\n",
    "    calculate_features=False,\n",
    "    estimator=None,\n",
    ")"
   ]
  },
  {
   "cell_type": "code",
   "execution_count": 6,
   "metadata": {},
   "outputs": [
    {
     "data": {
      "text/plain": [
       "InstanceList(size=3)[TSP_Instance(filepath=TSP/CEPS_benchmark/explosion/21.tsp), TSP_Instance(filepath=TSP/CEPS_benchmark/rotation/34.tsp), TSP_Instance(filepath=TSP/CEPS_benchmark/compression/09.tsp)]"
      ]
     },
     "execution_count": 6,
     "metadata": {},
     "output_type": "execute_result"
    }
   ],
   "source": []
  },
  {
   "cell_type": "code",
   "execution_count": 6,
   "metadata": {},
   "outputs": [],
   "source": [
    "db = DB()\n",
    "# db = DB(\"database/run-test_924023.db\")"
   ]
  },
  {
   "cell_type": "code",
   "execution_count": 7,
   "metadata": {},
   "outputs": [
    {
     "data": {
      "text/html": [
       "<div>\n",
       "<style scoped>\n",
       "    .dataframe tbody tr th:only-of-type {\n",
       "        vertical-align: middle;\n",
       "    }\n",
       "\n",
       "    .dataframe tbody tr th {\n",
       "        vertical-align: top;\n",
       "    }\n",
       "\n",
       "    .dataframe thead th {\n",
       "        text-align: right;\n",
       "    }\n",
       "</style>\n",
       "<table border=\"1\" class=\"dataframe\">\n",
       "  <thead>\n",
       "    <tr style=\"text-align: right;\">\n",
       "      <th></th>\n",
       "      <th>id</th>\n",
       "      <th>filepath</th>\n",
       "      <th>optimum</th>\n",
       "    </tr>\n",
       "  </thead>\n",
       "  <tbody>\n",
       "    <tr>\n",
       "      <th>0</th>\n",
       "      <td>855157651668393360</td>\n",
       "      <td>TSP/CEPS_benchmark/explosion/21.tsp</td>\n",
       "      <td>14928292.0</td>\n",
       "    </tr>\n",
       "    <tr>\n",
       "      <th>1</th>\n",
       "      <td>1353678304570487518</td>\n",
       "      <td>TSP/CEPS_benchmark/rotation/34.tsp</td>\n",
       "      <td>15486460.0</td>\n",
       "    </tr>\n",
       "    <tr>\n",
       "      <th>2</th>\n",
       "      <td>810870798045289410</td>\n",
       "      <td>TSP/CEPS_benchmark/compression/09.tsp</td>\n",
       "      <td>16003060.0</td>\n",
       "    </tr>\n",
       "  </tbody>\n",
       "</table>\n",
       "</div>"
      ],
      "text/plain": [
       "                    id                               filepath     optimum\n",
       "0   855157651668393360    TSP/CEPS_benchmark/explosion/21.tsp  14928292.0\n",
       "1  1353678304570487518     TSP/CEPS_benchmark/rotation/34.tsp  15486460.0\n",
       "2   810870798045289410  TSP/CEPS_benchmark/compression/09.tsp  16003060.0"
      ]
     },
     "execution_count": 7,
     "metadata": {},
     "output_type": "execute_result"
    }
   ],
   "source": [
    "pd.read_sql_query(\"SELECT * FROM instances\", db._conn)"
   ]
  },
  {
   "cell_type": "code",
   "execution_count": 8,
   "metadata": {},
   "outputs": [
    {
     "data": {
      "text/html": [
       "<div>\n",
       "<style scoped>\n",
       "    .dataframe tbody tr th:only-of-type {\n",
       "        vertical-align: middle;\n",
       "    }\n",
       "\n",
       "    .dataframe tbody tr th {\n",
       "        vertical-align: top;\n",
       "    }\n",
       "\n",
       "    .dataframe thead th {\n",
       "        text-align: right;\n",
       "    }\n",
       "</style>\n",
       "<table border=\"1\" class=\"dataframe\">\n",
       "  <thead>\n",
       "    <tr style=\"text-align: right;\">\n",
       "      <th></th>\n",
       "      <th>id</th>\n",
       "      <th>ASCENT_CANDIDATES</th>\n",
       "      <th>BACKBONE_TRIALS</th>\n",
       "      <th>BACKTRACKING</th>\n",
       "      <th>CANDIDATE_SET_TYPE</th>\n",
       "      <th>EXTRA_CANDIDATES</th>\n",
       "      <th>EXTRA_CANDIDATE_SET_TYPE</th>\n",
       "      <th>GAIN23</th>\n",
       "      <th>GAIN_CRITERION</th>\n",
       "      <th>INITIAL_STEP_SIZE</th>\n",
       "      <th>...</th>\n",
       "      <th>MAX_BREADTH</th>\n",
       "      <th>MAX_CANDIDATES</th>\n",
       "      <th>MOVE_TYPE</th>\n",
       "      <th>PATCHING_A</th>\n",
       "      <th>PATCHING_C</th>\n",
       "      <th>POPULATION_SIZE</th>\n",
       "      <th>RESTRICTED_SEARCH</th>\n",
       "      <th>SUBGRADIENT</th>\n",
       "      <th>SUBSEQUENT_MOVE_TYPE</th>\n",
       "      <th>SUBSEQUENT_PATCHING</th>\n",
       "    </tr>\n",
       "  </thead>\n",
       "  <tbody>\n",
       "    <tr>\n",
       "      <th>0</th>\n",
       "      <td>52980316141715150</td>\n",
       "      <td>0.6</td>\n",
       "      <td>1.0</td>\n",
       "      <td>0.0</td>\n",
       "      <td>0.0</td>\n",
       "      <td>0.7</td>\n",
       "      <td>0.0</td>\n",
       "      <td>1.0</td>\n",
       "      <td>0.0</td>\n",
       "      <td>0.0</td>\n",
       "      <td>...</td>\n",
       "      <td>0.444643</td>\n",
       "      <td>1.0</td>\n",
       "      <td>0.25</td>\n",
       "      <td>0.6</td>\n",
       "      <td>0.2</td>\n",
       "      <td>0.061224</td>\n",
       "      <td>0.0</td>\n",
       "      <td>0.0</td>\n",
       "      <td>5.0</td>\n",
       "      <td>1.0</td>\n",
       "    </tr>\n",
       "  </tbody>\n",
       "</table>\n",
       "<p>1 rows × 24 columns</p>\n",
       "</div>"
      ],
      "text/plain": [
       "                  id  ASCENT_CANDIDATES  BACKBONE_TRIALS  BACKTRACKING  \\\n",
       "0  52980316141715150                0.6              1.0           0.0   \n",
       "\n",
       "   CANDIDATE_SET_TYPE  EXTRA_CANDIDATES  EXTRA_CANDIDATE_SET_TYPE  GAIN23  \\\n",
       "0                 0.0               0.7                       0.0     1.0   \n",
       "\n",
       "   GAIN_CRITERION  INITIAL_STEP_SIZE  ...  MAX_BREADTH  MAX_CANDIDATES  \\\n",
       "0             0.0                0.0  ...     0.444643             1.0   \n",
       "\n",
       "   MOVE_TYPE  PATCHING_A  PATCHING_C  POPULATION_SIZE  RESTRICTED_SEARCH  \\\n",
       "0       0.25         0.6         0.2         0.061224                0.0   \n",
       "\n",
       "   SUBGRADIENT  SUBSEQUENT_MOVE_TYPE  SUBSEQUENT_PATCHING  \n",
       "0          0.0                   5.0                  1.0  \n",
       "\n",
       "[1 rows x 24 columns]"
      ]
     },
     "execution_count": 8,
     "metadata": {},
     "output_type": "execute_result"
    }
   ],
   "source": [
    "pd.read_sql_query(\"SELECT * FROM solvers\", db._conn)"
   ]
  },
  {
   "cell_type": "code",
   "execution_count": 9,
   "metadata": {},
   "outputs": [
    {
     "data": {
      "text/html": [
       "<div>\n",
       "<style scoped>\n",
       "    .dataframe tbody tr th:only-of-type {\n",
       "        vertical-align: middle;\n",
       "    }\n",
       "\n",
       "    .dataframe tbody tr th {\n",
       "        vertical-align: top;\n",
       "    }\n",
       "\n",
       "    .dataframe thead th {\n",
       "        text-align: right;\n",
       "    }\n",
       "</style>\n",
       "<table border=\"1\" class=\"dataframe\">\n",
       "  <thead>\n",
       "    <tr style=\"text-align: right;\">\n",
       "      <th></th>\n",
       "      <th>id</th>\n",
       "      <th>prefix</th>\n",
       "      <th>solver_id</th>\n",
       "      <th>instance_id</th>\n",
       "      <th>cost</th>\n",
       "      <th>time</th>\n",
       "      <th>cached</th>\n",
       "      <th>surrogate</th>\n",
       "      <th>error</th>\n",
       "    </tr>\n",
       "  </thead>\n",
       "  <tbody>\n",
       "    <tr>\n",
       "      <th>0</th>\n",
       "      <td>test1_52980316141715150_1353678304570487518</td>\n",
       "      <td>test1</td>\n",
       "      <td>52980316141715150</td>\n",
       "      <td>1353678304570487518</td>\n",
       "      <td>100.0</td>\n",
       "      <td>10.0</td>\n",
       "      <td>0</td>\n",
       "      <td>0</td>\n",
       "      <td>0</td>\n",
       "    </tr>\n",
       "    <tr>\n",
       "      <th>1</th>\n",
       "      <td>test1_52980316141715150_855157651668393360</td>\n",
       "      <td>test1</td>\n",
       "      <td>52980316141715150</td>\n",
       "      <td>855157651668393360</td>\n",
       "      <td>100.0</td>\n",
       "      <td>10.0</td>\n",
       "      <td>0</td>\n",
       "      <td>0</td>\n",
       "      <td>0</td>\n",
       "    </tr>\n",
       "    <tr>\n",
       "      <th>2</th>\n",
       "      <td>test1_52980316141715150_810870798045289410</td>\n",
       "      <td>test1</td>\n",
       "      <td>52980316141715150</td>\n",
       "      <td>810870798045289410</td>\n",
       "      <td>100.0</td>\n",
       "      <td>10.0</td>\n",
       "      <td>0</td>\n",
       "      <td>0</td>\n",
       "      <td>0</td>\n",
       "    </tr>\n",
       "    <tr>\n",
       "      <th>3</th>\n",
       "      <td>test2_52980316141715150_1353678304570487518</td>\n",
       "      <td>test2</td>\n",
       "      <td>52980316141715150</td>\n",
       "      <td>1353678304570487518</td>\n",
       "      <td>100.0</td>\n",
       "      <td>10.0</td>\n",
       "      <td>0</td>\n",
       "      <td>0</td>\n",
       "      <td>0</td>\n",
       "    </tr>\n",
       "    <tr>\n",
       "      <th>4</th>\n",
       "      <td>test2_52980316141715150_855157651668393360</td>\n",
       "      <td>test2</td>\n",
       "      <td>52980316141715150</td>\n",
       "      <td>855157651668393360</td>\n",
       "      <td>100.0</td>\n",
       "      <td>10.0</td>\n",
       "      <td>0</td>\n",
       "      <td>0</td>\n",
       "      <td>0</td>\n",
       "    </tr>\n",
       "    <tr>\n",
       "      <th>5</th>\n",
       "      <td>test2_52980316141715150_810870798045289410</td>\n",
       "      <td>test2</td>\n",
       "      <td>52980316141715150</td>\n",
       "      <td>810870798045289410</td>\n",
       "      <td>100.0</td>\n",
       "      <td>10.0</td>\n",
       "      <td>0</td>\n",
       "      <td>0</td>\n",
       "      <td>1</td>\n",
       "    </tr>\n",
       "  </tbody>\n",
       "</table>\n",
       "</div>"
      ],
      "text/plain": [
       "                                            id prefix          solver_id  \\\n",
       "0  test1_52980316141715150_1353678304570487518  test1  52980316141715150   \n",
       "1   test1_52980316141715150_855157651668393360  test1  52980316141715150   \n",
       "2   test1_52980316141715150_810870798045289410  test1  52980316141715150   \n",
       "3  test2_52980316141715150_1353678304570487518  test2  52980316141715150   \n",
       "4   test2_52980316141715150_855157651668393360  test2  52980316141715150   \n",
       "5   test2_52980316141715150_810870798045289410  test2  52980316141715150   \n",
       "\n",
       "           instance_id   cost  time  cached  surrogate  error  \n",
       "0  1353678304570487518  100.0  10.0       0          0      0  \n",
       "1   855157651668393360  100.0  10.0       0          0      0  \n",
       "2   810870798045289410  100.0  10.0       0          0      0  \n",
       "3  1353678304570487518  100.0  10.0       0          0      0  \n",
       "4   855157651668393360  100.0  10.0       0          0      0  \n",
       "5   810870798045289410  100.0  10.0       0          0      1  "
      ]
     },
     "execution_count": 9,
     "metadata": {},
     "output_type": "execute_result"
    }
   ],
   "source": [
    "results = pd.read_sql_query(\"SELECT * FROM results\", db._conn)\n",
    "results"
   ]
  },
  {
   "cell_type": "code",
   "execution_count": null,
   "metadata": {},
   "outputs": [],
   "source": [
    "pd.read_sql_query(\"SELECT * FROM evaluations\", db._conn)"
   ]
  }
 ],
 "metadata": {
  "kernelspec": {
   "display_name": "SMAC",
   "language": "python",
   "name": "python3"
  },
  "language_info": {
   "codemirror_mode": {
    "name": "ipython",
    "version": 3
   },
   "file_extension": ".py",
   "mimetype": "text/x-python",
   "name": "python",
   "nbconvert_exporter": "python",
   "pygments_lexer": "ipython3",
   "version": "3.10.15"
  }
 },
 "nbformat": 4,
 "nbformat_minor": 2
}
