{
 "cells": [
  {
   "cell_type": "code",
   "execution_count": 7,
   "metadata": {},
   "outputs": [],
   "source": [
    "import os\n",
    "\n",
    "os.environ[\"SEED\"] = \"0\"\n",
    "import numpy as np\n",
    "import pandas as pd\n",
    "from ConfigSpace import Configuration\n",
    "\n",
    "from src.instance.SAT_Instance import SAT_Instance, SAT_from_index_file\n",
    "from src.solver.SAT_Riss_Solver import SAT_Riss_Solver\n",
    "from src.constant import DATA_DIR"
   ]
  },
  {
   "cell_type": "code",
   "execution_count": 24,
   "metadata": {},
   "outputs": [],
   "source": [
    "solver = SAT_Riss_Solver()\n",
    "instances = SAT_from_index_file(filepath=DATA_DIR / \"SAT\" / \"index_simple.json\", max_cost=10.0, max_time=10.0)\n"
   ]
  },
  {
   "cell_type": "code",
   "execution_count": 34,
   "metadata": {},
   "outputs": [
    {
     "data": {
      "text/plain": [
       "InstanceList(size=5)[SAT_Instance(filepath=SAT/uuf50-01.cnf), SAT_Instance(filepath=SAT/uuf50-02.cnf), SAT_Instance(filepath=SAT/uuf50-03.cnf), SAT_Instance(filepath=SAT/uuf50-04.cnf), SAT_Instance(filepath=SAT/uuf50-05.cnf)]"
      ]
     },
     "execution_count": 34,
     "metadata": {},
     "output_type": "execute_result"
    }
   ],
   "source": [
    "instances"
   ]
  },
  {
   "cell_type": "code",
   "execution_count": 4,
   "metadata": {},
   "outputs": [],
   "source": [
    "solver = SAT_Riss_Solver()\n",
    "instances = SAT_from_index_file(filepath=DATA_DIR / \"SAT\" / \"index.json\", max_cost=10.0, max_time=10.0)\n",
    "\n",
    "# for instance in instances:\n",
    "    # solver.solve(instance, prefix=\"test\")"
   ]
  },
  {
   "cell_type": "code",
   "execution_count": 6,
   "metadata": {},
   "outputs": [
    {
     "name": "stdout",
     "output_type": "stream",
     "text": [
      "SAT_Instance(filepath=SAT/uf250-01.cnf)\n",
      "SAT_Instance(filepath=SAT/uf250-02.cnf)\n",
      "SAT_Instance(filepath=SAT/uf250-03.cnf)\n",
      "SAT_Instance(filepath=SAT/uf250-04.cnf)\n",
      "SAT_Instance(filepath=SAT/uf250-05.cnf)\n",
      "SAT_Instance(filepath=SAT/uuf250-01.cnf)\n",
      "SAT_Instance(filepath=SAT/uuf250-02.cnf)\n",
      "SAT_Instance(filepath=SAT/uuf250-03.cnf)\n",
      "SAT_Instance(filepath=SAT/uuf250-04.cnf)\n",
      "SAT_Instance(filepath=SAT/uuf250-05.cnf)\n"
     ]
    }
   ],
   "source": [
    "for instance in instances:\n",
    "    print(instance)"
   ]
  },
  {
   "cell_type": "code",
   "execution_count": null,
   "metadata": {},
   "outputs": [],
   "source": [
    "solver.to_dict()"
   ]
  },
  {
   "cell_type": "code",
   "execution_count": null,
   "metadata": {},
   "outputs": [],
   "source": [
    "test_instances = TSP_from_index_file(filepath=DATA_DIR / \"TSP\" / \"TEST_400\" / \"index.json\", max_cost=100.0, max_time=10.0)\n",
    "instance = test_instances[23]\n",
    "instance"
   ]
  },
  {
   "cell_type": "code",
   "execution_count": null,
   "metadata": {},
   "outputs": [],
   "source": [
    "solver = TSP_LKH_Solver()\n",
    "solver"
   ]
  },
  {
   "cell_type": "code",
   "execution_count": null,
   "metadata": {},
   "outputs": [],
   "source": [
    "solver.solve(instance, prefix=\"test\")"
   ]
  },
  {
   "cell_type": "code",
   "execution_count": null,
   "metadata": {},
   "outputs": [],
   "source": [
    "import matplotlib.pyplot as plt\n",
    "fig, ax = plt.subplots(figsize=(4.5, 4.5))\n",
    "\n",
    "df = instance._read_file_to_df()\n",
    "plt.scatter(df[\"X\"], df[\"Y\"], s=6)\n",
    "ax.ticklabel_format(style=\"scientific\", axis=\"both\", scilimits=(0, 0))\n",
    "plt.grid(color=\"black\", alpha=0.05)\n",
    "\n",
    "plt.xlabel(\"X coordinate\")\n",
    "plt.ylabel(\"Y coordinate\")\n",
    "plt.savefig(\"grid.pdf\", bbox_inches=\"tight\", transparent=True)\n",
    "plt.show()"
   ]
  },
  {
   "cell_type": "code",
   "execution_count": null,
   "metadata": {},
   "outputs": [],
   "source": [
    "idx = []\n",
    "with open(\"out\") as f:\n",
    "    for line in f:\n",
    "        if line.startswith(\"NAME\"):\n",
    "            continue\n",
    "        elif line.startswith(\"COMMENT\"):\n",
    "            continue\n",
    "        elif line.startswith(\"TYPE\"):\n",
    "            continue\n",
    "        elif line.startswith(\"DIMENSION\"):\n",
    "            continue\n",
    "        elif line.startswith(\"TOUR\"):\n",
    "            continue\n",
    "        elif line.startswith(\"-1\"):\n",
    "            break\n",
    "        idx.append(int(line.strip()))\n",
    "\n",
    "fig, ax = plt.subplots(figsize=(4.5, 4.5))\n",
    "df = instance._read_file_to_df()\n",
    "plt.plot(df.loc[idx, \"X\"], df.loc[idx, \"Y\"], c=\"red\", lw=0.8, zorder=1)\n",
    "plt.scatter(df[\"X\"], df[\"Y\"], s=6, zorder=2)\n",
    "ax.ticklabel_format(style=\"scientific\", axis=\"both\", scilimits=(0, 0))\n",
    "plt.grid(color=\"black\", alpha=0.05)\n",
    "plt.xlabel(\"X coordinate\")\n",
    "plt.ylabel(\"Y coordinate\")\n",
    "plt.savefig(\"grid_solved.pdf\", bbox_inches=\"tight\", transparent=True)\n",
    "plt.show()"
   ]
  },
  {
   "cell_type": "code",
   "execution_count": null,
   "metadata": {},
   "outputs": [],
   "source": [
    "instance = test_instances[4]\n",
    "fig, ax = plt.subplots(figsize=(4.5, 4.5))\n",
    "\n",
    "df = instance._read_file_to_df()\n",
    "plt.scatter(df[\"X\"], df[\"Y\"], s=6)\n",
    "ax.ticklabel_format(style=\"scientific\", axis=\"both\", scilimits=(0, 0))\n",
    "plt.grid(color=\"black\", alpha=0.05)\n",
    "\n",
    "plt.xlabel(\"X coordinate\")\n",
    "plt.ylabel(\"Y coordinate\")\n",
    "plt.savefig(\"cluster_netgen.pdf\", bbox_inches=\"tight\", transparent=True)\n",
    "plt.show()\n"
   ]
  },
  {
   "cell_type": "code",
   "execution_count": null,
   "metadata": {},
   "outputs": [],
   "source": [
    "fig, ax = plt.subplots(figsize=(4.5, 4.5))\n",
    "\n",
    "df = instance._read_file_to_df()\n",
    "plt.scatter(df[\"X\"], df[\"Y\"], s=6)\n",
    "ax.ticklabel_format(style=\"scientific\", axis=\"both\", scilimits=(0, 0))\n",
    "plt.grid(color=\"black\", alpha=0.05)\n",
    "\n",
    "plt.xlabel(\"X coordinate\")\n",
    "plt.ylabel(\"Y coordinate\")\n",
    "plt.savefig(\"grid.pdf\", bbox_inches=\"tight\", transparent=True)\n",
    "plt.show()"
   ]
  },
  {
   "cell_type": "code",
   "execution_count": null,
   "metadata": {},
   "outputs": [],
   "source": [
    "# import joblib\n",
    "# paths = list((MAIN_DIR / \"_archive\" / \"experiments\" / \"2025-01-27\" / \"200\" / \"database\").glob(\"*.db\"))\n",
    "# for path in paths:\n",
    "#     db = DB(path)\n",
    "\n",
    "#     configured_portfolio_solvers = pd.read_sql_query(\"\"\" \n",
    "#     SELECT DISTINCT solver_id FROM results\n",
    "#     WHERE prefix LIKE 'test%'                  \n",
    "#     \"\"\", db._conn)[\"solver_id\"].to_list()\n",
    "\n",
    "#     portfolio = Portfolio.from_iterable([TSP_LKH_Solver.from_db(id_, db) for id_ in configured_portfolio_solvers])\n",
    "#     joblib.dump(portfolio, MAIN_DIR / \"portfolios\" / \"200\" / f\"{path.stem}.pkl\")\n",
    "\n",
    "# paths = list((MAIN_DIR / \"_archive\" / \"experiments\" / \"2025-01-27\" / \"400\" / \"database\").glob(\"*.db\"))\n",
    "# for path in paths:\n",
    "#     db = DB(path)\n",
    "\n",
    "#     configured_portfolio_solvers = pd.read_sql_query(\"\"\" \n",
    "#     SELECT DISTINCT solver_id FROM results\n",
    "#     WHERE prefix LIKE 'test%'                  \n",
    "#     \"\"\", db._conn)[\"solver_id\"].to_list()\n",
    "\n",
    "#     portfolio = Portfolio.from_iterable([TSP_LKH_Solver.from_db(id_, db) for id_ in configured_portfolio_solvers])\n",
    "#     joblib.dump(portfolio, MAIN_DIR / \"portfolios\" / \"400\" / f\"{path.stem}.pkl\")"
   ]
  },
  {
   "cell_type": "code",
   "execution_count": null,
   "metadata": {},
   "outputs": [],
   "source": [
    "# import joblib\n",
    "\n",
    "# paths = list((MAIN_DIR / \"portfolios\" / \"200\").glob(\"run-plain-30-*.pkl\"))\n",
    "# for path in paths:\n",
    "#     run_id = path.stem.split(\"-\")[-1]\n",
    "#     portfolio = joblib.load(path)\n",
    "\n",
    "#     for i in range(100):\n",
    "#         portfolio.evaluate(\n",
    "#             test_instances,\n",
    "#             prefix=f\"{run_id};test{i}\",\n",
    "#             calculate_features=False,\n",
    "#             cache=False,\n",
    "#         )"
   ]
  }
 ],
 "metadata": {
  "kernelspec": {
   "display_name": "SMAC",
   "language": "python",
   "name": "python3"
  },
  "language_info": {
   "codemirror_mode": {
    "name": "ipython",
    "version": 3
   },
   "file_extension": ".py",
   "mimetype": "text/x-python",
   "name": "python",
   "nbconvert_exporter": "python",
   "pygments_lexer": "ipython3",
   "version": "3.10.15"
  }
 },
 "nbformat": 4,
 "nbformat_minor": 2
}
