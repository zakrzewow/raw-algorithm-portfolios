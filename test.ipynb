{
 "cells": [
  {
   "cell_type": "code",
   "execution_count": 1,
   "metadata": {},
   "outputs": [],
   "source": [
    "import os\n",
    "\n",
    "os.environ[\"SEED\"] = \"0\"\n",
    "\n",
    "import cocoex\n",
    "import matplotlib.pyplot as plt\n",
    "import nevergrad as ng\n",
    "import numpy as np\n",
    "import scipy\n",
    "\n",
    "from src.solver.BBOB_POP_Solver import BBOB_POP_Solver\n",
    "from src.instance.BBOB_Instance import BBOB_Instance"
   ]
  },
  {
   "cell_type": "code",
   "execution_count": 2,
   "metadata": {},
   "outputs": [],
   "source": [
    "suite = cocoex.Suite(\"bbob\", \"\", \"function_indices:1 dimensions:2 instance_indices:1-15\")"
   ]
  },
  {
   "cell_type": "code",
   "execution_count": 3,
   "metadata": {},
   "outputs": [
    {
     "data": {
      "text/plain": [
       "Suite(b'bbob', b'', b'function_indices:1 dimensions:2 instance_indices:1-15')"
      ]
     },
     "execution_count": 3,
     "metadata": {},
     "output_type": "execute_result"
    }
   ],
   "source": [
    "suite"
   ]
  },
  {
   "cell_type": "code",
   "execution_count": 4,
   "metadata": {},
   "outputs": [
    {
     "data": {
      "text/plain": [
       "15"
      ]
     },
     "execution_count": 4,
     "metadata": {},
     "output_type": "execute_result"
    }
   ],
   "source": [
    "len(list(suite))\n",
    "# 6 dimensions X 24 functions X 15 instances = 2160 problems"
   ]
  },
  {
   "cell_type": "code",
   "execution_count": 5,
   "metadata": {},
   "outputs": [
    {
     "data": {
      "text/plain": [
       "BBOB_Instance(id=function_indices:1 dimensions:2 instance_indices:1)"
      ]
     },
     "execution_count": 5,
     "metadata": {},
     "output_type": "execute_result"
    }
   ],
   "source": [
    "instance = BBOB_Instance(\n",
    "    function_index=1,\n",
    "    dimension=2,\n",
    "    instance_index=1,\n",
    "    cut_off_cost=5.0,\n",
    "    cut_off_time=0.5,\n",
    ")\n",
    "instance"
   ]
  },
  {
   "cell_type": "code",
   "execution_count": 6,
   "metadata": {},
   "outputs": [
    {
     "data": {
      "text/plain": [
       "Configuration(values={\n",
       "  'ALGORITHM': 'PSO',\n",
       "  'CMA_ELITIST': True,\n",
       "  'CMA_POPSIZE': 98,\n",
       "  'CMA_POPSIZE_FACTOR': 3.1155796790116,\n",
       "  'CMA_RANDOM_INIT': False,\n",
       "  'CMA_SCALE': 0.5070172631967,\n",
       "  'DE_CROSSOVER': 0.6431036240952,\n",
       "  'DE_F1': 0.2482706500629,\n",
       "  'DE_F2': 0.2893054427676,\n",
       "  'DE_INITIALIZATION': 'SO',\n",
       "  'DE_POPSIZE': 11,\n",
       "  'DE_RECOMMENDATION': 'mean',\n",
       "  'DE_SCALE': 0.3449599655442,\n",
       "  'PSO_OMEGA': 0.9895364542533,\n",
       "  'PSO_PHIG': 1.0065832050796,\n",
       "  'PSO_PHIP': 1.8126591789305,\n",
       "  'PSO_POPSIZE': 10,\n",
       "})"
      ]
     },
     "execution_count": 6,
     "metadata": {},
     "output_type": "execute_result"
    }
   ],
   "source": [
    "solver = BBOB_POP_Solver()\n",
    "solver.config"
   ]
  },
  {
   "cell_type": "code",
   "execution_count": 7,
   "metadata": {},
   "outputs": [
    {
     "name": "stderr",
     "output_type": "stream",
     "text": [
      "[2025-07-10 07:00:49] DEBUG     solve(prefix=test, solver=Solver(id=972306317029875343), instance=BBOB_Instance(id=function_indices:1 dimensions:2 instance_indices:1))\n"
     ]
    },
    {
     "ename": "AttributeError",
     "evalue": "'BBOB_Instance' object has no attribute 'dimension'",
     "output_type": "error",
     "traceback": [
      "\u001b[1;31m---------------------------------------------------------------------------\u001b[0m",
      "\u001b[1;31mAttributeError\u001b[0m                            Traceback (most recent call last)",
      "Cell \u001b[1;32mIn[7], line 1\u001b[0m\n\u001b[1;32m----> 1\u001b[0m \u001b[43msolver\u001b[49m\u001b[38;5;241;43m.\u001b[39;49m\u001b[43msolve\u001b[49m\u001b[43m(\u001b[49m\n\u001b[0;32m      2\u001b[0m \u001b[43m    \u001b[49m\u001b[43minstance\u001b[49m\u001b[38;5;241;43m=\u001b[39;49m\u001b[43minstance\u001b[49m\u001b[43m,\u001b[49m\n\u001b[0;32m      3\u001b[0m \u001b[43m    \u001b[49m\u001b[43mprefix\u001b[49m\u001b[38;5;241;43m=\u001b[39;49m\u001b[38;5;124;43m\"\u001b[39;49m\u001b[38;5;124;43mtest\u001b[39;49m\u001b[38;5;124;43m\"\u001b[39;49m\u001b[43m,\u001b[49m\n\u001b[0;32m      4\u001b[0m \u001b[43m    \u001b[49m\u001b[43mcalculate_features\u001b[49m\u001b[38;5;241;43m=\u001b[39;49m\u001b[38;5;28;43;01mFalse\u001b[39;49;00m\u001b[43m,\u001b[49m\n\u001b[0;32m      5\u001b[0m \u001b[43m    \u001b[49m\u001b[43mcache\u001b[49m\u001b[38;5;241;43m=\u001b[39;49m\u001b[38;5;28;43;01mFalse\u001b[39;49;00m\n\u001b[0;32m      6\u001b[0m \u001b[43m)\u001b[49m\n",
      "File \u001b[1;32mc:\\Users\\gzakrzewski\\Documents\\projects\\raw-algorithm-portfolios\\src\\solver\\Solver.py:271\u001b[0m, in \u001b[0;36mSolver.solve\u001b[1;34m(self, instance, prefix, calculate_features, cache, estimator_wrapper, executor)\u001b[0m\n\u001b[0;32m    269\u001b[0m \u001b[38;5;66;03m# non-paralell\u001b[39;00m\n\u001b[0;32m    270\u001b[0m \u001b[38;5;28;01mif\u001b[39;00m executor \u001b[38;5;129;01mis\u001b[39;00m \u001b[38;5;28;01mNone\u001b[39;00m:\n\u001b[1;32m--> 271\u001b[0m     result \u001b[38;5;241m=\u001b[39m \u001b[38;5;28;43mself\u001b[39;49m\u001b[38;5;241;43m.\u001b[39;49m\u001b[43m_solve\u001b[49m\u001b[43m(\u001b[49m\u001b[43mprefix\u001b[49m\u001b[43m,\u001b[49m\u001b[43m \u001b[49m\u001b[38;5;28;43mself\u001b[39;49m\u001b[43m,\u001b[49m\u001b[43m \u001b[49m\u001b[43minstance\u001b[49m\u001b[43m,\u001b[49m\u001b[43m \u001b[49m\u001b[43mfeatures_time\u001b[49m\u001b[43m)\u001b[49m\n\u001b[0;32m    272\u001b[0m     \u001b[38;5;28;01mreturn\u001b[39;00m result\u001b[38;5;241m.\u001b[39mas_future()\n\u001b[0;32m    274\u001b[0m \u001b[38;5;66;03m# paralell\u001b[39;00m\n",
      "File \u001b[1;32mc:\\Users\\gzakrzewski\\Documents\\projects\\raw-algorithm-portfolios\\src\\solver\\BBOB_POP_Solver.py:50\u001b[0m, in \u001b[0;36mBBOB_POP_Solver._solve\u001b[1;34m(cls, prefix, solver, instance, features_time)\u001b[0m\n\u001b[0;32m     47\u001b[0m \u001b[38;5;28;01melse\u001b[39;00m:\n\u001b[0;32m     48\u001b[0m     \u001b[38;5;28;01mraise\u001b[39;00m \u001b[38;5;167;01mValueError\u001b[39;00m(\u001b[38;5;124mf\u001b[39m\u001b[38;5;124m\"\u001b[39m\u001b[38;5;124mUnknown algorithm: \u001b[39m\u001b[38;5;132;01m{\u001b[39;00malgorithm\u001b[38;5;132;01m}\u001b[39;00m\u001b[38;5;124m\"\u001b[39m)\n\u001b[1;32m---> 50\u001b[0m optimizer \u001b[38;5;241m=\u001b[39m optimizer_class(parametrization\u001b[38;5;241m=\u001b[39m\u001b[43minstance\u001b[49m\u001b[38;5;241;43m.\u001b[39;49m\u001b[43mdimension\u001b[49m, budget\u001b[38;5;241m=\u001b[39m\u001b[38;5;241m1e6\u001b[39m)\n\u001b[0;32m     52\u001b[0m \u001b[38;5;28;01mwith\u001b[39;00m Timer() \u001b[38;5;28;01mas\u001b[39;00m timer:\n\u001b[0;32m     53\u001b[0m     \u001b[38;5;28;01mtry\u001b[39;00m:\n",
      "\u001b[1;31mAttributeError\u001b[0m: 'BBOB_Instance' object has no attribute 'dimension'"
     ]
    }
   ],
   "source": [
    "solver.solve(\n",
    "    instance=instance,\n",
    "    prefix=\"test\",\n",
    "    calculate_features=False,\n",
    "    cache=False\n",
    ")"
   ]
  },
  {
   "cell_type": "code",
   "execution_count": null,
   "metadata": {},
   "outputs": [
    {
     "name": "stdout",
     "output_type": "stream",
     "text": [
      "Configuration(values={\n",
      "  'ALGORITHM': 'DE',\n",
      "  'CMA_ELITIST': True,\n",
      "  'CMA_POPSIZE': 27,\n",
      "  'CMA_POPSIZE_FACTOR': 1.9924489939203,\n",
      "  'CMA_RANDOM_INIT': True,\n",
      "  'CMA_SCALE': 0.6930995888842,\n",
      "  'DE_CROSSOVER': 0.7519767004477,\n",
      "  'DE_F1': 0.3459925631343,\n",
      "  'DE_F2': 0.5720256177582,\n",
      "  'DE_INITIALIZATION': 'parametrization',\n",
      "  'DE_POPSIZE': 39,\n",
      "  'DE_RECOMMENDATION': 'pessimistic',\n",
      "  'DE_SCALE': 0.7562708519322,\n",
      "  'PSO_OMEGA': 0.3707155809651,\n",
      "  'PSO_PHIG': 2.4297133297554,\n",
      "  'PSO_PHIP': 0.6268024897845,\n",
      "  'PSO_POPSIZE': 38,\n",
      "})\n"
     ]
    },
    {
     "data": {
      "text/plain": [
       "(array([ 0.25280177, -1.15679961]), 892, True)"
      ]
     },
     "execution_count": 64,
     "metadata": {},
     "output_type": "execute_result"
    }
   ],
   "source": [
    "print(solver.config)\n",
    "\n",
    "instance.reset_problem()\n",
    "kwargs = dict(solver.config)\n",
    "algorithm = solver.config[\"ALGORITHM\"]\n",
    "\n",
    "def _format_key(key: str, algorithm) -> str:\n",
    "    key = key[len(algorithm) + 1:]\n",
    "    if not (algorithm == \"DE\" and key in [\"F1\", \"F2\"]):\n",
    "        key = key.lower()\n",
    "    return key\n",
    "\n",
    "kwargs = {_format_key(k, algorithm): v for k, v in kwargs.items() if k.startswith(algorithm)}\n",
    "\n",
    "if algorithm == \"PSO\":\n",
    "    optimizer_class = ng.families.ConfPSO(**kwargs)\n",
    "elif algorithm == \"DE\":\n",
    "    optimizer_class = ng.families.DifferentialEvolution(**kwargs)\n",
    "elif algorithm == \"CMA\":\n",
    "    optimizer_class = ng.families.ParametrizedCMA(**kwargs)\n",
    "else:\n",
    "    raise ValueError(f\"Unknown algorithm: {algorithm}\")\n",
    "\n",
    "optimizer = optimizer_class(parametrization=instance.dimension, budget=1e6)\n",
    "recommendation = optimizer.minimize(instance.problem, max_time=instance.cut_off_time)\n",
    "recommendation.value, instance.problem.evaluations, instance.problem.final_target_hit"
   ]
  },
  {
   "cell_type": "code",
   "execution_count": 7,
   "metadata": {},
   "outputs": [],
   "source": [
    "problem = suite[0]"
   ]
  },
  {
   "cell_type": "code",
   "execution_count": 36,
   "metadata": {},
   "outputs": [
    {
     "data": {
      "text/plain": [
       "2"
      ]
     },
     "execution_count": 36,
     "metadata": {},
     "output_type": "execute_result"
    }
   ],
   "source": [
    "problem.dimension"
   ]
  },
  {
   "cell_type": "code",
   "execution_count": 8,
   "metadata": {},
   "outputs": [
    {
     "data": {
      "text/plain": [
       "0"
      ]
     },
     "execution_count": 8,
     "metadata": {},
     "output_type": "execute_result"
    }
   ],
   "source": [
    "problem.evaluations"
   ]
  },
  {
   "cell_type": "code",
   "execution_count": 9,
   "metadata": {},
   "outputs": [
    {
     "data": {
      "text/plain": [
       "False"
      ]
     },
     "execution_count": 9,
     "metadata": {},
     "output_type": "execute_result"
    }
   ],
   "source": [
    "problem.final_target_hit"
   ]
  },
  {
   "cell_type": "code",
   "execution_count": null,
   "metadata": {},
   "outputs": [
    {
     "data": {
      "text/plain": [
       "array([ 0.25222357, -1.15669464])"
      ]
     },
     "execution_count": 10,
     "metadata": {},
     "output_type": "execute_result"
    }
   ],
   "source": [
    "pso_config = ng.families.ConfPSO(\n",
    "    popsize=20,           # Population size\n",
    "    omega=0.729,          # Inertia weight\n",
    "    phip=1.49618,         # Cognitive parameter\n",
    "    phig=1.49618,         # Social parameter\n",
    ")\n",
    "\n",
    "optimizer = pso_config(2, budget=1000)\n",
    "\n",
    "recommendation = optimizer.minimize(problem)\n",
    "recommendation.value"
   ]
  },
  {
   "cell_type": "code",
   "execution_count": 11,
   "metadata": {},
   "outputs": [
    {
     "name": "stdout",
     "output_type": "stream",
     "text": [
      "Optimization terminated successfully.\n",
      "         Current function value: 79.480000\n",
      "         Iterations: 65\n",
      "         Function evaluations: 124\n"
     ]
    },
    {
     "data": {
      "text/plain": [
       "array([ 0.25281244, -1.15682905])"
      ]
     },
     "execution_count": 11,
     "metadata": {},
     "output_type": "execute_result"
    }
   ],
   "source": [
    "scipy.optimize.fmin(problem, problem.initial_solution, disp=True)"
   ]
  },
  {
   "cell_type": "code",
   "execution_count": 12,
   "metadata": {},
   "outputs": [
    {
     "data": {
      "text/plain": [
       "1124"
      ]
     },
     "execution_count": 12,
     "metadata": {},
     "output_type": "execute_result"
    }
   ],
   "source": [
    "problem.evaluations"
   ]
  },
  {
   "cell_type": "code",
   "execution_count": 13,
   "metadata": {},
   "outputs": [
    {
     "data": {
      "text/plain": [
       "True"
      ]
     },
     "execution_count": 13,
     "metadata": {},
     "output_type": "execute_result"
    }
   ],
   "source": [
    "problem.final_target_hit"
   ]
  },
  {
   "cell_type": "code",
   "execution_count": 24,
   "metadata": {},
   "outputs": [
    {
     "data": {
      "text/plain": [
       "(array([ 0.15684738, -1.09546823]), 100, False)"
      ]
     },
     "execution_count": 24,
     "metadata": {},
     "output_type": "execute_result"
    }
   ],
   "source": [
    "problem = suite[0]\n",
    "\n",
    "pso_config = ng.families.ConfPSO(\n",
    "    popsize=20,           # Population size\n",
    "    omega=0.729,          # Inertia weight\n",
    "    phip=1.49618,         # Cognitive parameter\n",
    "    phig=1.49618,         # Social parameter\n",
    ")\n",
    "\n",
    "optimizer = pso_config(2, budget=100)\n",
    "\n",
    "recommendation = optimizer.minimize(problem, max_time=100)\n",
    "recommendation.value, problem.evaluations, problem.final_target_hit"
   ]
  },
  {
   "cell_type": "code",
   "execution_count": 34,
   "metadata": {},
   "outputs": [
    {
     "data": {
      "text/plain": [
       "(array([ 0.25279718, -1.15679968]), 2851, True)"
      ]
     },
     "execution_count": 34,
     "metadata": {},
     "output_type": "execute_result"
    }
   ],
   "source": [
    "problem = suite[0]\n",
    "\n",
    "de_config = ng.families.DifferentialEvolution(\n",
    "    popsize=20,\n",
    "    crossover=0.8,\n",
    ")\n",
    "\n",
    "optimizer = de_config(2, budget=10000)\n",
    "\n",
    "recommendation = optimizer.minimize(problem, max_time=1)\n",
    "recommendation.value, problem.evaluations, problem.final_target_hit"
   ]
  },
  {
   "cell_type": "code",
   "execution_count": 14,
   "metadata": {},
   "outputs": [
    {
     "name": "stdout",
     "output_type": "stream",
     "text": [
      "Optimization terminated successfully.\n",
      "         Current function value: 79.480000\n",
      "         Iterations: 65\n",
      "         Function evaluations: 124\n",
      "True\n",
      "Optimization terminated successfully.\n",
      "         Current function value: 394.480000\n",
      "         Iterations: 71\n",
      "         Function evaluations: 138\n",
      "True\n",
      "Optimization terminated successfully.\n",
      "         Current function value: -247.110000\n",
      "         Iterations: 71\n",
      "         Function evaluations: 139\n",
      "True\n",
      "Optimization terminated successfully.\n",
      "         Current function value: -152.040000\n",
      "         Iterations: 72\n",
      "         Function evaluations: 141\n",
      "True\n",
      "Optimization terminated successfully.\n",
      "         Current function value: -25.250000\n",
      "         Iterations: 58\n",
      "         Function evaluations: 114\n",
      "True\n",
      "Optimization terminated successfully.\n",
      "         Current function value: 183.010000\n",
      "         Iterations: 78\n",
      "         Function evaluations: 149\n",
      "True\n",
      "Optimization terminated successfully.\n",
      "         Current function value: 183.520000\n",
      "         Iterations: 71\n",
      "         Function evaluations: 136\n",
      "True\n",
      "Optimization terminated successfully.\n",
      "         Current function value: -593.840000\n",
      "         Iterations: 70\n",
      "         Function evaluations: 135\n",
      "True\n",
      "Optimization terminated successfully.\n",
      "         Current function value: -1000.000000\n",
      "         Iterations: 71\n",
      "         Function evaluations: 137\n",
      "True\n",
      "Optimization terminated successfully.\n",
      "         Current function value: -25.310000\n",
      "         Iterations: 73\n",
      "         Function evaluations: 143\n",
      "True\n",
      "Optimization terminated successfully.\n",
      "         Current function value: 22.280000\n",
      "         Iterations: 58\n",
      "         Function evaluations: 111\n",
      "True\n",
      "Optimization terminated successfully.\n",
      "         Current function value: 356.140000\n",
      "         Iterations: 67\n",
      "         Function evaluations: 126\n",
      "True\n",
      "Optimization terminated successfully.\n",
      "         Current function value: -475.700000\n",
      "         Iterations: 62\n",
      "         Function evaluations: 119\n",
      "True\n",
      "Optimization terminated successfully.\n",
      "         Current function value: -1000.000000\n",
      "         Iterations: 70\n",
      "         Function evaluations: 134\n",
      "True\n",
      "Optimization terminated successfully.\n",
      "         Current function value: -41.580000\n",
      "         Iterations: 56\n",
      "         Function evaluations: 109\n",
      "True\n"
     ]
    }
   ],
   "source": [
    "suite = cocoex.Suite(\"bbob\", \"\", \"function_indices:1 dimensions:2 instance_indices:1-15\")\n",
    "\n",
    "for problem in suite:\n",
    "    xopt = fmin(problem, problem.initial_solution, disp=True)\n",
    "    print(problem.final_target_hit)"
   ]
  }
 ],
 "metadata": {
  "kernelspec": {
   "display_name": "SMAC",
   "language": "python",
   "name": "python3"
  },
  "language_info": {
   "codemirror_mode": {
    "name": "ipython",
    "version": 3
   },
   "file_extension": ".py",
   "mimetype": "text/x-python",
   "name": "python",
   "nbconvert_exporter": "python",
   "pygments_lexer": "ipython3",
   "version": "3.10.18"
  }
 },
 "nbformat": 4,
 "nbformat_minor": 2
}
