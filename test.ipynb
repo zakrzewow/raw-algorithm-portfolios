{
 "cells": [
  {
   "cell_type": "code",
   "execution_count": 1,
   "metadata": {},
   "outputs": [],
   "source": [
    "import os\n",
    "\n",
    "os.environ[\"SEED\"] = \"0\"\n",
    "\n",
    "import cocoex\n",
    "import matplotlib.pyplot as plt\n",
    "import nevergrad as ng\n",
    "import numpy as np\n",
    "import scipy\n",
    "\n",
    "from src.solver.BBOB_POP_Solver import BBOB_POP_Solver\n",
    "from src.instance.BBOB_Instance import BBOB_Instance\n",
    "from src.database import DB"
   ]
  },
  {
   "cell_type": "code",
   "execution_count": 2,
   "metadata": {},
   "outputs": [
    {
     "data": {
      "text/plain": [
       "2160"
      ]
     },
     "execution_count": 2,
     "metadata": {},
     "output_type": "execute_result"
    }
   ],
   "source": [
    "suite = cocoex.Suite(\"bbob\", \"\", \"\")\n",
    "# 6 dimensions X 24 functions X 15 instances = 2160 problems\n",
    "len(list(suite))"
   ]
  },
  {
   "cell_type": "code",
   "execution_count": 3,
   "metadata": {},
   "outputs": [
    {
     "data": {
      "text/plain": [
       "[2, 3, 5, 10, 20, 40]"
      ]
     },
     "execution_count": 3,
     "metadata": {},
     "output_type": "execute_result"
    }
   ],
   "source": [
    "suite.dimensions"
   ]
  },
  {
   "cell_type": "code",
   "execution_count": 4,
   "metadata": {},
   "outputs": [
    {
     "data": {
      "text/plain": [
       "15"
      ]
     },
     "execution_count": 4,
     "metadata": {},
     "output_type": "execute_result"
    }
   ],
   "source": [
    "suite = cocoex.Suite(\"bbob\", \"\", \"function_indices:1 dimensions:2 instance_indices:1-15\")\n",
    "# 6 dimensions X 24 functions X 15 instances = 2160 problems\n",
    "len(list(suite))"
   ]
  },
  {
   "cell_type": "code",
   "execution_count": 5,
   "metadata": {},
   "outputs": [
    {
     "data": {
      "text/plain": [
       "BBOB_Instance(problem_id=bbob_f001_i01_d02)"
      ]
     },
     "execution_count": 5,
     "metadata": {},
     "output_type": "execute_result"
    }
   ],
   "source": [
    "instance = BBOB_Instance(\n",
    "    function_index=1,\n",
    "    dimension=2,\n",
    "    instance_index=1,\n",
    "    cut_off_cost=50.0,\n",
    "    cut_off_time=5.0,\n",
    ")\n",
    "instance"
   ]
  },
  {
   "cell_type": "code",
   "execution_count": 8,
   "metadata": {},
   "outputs": [
    {
     "data": {
      "text/plain": [
       "{'ela_distr_skewness': 0.773129,\n",
       " 'ela_distr_kurtosis': -0.146972,\n",
       " 'ela_distr_number_of_peaks': 1.0,\n",
       " 'ela_distr_costs_runtime': 0.0,\n",
       " 'ela_level_mmce_lda_10': 0.1,\n",
       " 'ela_level_mmce_qda_10': 0.075,\n",
       " 'ela_level_lda_qda_10': 1.339286,\n",
       " 'ela_level_mmce_lda_25': 0.27,\n",
       " 'ela_level_mmce_qda_25': 0.13,\n",
       " 'ela_level_lda_qda_25': 2.041667,\n",
       " 'ela_level_mmce_lda_50': 0.325,\n",
       " 'ela_level_mmce_qda_50': 0.17,\n",
       " 'ela_level_lda_qda_50': 1.75731,\n",
       " 'ela_level_costs_runtime': 0.2035,\n",
       " 'ela_meta_lin_simple_adj_r2': 0.30468,\n",
       " 'ela_meta_lin_simple_intercept': 97.557289,\n",
       " 'ela_meta_lin_simple_coef_min': 0.474822,\n",
       " 'ela_meta_lin_simple_coef_max': 2.373826,\n",
       " 'ela_meta_lin_simple_coef_max_by_min': 5.288316,\n",
       " 'ela_meta_lin_w_interact_adj_r2': 0.340891,\n",
       " 'ela_meta_quad_simple_adj_r2': 1.0,\n",
       " 'ela_meta_quad_simple_cond': 1.0,\n",
       " 'ela_meta_quad_w_interact_adj_r2': 1.0,\n",
       " 'ela_meta_costs_runtime': 0.0,\n",
       " 'disp_ratio_mean_02': 0.119743,\n",
       " 'disp_ratio_mean_05': 0.219625,\n",
       " 'disp_ratio_mean_10': 0.314108,\n",
       " 'disp_ratio_mean_25': 0.479721,\n",
       " 'disp_ratio_median_02': 0.121534,\n",
       " 'disp_ratio_median_05': 0.249828,\n",
       " 'disp_ratio_median_10': 0.314734,\n",
       " 'disp_ratio_median_25': 0.482885,\n",
       " 'disp_diff_mean_02': -4.620548,\n",
       " 'disp_diff_mean_05': -4.083723,\n",
       " 'disp_diff_mean_10': -3.597919,\n",
       " 'disp_diff_mean_25': -2.722843,\n",
       " 'disp_diff_median_02': -4.542626,\n",
       " 'disp_diff_median_05': -3.864074,\n",
       " 'disp_diff_median_10': -3.51165,\n",
       " 'disp_diff_median_25': -2.666143,\n",
       " 'disp_costs_runtime': 0.0,\n",
       " 'nbc_nn_nb_sd_ratio': 0.737558,\n",
       " 'nbc_nn_nb_mean_ratio': 0.741407,\n",
       " 'nbc_nn_nb_cor': 0.576682,\n",
       " 'nbc_dist_ratio_coeff_var': 0.325758,\n",
       " 'nbc_nb_fitness_cor': -0.322481,\n",
       " 'nbc_costs_runtime': 0.016,\n",
       " 'pca_expl_var_cov_x': 1.0,\n",
       " 'pca_expl_var_cor_x': 1.0,\n",
       " 'pca_expl_var_cov_init': 0.333333,\n",
       " 'pca_expl_var_cor_init': 1.0,\n",
       " 'pca_expl_var_PC1_cov_x': 0.539687,\n",
       " 'pca_expl_var_PC1_cor_x': 0.539686,\n",
       " 'pca_expl_var_PC1_cov_init': 0.920953,\n",
       " 'pca_expl_var_PC1_cor_init': 0.523245,\n",
       " 'pca_costs_runtime': 0.0,\n",
       " 'ic_h_max': 0.73371,\n",
       " 'ic_eps_s': 1.116116,\n",
       " 'ic_eps_max': 3.104239,\n",
       " 'ic_eps_ratio': 0.605606,\n",
       " 'ic_m0': 0.382653,\n",
       " 'ic_costs_runtime': 0.203}"
      ]
     },
     "execution_count": 8,
     "metadata": {},
     "output_type": "execute_result"
    }
   ],
   "source": [
    "instance.features"
   ]
  },
  {
   "cell_type": "code",
   "execution_count": 7,
   "metadata": {},
   "outputs": [
    {
     "data": {
      "text/plain": [
       "ResultWithTime(result={'ela_distr_skewness': 0.773129, 'ela_distr_kurtosis': -0.146972, 'ela_distr_number_of_peaks': 1.0, 'ela_distr_costs_runtime': 0.0, 'ela_level_mmce_lda_10': 0.1, 'ela_level_mmce_qda_10': 0.075, 'ela_level_lda_qda_10': 1.339286, 'ela_level_mmce_lda_25': 0.27, 'ela_level_mmce_qda_25': 0.13, 'ela_level_lda_qda_25': 2.041667, 'ela_level_mmce_lda_50': 0.325, 'ela_level_mmce_qda_50': 0.17, 'ela_level_lda_qda_50': 1.75731, 'ela_level_costs_runtime': 0.2035, 'ela_meta_lin_simple_adj_r2': 0.30468, 'ela_meta_lin_simple_intercept': 97.557289, 'ela_meta_lin_simple_coef_min': 0.474822, 'ela_meta_lin_simple_coef_max': 2.373826, 'ela_meta_lin_simple_coef_max_by_min': 5.288316, 'ela_meta_lin_w_interact_adj_r2': 0.340891, 'ela_meta_quad_simple_adj_r2': 1.0, 'ela_meta_quad_simple_cond': 1.0, 'ela_meta_quad_w_interact_adj_r2': 1.0, 'ela_meta_costs_runtime': 0.0, 'disp_ratio_mean_02': 0.119743, 'disp_ratio_mean_05': 0.219625, 'disp_ratio_mean_10': 0.314108, 'disp_ratio_mean_25': 0.479721, 'disp_ratio_median_02': 0.121534, 'disp_ratio_median_05': 0.249828, 'disp_ratio_median_10': 0.314734, 'disp_ratio_median_25': 0.482885, 'disp_diff_mean_02': -4.620548, 'disp_diff_mean_05': -4.083723, 'disp_diff_mean_10': -3.597919, 'disp_diff_mean_25': -2.722843, 'disp_diff_median_02': -4.542626, 'disp_diff_median_05': -3.864074, 'disp_diff_median_10': -3.51165, 'disp_diff_median_25': -2.666143, 'disp_costs_runtime': 0.0, 'nbc_nn_nb_sd_ratio': 0.737558, 'nbc_nn_nb_mean_ratio': 0.741407, 'nbc_nn_nb_cor': 0.576682, 'nbc_dist_ratio_coeff_var': 0.325758, 'nbc_nb_fitness_cor': -0.322481, 'nbc_costs_runtime': 0.016, 'pca_expl_var_cov_x': 1.0, 'pca_expl_var_cor_x': 1.0, 'pca_expl_var_cov_init': 0.333333, 'pca_expl_var_cor_init': 1.0, 'pca_expl_var_PC1_cov_x': 0.539687, 'pca_expl_var_PC1_cor_x': 0.539686, 'pca_expl_var_PC1_cov_init': 0.920953, 'pca_expl_var_PC1_cor_init': 0.523245, 'pca_costs_runtime': 0.0, 'ic_h_max': 0.73371, 'ic_eps_s': 1.116116, 'ic_eps_max': 3.104239, 'ic_eps_ratio': 0.605606, 'ic_m0': 0.382653, 'ic_costs_runtime': 0.203}, time=0.432845)"
      ]
     },
     "execution_count": 7,
     "metadata": {},
     "output_type": "execute_result"
    }
   ],
   "source": [
    "instance.calculate_features()"
   ]
  },
  {
   "cell_type": "code",
   "execution_count": 9,
   "metadata": {},
   "outputs": [
    {
     "name": "stderr",
     "output_type": "stream",
     "text": [
      "[2025-07-13 11:02:54] DEBUG     solve(prefix=test, solver=Solver(id=972306317029875343), instance=BBOB_Instance(problem_id=bbob_f001_i01_d02))\n",
      "[2025-07-13 11:02:59] DEBUG     Solver.Result(prefix=test, solver=Solver(id=972306317029875343), instance=BBOB_Instance(problem_id=bbob_f001_i01_d02), cost=50.00, time=5.00, cut_off_cost=50.00, cut_off_time=5.00, cached=False, surrogate=False, error=False)\n"
     ]
    },
    {
     "data": {
      "text/plain": [
       "<Future at 0x18234f17460 state=finished returned Result>"
      ]
     },
     "execution_count": 9,
     "metadata": {},
     "output_type": "execute_result"
    }
   ],
   "source": [
    "solver = BBOB_POP_Solver()\n",
    "solver.solve(\n",
    "    instance=instance,\n",
    "    prefix=\"test\",\n",
    "    calculate_features=False,\n",
    "    cache=False\n",
    ")"
   ]
  },
  {
   "cell_type": "code",
   "execution_count": 10,
   "metadata": {},
   "outputs": [],
   "source": [
    "db = DB()"
   ]
  },
  {
   "cell_type": "code",
   "execution_count": 11,
   "metadata": {},
   "outputs": [
    {
     "data": {
      "text/html": [
       "<div>\n",
       "<style scoped>\n",
       "    .dataframe tbody tr th:only-of-type {\n",
       "        vertical-align: middle;\n",
       "    }\n",
       "\n",
       "    .dataframe tbody tr th {\n",
       "        vertical-align: top;\n",
       "    }\n",
       "\n",
       "    .dataframe thead th {\n",
       "        text-align: right;\n",
       "    }\n",
       "</style>\n",
       "<table border=\"1\" class=\"dataframe\">\n",
       "  <thead>\n",
       "    <tr style=\"text-align: right;\">\n",
       "      <th></th>\n",
       "      <th>id</th>\n",
       "      <th>ALGORITHM</th>\n",
       "      <th>CMA_ELITIST</th>\n",
       "      <th>CMA_POPSIZE</th>\n",
       "      <th>CMA_POPSIZE_FACTOR</th>\n",
       "      <th>CMA_RANDOM_INIT</th>\n",
       "      <th>CMA_SCALE</th>\n",
       "      <th>DE_CROSSOVER</th>\n",
       "      <th>DE_F1</th>\n",
       "      <th>DE_F2</th>\n",
       "      <th>DE_INITIALIZATION</th>\n",
       "      <th>DE_POPSIZE</th>\n",
       "      <th>DE_RECOMMENDATION</th>\n",
       "      <th>DE_SCALE</th>\n",
       "      <th>PSO_OMEGA</th>\n",
       "      <th>PSO_PHIG</th>\n",
       "      <th>PSO_PHIP</th>\n",
       "      <th>PSO_POPSIZE</th>\n",
       "    </tr>\n",
       "  </thead>\n",
       "  <tbody>\n",
       "    <tr>\n",
       "      <th>0</th>\n",
       "      <td>972306317029875343</td>\n",
       "      <td>0.0</td>\n",
       "      <td>0.0</td>\n",
       "      <td>0.977778</td>\n",
       "      <td>0.528895</td>\n",
       "      <td>1.0</td>\n",
       "      <td>0.140351</td>\n",
       "      <td>0.67888</td>\n",
       "      <td>0.105908</td>\n",
       "      <td>0.135218</td>\n",
       "      <td>4.0</td>\n",
       "      <td>0.011111</td>\n",
       "      <td>2.0</td>\n",
       "      <td>0.128926</td>\n",
       "      <td>0.988374</td>\n",
       "      <td>0.253292</td>\n",
       "      <td>0.65633</td>\n",
       "      <td>0.0</td>\n",
       "    </tr>\n",
       "  </tbody>\n",
       "</table>\n",
       "</div>"
      ],
      "text/plain": [
       "                   id  ALGORITHM  CMA_ELITIST  CMA_POPSIZE  \\\n",
       "0  972306317029875343        0.0          0.0     0.977778   \n",
       "\n",
       "   CMA_POPSIZE_FACTOR  CMA_RANDOM_INIT  CMA_SCALE  DE_CROSSOVER     DE_F1  \\\n",
       "0            0.528895              1.0   0.140351       0.67888  0.105908   \n",
       "\n",
       "      DE_F2  DE_INITIALIZATION  DE_POPSIZE  DE_RECOMMENDATION  DE_SCALE  \\\n",
       "0  0.135218                4.0    0.011111                2.0  0.128926   \n",
       "\n",
       "   PSO_OMEGA  PSO_PHIG  PSO_PHIP  PSO_POPSIZE  \n",
       "0   0.988374  0.253292   0.65633          0.0  "
      ]
     },
     "execution_count": 11,
     "metadata": {},
     "output_type": "execute_result"
    }
   ],
   "source": [
    "db.get_solvers()"
   ]
  },
  {
   "cell_type": "code",
   "execution_count": 12,
   "metadata": {},
   "outputs": [
    {
     "data": {
      "text/html": [
       "<div>\n",
       "<style scoped>\n",
       "    .dataframe tbody tr th:only-of-type {\n",
       "        vertical-align: middle;\n",
       "    }\n",
       "\n",
       "    .dataframe tbody tr th {\n",
       "        vertical-align: top;\n",
       "    }\n",
       "\n",
       "    .dataframe thead th {\n",
       "        text-align: right;\n",
       "    }\n",
       "</style>\n",
       "<table border=\"1\" class=\"dataframe\">\n",
       "  <thead>\n",
       "    <tr style=\"text-align: right;\">\n",
       "      <th></th>\n",
       "      <th>id</th>\n",
       "      <th>ela_distr_skewness</th>\n",
       "      <th>ela_distr_kurtosis</th>\n",
       "      <th>ela_distr_number_of_peaks</th>\n",
       "      <th>ela_distr_costs_runtime</th>\n",
       "      <th>ela_level_mmce_lda_10</th>\n",
       "      <th>ela_level_mmce_qda_10</th>\n",
       "      <th>ela_level_lda_qda_10</th>\n",
       "      <th>ela_level_mmce_lda_25</th>\n",
       "      <th>ela_level_mmce_qda_25</th>\n",
       "      <th>...</th>\n",
       "      <th>pca_expl_var_PC1_cor_x</th>\n",
       "      <th>pca_expl_var_PC1_cov_init</th>\n",
       "      <th>pca_expl_var_PC1_cor_init</th>\n",
       "      <th>pca_costs_runtime</th>\n",
       "      <th>ic_h_max</th>\n",
       "      <th>ic_eps_s</th>\n",
       "      <th>ic_eps_max</th>\n",
       "      <th>ic_eps_ratio</th>\n",
       "      <th>ic_m0</th>\n",
       "      <th>ic_costs_runtime</th>\n",
       "    </tr>\n",
       "  </thead>\n",
       "  <tbody>\n",
       "    <tr>\n",
       "      <th>0</th>\n",
       "      <td>1459556901948702861</td>\n",
       "      <td>0.773129</td>\n",
       "      <td>-0.146972</td>\n",
       "      <td>1.0</td>\n",
       "      <td>0.0</td>\n",
       "      <td>0.1</td>\n",
       "      <td>0.075</td>\n",
       "      <td>1.339286</td>\n",
       "      <td>0.27</td>\n",
       "      <td>0.13</td>\n",
       "      <td>...</td>\n",
       "      <td>0.539686</td>\n",
       "      <td>0.920953</td>\n",
       "      <td>0.523245</td>\n",
       "      <td>0.0</td>\n",
       "      <td>0.73371</td>\n",
       "      <td>1.116116</td>\n",
       "      <td>3.104239</td>\n",
       "      <td>0.605606</td>\n",
       "      <td>0.382653</td>\n",
       "      <td>0.203</td>\n",
       "    </tr>\n",
       "  </tbody>\n",
       "</table>\n",
       "<p>1 rows × 63 columns</p>\n",
       "</div>"
      ],
      "text/plain": [
       "                    id  ela_distr_skewness  ela_distr_kurtosis  \\\n",
       "0  1459556901948702861            0.773129           -0.146972   \n",
       "\n",
       "   ela_distr_number_of_peaks  ela_distr_costs_runtime  ela_level_mmce_lda_10  \\\n",
       "0                        1.0                      0.0                    0.1   \n",
       "\n",
       "   ela_level_mmce_qda_10  ela_level_lda_qda_10  ela_level_mmce_lda_25  \\\n",
       "0                  0.075              1.339286                   0.27   \n",
       "\n",
       "   ela_level_mmce_qda_25  ...  pca_expl_var_PC1_cor_x  \\\n",
       "0                   0.13  ...                0.539686   \n",
       "\n",
       "   pca_expl_var_PC1_cov_init  pca_expl_var_PC1_cor_init  pca_costs_runtime  \\\n",
       "0                   0.920953                   0.523245                0.0   \n",
       "\n",
       "   ic_h_max  ic_eps_s  ic_eps_max  ic_eps_ratio     ic_m0  ic_costs_runtime  \n",
       "0   0.73371  1.116116    3.104239      0.605606  0.382653             0.203  \n",
       "\n",
       "[1 rows x 63 columns]"
      ]
     },
     "execution_count": 12,
     "metadata": {},
     "output_type": "execute_result"
    }
   ],
   "source": [
    "db.get_instances()"
   ]
  },
  {
   "cell_type": "code",
   "execution_count": null,
   "metadata": {},
   "outputs": [],
   "source": [
    "problem = suite[0]\n",
    "\n",
    "pso_config = ng.families.ConfPSO(\n",
    "    popsize=20,           # Population size\n",
    "    omega=0.729,          # Inertia weight\n",
    "    phip=1.49618,         # Cognitive parameter\n",
    "    phig=1.49618,         # Social parameter\n",
    ")\n",
    "\n",
    "optimizer = pso_config(2, budget=100000)\n",
    "\n",
    "recommendation = optimizer.minimize(problem, max_time=100)\n",
    "recommendation.value, problem.evaluations, problem.final_target_hit"
   ]
  },
  {
   "cell_type": "code",
   "execution_count": null,
   "metadata": {},
   "outputs": [],
   "source": [
    "problem = suite[0]\n",
    "\n",
    "de_config = ng.families.DifferentialEvolution(\n",
    "    popsize=20,\n",
    "    crossover=0.8,\n",
    ")\n",
    "\n",
    "optimizer = de_config(2, budget=10000)\n",
    "\n",
    "recommendation = optimizer.minimize(problem, max_time=1)\n",
    "recommendation.value, problem.evaluations, problem.final_target_hit"
   ]
  }
 ],
 "metadata": {
  "kernelspec": {
   "display_name": "SMAC",
   "language": "python",
   "name": "python3"
  },
  "language_info": {
   "codemirror_mode": {
    "name": "ipython",
    "version": 3
   },
   "file_extension": ".py",
   "mimetype": "text/x-python",
   "name": "python",
   "nbconvert_exporter": "python",
   "pygments_lexer": "ipython3",
   "version": "3.10.15"
  }
 },
 "nbformat": 4,
 "nbformat_minor": 2
}
