{
 "cells": [
  {
   "cell_type": "code",
   "execution_count": 20,
   "metadata": {},
   "outputs": [],
   "source": [
    "import os\n",
    "\n",
    "os.environ[\"SEED\"] = \"0\"\n",
    "\n",
    "import numpy as np\n",
    "\n",
    "from src.aac.AAC import AAC\n",
    "from src.constant import DATA_DIR, DATABASE_DIR, MAIN_DIR, SEED\n",
    "from src.database import DB\n",
    "from src.database.queries import get_model_training_data, get_solvers_count\n",
    "from src.experiment import parhydra\n",
    "from src.instance.TSP_Instance import TSP_from_index_file, set_n22_cut_off_time\n",
    "from src.log import logger\n",
    "from src.solver.Portfolio import Portfolio\n",
    "from src.solver.TSP_LKH_Solver import TSP_LKH_Solver\n",
    "from src.surrogate.SurrogatePolicy import (\n",
    "    EvaluationSurrogatePolicyA,\n",
    "    EvaluationSurrogatePolicyB,\n",
    "    EvaluationSurrogatePolicyC,\n",
    "    IterationSurrogatePolicyA,\n",
    "    IterationSurrogatePolicyB,\n",
    "    SurrogatePolicy,\n",
    "    TestSurrogatePolicy,\n",
    ")\n",
    "from src.surrogate.wrapper import EmptyWrapper, SurvivalFunctionWrapper"
   ]
  },
  {
   "cell_type": "code",
   "execution_count": 21,
   "metadata": {},
   "outputs": [
    {
     "data": {
      "text/plain": [
       "InstanceList(size=250)[TSP_Instance(filepath=TSP/TEST/cluster/150.tsp), TSP_Instance(filepath=TSP/TEST/cluster/170.tsp), TSP_Instance(filepath=TSP/TEST/cluster/000.tsp), TSP_Instance(filepath=TSP/TEST/cluster/090.tsp), TSP_Instance(filepath=TSP/TEST/cluster/094.tsp), TSP_Instance(filepath=TSP/TEST/cluster/013.tsp), TSP_Instance(filepath=TSP/TEST/cluster/003.tsp), TSP_Instance(filepath=TSP/TEST/cluster/182.tsp), TSP_Instance(filepath=TSP/TEST/cluster/054.tsp), TSP_Instance(filepath=TSP/TEST/cluster/120.tsp), TSP_Instance(filepath=TSP/TEST/cluster/055.tsp), TSP_Instance(filepath=TSP/TEST/cluster/007.tsp), TSP_Instance(filepath=TSP/TEST/cluster/108.tsp), TSP_Instance(filepath=TSP/TEST/cluster/104.tsp), TSP_Instance(filepath=TSP/TEST/cluster/032.tsp), TSP_Instance(filepath=TSP/TEST/cluster/132.tsp), TSP_Instance(filepath=TSP/TEST/cluster/184.tsp), TSP_Instance(filepath=TSP/TEST/cluster/112.tsp), TSP_Instance(filepath=TSP/TEST/cluster/048.tsp), TSP_Instance(filepath=TSP/TEST/cluster/078.tsp), TSP_Instance(filepath=TSP/TEST/cluster/139.tsp), TSP_Instance(filepath=TSP/TEST/cluster/121.tsp), TSP_Instance(filepath=TSP/TEST/cluster/149.tsp), TSP_Instance(filepath=TSP/TEST/cluster/114.tsp), TSP_Instance(filepath=TSP/TEST/cluster/160.tsp), TSP_Instance(filepath=TSP/TEST/cluster_netgen/167.tsp), TSP_Instance(filepath=TSP/TEST/cluster_netgen/084.tsp), TSP_Instance(filepath=TSP/TEST/cluster_netgen/108.tsp), TSP_Instance(filepath=TSP/TEST/cluster_netgen/073.tsp), TSP_Instance(filepath=TSP/TEST/cluster_netgen/175.tsp), TSP_Instance(filepath=TSP/TEST/cluster_netgen/139.tsp), TSP_Instance(filepath=TSP/TEST/cluster_netgen/061.tsp), TSP_Instance(filepath=TSP/TEST/cluster_netgen/164.tsp), TSP_Instance(filepath=TSP/TEST/cluster_netgen/068.tsp), TSP_Instance(filepath=TSP/TEST/cluster_netgen/082.tsp), TSP_Instance(filepath=TSP/TEST/cluster_netgen/133.tsp), TSP_Instance(filepath=TSP/TEST/cluster_netgen/025.tsp), TSP_Instance(filepath=TSP/TEST/cluster_netgen/178.tsp), TSP_Instance(filepath=TSP/TEST/cluster_netgen/126.tsp), TSP_Instance(filepath=TSP/TEST/cluster_netgen/097.tsp), TSP_Instance(filepath=TSP/TEST/cluster_netgen/145.tsp), TSP_Instance(filepath=TSP/TEST/cluster_netgen/179.tsp), TSP_Instance(filepath=TSP/TEST/cluster_netgen/120.tsp), TSP_Instance(filepath=TSP/TEST/cluster_netgen/129.tsp), TSP_Instance(filepath=TSP/TEST/cluster_netgen/069.tsp), TSP_Instance(filepath=TSP/TEST/cluster_netgen/157.tsp), TSP_Instance(filepath=TSP/TEST/cluster_netgen/102.tsp), TSP_Instance(filepath=TSP/TEST/cluster_netgen/135.tsp), TSP_Instance(filepath=TSP/TEST/cluster_netgen/196.tsp), TSP_Instance(filepath=TSP/TEST/cluster_netgen/111.tsp), TSP_Instance(filepath=TSP/TEST/compression/086.tsp), TSP_Instance(filepath=TSP/TEST/compression/014.tsp), TSP_Instance(filepath=TSP/TEST/compression/140.tsp), TSP_Instance(filepath=TSP/TEST/compression/147.tsp), TSP_Instance(filepath=TSP/TEST/compression/136.tsp), TSP_Instance(filepath=TSP/TEST/compression/010.tsp), TSP_Instance(filepath=TSP/TEST/compression/160.tsp), TSP_Instance(filepath=TSP/TEST/compression/196.tsp), TSP_Instance(filepath=TSP/TEST/compression/044.tsp), TSP_Instance(filepath=TSP/TEST/compression/144.tsp), TSP_Instance(filepath=TSP/TEST/compression/199.tsp), TSP_Instance(filepath=TSP/TEST/compression/066.tsp), TSP_Instance(filepath=TSP/TEST/compression/150.tsp), TSP_Instance(filepath=TSP/TEST/compression/124.tsp), TSP_Instance(filepath=TSP/TEST/compression/080.tsp), TSP_Instance(filepath=TSP/TEST/compression/163.tsp), TSP_Instance(filepath=TSP/TEST/compression/062.tsp), TSP_Instance(filepath=TSP/TEST/compression/171.tsp), TSP_Instance(filepath=TSP/TEST/compression/043.tsp), TSP_Instance(filepath=TSP/TEST/compression/153.tsp), TSP_Instance(filepath=TSP/TEST/compression/107.tsp), TSP_Instance(filepath=TSP/TEST/compression/028.tsp), TSP_Instance(filepath=TSP/TEST/compression/071.tsp), TSP_Instance(filepath=TSP/TEST/compression/112.tsp), TSP_Instance(filepath=TSP/TEST/compression/056.tsp), TSP_Instance(filepath=TSP/TEST/expansion/082.tsp), TSP_Instance(filepath=TSP/TEST/expansion/146.tsp), TSP_Instance(filepath=TSP/TEST/expansion/076.tsp), TSP_Instance(filepath=TSP/TEST/expansion/111.tsp), TSP_Instance(filepath=TSP/TEST/expansion/077.tsp), TSP_Instance(filepath=TSP/TEST/expansion/112.tsp), TSP_Instance(filepath=TSP/TEST/expansion/171.tsp), TSP_Instance(filepath=TSP/TEST/expansion/063.tsp), TSP_Instance(filepath=TSP/TEST/expansion/086.tsp), TSP_Instance(filepath=TSP/TEST/expansion/183.tsp), TSP_Instance(filepath=TSP/TEST/expansion/034.tsp), TSP_Instance(filepath=TSP/TEST/expansion/168.tsp), TSP_Instance(filepath=TSP/TEST/expansion/003.tsp), TSP_Instance(filepath=TSP/TEST/expansion/056.tsp), TSP_Instance(filepath=TSP/TEST/expansion/176.tsp), TSP_Instance(filepath=TSP/TEST/expansion/143.tsp), TSP_Instance(filepath=TSP/TEST/expansion/095.tsp), TSP_Instance(filepath=TSP/TEST/expansion/157.tsp), TSP_Instance(filepath=TSP/TEST/expansion/044.tsp), TSP_Instance(filepath=TSP/TEST/expansion/088.tsp), TSP_Instance(filepath=TSP/TEST/expansion/008.tsp), TSP_Instance(filepath=TSP/TEST/expansion/154.tsp), TSP_Instance(filepath=TSP/TEST/expansion/015.tsp), TSP_Instance(filepath=TSP/TEST/expansion/081.tsp), TSP_Instance(filepath=TSP/TEST/expansion/102.tsp), TSP_Instance(filepath=TSP/TEST/explosion/086.tsp), TSP_Instance(filepath=TSP/TEST/explosion/007.tsp), TSP_Instance(filepath=TSP/TEST/explosion/164.tsp), TSP_Instance(filepath=TSP/TEST/explosion/181.tsp), TSP_Instance(filepath=TSP/TEST/explosion/085.tsp), TSP_Instance(filepath=TSP/TEST/explosion/172.tsp), TSP_Instance(filepath=TSP/TEST/explosion/025.tsp), TSP_Instance(filepath=TSP/TEST/explosion/148.tsp), TSP_Instance(filepath=TSP/TEST/explosion/081.tsp), TSP_Instance(filepath=TSP/TEST/explosion/041.tsp), TSP_Instance(filepath=TSP/TEST/explosion/028.tsp), TSP_Instance(filepath=TSP/TEST/explosion/147.tsp), TSP_Instance(filepath=TSP/TEST/explosion/050.tsp), TSP_Instance(filepath=TSP/TEST/explosion/126.tsp), TSP_Instance(filepath=TSP/TEST/explosion/042.tsp), TSP_Instance(filepath=TSP/TEST/explosion/068.tsp), TSP_Instance(filepath=TSP/TEST/explosion/145.tsp), TSP_Instance(filepath=TSP/TEST/explosion/157.tsp), TSP_Instance(filepath=TSP/TEST/explosion/161.tsp), TSP_Instance(filepath=TSP/TEST/explosion/059.tsp), TSP_Instance(filepath=TSP/TEST/explosion/036.tsp), TSP_Instance(filepath=TSP/TEST/explosion/135.tsp), TSP_Instance(filepath=TSP/TEST/explosion/064.tsp), TSP_Instance(filepath=TSP/TEST/explosion/182.tsp), TSP_Instance(filepath=TSP/TEST/explosion/102.tsp), TSP_Instance(filepath=TSP/TEST/grid/110.tsp), TSP_Instance(filepath=TSP/TEST/grid/046.tsp), TSP_Instance(filepath=TSP/TEST/grid/043.tsp), TSP_Instance(filepath=TSP/TEST/grid/149.tsp), TSP_Instance(filepath=TSP/TEST/grid/112.tsp), TSP_Instance(filepath=TSP/TEST/grid/100.tsp), TSP_Instance(filepath=TSP/TEST/grid/153.tsp), TSP_Instance(filepath=TSP/TEST/grid/054.tsp), TSP_Instance(filepath=TSP/TEST/grid/090.tsp), TSP_Instance(filepath=TSP/TEST/grid/163.tsp), TSP_Instance(filepath=TSP/TEST/grid/170.tsp), TSP_Instance(filepath=TSP/TEST/grid/107.tsp), TSP_Instance(filepath=TSP/TEST/grid/136.tsp), TSP_Instance(filepath=TSP/TEST/grid/038.tsp), TSP_Instance(filepath=TSP/TEST/grid/024.tsp), TSP_Instance(filepath=TSP/TEST/grid/049.tsp), TSP_Instance(filepath=TSP/TEST/grid/042.tsp), TSP_Instance(filepath=TSP/TEST/grid/158.tsp), TSP_Instance(filepath=TSP/TEST/grid/147.tsp), TSP_Instance(filepath=TSP/TEST/grid/187.tsp), TSP_Instance(filepath=TSP/TEST/grid/012.tsp), TSP_Instance(filepath=TSP/TEST/grid/165.tsp), TSP_Instance(filepath=TSP/TEST/grid/057.tsp), TSP_Instance(filepath=TSP/TEST/grid/040.tsp), TSP_Instance(filepath=TSP/TEST/grid/023.tsp), TSP_Instance(filepath=TSP/TEST/implosion/135.tsp), TSP_Instance(filepath=TSP/TEST/implosion/074.tsp), TSP_Instance(filepath=TSP/TEST/implosion/081.tsp), TSP_Instance(filepath=TSP/TEST/implosion/048.tsp), TSP_Instance(filepath=TSP/TEST/implosion/185.tsp), TSP_Instance(filepath=TSP/TEST/implosion/123.tsp), TSP_Instance(filepath=TSP/TEST/implosion/184.tsp), TSP_Instance(filepath=TSP/TEST/implosion/193.tsp), TSP_Instance(filepath=TSP/TEST/implosion/001.tsp), TSP_Instance(filepath=TSP/TEST/implosion/150.tsp), TSP_Instance(filepath=TSP/TEST/implosion/140.tsp), TSP_Instance(filepath=TSP/TEST/implosion/099.tsp), TSP_Instance(filepath=TSP/TEST/implosion/154.tsp), TSP_Instance(filepath=TSP/TEST/implosion/104.tsp), TSP_Instance(filepath=TSP/TEST/implosion/052.tsp), TSP_Instance(filepath=TSP/TEST/implosion/172.tsp), TSP_Instance(filepath=TSP/TEST/implosion/182.tsp), TSP_Instance(filepath=TSP/TEST/implosion/007.tsp), TSP_Instance(filepath=TSP/TEST/implosion/153.tsp), TSP_Instance(filepath=TSP/TEST/implosion/020.tsp), TSP_Instance(filepath=TSP/TEST/implosion/024.tsp), TSP_Instance(filepath=TSP/TEST/implosion/067.tsp), TSP_Instance(filepath=TSP/TEST/implosion/018.tsp), TSP_Instance(filepath=TSP/TEST/implosion/014.tsp), TSP_Instance(filepath=TSP/TEST/implosion/145.tsp), TSP_Instance(filepath=TSP/TEST/linearprojection/194.tsp), TSP_Instance(filepath=TSP/TEST/linearprojection/134.tsp), TSP_Instance(filepath=TSP/TEST/linearprojection/180.tsp), TSP_Instance(filepath=TSP/TEST/linearprojection/110.tsp), TSP_Instance(filepath=TSP/TEST/linearprojection/048.tsp), TSP_Instance(filepath=TSP/TEST/linearprojection/175.tsp), TSP_Instance(filepath=TSP/TEST/linearprojection/098.tsp), TSP_Instance(filepath=TSP/TEST/linearprojection/032.tsp), TSP_Instance(filepath=TSP/TEST/linearprojection/160.tsp), TSP_Instance(filepath=TSP/TEST/linearprojection/049.tsp), TSP_Instance(filepath=TSP/TEST/linearprojection/107.tsp), TSP_Instance(filepath=TSP/TEST/linearprojection/056.tsp), TSP_Instance(filepath=TSP/TEST/linearprojection/020.tsp), TSP_Instance(filepath=TSP/TEST/linearprojection/183.tsp), TSP_Instance(filepath=TSP/TEST/linearprojection/124.tsp), TSP_Instance(filepath=TSP/TEST/linearprojection/149.tsp), TSP_Instance(filepath=TSP/TEST/linearprojection/050.tsp), TSP_Instance(filepath=TSP/TEST/linearprojection/027.tsp), TSP_Instance(filepath=TSP/TEST/linearprojection/143.tsp), TSP_Instance(filepath=TSP/TEST/linearprojection/182.tsp), TSP_Instance(filepath=TSP/TEST/linearprojection/189.tsp), TSP_Instance(filepath=TSP/TEST/linearprojection/011.tsp), TSP_Instance(filepath=TSP/TEST/linearprojection/166.tsp), TSP_Instance(filepath=TSP/TEST/linearprojection/121.tsp), TSP_Instance(filepath=TSP/TEST/linearprojection/130.tsp), TSP_Instance(filepath=TSP/TEST/rotation/177.tsp), TSP_Instance(filepath=TSP/TEST/rotation/183.tsp), TSP_Instance(filepath=TSP/TEST/rotation/096.tsp), TSP_Instance(filepath=TSP/TEST/rotation/078.tsp), TSP_Instance(filepath=TSP/TEST/rotation/110.tsp), TSP_Instance(filepath=TSP/TEST/rotation/189.tsp), TSP_Instance(filepath=TSP/TEST/rotation/037.tsp), TSP_Instance(filepath=TSP/TEST/rotation/100.tsp), TSP_Instance(filepath=TSP/TEST/rotation/178.tsp), TSP_Instance(filepath=TSP/TEST/rotation/059.tsp), TSP_Instance(filepath=TSP/TEST/rotation/133.tsp), TSP_Instance(filepath=TSP/TEST/rotation/117.tsp), TSP_Instance(filepath=TSP/TEST/rotation/017.tsp), TSP_Instance(filepath=TSP/TEST/rotation/173.tsp), TSP_Instance(filepath=TSP/TEST/rotation/148.tsp), TSP_Instance(filepath=TSP/TEST/rotation/035.tsp), TSP_Instance(filepath=TSP/TEST/rotation/001.tsp), TSP_Instance(filepath=TSP/TEST/rotation/126.tsp), TSP_Instance(filepath=TSP/TEST/rotation/107.tsp), TSP_Instance(filepath=TSP/TEST/rotation/014.tsp), TSP_Instance(filepath=TSP/TEST/rotation/138.tsp), TSP_Instance(filepath=TSP/TEST/rotation/181.tsp), TSP_Instance(filepath=TSP/TEST/rotation/111.tsp), TSP_Instance(filepath=TSP/TEST/rotation/127.tsp), TSP_Instance(filepath=TSP/TEST/rotation/068.tsp), TSP_Instance(filepath=TSP/TEST/uniform_portgen/190.tsp), TSP_Instance(filepath=TSP/TEST/uniform_portgen/117.tsp), TSP_Instance(filepath=TSP/TEST/uniform_portgen/159.tsp), TSP_Instance(filepath=TSP/TEST/uniform_portgen/124.tsp), TSP_Instance(filepath=TSP/TEST/uniform_portgen/101.tsp), TSP_Instance(filepath=TSP/TEST/uniform_portgen/013.tsp), TSP_Instance(filepath=TSP/TEST/uniform_portgen/161.tsp), TSP_Instance(filepath=TSP/TEST/uniform_portgen/038.tsp), TSP_Instance(filepath=TSP/TEST/uniform_portgen/004.tsp), TSP_Instance(filepath=TSP/TEST/uniform_portgen/139.tsp), TSP_Instance(filepath=TSP/TEST/uniform_portgen/148.tsp), TSP_Instance(filepath=TSP/TEST/uniform_portgen/021.tsp), TSP_Instance(filepath=TSP/TEST/uniform_portgen/007.tsp), TSP_Instance(filepath=TSP/TEST/uniform_portgen/012.tsp), TSP_Instance(filepath=TSP/TEST/uniform_portgen/031.tsp), TSP_Instance(filepath=TSP/TEST/uniform_portgen/129.tsp), TSP_Instance(filepath=TSP/TEST/uniform_portgen/093.tsp), TSP_Instance(filepath=TSP/TEST/uniform_portgen/106.tsp), TSP_Instance(filepath=TSP/TEST/uniform_portgen/091.tsp), TSP_Instance(filepath=TSP/TEST/uniform_portgen/184.tsp), TSP_Instance(filepath=TSP/TEST/uniform_portgen/049.tsp), TSP_Instance(filepath=TSP/TEST/uniform_portgen/022.tsp), TSP_Instance(filepath=TSP/TEST/uniform_portgen/023.tsp), TSP_Instance(filepath=TSP/TEST/uniform_portgen/061.tsp), TSP_Instance(filepath=TSP/TEST/uniform_portgen/068.tsp)]"
      ]
     },
     "execution_count": 21,
     "metadata": {},
     "output_type": "execute_result"
    }
   ],
   "source": [
    "train_instances = TSP_from_index_file(\n",
    "    filepath=DATA_DIR / \"TSP\" / \"TRAIN\" / \"index.json\",\n",
    "    cut_off_cost=100,\n",
    "    cut_off_time=10,\n",
    "    n=5,\n",
    "    seed=SEED\n",
    ")\n",
    "test_instances = TSP_from_index_file(\n",
    "    filepath=DATA_DIR / \"TSP\" / \"TEST\" / \"index.json\",\n",
    "    cut_off_cost=1000,\n",
    "    cut_off_time=100,\n",
    "    n=250,\n",
    "    seed=0\n",
    ")\n",
    "test_instances"
   ]
  },
  {
   "cell_type": "code",
   "execution_count": null,
   "metadata": {},
   "outputs": [],
   "source": [
    "train_instances = set_n22_cut_off_time(train_instances, reference_cut_off_time=10.0)"
   ]
  },
  {
   "cell_type": "code",
   "execution_count": null,
   "metadata": {},
   "outputs": [],
   "source": [
    "surrogate_policy = TestSurrogatePolicy(\n",
    "    first_fit_solver_count=5,\n",
    "    refit_solver_count=2,\n",
    ")\n",
    "\n",
    "surrogate_policy = EvaluationSurrogatePolicyA(\n",
    "    first_fit_solver_count=5,\n",
    "    refit_solver_count=2,\n",
    "    pct_chance=0.5,\n",
    ")\n",
    "\n",
    "# surrogate_policy = EvaluationSurrogatePolicyB(\n",
    "#     first_fit_solver_count=5,\n",
    "#     refit_solver_count=2,\n",
    "#     reevaluate_pct=0.5,\n",
    "# )\n",
    "\n",
    "# surrogate_policy = EvaluationSurrogatePolicyC(\n",
    "#     first_fit_solver_count=5,\n",
    "#     refit_solver_count=2,\n",
    "#     reevaluate_factor=1.0,\n",
    "# )\n",
    "\n",
    "# surrogate_policy = IterationSurrogatePolicyA(\n",
    "#     first_fit_solver_count=5,\n",
    "#     refit_solver_count=2,\n",
    "#     iter_diff=2,\n",
    "# )\n",
    "\n",
    "# surrogate_policy = IterationSurrogatePolicyB(\n",
    "#     first_fit_solver_count=5,\n",
    "#     refit_solver_count=2,\n",
    "# )"
   ]
  },
  {
   "cell_type": "code",
   "execution_count": null,
   "metadata": {},
   "outputs": [],
   "source": [
    "SOLVERS_N = 1\n",
    "ATTEMPTS_N = 1\n",
    "MAX_ITER = 30\n",
    "\n",
    "portfolio = parhydra(\n",
    "    train_instances=train_instances,\n",
    "    surrogate_policy=surrogate_policy,\n",
    "    SOLVERS_N=SOLVERS_N,\n",
    "    ATTEMPTS_N=ATTEMPTS_N,\n",
    "    MAX_ITER=MAX_ITER,\n",
    ")"
   ]
  }
 ],
 "metadata": {
  "kernelspec": {
   "display_name": "SMAC",
   "language": "python",
   "name": "python3"
  },
  "language_info": {
   "codemirror_mode": {
    "name": "ipython",
    "version": 3
   },
   "file_extension": ".py",
   "mimetype": "text/x-python",
   "name": "python",
   "nbconvert_exporter": "python",
   "pygments_lexer": "ipython3",
   "version": "3.10.15"
  }
 },
 "nbformat": 4,
 "nbformat_minor": 2
}
