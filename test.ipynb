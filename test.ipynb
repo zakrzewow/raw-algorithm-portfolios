{
 "cells": [
  {
   "cell_type": "code",
   "execution_count": 4,
   "metadata": {},
   "outputs": [],
   "source": [
    "import os\n",
    "\n",
    "os.environ[\"SEED\"] = \"0\"\n",
    "\n",
    "import json\n",
    "from pathlib import Path\n",
    "\n",
    "import numpy as np\n",
    "import pandas as pd\n",
    "\n",
    "from src.constant import DATA_DIR, DATABASE_DIR\n",
    "from src.database import DB\n",
    "from src.instance.BBOB_Instance import BBOB_Instance, set_08_cut_off_time\n",
    "from src.instance.InstanceList import InstanceList\n",
    "\n",
    "pd.options.display.max_columns = None"
   ]
  },
  {
   "cell_type": "code",
   "execution_count": 15,
   "metadata": {},
   "outputs": [],
   "source": [
    "instance = BBOB_Instance(function_index=1, dimension=2, instance_index=1)"
   ]
  },
  {
   "cell_type": "code",
   "execution_count": null,
   "metadata": {},
   "outputs": [
    {
     "data": {
      "text/plain": [
       "InstanceList(size=25)[BBOB_Instance(problem_id=bbob_f015_i04_d02), BBOB_Instance(problem_id=bbob_f012_i05_d02), BBOB_Instance(problem_id=bbob_f007_i04_d02), BBOB_Instance(problem_id=bbob_f008_i04_d02), BBOB_Instance(problem_id=bbob_f020_i03_d02), BBOB_Instance(problem_id=bbob_f019_i04_d03), BBOB_Instance(problem_id=bbob_f012_i05_d03), BBOB_Instance(problem_id=bbob_f015_i05_d03), BBOB_Instance(problem_id=bbob_f022_i03_d03), BBOB_Instance(problem_id=bbob_f015_i04_d03), BBOB_Instance(problem_id=bbob_f017_i03_d05), BBOB_Instance(problem_id=bbob_f020_i03_d05), BBOB_Instance(problem_id=bbob_f007_i04_d05), BBOB_Instance(problem_id=bbob_f022_i04_d05), BBOB_Instance(problem_id=bbob_f013_i05_d05), BBOB_Instance(problem_id=bbob_f018_i03_d10), BBOB_Instance(problem_id=bbob_f018_i04_d10), BBOB_Instance(problem_id=bbob_f005_i03_d10), BBOB_Instance(problem_id=bbob_f021_i03_d10), BBOB_Instance(problem_id=bbob_f001_i05_d10), BBOB_Instance(problem_id=bbob_f007_i05_d20), BBOB_Instance(problem_id=bbob_f012_i03_d20), BBOB_Instance(problem_id=bbob_f011_i03_d20), BBOB_Instance(problem_id=bbob_f010_i05_d20), BBOB_Instance(problem_id=bbob_f002_i05_d20)]"
      ]
     },
     "execution_count": 23,
     "metadata": {},
     "output_type": "execute_result"
    }
   ],
   "source": [
    "n = 25\n",
    "seed = 0\n",
    "\n",
    "rng = np.random.default_rng(seed=seed)\n",
    "function_index_list = list(range(1, 25))\n",
    "dimension_list = [2, 3, 5, 10, 20]\n",
    "instance_index_list = [3, 4, 5]\n",
    "n_per_dimension = n // len(dimension_list)\n",
    "instance_list = InstanceList()\n",
    "\n",
    "for dimension in dimension_list:\n",
    "    sampled_pairs = rng.choice(\n",
    "        len(function_index_list) * len(instance_index_list),\n",
    "        size=n_per_dimension,\n",
    "        replace=False\n",
    "    )\n",
    "\n",
    "    for idx in sampled_pairs:\n",
    "        function_idx = function_index_list[idx // len(instance_index_list)]\n",
    "        instance_idx = instance_index_list[idx % len(instance_index_list)]\n",
    "        \n",
    "        bbob_instance = BBOB_Instance(\n",
    "            function_index=function_idx,\n",
    "            dimension=dimension,\n",
    "            instance_index=instance_idx\n",
    "        )\n",
    "        instance_list.append(bbob_instance)\n",
    "\n",
    "instance_list"
   ]
  },
  {
   "cell_type": "code",
   "execution_count": null,
   "metadata": {},
   "outputs": [],
   "source": [
    "# features = {}\n",
    "\n",
    "# for features_file in Path(\"features\").glob(\"*.json\"):\n",
    "#     with open(features_file, \"r\") as f:\n",
    "#         features = {\n",
    "#             **features,\n",
    "#             **json.load(f)\n",
    "#         }\n",
    "\n",
    "# len(features)\n",
    "\n",
    "# with open(DATA_DIR / \"BBOB\" / \"features.json\", \"w\") as f:\n",
    "#     json.dump(features, f, indent=4)"
   ]
  },
  {
   "cell_type": "code",
   "execution_count": null,
   "metadata": {},
   "outputs": [],
   "source": [
    "# from src.instance.BBOB_Instance import BBOB_Instance\n",
    "# import json\n",
    "\n",
    "# features = {}\n",
    "\n",
    "# for instance_index in [1, 2, 3, 4, 5]:\n",
    "#     instance = BBOB_Instance(\n",
    "#         function_index=7,\n",
    "#         dimension=2,\n",
    "#         instance_index=instance_index,\n",
    "#     )\n",
    "#     result, time = instance.calculate_features()\n",
    "#     features[instance.id()] = {\"result\": result, \"time\": time}\n",
    "\n",
    "# with open(\"features/features_7_2.json\", \"w\") as f:\n",
    "#     json.dump(features, f, indent=4)"
   ]
  }
 ],
 "metadata": {
  "kernelspec": {
   "display_name": "SMAC",
   "language": "python",
   "name": "python3"
  },
  "language_info": {
   "codemirror_mode": {
    "name": "ipython",
    "version": 3
   },
   "file_extension": ".py",
   "mimetype": "text/x-python",
   "name": "python",
   "nbconvert_exporter": "python",
   "pygments_lexer": "ipython3",
   "version": "3.10.15"
  }
 },
 "nbformat": 4,
 "nbformat_minor": 2
}
