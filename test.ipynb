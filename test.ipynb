{
 "cells": [
  {
   "cell_type": "code",
   "execution_count": null,
   "metadata": {},
   "outputs": [],
   "source": [
    "import os\n",
    "\n",
    "os.environ[\"SEED\"] = \"0\"\n",
    "\n",
    "import numpy as np\n",
    "\n",
    "from src.aac.AAC import AAC\n",
    "from src.constant import DATA_DIR, DATABASE_DIR, MAIN_DIR\n",
    "from src.database import DB\n",
    "from src.database.queries import get_model_training_data, get_solvers_count\n",
    "from src.experiment import parhydra\n",
    "from src.instance.TSP_Instance import TSP_from_index_file, set_n22_cut_off_time\n",
    "from src.log import logger\n",
    "from src.solver.Portfolio import Portfolio\n",
    "from src.solver.TSP_LKH_Solver import TSP_LKH_Solver\n",
    "from src.surrogate.SurrogatePolicy import (\n",
    "    EvaluationSurrogatePolicyA,\n",
    "    EvaluationSurrogatePolicyB,\n",
    "    EvaluationSurrogatePolicyC,\n",
    "    IterationSurrogatePolicyA,\n",
    "    IterationSurrogatePolicyB,\n",
    "    SurrogatePolicy,\n",
    "    TestSurrogatePolicy,\n",
    ")\n",
    "from src.surrogate.wrapper import EmptyWrapper, SurvivalFunctionWrapper"
   ]
  },
  {
   "cell_type": "code",
   "execution_count": null,
   "metadata": {},
   "outputs": [],
   "source": [
    "train_instances = TSP_from_index_file(\n",
    "    filepath=DATA_DIR / \"TSP\" / \"TRAIN\" / \"index.json\",\n",
    "    cut_off_cost=100,\n",
    "    cut_off_time=10,\n",
    "    n=5,\n",
    ")\n",
    "test_instances = TSP_from_index_file(\n",
    "    filepath=DATA_DIR / \"TSP\" / \"TEST\" / \"index.json\",\n",
    "    cut_off_cost=1000,\n",
    "    cut_off_time=100,\n",
    "    n=250,\n",
    ")"
   ]
  },
  {
   "cell_type": "code",
   "execution_count": null,
   "metadata": {},
   "outputs": [],
   "source": [
    "train_instances = set_n22_cut_off_time(train_instances, reference_cut_off_time=10.0)"
   ]
  },
  {
   "cell_type": "code",
   "execution_count": null,
   "metadata": {},
   "outputs": [],
   "source": [
    "surrogate_policy = TestSurrogatePolicy(\n",
    "    first_fit_solver_count=5,\n",
    "    refit_solver_count=2,\n",
    ")\n",
    "\n",
    "surrogate_policy = EvaluationSurrogatePolicyA(\n",
    "    first_fit_solver_count=5,\n",
    "    refit_solver_count=2,\n",
    "    pct_chance=0.5,\n",
    ")\n",
    "\n",
    "# surrogate_policy = EvaluationSurrogatePolicyB(\n",
    "#     first_fit_solver_count=5,\n",
    "#     refit_solver_count=2,\n",
    "#     reevaluate_pct=0.5,\n",
    "# )\n",
    "\n",
    "# surrogate_policy = EvaluationSurrogatePolicyC(\n",
    "#     first_fit_solver_count=5,\n",
    "#     refit_solver_count=2,\n",
    "#     reevaluate_factor=1.0,\n",
    "# )\n",
    "\n",
    "# surrogate_policy = IterationSurrogatePolicyA(\n",
    "#     first_fit_solver_count=5,\n",
    "#     refit_solver_count=2,\n",
    "#     iter_diff=2,\n",
    "# )\n",
    "\n",
    "# surrogate_policy = IterationSurrogatePolicyB(\n",
    "#     first_fit_solver_count=5,\n",
    "#     refit_solver_count=2,\n",
    "# )"
   ]
  },
  {
   "cell_type": "code",
   "execution_count": null,
   "metadata": {},
   "outputs": [],
   "source": [
    "SOLVERS_N = 1\n",
    "ATTEMPTS_N = 1\n",
    "MAX_ITER = 30\n",
    "\n",
    "portfolio = parhydra(\n",
    "    train_instances=train_instances,\n",
    "    surrogate_policy=surrogate_policy,\n",
    "    SOLVERS_N=SOLVERS_N,\n",
    "    ATTEMPTS_N=ATTEMPTS_N,\n",
    "    MAX_ITER=MAX_ITER,\n",
    ")"
   ]
  }
 ],
 "metadata": {
  "kernelspec": {
   "display_name": "SMAC",
   "language": "python",
   "name": "python3"
  },
  "language_info": {
   "codemirror_mode": {
    "name": "ipython",
    "version": 3
   },
   "file_extension": ".py",
   "mimetype": "text/x-python",
   "name": "python",
   "nbconvert_exporter": "python",
   "pygments_lexer": "ipython3",
   "version": "3.10.15"
  }
 },
 "nbformat": 4,
 "nbformat_minor": 2
}
