{
 "cells": [
  {
   "cell_type": "code",
   "execution_count": 1,
   "metadata": {},
   "outputs": [],
   "source": [
    "import os\n",
    "\n",
    "os.environ[\"SEED\"] = \"0\"\n",
    "import numpy as np\n",
    "import pandas as pd\n",
    "from ConfigSpace import Configuration\n",
    "\n",
    "from src.aac.AAC import AAC\n",
    "from src.configuration_space.LKH import CONFIGURATION_SPACE\n",
    "from src.constant import DATA_DIR, SEED\n",
    "from src.database import DB\n",
    "from src.database.queries import *\n",
    "from src.instance.Instance import Instance\n",
    "from src.instance.InstanceList import InstanceList\n",
    "from src.instance.TSP_Instance import TSP_Instance, TSP_train_test_from_index_file\n",
    "from src.solver.Portfolio import Portfolio\n",
    "from src.solver.TSP_LKH_Solver import TSP_LKH_Solver\n",
    "from src.aac.SurrogateEstimator import Estimator1, SurrogateEstimator"
   ]
  },
  {
   "cell_type": "code",
   "execution_count": 2,
   "metadata": {},
   "outputs": [
    {
     "data": {
      "text/plain": [
       "InstanceList(size=3)[TSP_Instance(filepath=TSP/CEPS_benchmark/explosion/21.tsp), TSP_Instance(filepath=TSP/CEPS_benchmark/rotation/34.tsp), TSP_Instance(filepath=TSP/CEPS_benchmark/compression/09.tsp)]"
      ]
     },
     "execution_count": 2,
     "metadata": {},
     "output_type": "execute_result"
    }
   ],
   "source": [
    "train_instances, test_instances = TSP_train_test_from_index_file(\n",
    "    filepath=DATA_DIR / \"TSP\" / \"CEPS_benchmark\" / \"index.json\",\n",
    "    train_size=3,\n",
    ")\n",
    "train_instances"
   ]
  },
  {
   "cell_type": "code",
   "execution_count": 3,
   "metadata": {},
   "outputs": [
    {
     "data": {
      "text/plain": [
       "Portfolio(size=1)[Solver(id=52980316141715150)]"
      ]
     },
     "execution_count": 3,
     "metadata": {},
     "output_type": "execute_result"
    }
   ],
   "source": [
    "portfolio = Portfolio.from_solver_class(TSP_LKH_Solver, size=1)\n",
    "portfolio"
   ]
  },
  {
   "cell_type": "code",
   "execution_count": 4,
   "metadata": {},
   "outputs": [
    {
     "name": "stderr",
     "output_type": "stream",
     "text": [
      "[2024-12-28 23:20:46] DEBUG     AAC(prefix=config, iter=1, configuration_time=[180.00])\n",
      "[2024-12-28 23:20:46] DEBUG     Portfolio.evaluate(config;aac_iter=1)\n",
      "[2024-12-28 23:20:46] DEBUG     Portfolio(size=1)[Solver(id=52980316141715150)]\n",
      "[2024-12-28 23:20:46] DEBUG     solve(prefix=config;aac_iter=1, solver=Solver(id=52980316141715150), instance=TSP_Instance(filepath=TSP/CEPS_benchmark/explosion/21.tsp))\n",
      "[2024-12-28 23:20:58] DEBUG     Solver.Result(prefix=config;aac_iter=1, solver=Solver(id=52980316141715150), instance=TSP_Instance(filepath=TSP/CEPS_benchmark/explosion/21.tsp), cost=100.00, time=10.00, cached=False, surrogate=False, error=False)\n",
      "[2024-12-28 23:20:58] DEBUG     Portfolio.Result(prefix=config;aac_iter=1, cost=100.00, time=[10.00])\n",
      "[2024-12-28 23:20:58] DEBUG     AAC(prefix=config, iter=2, configuration_time=[170.00])\n"
     ]
    },
    {
     "name": "stdout",
     "output_type": "stream",
     "text": [
      "0.05555555555555558 1\n"
     ]
    },
    {
     "name": "stderr",
     "output_type": "stream",
     "text": [
      "[2024-12-28 23:20:59] DEBUG     Portfolio.evaluate(config;aac_iter=2)\n",
      "[2024-12-28 23:20:59] DEBUG     Portfolio(size=1)[Solver(id=287011037061967493)]\n",
      "[2024-12-28 23:20:59] DEBUG     solve(prefix=config;aac_iter=2, solver=Solver(id=287011037061967493), instance=TSP_Instance(filepath=TSP/CEPS_benchmark/explosion/21.tsp))\n",
      "[2024-12-28 23:21:11] DEBUG     Solver.Result(prefix=config;aac_iter=2, solver=Solver(id=287011037061967493), instance=TSP_Instance(filepath=TSP/CEPS_benchmark/explosion/21.tsp), cost=100.00, time=10.00, cached=False, surrogate=False, error=False)\n",
      "[2024-12-28 23:21:11] DEBUG     Portfolio.Result(prefix=config;aac_iter=2, cost=100.00, time=[10.00])\n",
      "[2024-12-28 23:21:11] DEBUG     AAC(prefix=config, iter=3, configuration_time=[160.00])\n",
      "[2024-12-28 23:21:11] DEBUG     Portfolio.evaluate(config;aac_iter=3)\n",
      "[2024-12-28 23:21:11] DEBUG     Portfolio(size=1)[Solver(id=176228367859327934)]\n",
      "[2024-12-28 23:21:11] DEBUG     solve(prefix=config;aac_iter=3, solver=Solver(id=176228367859327934), instance=TSP_Instance(filepath=TSP/CEPS_benchmark/explosion/21.tsp))\n"
     ]
    },
    {
     "name": "stdout",
     "output_type": "stream",
     "text": [
      "0.11111111111111116 1\n"
     ]
    },
    {
     "name": "stderr",
     "output_type": "stream",
     "text": [
      "[2024-12-28 23:21:23] DEBUG     Solver.Result(prefix=config;aac_iter=3, solver=Solver(id=176228367859327934), instance=TSP_Instance(filepath=TSP/CEPS_benchmark/explosion/21.tsp), cost=100.00, time=10.00, cached=False, surrogate=False, error=False)\n",
      "[2024-12-28 23:21:23] DEBUG     Portfolio.Result(prefix=config;aac_iter=3, cost=100.00, time=[10.00])\n",
      "[2024-12-28 23:21:23] DEBUG     AAC(prefix=config, iter=4, configuration_time=[150.00])\n",
      "[2024-12-28 23:21:23] DEBUG     Portfolio.evaluate(config;aac_iter=4)\n",
      "[2024-12-28 23:21:23] DEBUG     Portfolio(size=1)[Solver(id=2041120758543581287)]\n",
      "[2024-12-28 23:21:23] DEBUG     solve(prefix=config;aac_iter=4, solver=Solver(id=2041120758543581287), instance=TSP_Instance(filepath=TSP/CEPS_benchmark/explosion/21.tsp))\n"
     ]
    },
    {
     "name": "stdout",
     "output_type": "stream",
     "text": [
      "0.16666666666666663 1\n"
     ]
    },
    {
     "name": "stderr",
     "output_type": "stream",
     "text": [
      "[2024-12-28 23:21:36] DEBUG     Solver.Result(prefix=config;aac_iter=4, solver=Solver(id=2041120758543581287), instance=TSP_Instance(filepath=TSP/CEPS_benchmark/explosion/21.tsp), cost=100.00, time=10.00, cached=False, surrogate=False, error=False)\n",
      "[2024-12-28 23:21:36] DEBUG     Portfolio.Result(prefix=config;aac_iter=4, cost=100.00, time=[10.00])\n",
      "[2024-12-28 23:21:36] DEBUG     InstanceList(size=2)[TSP_Instance(filepath=TSP/CEPS_benchmark/explosion/21.tsp), TSP_Instance(filepath=TSP/CEPS_benchmark/rotation/34.tsp)]\n",
      "[2024-12-28 23:21:36] DEBUG     AAC(prefix=config, iter=5, configuration_time=[140.00])\n",
      "[2024-12-28 23:21:36] DEBUG     Portfolio.evaluate(config;aac_iter=5)\n",
      "[2024-12-28 23:21:36] DEBUG     Portfolio(size=1)[Solver(id=1056464823932360013)]\n",
      "[2024-12-28 23:21:36] DEBUG     solve(prefix=config;aac_iter=5, solver=Solver(id=1056464823932360013), instance=TSP_Instance(filepath=TSP/CEPS_benchmark/explosion/21.tsp))\n",
      "[2024-12-28 23:21:36] DEBUG     solve(prefix=config;aac_iter=5, solver=Solver(id=1056464823932360013), instance=TSP_Instance(filepath=TSP/CEPS_benchmark/rotation/34.tsp))\n"
     ]
    },
    {
     "name": "stdout",
     "output_type": "stream",
     "text": [
      "0.2222222222222222 2\n"
     ]
    },
    {
     "name": "stderr",
     "output_type": "stream",
     "text": [
      "[2024-12-28 23:21:47] DEBUG     Solver.Result(prefix=config;aac_iter=5, solver=Solver(id=1056464823932360013), instance=TSP_Instance(filepath=TSP/CEPS_benchmark/explosion/21.tsp), cost=100.00, time=10.00, cached=False, surrogate=False, error=False)\n",
      "[2024-12-28 23:21:47] DEBUG     Solver.Result(prefix=config;aac_iter=5, solver=Solver(id=1056464823932360013), instance=TSP_Instance(filepath=TSP/CEPS_benchmark/rotation/34.tsp), cost=100.00, time=10.00, cached=False, surrogate=False, error=False)\n",
      "[2024-12-28 23:21:47] DEBUG     Portfolio.Result(prefix=config;aac_iter=5, cost=100.00, time=[20.00])\n",
      "[2024-12-28 23:21:47] DEBUG     AAC(prefix=config, iter=6, configuration_time=[120.00])\n",
      "[2024-12-28 23:21:47] DEBUG     Portfolio.evaluate(config;aac_iter=6)\n",
      "[2024-12-28 23:21:47] DEBUG     Portfolio(size=1)[Solver(id=1618467634991678120)]\n",
      "[2024-12-28 23:21:47] DEBUG     solve(prefix=config;aac_iter=6, solver=Solver(id=1618467634991678120), instance=TSP_Instance(filepath=TSP/CEPS_benchmark/explosion/21.tsp))\n",
      "[2024-12-28 23:21:47] DEBUG     solve(prefix=config;aac_iter=6, solver=Solver(id=1618467634991678120), instance=TSP_Instance(filepath=TSP/CEPS_benchmark/rotation/34.tsp))\n"
     ]
    },
    {
     "name": "stdout",
     "output_type": "stream",
     "text": [
      "0.33333333333333337 2\n"
     ]
    },
    {
     "name": "stderr",
     "output_type": "stream",
     "text": [
      "[2024-12-28 23:21:59] DEBUG     Solver.Result(prefix=config;aac_iter=6, solver=Solver(id=1618467634991678120), instance=TSP_Instance(filepath=TSP/CEPS_benchmark/rotation/34.tsp), cost=100.00, time=10.00, cached=False, surrogate=False, error=False)\n",
      "[2024-12-28 23:21:59] DEBUG     Solver.Result(prefix=config;aac_iter=6, solver=Solver(id=1618467634991678120), instance=TSP_Instance(filepath=TSP/CEPS_benchmark/explosion/21.tsp), cost=100.00, time=10.00, cached=False, surrogate=False, error=False)\n",
      "[2024-12-28 23:21:59] DEBUG     Portfolio.Result(prefix=config;aac_iter=6, cost=100.00, time=[20.00])\n",
      "[2024-12-28 23:21:59] DEBUG     AAC(prefix=config, iter=7, configuration_time=[100.00])\n",
      "[2024-12-28 23:21:59] DEBUG     Portfolio.evaluate(config;aac_iter=7)\n",
      "[2024-12-28 23:21:59] DEBUG     Portfolio(size=1)[Solver(id=885593931183508669)]\n",
      "[2024-12-28 23:21:59] DEBUG     solve(prefix=config;aac_iter=7, solver=Solver(id=885593931183508669), instance=TSP_Instance(filepath=TSP/CEPS_benchmark/explosion/21.tsp))\n",
      "[2024-12-28 23:21:59] DEBUG     solve(prefix=config;aac_iter=7, solver=Solver(id=885593931183508669), instance=TSP_Instance(filepath=TSP/CEPS_benchmark/rotation/34.tsp))\n"
     ]
    },
    {
     "name": "stdout",
     "output_type": "stream",
     "text": [
      "0.4444444444444444 2\n"
     ]
    },
    {
     "name": "stderr",
     "output_type": "stream",
     "text": [
      "[2024-12-28 23:22:11] DEBUG     Solver.Result(prefix=config;aac_iter=7, solver=Solver(id=885593931183508669), instance=TSP_Instance(filepath=TSP/CEPS_benchmark/rotation/34.tsp), cost=100.00, time=10.00, cached=False, surrogate=False, error=False)\n",
      "[2024-12-28 23:22:11] DEBUG     Solver.Result(prefix=config;aac_iter=7, solver=Solver(id=885593931183508669), instance=TSP_Instance(filepath=TSP/CEPS_benchmark/explosion/21.tsp), cost=100.00, time=10.00, cached=False, surrogate=False, error=False)\n",
      "[2024-12-28 23:22:11] DEBUG     Portfolio.Result(prefix=config;aac_iter=7, cost=100.00, time=[20.00])\n",
      "[2024-12-28 23:22:11] DEBUG     InstanceList(size=3)[TSP_Instance(filepath=TSP/CEPS_benchmark/explosion/21.tsp), TSP_Instance(filepath=TSP/CEPS_benchmark/rotation/34.tsp), TSP_Instance(filepath=TSP/CEPS_benchmark/compression/09.tsp)]\n",
      "[2024-12-28 23:22:11] DEBUG     AAC(prefix=config, iter=8, configuration_time=[80.00])\n",
      "[2024-12-28 23:22:11] DEBUG     Portfolio.evaluate(config;aac_iter=8)\n",
      "[2024-12-28 23:22:11] DEBUG     Portfolio(size=1)[Solver(id=2037795053511545649)]\n",
      "[2024-12-28 23:22:11] DEBUG     solve(prefix=config;aac_iter=8, solver=Solver(id=2037795053511545649), instance=TSP_Instance(filepath=TSP/CEPS_benchmark/explosion/21.tsp))\n",
      "[2024-12-28 23:22:11] DEBUG     solve(prefix=config;aac_iter=8, solver=Solver(id=2037795053511545649), instance=TSP_Instance(filepath=TSP/CEPS_benchmark/rotation/34.tsp))\n",
      "[2024-12-28 23:22:11] DEBUG     solve(prefix=config;aac_iter=8, solver=Solver(id=2037795053511545649), instance=TSP_Instance(filepath=TSP/CEPS_benchmark/compression/09.tsp))\n"
     ]
    },
    {
     "name": "stdout",
     "output_type": "stream",
     "text": [
      "0.5555555555555556 3\n"
     ]
    },
    {
     "name": "stderr",
     "output_type": "stream",
     "text": [
      "[2024-12-28 23:22:23] DEBUG     Solver.Result(prefix=config;aac_iter=8, solver=Solver(id=2037795053511545649), instance=TSP_Instance(filepath=TSP/CEPS_benchmark/explosion/21.tsp), cost=100.00, time=10.00, cached=False, surrogate=False, error=False)\n",
      "[2024-12-28 23:22:23] DEBUG     Solver.Result(prefix=config;aac_iter=8, solver=Solver(id=2037795053511545649), instance=TSP_Instance(filepath=TSP/CEPS_benchmark/rotation/34.tsp), cost=100.00, time=10.00, cached=False, surrogate=False, error=False)\n",
      "[2024-12-28 23:22:23] DEBUG     Solver.Result(prefix=config;aac_iter=8, solver=Solver(id=2037795053511545649), instance=TSP_Instance(filepath=TSP/CEPS_benchmark/compression/09.tsp), cost=100.00, time=10.00, cached=False, surrogate=False, error=False)\n",
      "[2024-12-28 23:22:23] DEBUG     Portfolio.Result(prefix=config;aac_iter=8, cost=100.00, time=[30.00])\n",
      "[2024-12-28 23:22:23] DEBUG     AAC(prefix=config, iter=9, configuration_time=[50.00])\n",
      "[2024-12-28 23:22:23] DEBUG     Portfolio.evaluate(config;aac_iter=9)\n",
      "[2024-12-28 23:22:23] DEBUG     Portfolio(size=1)[Solver(id=1711584254718207942)]\n",
      "[2024-12-28 23:22:23] DEBUG     solve(prefix=config;aac_iter=9, solver=Solver(id=1711584254718207942), instance=TSP_Instance(filepath=TSP/CEPS_benchmark/explosion/21.tsp))\n",
      "[2024-12-28 23:22:23] DEBUG     solve(prefix=config;aac_iter=9, solver=Solver(id=1711584254718207942), instance=TSP_Instance(filepath=TSP/CEPS_benchmark/rotation/34.tsp))\n",
      "[2024-12-28 23:22:23] DEBUG     solve(prefix=config;aac_iter=9, solver=Solver(id=1711584254718207942), instance=TSP_Instance(filepath=TSP/CEPS_benchmark/compression/09.tsp))\n"
     ]
    },
    {
     "name": "stdout",
     "output_type": "stream",
     "text": [
      "0.7222222222222222 3\n"
     ]
    },
    {
     "name": "stderr",
     "output_type": "stream",
     "text": [
      "[2024-12-28 23:22:26] DEBUG     Solver.Result(prefix=config;aac_iter=9, solver=Solver(id=1711584254718207942), instance=TSP_Instance(filepath=TSP/CEPS_benchmark/compression/09.tsp), cost=0.68, time=0.68, cached=False, surrogate=False, error=False)\n",
      "[2024-12-28 23:22:32] DEBUG     Solver.Result(prefix=config;aac_iter=9, solver=Solver(id=1711584254718207942), instance=TSP_Instance(filepath=TSP/CEPS_benchmark/rotation/34.tsp), cost=7.37, time=7.37, cached=False, surrogate=False, error=False)\n",
      "[2024-12-28 23:22:35] DEBUG     Solver.Result(prefix=config;aac_iter=9, solver=Solver(id=1711584254718207942), instance=TSP_Instance(filepath=TSP/CEPS_benchmark/explosion/21.tsp), cost=100.00, time=10.00, cached=False, surrogate=False, error=False)\n",
      "[2024-12-28 23:22:35] DEBUG     Portfolio.Result(prefix=config;aac_iter=9, cost=36.02, time=[18.05])\n",
      "[2024-12-28 23:22:35] DEBUG     AAC(prefix=config, iter=10, configuration_time=[31.95])\n"
     ]
    },
    {
     "name": "stdout",
     "output_type": "stream",
     "text": [
      "0.8225 3\n"
     ]
    },
    {
     "name": "stderr",
     "output_type": "stream",
     "text": [
      "[2024-12-28 23:22:36] DEBUG     Portfolio.evaluate(config;aac_iter=10)\n",
      "[2024-12-28 23:22:36] DEBUG     Portfolio(size=1)[Solver(id=2146425355358610264)]\n",
      "[2024-12-28 23:22:36] DEBUG     solve(prefix=config;aac_iter=10, solver=Solver(id=2146425355358610264), instance=TSP_Instance(filepath=TSP/CEPS_benchmark/explosion/21.tsp))\n",
      "[2024-12-28 23:22:36] DEBUG     solve(prefix=config;aac_iter=10, solver=Solver(id=2146425355358610264), instance=TSP_Instance(filepath=TSP/CEPS_benchmark/rotation/34.tsp))\n",
      "[2024-12-28 23:22:36] DEBUG     solve(prefix=config;aac_iter=10, solver=Solver(id=2146425355358610264), instance=TSP_Instance(filepath=TSP/CEPS_benchmark/compression/09.tsp))\n",
      "[2024-12-28 23:22:48] DEBUG     Solver.Result(prefix=config;aac_iter=10, solver=Solver(id=2146425355358610264), instance=TSP_Instance(filepath=TSP/CEPS_benchmark/explosion/21.tsp), cost=100.00, time=10.00, cached=False, surrogate=False, error=False)\n",
      "[2024-12-28 23:22:48] DEBUG     Solver.Result(prefix=config;aac_iter=10, solver=Solver(id=2146425355358610264), instance=TSP_Instance(filepath=TSP/CEPS_benchmark/compression/09.tsp), cost=100.00, time=10.00, cached=False, surrogate=False, error=False)\n",
      "[2024-12-28 23:22:48] DEBUG     Solver.Result(prefix=config;aac_iter=10, solver=Solver(id=2146425355358610264), instance=TSP_Instance(filepath=TSP/CEPS_benchmark/rotation/34.tsp), cost=100.00, time=10.00, cached=False, surrogate=False, error=False)\n",
      "[2024-12-28 23:22:48] DEBUG     Portfolio.Result(prefix=config;aac_iter=10, cost=100.00, time=[30.00])\n",
      "[2024-12-28 23:22:48] DEBUG     AAC(prefix=config, iter=11, configuration_time=[1.95])\n",
      "[2024-12-28 23:22:48] DEBUG     Portfolio.evaluate(config;aac_iter=11)\n",
      "[2024-12-28 23:22:48] DEBUG     Portfolio(size=1)[Solver(id=1403657748688295992)]\n",
      "[2024-12-28 23:22:48] DEBUG     solve(prefix=config;aac_iter=11, solver=Solver(id=1403657748688295992), instance=TSP_Instance(filepath=TSP/CEPS_benchmark/explosion/21.tsp))\n",
      "[2024-12-28 23:22:48] DEBUG     solve(prefix=config;aac_iter=11, solver=Solver(id=1403657748688295992), instance=TSP_Instance(filepath=TSP/CEPS_benchmark/rotation/34.tsp))\n",
      "[2024-12-28 23:22:48] DEBUG     solve(prefix=config;aac_iter=11, solver=Solver(id=1403657748688295992), instance=TSP_Instance(filepath=TSP/CEPS_benchmark/compression/09.tsp))\n"
     ]
    },
    {
     "name": "stdout",
     "output_type": "stream",
     "text": [
      "0.9891666666666666 3\n"
     ]
    },
    {
     "name": "stderr",
     "output_type": "stream",
     "text": [
      "[2024-12-28 23:23:00] DEBUG     Solver.Result(prefix=config;aac_iter=11, solver=Solver(id=1403657748688295992), instance=TSP_Instance(filepath=TSP/CEPS_benchmark/explosion/21.tsp), cost=100.00, time=10.00, cached=False, surrogate=False, error=False)\n",
      "[2024-12-28 23:23:00] DEBUG     Solver.Result(prefix=config;aac_iter=11, solver=Solver(id=1403657748688295992), instance=TSP_Instance(filepath=TSP/CEPS_benchmark/rotation/34.tsp), cost=100.00, time=10.00, cached=False, surrogate=False, error=False)\n",
      "[2024-12-28 23:23:00] DEBUG     Solver.Result(prefix=config;aac_iter=11, solver=Solver(id=1403657748688295992), instance=TSP_Instance(filepath=TSP/CEPS_benchmark/compression/09.tsp), cost=100.00, time=10.00, cached=False, surrogate=False, error=False)\n",
      "[2024-12-28 23:23:00] DEBUG     Portfolio.Result(prefix=config;aac_iter=11, cost=100.00, time=[30.00])\n",
      "[2024-12-28 23:23:00] DEBUG     AAC.Results(prefix=config, portfolio=Portfolio(size=1)[Solver(id=1711584254718207942)])\n"
     ]
    },
    {
     "name": "stdout",
     "output_type": "stream",
     "text": [
      "1.1558333333333333 3\n"
     ]
    }
   ],
   "source": [
    "def get_bin_index(bin_edges, x):\n",
    "    for i in range(len(bin_edges) - 1):\n",
    "        if bin_edges[i] <= x < bin_edges[i + 1]:\n",
    "            return i + 1\n",
    "    return i + 1\n",
    "\n",
    "actual_train_instances = train_instances[:1]\n",
    "\n",
    "aac = AAC(\n",
    "    portfolio=portfolio,\n",
    "    instance_list=actual_train_instances,\n",
    "    prefix=\"config\",\n",
    "    t_c=180,\n",
    "    calculate_features=False,\n",
    "    estimator=None,\n",
    ")\n",
    "\n",
    "# bin_edges = np.cumsum(np.ones(train_instances.size) / train_instances.size)\n",
    "# bin_edges = np.insert(bin_edges, 0, 0)\n",
    "# bin_edges\n",
    "\n",
    "bin_edges = np.full(train_instances.size, 1 / sum(range(1, train_instances.size + 1)))\n",
    "bin_edges = np.cumsum(bin_edges)\n",
    "bin_edges = np.insert(bin_edges, 0, 0)\n",
    "bin_edges = np.cumsum(bin_edges)\n",
    "bin_edges\n",
    "\n",
    "for _ in aac.configure_iter():\n",
    "    progress = aac.get_progress()\n",
    "    new_size = get_bin_index(bin_edges, progress)\n",
    "    if new_size != actual_train_instances.size:\n",
    "        actual_train_instances = train_instances[:new_size]\n",
    "        aac.update(instance_list=actual_train_instances)\n",
    "        actual_train_instances.log()"
   ]
  },
  {
   "cell_type": "code",
   "execution_count": null,
   "metadata": {},
   "outputs": [
    {
     "name": "stderr",
     "output_type": "stream",
     "text": [
      "[2024-12-28 23:20:46] DEBUG     AAC(prefix=config, iter=1, configuration_time=[180.00])\n",
      "[2024-12-28 23:20:46] DEBUG     Portfolio.evaluate(config;aac_iter=1)\n",
      "[2024-12-28 23:20:46] DEBUG     Portfolio(size=1)[Solver(id=52980316141715150)]\n",
      "[2024-12-28 23:20:46] DEBUG     solve(prefix=config;aac_iter=1, solver=Solver(id=52980316141715150), instance=TSP_Instance(filepath=TSP/CEPS_benchmark/explosion/21.tsp))\n",
      "[2024-12-28 23:20:58] DEBUG     Solver.Result(prefix=config;aac_iter=1, solver=Solver(id=52980316141715150), instance=TSP_Instance(filepath=TSP/CEPS_benchmark/explosion/21.tsp), cost=100.00, time=10.00, cached=False, surrogate=False, error=False)\n",
      "[2024-12-28 23:20:58] DEBUG     Portfolio.Result(prefix=config;aac_iter=1, cost=100.00, time=[10.00])\n",
      "[2024-12-28 23:20:58] DEBUG     AAC(prefix=config, iter=2, configuration_time=[170.00])\n"
     ]
    },
    {
     "name": "stdout",
     "output_type": "stream",
     "text": [
      "0.05555555555555558 1\n"
     ]
    },
    {
     "name": "stderr",
     "output_type": "stream",
     "text": [
      "[2024-12-28 23:20:59] DEBUG     Portfolio.evaluate(config;aac_iter=2)\n",
      "[2024-12-28 23:20:59] DEBUG     Portfolio(size=1)[Solver(id=287011037061967493)]\n",
      "[2024-12-28 23:20:59] DEBUG     solve(prefix=config;aac_iter=2, solver=Solver(id=287011037061967493), instance=TSP_Instance(filepath=TSP/CEPS_benchmark/explosion/21.tsp))\n",
      "[2024-12-28 23:21:11] DEBUG     Solver.Result(prefix=config;aac_iter=2, solver=Solver(id=287011037061967493), instance=TSP_Instance(filepath=TSP/CEPS_benchmark/explosion/21.tsp), cost=100.00, time=10.00, cached=False, surrogate=False, error=False)\n",
      "[2024-12-28 23:21:11] DEBUG     Portfolio.Result(prefix=config;aac_iter=2, cost=100.00, time=[10.00])\n",
      "[2024-12-28 23:21:11] DEBUG     AAC(prefix=config, iter=3, configuration_time=[160.00])\n",
      "[2024-12-28 23:21:11] DEBUG     Portfolio.evaluate(config;aac_iter=3)\n",
      "[2024-12-28 23:21:11] DEBUG     Portfolio(size=1)[Solver(id=176228367859327934)]\n",
      "[2024-12-28 23:21:11] DEBUG     solve(prefix=config;aac_iter=3, solver=Solver(id=176228367859327934), instance=TSP_Instance(filepath=TSP/CEPS_benchmark/explosion/21.tsp))\n"
     ]
    },
    {
     "name": "stdout",
     "output_type": "stream",
     "text": [
      "0.11111111111111116 1\n"
     ]
    },
    {
     "name": "stderr",
     "output_type": "stream",
     "text": [
      "[2024-12-28 23:21:23] DEBUG     Solver.Result(prefix=config;aac_iter=3, solver=Solver(id=176228367859327934), instance=TSP_Instance(filepath=TSP/CEPS_benchmark/explosion/21.tsp), cost=100.00, time=10.00, cached=False, surrogate=False, error=False)\n",
      "[2024-12-28 23:21:23] DEBUG     Portfolio.Result(prefix=config;aac_iter=3, cost=100.00, time=[10.00])\n",
      "[2024-12-28 23:21:23] DEBUG     AAC(prefix=config, iter=4, configuration_time=[150.00])\n",
      "[2024-12-28 23:21:23] DEBUG     Portfolio.evaluate(config;aac_iter=4)\n",
      "[2024-12-28 23:21:23] DEBUG     Portfolio(size=1)[Solver(id=2041120758543581287)]\n",
      "[2024-12-28 23:21:23] DEBUG     solve(prefix=config;aac_iter=4, solver=Solver(id=2041120758543581287), instance=TSP_Instance(filepath=TSP/CEPS_benchmark/explosion/21.tsp))\n"
     ]
    },
    {
     "name": "stdout",
     "output_type": "stream",
     "text": [
      "0.16666666666666663 1\n"
     ]
    },
    {
     "name": "stderr",
     "output_type": "stream",
     "text": [
      "[2024-12-28 23:21:36] DEBUG     Solver.Result(prefix=config;aac_iter=4, solver=Solver(id=2041120758543581287), instance=TSP_Instance(filepath=TSP/CEPS_benchmark/explosion/21.tsp), cost=100.00, time=10.00, cached=False, surrogate=False, error=False)\n",
      "[2024-12-28 23:21:36] DEBUG     Portfolio.Result(prefix=config;aac_iter=4, cost=100.00, time=[10.00])\n",
      "[2024-12-28 23:21:36] DEBUG     InstanceList(size=2)[TSP_Instance(filepath=TSP/CEPS_benchmark/explosion/21.tsp), TSP_Instance(filepath=TSP/CEPS_benchmark/rotation/34.tsp)]\n",
      "[2024-12-28 23:21:36] DEBUG     AAC(prefix=config, iter=5, configuration_time=[140.00])\n",
      "[2024-12-28 23:21:36] DEBUG     Portfolio.evaluate(config;aac_iter=5)\n",
      "[2024-12-28 23:21:36] DEBUG     Portfolio(size=1)[Solver(id=1056464823932360013)]\n",
      "[2024-12-28 23:21:36] DEBUG     solve(prefix=config;aac_iter=5, solver=Solver(id=1056464823932360013), instance=TSP_Instance(filepath=TSP/CEPS_benchmark/explosion/21.tsp))\n",
      "[2024-12-28 23:21:36] DEBUG     solve(prefix=config;aac_iter=5, solver=Solver(id=1056464823932360013), instance=TSP_Instance(filepath=TSP/CEPS_benchmark/rotation/34.tsp))\n"
     ]
    },
    {
     "name": "stdout",
     "output_type": "stream",
     "text": [
      "0.2222222222222222 2\n"
     ]
    },
    {
     "name": "stderr",
     "output_type": "stream",
     "text": [
      "[2024-12-28 23:21:47] DEBUG     Solver.Result(prefix=config;aac_iter=5, solver=Solver(id=1056464823932360013), instance=TSP_Instance(filepath=TSP/CEPS_benchmark/explosion/21.tsp), cost=100.00, time=10.00, cached=False, surrogate=False, error=False)\n",
      "[2024-12-28 23:21:47] DEBUG     Solver.Result(prefix=config;aac_iter=5, solver=Solver(id=1056464823932360013), instance=TSP_Instance(filepath=TSP/CEPS_benchmark/rotation/34.tsp), cost=100.00, time=10.00, cached=False, surrogate=False, error=False)\n",
      "[2024-12-28 23:21:47] DEBUG     Portfolio.Result(prefix=config;aac_iter=5, cost=100.00, time=[20.00])\n",
      "[2024-12-28 23:21:47] DEBUG     AAC(prefix=config, iter=6, configuration_time=[120.00])\n",
      "[2024-12-28 23:21:47] DEBUG     Portfolio.evaluate(config;aac_iter=6)\n",
      "[2024-12-28 23:21:47] DEBUG     Portfolio(size=1)[Solver(id=1618467634991678120)]\n",
      "[2024-12-28 23:21:47] DEBUG     solve(prefix=config;aac_iter=6, solver=Solver(id=1618467634991678120), instance=TSP_Instance(filepath=TSP/CEPS_benchmark/explosion/21.tsp))\n",
      "[2024-12-28 23:21:47] DEBUG     solve(prefix=config;aac_iter=6, solver=Solver(id=1618467634991678120), instance=TSP_Instance(filepath=TSP/CEPS_benchmark/rotation/34.tsp))\n"
     ]
    },
    {
     "name": "stdout",
     "output_type": "stream",
     "text": [
      "0.33333333333333337 2\n"
     ]
    },
    {
     "name": "stderr",
     "output_type": "stream",
     "text": [
      "[2024-12-28 23:21:59] DEBUG     Solver.Result(prefix=config;aac_iter=6, solver=Solver(id=1618467634991678120), instance=TSP_Instance(filepath=TSP/CEPS_benchmark/rotation/34.tsp), cost=100.00, time=10.00, cached=False, surrogate=False, error=False)\n",
      "[2024-12-28 23:21:59] DEBUG     Solver.Result(prefix=config;aac_iter=6, solver=Solver(id=1618467634991678120), instance=TSP_Instance(filepath=TSP/CEPS_benchmark/explosion/21.tsp), cost=100.00, time=10.00, cached=False, surrogate=False, error=False)\n",
      "[2024-12-28 23:21:59] DEBUG     Portfolio.Result(prefix=config;aac_iter=6, cost=100.00, time=[20.00])\n",
      "[2024-12-28 23:21:59] DEBUG     AAC(prefix=config, iter=7, configuration_time=[100.00])\n",
      "[2024-12-28 23:21:59] DEBUG     Portfolio.evaluate(config;aac_iter=7)\n",
      "[2024-12-28 23:21:59] DEBUG     Portfolio(size=1)[Solver(id=885593931183508669)]\n",
      "[2024-12-28 23:21:59] DEBUG     solve(prefix=config;aac_iter=7, solver=Solver(id=885593931183508669), instance=TSP_Instance(filepath=TSP/CEPS_benchmark/explosion/21.tsp))\n",
      "[2024-12-28 23:21:59] DEBUG     solve(prefix=config;aac_iter=7, solver=Solver(id=885593931183508669), instance=TSP_Instance(filepath=TSP/CEPS_benchmark/rotation/34.tsp))\n"
     ]
    },
    {
     "name": "stdout",
     "output_type": "stream",
     "text": [
      "0.4444444444444444 2\n"
     ]
    },
    {
     "name": "stderr",
     "output_type": "stream",
     "text": [
      "[2024-12-28 23:22:11] DEBUG     Solver.Result(prefix=config;aac_iter=7, solver=Solver(id=885593931183508669), instance=TSP_Instance(filepath=TSP/CEPS_benchmark/rotation/34.tsp), cost=100.00, time=10.00, cached=False, surrogate=False, error=False)\n",
      "[2024-12-28 23:22:11] DEBUG     Solver.Result(prefix=config;aac_iter=7, solver=Solver(id=885593931183508669), instance=TSP_Instance(filepath=TSP/CEPS_benchmark/explosion/21.tsp), cost=100.00, time=10.00, cached=False, surrogate=False, error=False)\n",
      "[2024-12-28 23:22:11] DEBUG     Portfolio.Result(prefix=config;aac_iter=7, cost=100.00, time=[20.00])\n",
      "[2024-12-28 23:22:11] DEBUG     InstanceList(size=3)[TSP_Instance(filepath=TSP/CEPS_benchmark/explosion/21.tsp), TSP_Instance(filepath=TSP/CEPS_benchmark/rotation/34.tsp), TSP_Instance(filepath=TSP/CEPS_benchmark/compression/09.tsp)]\n",
      "[2024-12-28 23:22:11] DEBUG     AAC(prefix=config, iter=8, configuration_time=[80.00])\n",
      "[2024-12-28 23:22:11] DEBUG     Portfolio.evaluate(config;aac_iter=8)\n",
      "[2024-12-28 23:22:11] DEBUG     Portfolio(size=1)[Solver(id=2037795053511545649)]\n",
      "[2024-12-28 23:22:11] DEBUG     solve(prefix=config;aac_iter=8, solver=Solver(id=2037795053511545649), instance=TSP_Instance(filepath=TSP/CEPS_benchmark/explosion/21.tsp))\n",
      "[2024-12-28 23:22:11] DEBUG     solve(prefix=config;aac_iter=8, solver=Solver(id=2037795053511545649), instance=TSP_Instance(filepath=TSP/CEPS_benchmark/rotation/34.tsp))\n",
      "[2024-12-28 23:22:11] DEBUG     solve(prefix=config;aac_iter=8, solver=Solver(id=2037795053511545649), instance=TSP_Instance(filepath=TSP/CEPS_benchmark/compression/09.tsp))\n"
     ]
    },
    {
     "name": "stdout",
     "output_type": "stream",
     "text": [
      "0.5555555555555556 3\n"
     ]
    },
    {
     "name": "stderr",
     "output_type": "stream",
     "text": [
      "[2024-12-28 23:22:23] DEBUG     Solver.Result(prefix=config;aac_iter=8, solver=Solver(id=2037795053511545649), instance=TSP_Instance(filepath=TSP/CEPS_benchmark/explosion/21.tsp), cost=100.00, time=10.00, cached=False, surrogate=False, error=False)\n",
      "[2024-12-28 23:22:23] DEBUG     Solver.Result(prefix=config;aac_iter=8, solver=Solver(id=2037795053511545649), instance=TSP_Instance(filepath=TSP/CEPS_benchmark/rotation/34.tsp), cost=100.00, time=10.00, cached=False, surrogate=False, error=False)\n",
      "[2024-12-28 23:22:23] DEBUG     Solver.Result(prefix=config;aac_iter=8, solver=Solver(id=2037795053511545649), instance=TSP_Instance(filepath=TSP/CEPS_benchmark/compression/09.tsp), cost=100.00, time=10.00, cached=False, surrogate=False, error=False)\n",
      "[2024-12-28 23:22:23] DEBUG     Portfolio.Result(prefix=config;aac_iter=8, cost=100.00, time=[30.00])\n",
      "[2024-12-28 23:22:23] DEBUG     AAC(prefix=config, iter=9, configuration_time=[50.00])\n",
      "[2024-12-28 23:22:23] DEBUG     Portfolio.evaluate(config;aac_iter=9)\n",
      "[2024-12-28 23:22:23] DEBUG     Portfolio(size=1)[Solver(id=1711584254718207942)]\n",
      "[2024-12-28 23:22:23] DEBUG     solve(prefix=config;aac_iter=9, solver=Solver(id=1711584254718207942), instance=TSP_Instance(filepath=TSP/CEPS_benchmark/explosion/21.tsp))\n",
      "[2024-12-28 23:22:23] DEBUG     solve(prefix=config;aac_iter=9, solver=Solver(id=1711584254718207942), instance=TSP_Instance(filepath=TSP/CEPS_benchmark/rotation/34.tsp))\n",
      "[2024-12-28 23:22:23] DEBUG     solve(prefix=config;aac_iter=9, solver=Solver(id=1711584254718207942), instance=TSP_Instance(filepath=TSP/CEPS_benchmark/compression/09.tsp))\n"
     ]
    },
    {
     "name": "stdout",
     "output_type": "stream",
     "text": [
      "0.7222222222222222 3\n"
     ]
    },
    {
     "name": "stderr",
     "output_type": "stream",
     "text": [
      "[2024-12-28 23:22:26] DEBUG     Solver.Result(prefix=config;aac_iter=9, solver=Solver(id=1711584254718207942), instance=TSP_Instance(filepath=TSP/CEPS_benchmark/compression/09.tsp), cost=0.68, time=0.68, cached=False, surrogate=False, error=False)\n",
      "[2024-12-28 23:22:32] DEBUG     Solver.Result(prefix=config;aac_iter=9, solver=Solver(id=1711584254718207942), instance=TSP_Instance(filepath=TSP/CEPS_benchmark/rotation/34.tsp), cost=7.37, time=7.37, cached=False, surrogate=False, error=False)\n",
      "[2024-12-28 23:22:35] DEBUG     Solver.Result(prefix=config;aac_iter=9, solver=Solver(id=1711584254718207942), instance=TSP_Instance(filepath=TSP/CEPS_benchmark/explosion/21.tsp), cost=100.00, time=10.00, cached=False, surrogate=False, error=False)\n",
      "[2024-12-28 23:22:35] DEBUG     Portfolio.Result(prefix=config;aac_iter=9, cost=36.02, time=[18.05])\n",
      "[2024-12-28 23:22:35] DEBUG     AAC(prefix=config, iter=10, configuration_time=[31.95])\n"
     ]
    },
    {
     "name": "stdout",
     "output_type": "stream",
     "text": [
      "0.8225 3\n"
     ]
    },
    {
     "name": "stderr",
     "output_type": "stream",
     "text": [
      "[2024-12-28 23:22:36] DEBUG     Portfolio.evaluate(config;aac_iter=10)\n",
      "[2024-12-28 23:22:36] DEBUG     Portfolio(size=1)[Solver(id=2146425355358610264)]\n",
      "[2024-12-28 23:22:36] DEBUG     solve(prefix=config;aac_iter=10, solver=Solver(id=2146425355358610264), instance=TSP_Instance(filepath=TSP/CEPS_benchmark/explosion/21.tsp))\n",
      "[2024-12-28 23:22:36] DEBUG     solve(prefix=config;aac_iter=10, solver=Solver(id=2146425355358610264), instance=TSP_Instance(filepath=TSP/CEPS_benchmark/rotation/34.tsp))\n",
      "[2024-12-28 23:22:36] DEBUG     solve(prefix=config;aac_iter=10, solver=Solver(id=2146425355358610264), instance=TSP_Instance(filepath=TSP/CEPS_benchmark/compression/09.tsp))\n",
      "[2024-12-28 23:22:48] DEBUG     Solver.Result(prefix=config;aac_iter=10, solver=Solver(id=2146425355358610264), instance=TSP_Instance(filepath=TSP/CEPS_benchmark/explosion/21.tsp), cost=100.00, time=10.00, cached=False, surrogate=False, error=False)\n",
      "[2024-12-28 23:22:48] DEBUG     Solver.Result(prefix=config;aac_iter=10, solver=Solver(id=2146425355358610264), instance=TSP_Instance(filepath=TSP/CEPS_benchmark/compression/09.tsp), cost=100.00, time=10.00, cached=False, surrogate=False, error=False)\n",
      "[2024-12-28 23:22:48] DEBUG     Solver.Result(prefix=config;aac_iter=10, solver=Solver(id=2146425355358610264), instance=TSP_Instance(filepath=TSP/CEPS_benchmark/rotation/34.tsp), cost=100.00, time=10.00, cached=False, surrogate=False, error=False)\n",
      "[2024-12-28 23:22:48] DEBUG     Portfolio.Result(prefix=config;aac_iter=10, cost=100.00, time=[30.00])\n",
      "[2024-12-28 23:22:48] DEBUG     AAC(prefix=config, iter=11, configuration_time=[1.95])\n",
      "[2024-12-28 23:22:48] DEBUG     Portfolio.evaluate(config;aac_iter=11)\n",
      "[2024-12-28 23:22:48] DEBUG     Portfolio(size=1)[Solver(id=1403657748688295992)]\n",
      "[2024-12-28 23:22:48] DEBUG     solve(prefix=config;aac_iter=11, solver=Solver(id=1403657748688295992), instance=TSP_Instance(filepath=TSP/CEPS_benchmark/explosion/21.tsp))\n",
      "[2024-12-28 23:22:48] DEBUG     solve(prefix=config;aac_iter=11, solver=Solver(id=1403657748688295992), instance=TSP_Instance(filepath=TSP/CEPS_benchmark/rotation/34.tsp))\n",
      "[2024-12-28 23:22:48] DEBUG     solve(prefix=config;aac_iter=11, solver=Solver(id=1403657748688295992), instance=TSP_Instance(filepath=TSP/CEPS_benchmark/compression/09.tsp))\n"
     ]
    },
    {
     "name": "stdout",
     "output_type": "stream",
     "text": [
      "0.9891666666666666 3\n"
     ]
    },
    {
     "name": "stderr",
     "output_type": "stream",
     "text": [
      "[2024-12-28 23:23:00] DEBUG     Solver.Result(prefix=config;aac_iter=11, solver=Solver(id=1403657748688295992), instance=TSP_Instance(filepath=TSP/CEPS_benchmark/explosion/21.tsp), cost=100.00, time=10.00, cached=False, surrogate=False, error=False)\n",
      "[2024-12-28 23:23:00] DEBUG     Solver.Result(prefix=config;aac_iter=11, solver=Solver(id=1403657748688295992), instance=TSP_Instance(filepath=TSP/CEPS_benchmark/rotation/34.tsp), cost=100.00, time=10.00, cached=False, surrogate=False, error=False)\n",
      "[2024-12-28 23:23:00] DEBUG     Solver.Result(prefix=config;aac_iter=11, solver=Solver(id=1403657748688295992), instance=TSP_Instance(filepath=TSP/CEPS_benchmark/compression/09.tsp), cost=100.00, time=10.00, cached=False, surrogate=False, error=False)\n",
      "[2024-12-28 23:23:00] DEBUG     Portfolio.Result(prefix=config;aac_iter=11, cost=100.00, time=[30.00])\n",
      "[2024-12-28 23:23:00] DEBUG     AAC.Results(prefix=config, portfolio=Portfolio(size=1)[Solver(id=1711584254718207942)])\n"
     ]
    },
    {
     "name": "stdout",
     "output_type": "stream",
     "text": [
      "1.1558333333333333 3\n"
     ]
    }
   ],
   "source": [
    "def get_bin_index(bin_edges, x):\n",
    "    for i in range(len(bin_edges) - 1):\n",
    "        if bin_edges[i] <= x < bin_edges[i + 1]:\n",
    "            return i + 1\n",
    "    return i + 1\n",
    "\n",
    "actual_train_instances = train_instances[:1]\n",
    "\n",
    "aac = AAC(\n",
    "    portfolio=portfolio,\n",
    "    instance_list=actual_train_instances,\n",
    "    prefix=\"config\",\n",
    "    t_c=180,\n",
    "    calculate_features=False,\n",
    "    estimator=None,\n",
    ")\n",
    "\n",
    "# bin_edges = np.cumsum(np.ones(train_instances.size) / train_instances.size)\n",
    "# bin_edges = np.insert(bin_edges, 0, 0)\n",
    "# bin_edges\n",
    "\n",
    "bin_edges = np.full(train_instances.size, 1 / sum(range(1, train_instances.size + 1)))\n",
    "bin_edges = np.cumsum(bin_edges)\n",
    "bin_edges = np.insert(bin_edges, 0, 0)\n",
    "bin_edges = np.cumsum(bin_edges)\n",
    "bin_edges\n",
    "\n",
    "for _ in aac.configure_iter():\n",
    "    progress = aac.get_progress()\n",
    "    new_size = get_bin_index(bin_edges, progress)\n",
    "    print(progress, new_size)\n",
    "    if new_size != actual_train_instances.size:\n",
    "        actual_train_instances = train_instances[:new_size]\n",
    "        aac.update(instance_list=actual_train_instances)\n",
    "        actual_train_instances.log()"
   ]
  },
  {
   "cell_type": "code",
   "execution_count": 22,
   "metadata": {},
   "outputs": [
    {
     "data": {
      "text/plain": [
       "array([0.        , 0.33333333, 0.66666667, 1.        ])"
      ]
     },
     "execution_count": 22,
     "metadata": {},
     "output_type": "execute_result"
    }
   ],
   "source": []
  },
  {
   "cell_type": "code",
   "execution_count": 6,
   "metadata": {},
   "outputs": [],
   "source": [
    "db = DB()\n",
    "# db = DB(\"database/run-test_924023.db\")"
   ]
  },
  {
   "cell_type": "code",
   "execution_count": 7,
   "metadata": {},
   "outputs": [
    {
     "data": {
      "text/html": [
       "<div>\n",
       "<style scoped>\n",
       "    .dataframe tbody tr th:only-of-type {\n",
       "        vertical-align: middle;\n",
       "    }\n",
       "\n",
       "    .dataframe tbody tr th {\n",
       "        vertical-align: top;\n",
       "    }\n",
       "\n",
       "    .dataframe thead th {\n",
       "        text-align: right;\n",
       "    }\n",
       "</style>\n",
       "<table border=\"1\" class=\"dataframe\">\n",
       "  <thead>\n",
       "    <tr style=\"text-align: right;\">\n",
       "      <th></th>\n",
       "      <th>id</th>\n",
       "      <th>filepath</th>\n",
       "      <th>optimum</th>\n",
       "    </tr>\n",
       "  </thead>\n",
       "  <tbody>\n",
       "    <tr>\n",
       "      <th>0</th>\n",
       "      <td>855157651668393360</td>\n",
       "      <td>TSP/CEPS_benchmark/explosion/21.tsp</td>\n",
       "      <td>14928292.0</td>\n",
       "    </tr>\n",
       "    <tr>\n",
       "      <th>1</th>\n",
       "      <td>1353678304570487518</td>\n",
       "      <td>TSP/CEPS_benchmark/rotation/34.tsp</td>\n",
       "      <td>15486460.0</td>\n",
       "    </tr>\n",
       "    <tr>\n",
       "      <th>2</th>\n",
       "      <td>810870798045289410</td>\n",
       "      <td>TSP/CEPS_benchmark/compression/09.tsp</td>\n",
       "      <td>16003060.0</td>\n",
       "    </tr>\n",
       "  </tbody>\n",
       "</table>\n",
       "</div>"
      ],
      "text/plain": [
       "                    id                               filepath     optimum\n",
       "0   855157651668393360    TSP/CEPS_benchmark/explosion/21.tsp  14928292.0\n",
       "1  1353678304570487518     TSP/CEPS_benchmark/rotation/34.tsp  15486460.0\n",
       "2   810870798045289410  TSP/CEPS_benchmark/compression/09.tsp  16003060.0"
      ]
     },
     "execution_count": 7,
     "metadata": {},
     "output_type": "execute_result"
    }
   ],
   "source": [
    "pd.read_sql_query(\"SELECT * FROM instances\", db._conn)"
   ]
  },
  {
   "cell_type": "code",
   "execution_count": 8,
   "metadata": {},
   "outputs": [
    {
     "data": {
      "text/html": [
       "<div>\n",
       "<style scoped>\n",
       "    .dataframe tbody tr th:only-of-type {\n",
       "        vertical-align: middle;\n",
       "    }\n",
       "\n",
       "    .dataframe tbody tr th {\n",
       "        vertical-align: top;\n",
       "    }\n",
       "\n",
       "    .dataframe thead th {\n",
       "        text-align: right;\n",
       "    }\n",
       "</style>\n",
       "<table border=\"1\" class=\"dataframe\">\n",
       "  <thead>\n",
       "    <tr style=\"text-align: right;\">\n",
       "      <th></th>\n",
       "      <th>id</th>\n",
       "      <th>ASCENT_CANDIDATES</th>\n",
       "      <th>BACKBONE_TRIALS</th>\n",
       "      <th>BACKTRACKING</th>\n",
       "      <th>CANDIDATE_SET_TYPE</th>\n",
       "      <th>EXTRA_CANDIDATES</th>\n",
       "      <th>EXTRA_CANDIDATE_SET_TYPE</th>\n",
       "      <th>GAIN23</th>\n",
       "      <th>GAIN_CRITERION</th>\n",
       "      <th>INITIAL_STEP_SIZE</th>\n",
       "      <th>...</th>\n",
       "      <th>MAX_BREADTH</th>\n",
       "      <th>MAX_CANDIDATES</th>\n",
       "      <th>MOVE_TYPE</th>\n",
       "      <th>PATCHING_A</th>\n",
       "      <th>PATCHING_C</th>\n",
       "      <th>POPULATION_SIZE</th>\n",
       "      <th>RESTRICTED_SEARCH</th>\n",
       "      <th>SUBGRADIENT</th>\n",
       "      <th>SUBSEQUENT_MOVE_TYPE</th>\n",
       "      <th>SUBSEQUENT_PATCHING</th>\n",
       "    </tr>\n",
       "  </thead>\n",
       "  <tbody>\n",
       "    <tr>\n",
       "      <th>0</th>\n",
       "      <td>52980316141715150</td>\n",
       "      <td>0.6</td>\n",
       "      <td>1.0</td>\n",
       "      <td>0.0</td>\n",
       "      <td>0.0</td>\n",
       "      <td>0.7</td>\n",
       "      <td>0.0</td>\n",
       "      <td>1.0</td>\n",
       "      <td>0.0</td>\n",
       "      <td>0.0</td>\n",
       "      <td>...</td>\n",
       "      <td>0.444643</td>\n",
       "      <td>1.0</td>\n",
       "      <td>0.25</td>\n",
       "      <td>0.6</td>\n",
       "      <td>0.2</td>\n",
       "      <td>0.061224</td>\n",
       "      <td>0.0</td>\n",
       "      <td>0.0</td>\n",
       "      <td>5.0</td>\n",
       "      <td>1.0</td>\n",
       "    </tr>\n",
       "  </tbody>\n",
       "</table>\n",
       "<p>1 rows × 24 columns</p>\n",
       "</div>"
      ],
      "text/plain": [
       "                  id  ASCENT_CANDIDATES  BACKBONE_TRIALS  BACKTRACKING  \\\n",
       "0  52980316141715150                0.6              1.0           0.0   \n",
       "\n",
       "   CANDIDATE_SET_TYPE  EXTRA_CANDIDATES  EXTRA_CANDIDATE_SET_TYPE  GAIN23  \\\n",
       "0                 0.0               0.7                       0.0     1.0   \n",
       "\n",
       "   GAIN_CRITERION  INITIAL_STEP_SIZE  ...  MAX_BREADTH  MAX_CANDIDATES  \\\n",
       "0             0.0                0.0  ...     0.444643             1.0   \n",
       "\n",
       "   MOVE_TYPE  PATCHING_A  PATCHING_C  POPULATION_SIZE  RESTRICTED_SEARCH  \\\n",
       "0       0.25         0.6         0.2         0.061224                0.0   \n",
       "\n",
       "   SUBGRADIENT  SUBSEQUENT_MOVE_TYPE  SUBSEQUENT_PATCHING  \n",
       "0          0.0                   5.0                  1.0  \n",
       "\n",
       "[1 rows x 24 columns]"
      ]
     },
     "execution_count": 8,
     "metadata": {},
     "output_type": "execute_result"
    }
   ],
   "source": [
    "pd.read_sql_query(\"SELECT * FROM solvers\", db._conn)"
   ]
  },
  {
   "cell_type": "code",
   "execution_count": 9,
   "metadata": {},
   "outputs": [
    {
     "data": {
      "text/html": [
       "<div>\n",
       "<style scoped>\n",
       "    .dataframe tbody tr th:only-of-type {\n",
       "        vertical-align: middle;\n",
       "    }\n",
       "\n",
       "    .dataframe tbody tr th {\n",
       "        vertical-align: top;\n",
       "    }\n",
       "\n",
       "    .dataframe thead th {\n",
       "        text-align: right;\n",
       "    }\n",
       "</style>\n",
       "<table border=\"1\" class=\"dataframe\">\n",
       "  <thead>\n",
       "    <tr style=\"text-align: right;\">\n",
       "      <th></th>\n",
       "      <th>id</th>\n",
       "      <th>prefix</th>\n",
       "      <th>solver_id</th>\n",
       "      <th>instance_id</th>\n",
       "      <th>cost</th>\n",
       "      <th>time</th>\n",
       "      <th>cached</th>\n",
       "      <th>surrogate</th>\n",
       "      <th>error</th>\n",
       "    </tr>\n",
       "  </thead>\n",
       "  <tbody>\n",
       "    <tr>\n",
       "      <th>0</th>\n",
       "      <td>test1_52980316141715150_1353678304570487518</td>\n",
       "      <td>test1</td>\n",
       "      <td>52980316141715150</td>\n",
       "      <td>1353678304570487518</td>\n",
       "      <td>100.0</td>\n",
       "      <td>10.0</td>\n",
       "      <td>0</td>\n",
       "      <td>0</td>\n",
       "      <td>0</td>\n",
       "    </tr>\n",
       "    <tr>\n",
       "      <th>1</th>\n",
       "      <td>test1_52980316141715150_855157651668393360</td>\n",
       "      <td>test1</td>\n",
       "      <td>52980316141715150</td>\n",
       "      <td>855157651668393360</td>\n",
       "      <td>100.0</td>\n",
       "      <td>10.0</td>\n",
       "      <td>0</td>\n",
       "      <td>0</td>\n",
       "      <td>0</td>\n",
       "    </tr>\n",
       "    <tr>\n",
       "      <th>2</th>\n",
       "      <td>test1_52980316141715150_810870798045289410</td>\n",
       "      <td>test1</td>\n",
       "      <td>52980316141715150</td>\n",
       "      <td>810870798045289410</td>\n",
       "      <td>100.0</td>\n",
       "      <td>10.0</td>\n",
       "      <td>0</td>\n",
       "      <td>0</td>\n",
       "      <td>0</td>\n",
       "    </tr>\n",
       "    <tr>\n",
       "      <th>3</th>\n",
       "      <td>test2_52980316141715150_1353678304570487518</td>\n",
       "      <td>test2</td>\n",
       "      <td>52980316141715150</td>\n",
       "      <td>1353678304570487518</td>\n",
       "      <td>100.0</td>\n",
       "      <td>10.0</td>\n",
       "      <td>0</td>\n",
       "      <td>0</td>\n",
       "      <td>0</td>\n",
       "    </tr>\n",
       "    <tr>\n",
       "      <th>4</th>\n",
       "      <td>test2_52980316141715150_855157651668393360</td>\n",
       "      <td>test2</td>\n",
       "      <td>52980316141715150</td>\n",
       "      <td>855157651668393360</td>\n",
       "      <td>100.0</td>\n",
       "      <td>10.0</td>\n",
       "      <td>0</td>\n",
       "      <td>0</td>\n",
       "      <td>0</td>\n",
       "    </tr>\n",
       "    <tr>\n",
       "      <th>5</th>\n",
       "      <td>test2_52980316141715150_810870798045289410</td>\n",
       "      <td>test2</td>\n",
       "      <td>52980316141715150</td>\n",
       "      <td>810870798045289410</td>\n",
       "      <td>100.0</td>\n",
       "      <td>10.0</td>\n",
       "      <td>0</td>\n",
       "      <td>0</td>\n",
       "      <td>1</td>\n",
       "    </tr>\n",
       "  </tbody>\n",
       "</table>\n",
       "</div>"
      ],
      "text/plain": [
       "                                            id prefix          solver_id  \\\n",
       "0  test1_52980316141715150_1353678304570487518  test1  52980316141715150   \n",
       "1   test1_52980316141715150_855157651668393360  test1  52980316141715150   \n",
       "2   test1_52980316141715150_810870798045289410  test1  52980316141715150   \n",
       "3  test2_52980316141715150_1353678304570487518  test2  52980316141715150   \n",
       "4   test2_52980316141715150_855157651668393360  test2  52980316141715150   \n",
       "5   test2_52980316141715150_810870798045289410  test2  52980316141715150   \n",
       "\n",
       "           instance_id   cost  time  cached  surrogate  error  \n",
       "0  1353678304570487518  100.0  10.0       0          0      0  \n",
       "1   855157651668393360  100.0  10.0       0          0      0  \n",
       "2   810870798045289410  100.0  10.0       0          0      0  \n",
       "3  1353678304570487518  100.0  10.0       0          0      0  \n",
       "4   855157651668393360  100.0  10.0       0          0      0  \n",
       "5   810870798045289410  100.0  10.0       0          0      1  "
      ]
     },
     "execution_count": 9,
     "metadata": {},
     "output_type": "execute_result"
    }
   ],
   "source": [
    "results = pd.read_sql_query(\"SELECT * FROM results\", db._conn)\n",
    "results"
   ]
  },
  {
   "cell_type": "code",
   "execution_count": null,
   "metadata": {},
   "outputs": [],
   "source": [
    "pd.read_sql_query(\"SELECT * FROM evaluations\", db._conn)"
   ]
  }
 ],
 "metadata": {
  "kernelspec": {
   "display_name": "SMAC",
   "language": "python",
   "name": "python3"
  },
  "language_info": {
   "codemirror_mode": {
    "name": "ipython",
    "version": 3
   },
   "file_extension": ".py",
   "mimetype": "text/x-python",
   "name": "python",
   "nbconvert_exporter": "python",
   "pygments_lexer": "ipython3",
   "version": "3.10.15"
  }
 },
 "nbformat": 4,
 "nbformat_minor": 2
}
