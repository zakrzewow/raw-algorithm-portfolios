{
 "cells": [
  {
   "cell_type": "code",
   "execution_count": 1,
   "metadata": {},
   "outputs": [],
   "source": [
    "import os\n",
    "\n",
    "os.environ[\"SEED\"] = \"0\"\n",
    "\n",
    "import json\n",
    "from pathlib import Path\n",
    "\n",
    "import pandas as pd\n",
    "\n",
    "from src.constant import DATABASE_DIR, DATA_DIR\n",
    "from src.database import DB\n",
    "from src.instance.BBOB_Instance import BBOB_Instance\n",
    "\n",
    "pd.options.display.max_columns = None"
   ]
  },
  {
   "cell_type": "code",
   "execution_count": 42,
   "metadata": {},
   "outputs": [
    {
     "ename": "TypeError",
     "evalue": "unsupported operand type(s) for -: 'float' and 'method'",
     "output_type": "error",
     "traceback": [
      "\u001b[1;31m---------------------------------------------------------------------------\u001b[0m",
      "\u001b[1;31mTypeError\u001b[0m                                 Traceback (most recent call last)",
      "Cell \u001b[1;32mIn[42], line 14\u001b[0m\n\u001b[0;32m     11\u001b[0m f_x \u001b[38;5;241m=\u001b[39m problem(x_candidate)\n\u001b[0;32m     12\u001b[0m f_opt \u001b[38;5;241m=\u001b[39m problem\u001b[38;5;241m.\u001b[39m_f0\n\u001b[1;32m---> 14\u001b[0m \u001b[38;5;28;01mif\u001b[39;00m \u001b[38;5;28mabs\u001b[39m(\u001b[43mf_x\u001b[49m\u001b[43m \u001b[49m\u001b[38;5;241;43m-\u001b[39;49m\u001b[43m \u001b[49m\u001b[43mf_opt\u001b[49m) \u001b[38;5;241m<\u001b[39m tolerance:\n\u001b[0;32m     15\u001b[0m     \u001b[38;5;28mprint\u001b[39m(\u001b[38;5;124mf\u001b[39m\u001b[38;5;124m\"\u001b[39m\u001b[38;5;124mFound point close to optimum! f(x) = \u001b[39m\u001b[38;5;132;01m{\u001b[39;00mf_x\u001b[38;5;132;01m}\u001b[39;00m\u001b[38;5;124m, f_opt = \u001b[39m\u001b[38;5;132;01m{\u001b[39;00mf_opt\u001b[38;5;132;01m}\u001b[39;00m\u001b[38;5;124m\"\u001b[39m)\n\u001b[0;32m     16\u001b[0m     \u001b[38;5;28mprint\u001b[39m(\u001b[38;5;124mf\u001b[39m\u001b[38;5;124m\"\u001b[39m\u001b[38;5;124mDifference: \u001b[39m\u001b[38;5;132;01m{\u001b[39;00m\u001b[38;5;28mabs\u001b[39m(f_x\u001b[38;5;250m \u001b[39m\u001b[38;5;241m-\u001b[39m\u001b[38;5;250m \u001b[39mf_opt)\u001b[38;5;132;01m}\u001b[39;00m\u001b[38;5;124m\"\u001b[39m)\n",
      "\u001b[1;31mTypeError\u001b[0m: unsupported operand type(s) for -: 'float' and 'method'"
     ]
    }
   ],
   "source": [
    "import cocoex\n",
    "\n",
    "suite = cocoex.Suite(\"bbob\", \"\", \"\")\n",
    "problem = suite[0]\n",
    "\n",
    "import numpy as np\n",
    "\n",
    "tolerance = 1e-4\n",
    "x_candidate = [0.1, 0.2]  \n",
    "\n",
    "f_x = problem(x_candidate)\n",
    "f_opt = problem._f0\n",
    "\n",
    "if abs(f_x - f_opt) < tolerance:\n",
    "    print(f\"Found point close to optimum! f(x) = {f_x}, f_opt = {f_opt}\")\n",
    "    print(f\"Difference: {abs(f_x - f_opt)}\")\n",
    "else:\n",
    "    print(f\"Point not close enough. Difference: {abs(f_x - f_opt)}\")"
   ]
  },
  {
   "cell_type": "code",
   "execution_count": 2,
   "metadata": {},
   "outputs": [],
   "source": [
    "instance = BBOB_Instance(function_index=1, dimension=2, instance_index=1)"
   ]
  },
  {
   "cell_type": "code",
   "execution_count": 3,
   "metadata": {},
   "outputs": [],
   "source": [
    "problem = instance.get_problem()"
   ]
  },
  {
   "cell_type": "code",
   "execution_count": null,
   "metadata": {},
   "outputs": [
    {
     "data": {
      "text/plain": [
       "['__call__',\n",
       " '__class__',\n",
       " '__delattr__',\n",
       " '__dir__',\n",
       " '__doc__',\n",
       " '__enter__',\n",
       " '__eq__',\n",
       " '__exit__',\n",
       " '__format__',\n",
       " '__ge__',\n",
       " '__getattribute__',\n",
       " '__gt__',\n",
       " '__hash__',\n",
       " '__init__',\n",
       " '__init_subclass__',\n",
       " '__le__',\n",
       " '__lt__',\n",
       " '__ne__',\n",
       " '__new__',\n",
       " '__pyx_vtable__',\n",
       " '__reduce__',\n",
       " '__reduce_ex__',\n",
       " '__repr__',\n",
       " '__setattr__',\n",
       " '__setstate__',\n",
       " '__sizeof__',\n",
       " '__str__',\n",
       " '__subclasshook__',\n",
       " '_best_parameter',\n",
       " '_f0',\n",
       " '_parse_id',\n",
       " 'add_observer',\n",
       " 'best_observed_fvalue1',\n",
       " 'constraint',\n",
       " 'dimension',\n",
       " 'evaluations',\n",
       " 'evaluations_constraints',\n",
       " 'final_target_hit',\n",
       " 'free',\n",
       " 'id',\n",
       " 'id_function',\n",
       " 'id_instance',\n",
       " 'id_triple',\n",
       " 'index',\n",
       " 'info',\n",
       " 'initial_solution',\n",
       " 'initial_solution_proposal',\n",
       " 'is_observed',\n",
       " 'largest_fvalues_of_interest',\n",
       " 'logger_biobj_feed_solution',\n",
       " 'lower_bounds',\n",
       " 'name',\n",
       " 'number_of_constraints',\n",
       " 'number_of_integer_variables',\n",
       " 'number_of_objectives',\n",
       " 'number_of_variables',\n",
       " 'observe_with',\n",
       " 'observers',\n",
       " 'recommend',\n",
       " 'suite',\n",
       " 'upper_bounds']"
      ]
     },
     "execution_count": 35,
     "metadata": {},
     "output_type": "execute_result"
    }
   ],
   "source": []
  },
  {
   "cell_type": "code",
   "execution_count": 18,
   "metadata": {},
   "outputs": [
    {
     "data": {
      "text/plain": [
       "80.88209408"
      ]
     },
     "execution_count": 18,
     "metadata": {},
     "output_type": "execute_result"
    }
   ],
   "source": [
    "problem.best_observed_fvalue1"
   ]
  },
  {
   "cell_type": "code",
   "execution_count": null,
   "metadata": {},
   "outputs": [],
   "source": []
  },
  {
   "cell_type": "code",
   "execution_count": 17,
   "metadata": {},
   "outputs": [
    {
     "data": {
      "text/plain": [
       "80.88209408"
      ]
     },
     "execution_count": 17,
     "metadata": {},
     "output_type": "execute_result"
    }
   ],
   "source": [
    "problem([0.0, 0.0])"
   ]
  },
  {
   "cell_type": "code",
   "execution_count": null,
   "metadata": {},
   "outputs": [],
   "source": []
  },
  {
   "cell_type": "code",
   "execution_count": null,
   "metadata": {},
   "outputs": [],
   "source": [
    "# features = {}\n",
    "\n",
    "# for features_file in Path(\"features\").glob(\"*.json\"):\n",
    "#     with open(features_file, \"r\") as f:\n",
    "#         features = {\n",
    "#             **features,\n",
    "#             **json.load(f)\n",
    "#         }\n",
    "\n",
    "# len(features)\n",
    "\n",
    "# with open(DATA_DIR / \"BBOB\" / \"features.json\", \"w\") as f:\n",
    "#     json.dump(features, f, indent=4)"
   ]
  },
  {
   "cell_type": "code",
   "execution_count": null,
   "metadata": {},
   "outputs": [],
   "source": [
    "# from src.instance.BBOB_Instance import BBOB_Instance\n",
    "# import json\n",
    "\n",
    "# features = {}\n",
    "\n",
    "# for instance_index in [1, 2, 3, 4, 5]:\n",
    "#     instance = BBOB_Instance(\n",
    "#         function_index=7,\n",
    "#         dimension=2,\n",
    "#         instance_index=instance_index,\n",
    "#     )\n",
    "#     result, time = instance.calculate_features()\n",
    "#     features[instance.id()] = {\"result\": result, \"time\": time}\n",
    "\n",
    "# with open(\"features/features_7_2.json\", \"w\") as f:\n",
    "#     json.dump(features, f, indent=4)"
   ]
  }
 ],
 "metadata": {
  "kernelspec": {
   "display_name": "SMAC",
   "language": "python",
   "name": "python3"
  },
  "language_info": {
   "codemirror_mode": {
    "name": "ipython",
    "version": 3
   },
   "file_extension": ".py",
   "mimetype": "text/x-python",
   "name": "python",
   "nbconvert_exporter": "python",
   "pygments_lexer": "ipython3",
   "version": "3.10.18"
  }
 },
 "nbformat": 4,
 "nbformat_minor": 2
}
