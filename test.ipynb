{
 "cells": [
  {
   "cell_type": "code",
   "execution_count": 1,
   "metadata": {},
   "outputs": [],
   "source": [
    "import os\n",
    "os.environ[\"SEED\"] = \"0\"\n",
    "import pandas as pd\n",
    "\n",
    "from src.configuration_space.LKH import CONFIGURATION_SPACE\n",
    "from src.constant import DATA_DIR\n",
    "from src.database import DB\n",
    "from src.instance.Instance import Instance\n",
    "from src.instance.TSP_Instance import TSP_Instance, TSP_train_test_from_index_file\n",
    "from src.solver.TSP_LKH_Solver import TSP_LKH_Solver"
   ]
  },
  {
   "cell_type": "code",
   "execution_count": 2,
   "metadata": {},
   "outputs": [
    {
     "data": {
      "text/plain": [
       "InstanceList(size=5)[TSP_Instance(filepath=TSP/CEPS_benchmark/explosion/21.tsp), TSP_Instance(filepath=TSP/CEPS_benchmark/rotation/34.tsp), TSP_Instance(filepath=TSP/CEPS_benchmark/compression/09.tsp), TSP_Instance(filepath=TSP/CEPS_benchmark/implosion/34.tsp), TSP_Instance(filepath=TSP/CEPS_benchmark/linearprojection/25.tsp)]"
      ]
     },
     "execution_count": 2,
     "metadata": {},
     "output_type": "execute_result"
    }
   ],
   "source": [
    "train_instances, test_instances = TSP_train_test_from_index_file(\n",
    "    filepath=DATA_DIR / \"TSP\" / \"CEPS_benchmark\" / \"index.json\",\n",
    "    train_size=5,\n",
    ")\n",
    "train_instances"
   ]
  },
  {
   "cell_type": "code",
   "execution_count": 3,
   "metadata": {},
   "outputs": [
    {
     "data": {
      "text/plain": [
       "TSP_Instance(filepath=TSP/CEPS_benchmark/explosion/21.tsp)"
      ]
     },
     "execution_count": 3,
     "metadata": {},
     "output_type": "execute_result"
    }
   ],
   "source": [
    "instance = train_instances[0]\n",
    "instance"
   ]
  },
  {
   "cell_type": "code",
   "execution_count": 4,
   "metadata": {},
   "outputs": [
    {
     "data": {
      "text/plain": [
       "Solver(id=52980316141715150)"
      ]
     },
     "execution_count": 4,
     "metadata": {},
     "output_type": "execute_result"
    }
   ],
   "source": [
    "solver = TSP_LKH_Solver()\n",
    "solver"
   ]
  },
  {
   "cell_type": "code",
   "execution_count": 5,
   "metadata": {},
   "outputs": [
    {
     "name": "stderr",
     "output_type": "stream",
     "text": [
      "[2024-12-23 22:27:34] DEBUG     Solver(id=52980316141715150) TSP_Instance(filepath=TSP/CEPS_benchmark/explosion/21.tsp) solving...\n",
      "[2024-12-23 22:27:45] DEBUG     Solver.Result(solver=Solver(id=52980316141715150), instance=TSP_Instance(filepath=TSP/CEPS_benchmark/explosion/21.tsp), cost=100.00, time=10.00, cached=False)\n"
     ]
    }
   ],
   "source": [
    "future = solver.solve(instance)"
   ]
  },
  {
   "cell_type": "code",
   "execution_count": 10,
   "metadata": {},
   "outputs": [
    {
     "data": {
      "text/plain": [
       "Solver.Result(solver=Solver(id=52980316141715150), instance=TSP_Instance(filepath=TSP/CEPS_benchmark/explosion/21.tsp), cost=100.00, time=10.00, cached=False)"
      ]
     },
     "execution_count": 10,
     "metadata": {},
     "output_type": "execute_result"
    }
   ],
   "source": [
    "future.result()"
   ]
  },
  {
   "cell_type": "code",
   "execution_count": 6,
   "metadata": {},
   "outputs": [],
   "source": [
    "db = DB()"
   ]
  },
  {
   "cell_type": "code",
   "execution_count": 7,
   "metadata": {},
   "outputs": [
    {
     "data": {
      "text/html": [
       "<div>\n",
       "<style scoped>\n",
       "    .dataframe tbody tr th:only-of-type {\n",
       "        vertical-align: middle;\n",
       "    }\n",
       "\n",
       "    .dataframe tbody tr th {\n",
       "        vertical-align: top;\n",
       "    }\n",
       "\n",
       "    .dataframe thead th {\n",
       "        text-align: right;\n",
       "    }\n",
       "</style>\n",
       "<table border=\"1\" class=\"dataframe\">\n",
       "  <thead>\n",
       "    <tr style=\"text-align: right;\">\n",
       "      <th></th>\n",
       "      <th>id</th>\n",
       "      <th>filepath</th>\n",
       "      <th>optimum</th>\n",
       "    </tr>\n",
       "  </thead>\n",
       "  <tbody>\n",
       "    <tr>\n",
       "      <th>0</th>\n",
       "      <td>855157651668393360</td>\n",
       "      <td>TSP/CEPS_benchmark/explosion/21.tsp</td>\n",
       "      <td>14928292.0</td>\n",
       "    </tr>\n",
       "  </tbody>\n",
       "</table>\n",
       "</div>"
      ],
      "text/plain": [
       "                   id                             filepath     optimum\n",
       "0  855157651668393360  TSP/CEPS_benchmark/explosion/21.tsp  14928292.0"
      ]
     },
     "execution_count": 7,
     "metadata": {},
     "output_type": "execute_result"
    }
   ],
   "source": [
    "pd.read_sql_query(\"SELECT * FROM instances\", db._conn)"
   ]
  },
  {
   "cell_type": "code",
   "execution_count": 8,
   "metadata": {},
   "outputs": [
    {
     "data": {
      "text/html": [
       "<div>\n",
       "<style scoped>\n",
       "    .dataframe tbody tr th:only-of-type {\n",
       "        vertical-align: middle;\n",
       "    }\n",
       "\n",
       "    .dataframe tbody tr th {\n",
       "        vertical-align: top;\n",
       "    }\n",
       "\n",
       "    .dataframe thead th {\n",
       "        text-align: right;\n",
       "    }\n",
       "</style>\n",
       "<table border=\"1\" class=\"dataframe\">\n",
       "  <thead>\n",
       "    <tr style=\"text-align: right;\">\n",
       "      <th></th>\n",
       "      <th>id</th>\n",
       "      <th>ASCENT_CANDIDATES</th>\n",
       "      <th>BACKBONE_TRIALS</th>\n",
       "      <th>BACKTRACKING</th>\n",
       "      <th>CANDIDATE_SET_TYPE</th>\n",
       "      <th>EXTRA_CANDIDATES</th>\n",
       "      <th>EXTRA_CANDIDATE_SET_TYPE</th>\n",
       "      <th>GAIN23</th>\n",
       "      <th>GAIN_CRITERION</th>\n",
       "      <th>INITIAL_STEP_SIZE</th>\n",
       "      <th>...</th>\n",
       "      <th>MAX_BREADTH</th>\n",
       "      <th>MAX_CANDIDATES</th>\n",
       "      <th>MOVE_TYPE</th>\n",
       "      <th>PATCHING_A</th>\n",
       "      <th>PATCHING_C</th>\n",
       "      <th>POPULATION_SIZE</th>\n",
       "      <th>RESTRICTED_SEARCH</th>\n",
       "      <th>SUBGRADIENT</th>\n",
       "      <th>SUBSEQUENT_MOVE_TYPE</th>\n",
       "      <th>SUBSEQUENT_PATCHING</th>\n",
       "    </tr>\n",
       "  </thead>\n",
       "  <tbody>\n",
       "    <tr>\n",
       "      <th>0</th>\n",
       "      <td>52980316141715150</td>\n",
       "      <td>0.6</td>\n",
       "      <td>1.0</td>\n",
       "      <td>0.0</td>\n",
       "      <td>0.0</td>\n",
       "      <td>0.7</td>\n",
       "      <td>0.0</td>\n",
       "      <td>1.0</td>\n",
       "      <td>0.0</td>\n",
       "      <td>0.0</td>\n",
       "      <td>...</td>\n",
       "      <td>0.444643</td>\n",
       "      <td>1.0</td>\n",
       "      <td>0.25</td>\n",
       "      <td>0.6</td>\n",
       "      <td>0.2</td>\n",
       "      <td>0.061224</td>\n",
       "      <td>0.0</td>\n",
       "      <td>0.0</td>\n",
       "      <td>5.0</td>\n",
       "      <td>1.0</td>\n",
       "    </tr>\n",
       "  </tbody>\n",
       "</table>\n",
       "<p>1 rows × 24 columns</p>\n",
       "</div>"
      ],
      "text/plain": [
       "                  id  ASCENT_CANDIDATES  BACKBONE_TRIALS  BACKTRACKING  \\\n",
       "0  52980316141715150                0.6              1.0           0.0   \n",
       "\n",
       "   CANDIDATE_SET_TYPE  EXTRA_CANDIDATES  EXTRA_CANDIDATE_SET_TYPE  GAIN23  \\\n",
       "0                 0.0               0.7                       0.0     1.0   \n",
       "\n",
       "   GAIN_CRITERION  INITIAL_STEP_SIZE  ...  MAX_BREADTH  MAX_CANDIDATES  \\\n",
       "0             0.0                0.0  ...     0.444643             1.0   \n",
       "\n",
       "   MOVE_TYPE  PATCHING_A  PATCHING_C  POPULATION_SIZE  RESTRICTED_SEARCH  \\\n",
       "0       0.25         0.6         0.2         0.061224                0.0   \n",
       "\n",
       "   SUBGRADIENT  SUBSEQUENT_MOVE_TYPE  SUBSEQUENT_PATCHING  \n",
       "0          0.0                   5.0                  1.0  \n",
       "\n",
       "[1 rows x 24 columns]"
      ]
     },
     "execution_count": 8,
     "metadata": {},
     "output_type": "execute_result"
    }
   ],
   "source": [
    "pd.read_sql_query(\"SELECT * FROM solvers\", db._conn)"
   ]
  },
  {
   "cell_type": "code",
   "execution_count": 9,
   "metadata": {},
   "outputs": [
    {
     "data": {
      "text/html": [
       "<div>\n",
       "<style scoped>\n",
       "    .dataframe tbody tr th:only-of-type {\n",
       "        vertical-align: middle;\n",
       "    }\n",
       "\n",
       "    .dataframe tbody tr th {\n",
       "        vertical-align: top;\n",
       "    }\n",
       "\n",
       "    .dataframe thead th {\n",
       "        text-align: right;\n",
       "    }\n",
       "</style>\n",
       "<table border=\"1\" class=\"dataframe\">\n",
       "  <thead>\n",
       "    <tr style=\"text-align: right;\">\n",
       "      <th></th>\n",
       "      <th>id</th>\n",
       "      <th>solver_id</th>\n",
       "      <th>instance_id</th>\n",
       "      <th>cost</th>\n",
       "    </tr>\n",
       "  </thead>\n",
       "  <tbody>\n",
       "    <tr>\n",
       "      <th>0</th>\n",
       "      <td>52980316141715150_855157651668393360</td>\n",
       "      <td>52980316141715150</td>\n",
       "      <td>855157651668393360</td>\n",
       "      <td>100.0</td>\n",
       "    </tr>\n",
       "  </tbody>\n",
       "</table>\n",
       "</div>"
      ],
      "text/plain": [
       "                                     id          solver_id  \\\n",
       "0  52980316141715150_855157651668393360  52980316141715150   \n",
       "\n",
       "          instance_id   cost  \n",
       "0  855157651668393360  100.0  "
      ]
     },
     "execution_count": 9,
     "metadata": {},
     "output_type": "execute_result"
    }
   ],
   "source": [
    "pd.read_sql_query(\"SELECT * FROM results\", db._conn)"
   ]
  },
  {
   "cell_type": "code",
   "execution_count": 11,
   "metadata": {},
   "outputs": [
    {
     "name": "stdout",
     "output_type": "stream",
     "text": [
      "In-memory size: 48 bytes\n",
      "Serialized size: 3738 bytes\n"
     ]
    }
   ],
   "source": [
    "import sys\n",
    "import pickle\n",
    "\n",
    "my_object = instance\n",
    "in_memory_size = sys.getsizeof(my_object)\n",
    "serialized_object = pickle.dumps(my_object)\n",
    "serialized_size = len(serialized_object)\n",
    "\n",
    "print(f\"In-memory size: {in_memory_size} bytes\")\n",
    "print(f\"Serialized size: {serialized_size} bytes\")"
   ]
  }
 ],
 "metadata": {
  "kernelspec": {
   "display_name": "SMAC",
   "language": "python",
   "name": "python3"
  },
  "language_info": {
   "codemirror_mode": {
    "name": "ipython",
    "version": 3
   },
   "file_extension": ".py",
   "mimetype": "text/x-python",
   "name": "python",
   "nbconvert_exporter": "python",
   "pygments_lexer": "ipython3",
   "version": "3.10.15"
  }
 },
 "nbformat": 4,
 "nbformat_minor": 2
}
