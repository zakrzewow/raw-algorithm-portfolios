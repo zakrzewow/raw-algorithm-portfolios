{
 "cells": [
  {
   "cell_type": "code",
   "execution_count": 1,
   "metadata": {},
   "outputs": [],
   "source": [
    "import os\n",
    "\n",
    "os.environ[\"SEED\"] = \"0\"\n",
    "\n",
    "import cocoex\n",
    "import matplotlib.pyplot as plt\n",
    "import nevergrad as ng\n",
    "import numpy as np\n",
    "import scipy\n",
    "\n",
    "from src.solver.BBOB_POP_Solver import BBOB_POP_Solver\n",
    "from src.instance.BBOB_Instance import BBOB_Instance"
   ]
  },
  {
   "cell_type": "code",
   "execution_count": 2,
   "metadata": {},
   "outputs": [],
   "source": [
    "suite = cocoex.Suite(\"bbob\", \"\", \"function_indices:1 dimensions:2 instance_indices:1-15\")"
   ]
  },
  {
   "cell_type": "code",
   "execution_count": 3,
   "metadata": {},
   "outputs": [
    {
     "data": {
      "text/plain": [
       "Suite(b'bbob', b'', b'function_indices:1 dimensions:2 instance_indices:1-15')"
      ]
     },
     "execution_count": 3,
     "metadata": {},
     "output_type": "execute_result"
    }
   ],
   "source": [
    "suite"
   ]
  },
  {
   "cell_type": "code",
   "execution_count": 4,
   "metadata": {},
   "outputs": [
    {
     "data": {
      "text/plain": [
       "15"
      ]
     },
     "execution_count": 4,
     "metadata": {},
     "output_type": "execute_result"
    }
   ],
   "source": [
    "len(list(suite))\n",
    "# 6 dimensions X 24 functions X 15 instances = 2160 problems"
   ]
  },
  {
   "cell_type": "code",
   "execution_count": 5,
   "metadata": {},
   "outputs": [
    {
     "data": {
      "text/plain": [
       "'bbob_f001_i01_d02: a 2-dimensional single-objective problem (problem 0 of suite \"b\\'bbob\\'\" with name \"BBOB suite problem f1 instance 1 in 2D\")'"
      ]
     },
     "execution_count": 5,
     "metadata": {},
     "output_type": "execute_result"
    }
   ],
   "source": [
    "problem = suite[0]\n",
    "problem.info"
   ]
  },
  {
   "cell_type": "code",
   "execution_count": 8,
   "metadata": {},
   "outputs": [
    {
     "ename": "TypeError",
     "evalue": "no default __reduce__ due to non-trivial __cinit__",
     "output_type": "error",
     "traceback": [
      "\u001b[1;31m---------------------------------------------------------------------------\u001b[0m",
      "\u001b[1;31mTypeError\u001b[0m                                 Traceback (most recent call last)",
      "Cell \u001b[1;32mIn[8], line 1\u001b[0m\n\u001b[1;32m----> 1\u001b[0m instance \u001b[38;5;241m=\u001b[39m \u001b[43mBBOB_Instance\u001b[49m\u001b[43m(\u001b[49m\u001b[43mproblem\u001b[49m\u001b[43m,\u001b[49m\u001b[43m \u001b[49m\u001b[43mcut_off_cost\u001b[49m\u001b[38;5;241;43m=\u001b[39;49m\u001b[38;5;241;43m1.0\u001b[39;49m\u001b[43m,\u001b[49m\u001b[43m \u001b[49m\u001b[43mcut_off_time\u001b[49m\u001b[38;5;241;43m=\u001b[39;49m\u001b[38;5;241;43m0.1\u001b[39;49m\u001b[43m)\u001b[49m\n\u001b[0;32m      2\u001b[0m instance\n",
      "File \u001b[1;32mc:\\Users\\zakrz\\Documents\\DataScience\\praca magisterska\\raw-algorithm-portfolios\\src\\instance\\BBOB_Instance.py:20\u001b[0m, in \u001b[0;36mBBOB_Instance.__init__\u001b[1;34m(self, problem, cut_off_cost, cut_off_time)\u001b[0m\n\u001b[0;32m     13\u001b[0m \u001b[38;5;28;01mdef\u001b[39;00m \u001b[38;5;21m__init__\u001b[39m(\n\u001b[0;32m     14\u001b[0m     \u001b[38;5;28mself\u001b[39m,\n\u001b[0;32m     15\u001b[0m     problem: cocoex\u001b[38;5;241m.\u001b[39minterface\u001b[38;5;241m.\u001b[39mProblem,\n\u001b[0;32m     16\u001b[0m     cut_off_cost: \u001b[38;5;28mfloat\u001b[39m \u001b[38;5;241m=\u001b[39m \u001b[38;5;241m0\u001b[39m,\n\u001b[0;32m     17\u001b[0m     cut_off_time: \u001b[38;5;28mfloat\u001b[39m \u001b[38;5;241m=\u001b[39m \u001b[38;5;241m0\u001b[39m,\n\u001b[0;32m     18\u001b[0m ):\n\u001b[0;32m     19\u001b[0m     \u001b[38;5;28msuper\u001b[39m()\u001b[38;5;241m.\u001b[39m\u001b[38;5;21m__init__\u001b[39m()\n\u001b[1;32m---> 20\u001b[0m     \u001b[38;5;28mself\u001b[39m\u001b[38;5;241m.\u001b[39mproblem \u001b[38;5;241m=\u001b[39m \u001b[43mcopy\u001b[49m\u001b[38;5;241;43m.\u001b[39;49m\u001b[43mdeepcopy\u001b[49m\u001b[43m(\u001b[49m\u001b[43mproblem\u001b[49m\u001b[43m)\u001b[49m\n\u001b[0;32m     21\u001b[0m     \u001b[38;5;28mself\u001b[39m\u001b[38;5;241m.\u001b[39mcut_off_cost \u001b[38;5;241m=\u001b[39m cut_off_cost\n\u001b[0;32m     22\u001b[0m     \u001b[38;5;28mself\u001b[39m\u001b[38;5;241m.\u001b[39mcut_off_time \u001b[38;5;241m=\u001b[39m cut_off_time\n",
      "File \u001b[1;32mc:\\Users\\zakrz\\miniconda3\\envs\\SMAC\\lib\\copy.py:161\u001b[0m, in \u001b[0;36mdeepcopy\u001b[1;34m(x, memo, _nil)\u001b[0m\n\u001b[0;32m    159\u001b[0m reductor \u001b[38;5;241m=\u001b[39m \u001b[38;5;28mgetattr\u001b[39m(x, \u001b[38;5;124m\"\u001b[39m\u001b[38;5;124m__reduce_ex__\u001b[39m\u001b[38;5;124m\"\u001b[39m, \u001b[38;5;28;01mNone\u001b[39;00m)\n\u001b[0;32m    160\u001b[0m \u001b[38;5;28;01mif\u001b[39;00m reductor \u001b[38;5;129;01mis\u001b[39;00m \u001b[38;5;129;01mnot\u001b[39;00m \u001b[38;5;28;01mNone\u001b[39;00m:\n\u001b[1;32m--> 161\u001b[0m     rv \u001b[38;5;241m=\u001b[39m \u001b[43mreductor\u001b[49m\u001b[43m(\u001b[49m\u001b[38;5;241;43m4\u001b[39;49m\u001b[43m)\u001b[49m\n\u001b[0;32m    162\u001b[0m \u001b[38;5;28;01melse\u001b[39;00m:\n\u001b[0;32m    163\u001b[0m     reductor \u001b[38;5;241m=\u001b[39m \u001b[38;5;28mgetattr\u001b[39m(x, \u001b[38;5;124m\"\u001b[39m\u001b[38;5;124m__reduce__\u001b[39m\u001b[38;5;124m\"\u001b[39m, \u001b[38;5;28;01mNone\u001b[39;00m)\n",
      "File \u001b[1;32m<stringsource>:2\u001b[0m, in \u001b[0;36mcocoex.interface.Problem.__reduce_cython__\u001b[1;34m()\u001b[0m\n",
      "\u001b[1;31mTypeError\u001b[0m: no default __reduce__ due to non-trivial __cinit__"
     ]
    }
   ],
   "source": [
    "instance = BBOB_Instance(problem, cut_off_cost=1.0, cut_off_time=0.1)\n",
    "instance"
   ]
  },
  {
   "cell_type": "code",
   "execution_count": null,
   "metadata": {},
   "outputs": [
    {
     "ename": "TypeError",
     "evalue": "no default __reduce__ due to non-trivial __cinit__",
     "output_type": "error",
     "traceback": [
      "\u001b[1;31m---------------------------------------------------------------------------\u001b[0m",
      "\u001b[1;31mTypeError\u001b[0m                                 Traceback (most recent call last)",
      "Cell \u001b[1;32mIn[7], line 1\u001b[0m\n\u001b[1;32m----> 1\u001b[0m instance \u001b[38;5;241m=\u001b[39m \u001b[43mBBOB_Instance\u001b[49m\u001b[43m(\u001b[49m\u001b[43mproblem\u001b[49m\u001b[43m,\u001b[49m\u001b[43m \u001b[49m\u001b[43mcut_off_cost\u001b[49m\u001b[38;5;241;43m=\u001b[39;49m\u001b[38;5;241;43m1.0\u001b[39;49m\u001b[43m,\u001b[49m\u001b[43m \u001b[49m\u001b[43mcut_off_time\u001b[49m\u001b[38;5;241;43m=\u001b[39;49m\u001b[38;5;241;43m0.1\u001b[39;49m\u001b[43m)\u001b[49m\n\u001b[0;32m      3\u001b[0m solver \u001b[38;5;241m=\u001b[39m BBOB_POP_Solver()\n\u001b[0;32m      4\u001b[0m \u001b[38;5;28mprint\u001b[39m(solver\u001b[38;5;241m.\u001b[39mconfig)\n",
      "File \u001b[1;32mc:\\Users\\zakrz\\Documents\\DataScience\\praca magisterska\\raw-algorithm-portfolios\\src\\instance\\BBOB_Instance.py:20\u001b[0m, in \u001b[0;36mBBOB_Instance.__init__\u001b[1;34m(self, problem, cut_off_cost, cut_off_time)\u001b[0m\n\u001b[0;32m     13\u001b[0m \u001b[38;5;28;01mdef\u001b[39;00m \u001b[38;5;21m__init__\u001b[39m(\n\u001b[0;32m     14\u001b[0m     \u001b[38;5;28mself\u001b[39m,\n\u001b[0;32m     15\u001b[0m     problem: cocoex\u001b[38;5;241m.\u001b[39minterface\u001b[38;5;241m.\u001b[39mProblem,\n\u001b[0;32m     16\u001b[0m     cut_off_cost: \u001b[38;5;28mfloat\u001b[39m \u001b[38;5;241m=\u001b[39m \u001b[38;5;241m0\u001b[39m,\n\u001b[0;32m     17\u001b[0m     cut_off_time: \u001b[38;5;28mfloat\u001b[39m \u001b[38;5;241m=\u001b[39m \u001b[38;5;241m0\u001b[39m,\n\u001b[0;32m     18\u001b[0m ):\n\u001b[0;32m     19\u001b[0m     \u001b[38;5;28msuper\u001b[39m()\u001b[38;5;241m.\u001b[39m\u001b[38;5;21m__init__\u001b[39m()\n\u001b[1;32m---> 20\u001b[0m     \u001b[38;5;28mself\u001b[39m\u001b[38;5;241m.\u001b[39mproblem \u001b[38;5;241m=\u001b[39m \u001b[43mcopy\u001b[49m\u001b[38;5;241;43m.\u001b[39;49m\u001b[43mdeepcopy\u001b[49m\u001b[43m(\u001b[49m\u001b[43mproblem\u001b[49m\u001b[43m)\u001b[49m\n\u001b[0;32m     21\u001b[0m     \u001b[38;5;28mself\u001b[39m\u001b[38;5;241m.\u001b[39mcut_off_cost \u001b[38;5;241m=\u001b[39m cut_off_cost\n\u001b[0;32m     22\u001b[0m     \u001b[38;5;28mself\u001b[39m\u001b[38;5;241m.\u001b[39mcut_off_time \u001b[38;5;241m=\u001b[39m cut_off_time\n",
      "File \u001b[1;32mc:\\Users\\zakrz\\miniconda3\\envs\\SMAC\\lib\\copy.py:161\u001b[0m, in \u001b[0;36mdeepcopy\u001b[1;34m(x, memo, _nil)\u001b[0m\n\u001b[0;32m    159\u001b[0m reductor \u001b[38;5;241m=\u001b[39m \u001b[38;5;28mgetattr\u001b[39m(x, \u001b[38;5;124m\"\u001b[39m\u001b[38;5;124m__reduce_ex__\u001b[39m\u001b[38;5;124m\"\u001b[39m, \u001b[38;5;28;01mNone\u001b[39;00m)\n\u001b[0;32m    160\u001b[0m \u001b[38;5;28;01mif\u001b[39;00m reductor \u001b[38;5;129;01mis\u001b[39;00m \u001b[38;5;129;01mnot\u001b[39;00m \u001b[38;5;28;01mNone\u001b[39;00m:\n\u001b[1;32m--> 161\u001b[0m     rv \u001b[38;5;241m=\u001b[39m \u001b[43mreductor\u001b[49m\u001b[43m(\u001b[49m\u001b[38;5;241;43m4\u001b[39;49m\u001b[43m)\u001b[49m\n\u001b[0;32m    162\u001b[0m \u001b[38;5;28;01melse\u001b[39;00m:\n\u001b[0;32m    163\u001b[0m     reductor \u001b[38;5;241m=\u001b[39m \u001b[38;5;28mgetattr\u001b[39m(x, \u001b[38;5;124m\"\u001b[39m\u001b[38;5;124m__reduce__\u001b[39m\u001b[38;5;124m\"\u001b[39m, \u001b[38;5;28;01mNone\u001b[39;00m)\n",
      "File \u001b[1;32m<stringsource>:2\u001b[0m, in \u001b[0;36mcocoex.interface.Problem.__reduce_cython__\u001b[1;34m()\u001b[0m\n",
      "\u001b[1;31mTypeError\u001b[0m: no default __reduce__ due to non-trivial __cinit__"
     ]
    }
   ],
   "source": [
    "\n",
    "solver = BBOB_POP_Solver()\n",
    "print(solver.config)\n",
    "\n",
    "kwargs = dict(solver.config)\n",
    "algorithm = solver.config[\"ALGORITHM\"]\n",
    "\n",
    "def _format_key(key: str, algorithm) -> str:\n",
    "    key = key[len(algorithm) + 1:]\n",
    "    if not (algorithm == \"DE\" and key in [\"F1\", \"F2\"]):\n",
    "        key = key.lower()\n",
    "    return key\n",
    "\n",
    "kwargs = {_format_key(k, algorithm): v for k, v in kwargs.items() if k.startswith(algorithm)}\n",
    "\n",
    "if algorithm == \"PSO\":\n",
    "    optimizer_class = ng.families.ConfPSO(**kwargs)\n",
    "elif algorithm == \"DE\":\n",
    "    optimizer_class = ng.families.DifferentialEvolution(**kwargs)\n",
    "elif algorithm == \"CMA\":\n",
    "    optimizer_class = ng.families.ParametrizedCMA(**kwargs)\n",
    "else:\n",
    "    raise ValueError(f\"Unknown algorithm: {algorithm}\")\n",
    "\n",
    "optimizer = optimizer_class(parametrization=instance.dimension, budget=1e6)\n",
    "recommendation = optimizer.minimize(problem, max_time=instance.cut_off_time)\n",
    "recommendation.value, problem.evaluations, problem.final_target_hit"
   ]
  },
  {
   "cell_type": "code",
   "execution_count": 7,
   "metadata": {},
   "outputs": [],
   "source": [
    "problem = suite[0]"
   ]
  },
  {
   "cell_type": "code",
   "execution_count": 36,
   "metadata": {},
   "outputs": [
    {
     "data": {
      "text/plain": [
       "2"
      ]
     },
     "execution_count": 36,
     "metadata": {},
     "output_type": "execute_result"
    }
   ],
   "source": [
    "problem.dimension"
   ]
  },
  {
   "cell_type": "code",
   "execution_count": 8,
   "metadata": {},
   "outputs": [
    {
     "data": {
      "text/plain": [
       "0"
      ]
     },
     "execution_count": 8,
     "metadata": {},
     "output_type": "execute_result"
    }
   ],
   "source": [
    "problem.evaluations"
   ]
  },
  {
   "cell_type": "code",
   "execution_count": 9,
   "metadata": {},
   "outputs": [
    {
     "data": {
      "text/plain": [
       "False"
      ]
     },
     "execution_count": 9,
     "metadata": {},
     "output_type": "execute_result"
    }
   ],
   "source": [
    "problem.final_target_hit"
   ]
  },
  {
   "cell_type": "code",
   "execution_count": null,
   "metadata": {},
   "outputs": [
    {
     "data": {
      "text/plain": [
       "array([ 0.25222357, -1.15669464])"
      ]
     },
     "execution_count": 10,
     "metadata": {},
     "output_type": "execute_result"
    }
   ],
   "source": [
    "pso_config = ng.families.ConfPSO(\n",
    "    popsize=20,           # Population size\n",
    "    omega=0.729,          # Inertia weight\n",
    "    phip=1.49618,         # Cognitive parameter\n",
    "    phig=1.49618,         # Social parameter\n",
    ")\n",
    "\n",
    "optimizer = pso_config(2, budget=1000)\n",
    "\n",
    "recommendation = optimizer.minimize(problem)\n",
    "recommendation.value"
   ]
  },
  {
   "cell_type": "code",
   "execution_count": 11,
   "metadata": {},
   "outputs": [
    {
     "name": "stdout",
     "output_type": "stream",
     "text": [
      "Optimization terminated successfully.\n",
      "         Current function value: 79.480000\n",
      "         Iterations: 65\n",
      "         Function evaluations: 124\n"
     ]
    },
    {
     "data": {
      "text/plain": [
       "array([ 0.25281244, -1.15682905])"
      ]
     },
     "execution_count": 11,
     "metadata": {},
     "output_type": "execute_result"
    }
   ],
   "source": [
    "scipy.optimize.fmin(problem, problem.initial_solution, disp=True)"
   ]
  },
  {
   "cell_type": "code",
   "execution_count": 12,
   "metadata": {},
   "outputs": [
    {
     "data": {
      "text/plain": [
       "1124"
      ]
     },
     "execution_count": 12,
     "metadata": {},
     "output_type": "execute_result"
    }
   ],
   "source": [
    "problem.evaluations"
   ]
  },
  {
   "cell_type": "code",
   "execution_count": 13,
   "metadata": {},
   "outputs": [
    {
     "data": {
      "text/plain": [
       "True"
      ]
     },
     "execution_count": 13,
     "metadata": {},
     "output_type": "execute_result"
    }
   ],
   "source": [
    "problem.final_target_hit"
   ]
  },
  {
   "cell_type": "code",
   "execution_count": 24,
   "metadata": {},
   "outputs": [
    {
     "data": {
      "text/plain": [
       "(array([ 0.15684738, -1.09546823]), 100, False)"
      ]
     },
     "execution_count": 24,
     "metadata": {},
     "output_type": "execute_result"
    }
   ],
   "source": [
    "problem = suite[0]\n",
    "\n",
    "pso_config = ng.families.ConfPSO(\n",
    "    popsize=20,           # Population size\n",
    "    omega=0.729,          # Inertia weight\n",
    "    phip=1.49618,         # Cognitive parameter\n",
    "    phig=1.49618,         # Social parameter\n",
    ")\n",
    "\n",
    "optimizer = pso_config(2, budget=100)\n",
    "\n",
    "recommendation = optimizer.minimize(problem, max_time=100)\n",
    "recommendation.value, problem.evaluations, problem.final_target_hit"
   ]
  },
  {
   "cell_type": "code",
   "execution_count": 34,
   "metadata": {},
   "outputs": [
    {
     "data": {
      "text/plain": [
       "(array([ 0.25279718, -1.15679968]), 2851, True)"
      ]
     },
     "execution_count": 34,
     "metadata": {},
     "output_type": "execute_result"
    }
   ],
   "source": [
    "problem = suite[0]\n",
    "\n",
    "de_config = ng.families.DifferentialEvolution(\n",
    "    popsize=20,\n",
    "    crossover=0.8,\n",
    ")\n",
    "\n",
    "optimizer = de_config(2, budget=10000)\n",
    "\n",
    "recommendation = optimizer.minimize(problem, max_time=1)\n",
    "recommendation.value, problem.evaluations, problem.final_target_hit"
   ]
  },
  {
   "cell_type": "code",
   "execution_count": 14,
   "metadata": {},
   "outputs": [
    {
     "name": "stdout",
     "output_type": "stream",
     "text": [
      "Optimization terminated successfully.\n",
      "         Current function value: 79.480000\n",
      "         Iterations: 65\n",
      "         Function evaluations: 124\n",
      "True\n",
      "Optimization terminated successfully.\n",
      "         Current function value: 394.480000\n",
      "         Iterations: 71\n",
      "         Function evaluations: 138\n",
      "True\n",
      "Optimization terminated successfully.\n",
      "         Current function value: -247.110000\n",
      "         Iterations: 71\n",
      "         Function evaluations: 139\n",
      "True\n",
      "Optimization terminated successfully.\n",
      "         Current function value: -152.040000\n",
      "         Iterations: 72\n",
      "         Function evaluations: 141\n",
      "True\n",
      "Optimization terminated successfully.\n",
      "         Current function value: -25.250000\n",
      "         Iterations: 58\n",
      "         Function evaluations: 114\n",
      "True\n",
      "Optimization terminated successfully.\n",
      "         Current function value: 183.010000\n",
      "         Iterations: 78\n",
      "         Function evaluations: 149\n",
      "True\n",
      "Optimization terminated successfully.\n",
      "         Current function value: 183.520000\n",
      "         Iterations: 71\n",
      "         Function evaluations: 136\n",
      "True\n",
      "Optimization terminated successfully.\n",
      "         Current function value: -593.840000\n",
      "         Iterations: 70\n",
      "         Function evaluations: 135\n",
      "True\n",
      "Optimization terminated successfully.\n",
      "         Current function value: -1000.000000\n",
      "         Iterations: 71\n",
      "         Function evaluations: 137\n",
      "True\n",
      "Optimization terminated successfully.\n",
      "         Current function value: -25.310000\n",
      "         Iterations: 73\n",
      "         Function evaluations: 143\n",
      "True\n",
      "Optimization terminated successfully.\n",
      "         Current function value: 22.280000\n",
      "         Iterations: 58\n",
      "         Function evaluations: 111\n",
      "True\n",
      "Optimization terminated successfully.\n",
      "         Current function value: 356.140000\n",
      "         Iterations: 67\n",
      "         Function evaluations: 126\n",
      "True\n",
      "Optimization terminated successfully.\n",
      "         Current function value: -475.700000\n",
      "         Iterations: 62\n",
      "         Function evaluations: 119\n",
      "True\n",
      "Optimization terminated successfully.\n",
      "         Current function value: -1000.000000\n",
      "         Iterations: 70\n",
      "         Function evaluations: 134\n",
      "True\n",
      "Optimization terminated successfully.\n",
      "         Current function value: -41.580000\n",
      "         Iterations: 56\n",
      "         Function evaluations: 109\n",
      "True\n"
     ]
    }
   ],
   "source": [
    "suite = cocoex.Suite(\"bbob\", \"\", \"function_indices:1 dimensions:2 instance_indices:1-15\")\n",
    "\n",
    "for problem in suite:\n",
    "    xopt = fmin(problem, problem.initial_solution, disp=True)\n",
    "    print(problem.final_target_hit)"
   ]
  }
 ],
 "metadata": {
  "kernelspec": {
   "display_name": "SMAC",
   "language": "python",
   "name": "python3"
  },
  "language_info": {
   "codemirror_mode": {
    "name": "ipython",
    "version": 3
   },
   "file_extension": ".py",
   "mimetype": "text/x-python",
   "name": "python",
   "nbconvert_exporter": "python",
   "pygments_lexer": "ipython3",
   "version": "3.10.15"
  }
 },
 "nbformat": 4,
 "nbformat_minor": 2
}
