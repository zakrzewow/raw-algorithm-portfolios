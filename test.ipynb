{
 "cells": [
  {
   "cell_type": "code",
   "execution_count": 88,
   "metadata": {},
   "outputs": [],
   "source": [
    "import os\n",
    "\n",
    "os.environ[\"SEED\"] = \"0\"\n",
    "os.environ[\"TRAIN_DIR\"] = \"TRAIN\"\n",
    "\n",
    "from src.constant import DATA_DIR, DATABASE_DIR\n",
    "from src.database.queries import *\n",
    "from src.instance.InstanceList import InstanceList\n",
    "from src.instance.TSP_Instance import TSP_from_index_file\n",
    "from src.solver.Portfolio import Portfolio\n",
    "from src.solver.TSP_LKH_Solver import TSP_LKH_Solver\n",
    "import numpy as np"
   ]
  },
  {
   "cell_type": "code",
   "execution_count": null,
   "metadata": {},
   "outputs": [],
   "source": [
    "query = \"\"\"\n",
    "select\n",
    "    solver_id,\n",
    "    filepath,\n",
    "    cost\n",
    "from results\n",
    "join instances on results.instance_id = instances.id\n",
    "\"\"\"\n",
    "\n",
    "explosion = DB(DATABASE_DIR / \"run-phase1-dataset2-993370.db\").query2df(query)\n",
    "expansion = DB(DATABASE_DIR / \"run-phase1-dataset2-993505.db\").query2df(query)\n",
    "\n",
    "cluster_compression = DB(DATABASE_DIR / \"run-phase1-dataset-993244.db\").query2df(query)\n",
    "cluster_compression = cluster_compression.loc[cluster_compression[\"filepath\"].str.contains(\"cluster_netgen|compression\")]\n",
    "\n",
    "grid1 = DB(DATABASE_DIR / \"run-phase1-dataset2-993371.db\").query2df(query)\n",
    "grid1 = grid1.loc[~grid1[\"filepath\"].str.contains(\"014.tsp\")]\n",
    "\n",
    "df = pd.concat([\n",
    "    explosion,\n",
    "    expansion,\n",
    "    cluster_compression,\n",
    "    grid1\n",
    "]).reset_index(drop=True).rename(columns={\"filepath\": \"instance_id\"})\n",
    "df[\"cost\"] = np.where(df[\"cost\"] == 3000.0, df[\"cost\"] / 10, df[\"cost\"])\n",
    "df[\"log_cost\"] = np.log(df[\"cost\"] + 1)\n",
    "df[\"generator\"] = df[\"instance_id\"].apply(lambda x: x.split(\"/\")[-2])"
   ]
  },
  {
   "cell_type": "code",
   "execution_count": 104,
   "metadata": {},
   "outputs": [],
   "source": [
    "solvers = DB(DATABASE_DIR / \"run-phase1-dataset2-993371.db\").get_solvers()"
   ]
  },
  {
   "cell_type": "code",
   "execution_count": 90,
   "metadata": {},
   "outputs": [
    {
     "data": {
      "text/plain": [
       "(500, 94)"
      ]
     },
     "execution_count": 90,
     "metadata": {},
     "output_type": "execute_result"
    }
   ],
   "source": [
    "df[\"solver_id\"].nunique(), df[\"instance_id\"].nunique()"
   ]
  },
  {
   "cell_type": "code",
   "execution_count": 91,
   "metadata": {},
   "outputs": [
    {
     "data": {
      "text/html": [
       "<div>\n",
       "<style scoped>\n",
       "    .dataframe tbody tr th:only-of-type {\n",
       "        vertical-align: middle;\n",
       "    }\n",
       "\n",
       "    .dataframe tbody tr th {\n",
       "        vertical-align: top;\n",
       "    }\n",
       "\n",
       "    .dataframe thead th {\n",
       "        text-align: right;\n",
       "    }\n",
       "</style>\n",
       "<table border=\"1\" class=\"dataframe\">\n",
       "  <thead>\n",
       "    <tr style=\"text-align: right;\">\n",
       "      <th></th>\n",
       "      <th>count</th>\n",
       "      <th>mean</th>\n",
       "      <th>std</th>\n",
       "      <th>min</th>\n",
       "      <th>25%</th>\n",
       "      <th>50%</th>\n",
       "      <th>75%</th>\n",
       "      <th>max</th>\n",
       "    </tr>\n",
       "    <tr>\n",
       "      <th>generator</th>\n",
       "      <th></th>\n",
       "      <th></th>\n",
       "      <th></th>\n",
       "      <th></th>\n",
       "      <th></th>\n",
       "      <th></th>\n",
       "      <th></th>\n",
       "      <th></th>\n",
       "    </tr>\n",
       "  </thead>\n",
       "  <tbody>\n",
       "    <tr>\n",
       "      <th>cluster_netgen</th>\n",
       "      <td>10000.0</td>\n",
       "      <td>92.759172</td>\n",
       "      <td>125.458368</td>\n",
       "      <td>0.0</td>\n",
       "      <td>0.9000</td>\n",
       "      <td>11.12</td>\n",
       "      <td>241.6650</td>\n",
       "      <td>300.0</td>\n",
       "    </tr>\n",
       "    <tr>\n",
       "      <th>compression</th>\n",
       "      <td>10000.0</td>\n",
       "      <td>77.765086</td>\n",
       "      <td>117.799503</td>\n",
       "      <td>0.0</td>\n",
       "      <td>0.6500</td>\n",
       "      <td>6.76</td>\n",
       "      <td>118.5525</td>\n",
       "      <td>300.0</td>\n",
       "    </tr>\n",
       "    <tr>\n",
       "      <th>expansion</th>\n",
       "      <td>10000.0</td>\n",
       "      <td>65.050411</td>\n",
       "      <td>110.715344</td>\n",
       "      <td>0.0</td>\n",
       "      <td>0.2600</td>\n",
       "      <td>3.55</td>\n",
       "      <td>59.2550</td>\n",
       "      <td>300.0</td>\n",
       "    </tr>\n",
       "    <tr>\n",
       "      <th>explosion</th>\n",
       "      <td>10000.0</td>\n",
       "      <td>75.148392</td>\n",
       "      <td>116.659557</td>\n",
       "      <td>0.0</td>\n",
       "      <td>0.6200</td>\n",
       "      <td>5.76</td>\n",
       "      <td>102.7275</td>\n",
       "      <td>300.0</td>\n",
       "    </tr>\n",
       "    <tr>\n",
       "      <th>grid</th>\n",
       "      <td>7000.0</td>\n",
       "      <td>67.732543</td>\n",
       "      <td>113.172511</td>\n",
       "      <td>0.0</td>\n",
       "      <td>0.2775</td>\n",
       "      <td>3.19</td>\n",
       "      <td>70.3375</td>\n",
       "      <td>300.0</td>\n",
       "    </tr>\n",
       "  </tbody>\n",
       "</table>\n",
       "</div>"
      ],
      "text/plain": [
       "                  count       mean         std  min     25%    50%       75%  \\\n",
       "generator                                                                      \n",
       "cluster_netgen  10000.0  92.759172  125.458368  0.0  0.9000  11.12  241.6650   \n",
       "compression     10000.0  77.765086  117.799503  0.0  0.6500   6.76  118.5525   \n",
       "expansion       10000.0  65.050411  110.715344  0.0  0.2600   3.55   59.2550   \n",
       "explosion       10000.0  75.148392  116.659557  0.0  0.6200   5.76  102.7275   \n",
       "grid             7000.0  67.732543  113.172511  0.0  0.2775   3.19   70.3375   \n",
       "\n",
       "                  max  \n",
       "generator              \n",
       "cluster_netgen  300.0  \n",
       "compression     300.0  \n",
       "expansion       300.0  \n",
       "explosion       300.0  \n",
       "grid            300.0  "
      ]
     },
     "execution_count": 91,
     "metadata": {},
     "output_type": "execute_result"
    }
   ],
   "source": [
    "df.groupby(\"generator\")[\"cost\"].describe()"
   ]
  },
  {
   "cell_type": "code",
   "execution_count": 93,
   "metadata": {},
   "outputs": [
    {
     "data": {
      "image/png": "[encoded data removed]",
      "text/plain": [
       "<Figure size 640x480 with 1 Axes>"
      ]
     },
     "metadata": {},
     "output_type": "display_data"
    }
   ],
   "source": [
    "df[\"log_cost\"].plot.hist(bins=50);"
   ]
  },
  {
   "cell_type": "code",
   "execution_count": 100,
   "metadata": {},
   "outputs": [
    {
     "data": {
      "text/plain": [
       "False    0.809851\n",
       "True     0.190149\n",
       "Name: cost, dtype: float64"
      ]
     },
     "execution_count": 100,
     "metadata": {},
     "output_type": "execute_result"
    }
   ],
   "source": [
    "(df[\"cost\"] == 300).value_counts(normalize=True)"
   ]
  }
 ],
 "metadata": {
  "kernelspec": {
   "display_name": "SMAC",
   "language": "python",
   "name": "python3"
  },
  "language_info": {
   "codemirror_mode": {
    "name": "ipython",
    "version": 3
   },
   "file_extension": ".py",
   "mimetype": "text/x-python",
   "name": "python",
   "nbconvert_exporter": "python",
   "pygments_lexer": "ipython3",
   "version": "3.10.15"
  }
 },
 "nbformat": 4,
 "nbformat_minor": 2
}
