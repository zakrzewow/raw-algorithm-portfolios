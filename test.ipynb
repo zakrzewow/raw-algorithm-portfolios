{
 "cells": [
  {
   "cell_type": "code",
   "execution_count": 2,
   "metadata": {},
   "outputs": [],
   "source": [
    "import os\n",
    "\n",
    "os.environ[\"SEED\"] = \"0\"\n",
    "import numpy as np\n",
    "import pandas as pd\n",
    "from ConfigSpace import Configuration\n",
    "\n",
    "from src.aac.AAC import AAC\n",
    "from src.configuration_space.LKH import CONFIGURATION_SPACE\n",
    "from src.constant import DATA_DIR, SEED, DATABASE_DIR, MAIN_DIR\n",
    "from src.database import DB\n",
    "from src.database.queries import *\n",
    "from src.instance.Instance import Instance\n",
    "from src.instance.InstanceList import InstanceList\n",
    "from src.instance.TSP_Instance import TSP_Instance, TSP_train_test_from_index_file, TSP_from_index_file\n",
    "from src.solver.Portfolio import Portfolio\n",
    "from src.solver.TSP_LKH_Solver import TSP_LKH_Solver\n",
    "from src.aac.SurrogateEstimator import Estimator1, SurrogateEstimator"
   ]
  },
  {
   "cell_type": "code",
   "execution_count": 3,
   "metadata": {},
   "outputs": [],
   "source": [
    "test_instances = TSP_from_index_file(\n",
    "    filepath=DATA_DIR / \"TSP\" / \"TEST_600\" / \"index.json\"\n",
    ")"
   ]
  },
  {
   "cell_type": "code",
   "execution_count": null,
   "metadata": {},
   "outputs": [],
   "source": [
    "# import joblib\n",
    "# paths = list((MAIN_DIR / \"_archive\" / \"experiments\" / \"2025-01-27\" / \"200\" / \"database\").glob(\"*.db\"))\n",
    "# for path in paths:\n",
    "#     db = DB(path)\n",
    "\n",
    "#     configured_portfolio_solvers = pd.read_sql_query(\"\"\" \n",
    "#     SELECT DISTINCT solver_id FROM results\n",
    "#     WHERE prefix LIKE 'test%'                  \n",
    "#     \"\"\", db._conn)[\"solver_id\"].to_list()\n",
    "\n",
    "#     portfolio = Portfolio.from_iterable([TSP_LKH_Solver.from_db(id_, db) for id_ in configured_portfolio_solvers])\n",
    "#     joblib.dump(portfolio, MAIN_DIR / \"portfolios\" / \"200\" / f\"{path.stem}.pkl\")\n",
    "\n",
    "# paths = list((MAIN_DIR / \"_archive\" / \"experiments\" / \"2025-01-27\" / \"400\" / \"database\").glob(\"*.db\"))\n",
    "# for path in paths:\n",
    "#     db = DB(path)\n",
    "\n",
    "#     configured_portfolio_solvers = pd.read_sql_query(\"\"\" \n",
    "#     SELECT DISTINCT solver_id FROM results\n",
    "#     WHERE prefix LIKE 'test%'                  \n",
    "#     \"\"\", db._conn)[\"solver_id\"].to_list()\n",
    "\n",
    "#     portfolio = Portfolio.from_iterable([TSP_LKH_Solver.from_db(id_, db) for id_ in configured_portfolio_solvers])\n",
    "#     joblib.dump(portfolio, MAIN_DIR / \"portfolios\" / \"400\" / f\"{path.stem}.pkl\")"
   ]
  },
  {
   "cell_type": "code",
   "execution_count": null,
   "metadata": {},
   "outputs": [
    {
     "name": "stderr",
     "output_type": "stream",
     "text": [
      "[2025-02-10 21:57:41] DEBUG     Portfolio(size=2)[Solver(id=1892086461324458362), Solver(id=737437142660879388)]\n"
     ]
    },
    {
     "name": "stderr",
     "output_type": "stream",
     "text": [
      "[2025-02-10 21:57:41] DEBUG     Portfolio(size=2)[Solver(id=2304390077684693758), Solver(id=1882404664274296862)]\n",
      "[2025-02-10 21:57:41] DEBUG     Portfolio(size=2)[Solver(id=1584083752273863567), Solver(id=1385232175740324506)]\n",
      "[2025-02-10 21:57:41] DEBUG     Portfolio(size=2)[Solver(id=1227613603646233546), Solver(id=1366799117327855071)]\n",
      "[2025-02-10 21:57:41] DEBUG     Portfolio(size=2)[Solver(id=1341915066215952252), Solver(id=47536091475785093)]\n",
      "[2025-02-10 21:57:42] DEBUG     Portfolio(size=2)[Solver(id=1753552968669763749), Solver(id=1337189405234819855)]\n",
      "[2025-02-10 21:57:42] DEBUG     Portfolio(size=2)[Solver(id=568744889761080087), Solver(id=1854507948164173178)]\n",
      "[2025-02-10 21:57:42] DEBUG     Portfolio(size=2)[Solver(id=490255195737833568), Solver(id=249745316546260728)]\n",
      "[2025-02-10 21:57:42] DEBUG     Portfolio(size=2)[Solver(id=589282855798737225), Solver(id=913893667592655585)]\n",
      "[2025-02-10 21:57:42] DEBUG     Portfolio(size=2)[Solver(id=2303733698737981910), Solver(id=2264634812172580080)]\n"
     ]
    }
   ],
   "source": [
    "import joblib\n",
    "\n",
    "paths = list((MAIN_DIR / \"portfolios\" / \"200\").glob(\"run-plain-30-*.pkl\"))\n",
    "for path in paths:\n",
    "    run_id = path.stem.split(\"-\")[-1]\n",
    "    portfolio = joblib.load(path)\n",
    "\n",
    "    for i in range(100):\n",
    "        portfolio.evaluate(\n",
    "            test_instances,\n",
    "            prefix=f\"{run_id};test{i}\",\n",
    "            calculate_features=False,\n",
    "            cache=False,\n",
    "        )"
   ]
  }
 ],
 "metadata": {
  "kernelspec": {
   "display_name": "SMAC",
   "language": "python",
   "name": "python3"
  },
  "language_info": {
   "codemirror_mode": {
    "name": "ipython",
    "version": 3
   },
   "file_extension": ".py",
   "mimetype": "text/x-python",
   "name": "python",
   "nbconvert_exporter": "python",
   "pygments_lexer": "ipython3",
   "version": "3.10.15"
  }
 },
 "nbformat": 4,
 "nbformat_minor": 2
}
