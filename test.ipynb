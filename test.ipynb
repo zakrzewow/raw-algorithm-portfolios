{
 "cells": [
  {
   "cell_type": "code",
   "execution_count": 1,
   "metadata": {},
   "outputs": [
    {
     "name": "stderr",
     "output_type": "stream",
     "text": [
      "[2025-05-01 09:17:38] ERROR     LOADING FEATURES!!!!!\n"
     ]
    }
   ],
   "source": [
    "import os\n",
    "\n",
    "os.environ[\"SEED\"] = \"0\"\n",
    "\n",
    "import numpy as np\n",
    "\n",
    "from src.aac.AAC import AAC\n",
    "from src.constant import DATA_DIR, DATABASE_DIR, MAIN_DIR, SEED\n",
    "from src.database import DB\n",
    "from src.database.queries import get_model_training_data, get_solvers_count\n",
    "from src.experiment import parhydra\n",
    "from src.instance.TSP_Instance import TSP_from_index_file, set_n22_cut_off_time\n",
    "from src.log import logger\n",
    "from src.solver.Portfolio import Portfolio\n",
    "from src.solver.TSP_LKH_Solver import TSP_LKH_Solver\n",
    "from src.surrogate.SurrogatePolicy import (\n",
    "    EvaluationSurrogatePolicyA,\n",
    "    EvaluationSurrogatePolicyB,\n",
    "    EvaluationSurrogatePolicyC,\n",
    "    IterationSurrogatePolicyA,\n",
    "    IterationSurrogatePolicyB,\n",
    "    SurrogatePolicy,\n",
    "    TestSurrogatePolicy,\n",
    ")\n",
    "from src.surrogate.wrapper import EmptyWrapper, SurvivalFunctionWrapper"
   ]
  },
  {
   "cell_type": "code",
   "execution_count": 2,
   "metadata": {},
   "outputs": [
    {
     "data": {
      "text/plain": [
       "InstanceList(size=250)[TSP_Instance(filepath=TSP/TEST/cluster/150.tsp), TSP_Instance(filepath=TSP/TEST/cluster/170.tsp), TSP_Instance(filepath=TSP/TEST/cluster/000.tsp), TSP_Instance(filepath=TSP/TEST/cluster/090.tsp), TSP_Instance(filepath=TSP/TEST/cluster/094.tsp), TSP_Instance(filepath=TSP/TEST/cluster/013.tsp), TSP_Instance(filepath=TSP/TEST/cluster/003.tsp), TSP_Instance(filepath=TSP/TEST/cluster/182.tsp), TSP_Instance(filepath=TSP/TEST/cluster/054.tsp), TSP_Instance(filepath=TSP/TEST/cluster/120.tsp), TSP_Instance(filepath=TSP/TEST/cluster/055.tsp), TSP_Instance(filepath=TSP/TEST/cluster/007.tsp), TSP_Instance(filepath=TSP/TEST/cluster/108.tsp), TSP_Instance(filepath=TSP/TEST/cluster/104.tsp), TSP_Instance(filepath=TSP/TEST/cluster/032.tsp), TSP_Instance(filepath=TSP/TEST/cluster/132.tsp), TSP_Instance(filepath=TSP/TEST/cluster/184.tsp), TSP_Instance(filepath=TSP/TEST/cluster/112.tsp), TSP_Instance(filepath=TSP/TEST/cluster/048.tsp), TSP_Instance(filepath=TSP/TEST/cluster/078.tsp), TSP_Instance(filepath=TSP/TEST/cluster/139.tsp), TSP_Instance(filepath=TSP/TEST/cluster/121.tsp), TSP_Instance(filepath=TSP/TEST/cluster/149.tsp), TSP_Instance(filepath=TSP/TEST/cluster/114.tsp), TSP_Instance(filepath=TSP/TEST/cluster/160.tsp), TSP_Instance(filepath=TSP/TEST/cluster_netgen/167.tsp), TSP_Instance(filepath=TSP/TEST/cluster_netgen/084.tsp), TSP_Instance(filepath=TSP/TEST/cluster_netgen/108.tsp), TSP_Instance(filepath=TSP/TEST/cluster_netgen/073.tsp), TSP_Instance(filepath=TSP/TEST/cluster_netgen/175.tsp), TSP_Instance(filepath=TSP/TEST/cluster_netgen/139.tsp), TSP_Instance(filepath=TSP/TEST/cluster_netgen/061.tsp), TSP_Instance(filepath=TSP/TEST/cluster_netgen/164.tsp), TSP_Instance(filepath=TSP/TEST/cluster_netgen/068.tsp), TSP_Instance(filepath=TSP/TEST/cluster_netgen/082.tsp), TSP_Instance(filepath=TSP/TEST/cluster_netgen/133.tsp), TSP_Instance(filepath=TSP/TEST/cluster_netgen/025.tsp), TSP_Instance(filepath=TSP/TEST/cluster_netgen/178.tsp), TSP_Instance(filepath=TSP/TEST/cluster_netgen/126.tsp), TSP_Instance(filepath=TSP/TEST/cluster_netgen/097.tsp), TSP_Instance(filepath=TSP/TEST/cluster_netgen/145.tsp), TSP_Instance(filepath=TSP/TEST/cluster_netgen/179.tsp), TSP_Instance(filepath=TSP/TEST/cluster_netgen/120.tsp), TSP_Instance(filepath=TSP/TEST/cluster_netgen/129.tsp), TSP_Instance(filepath=TSP/TEST/cluster_netgen/069.tsp), TSP_Instance(filepath=TSP/TEST/cluster_netgen/157.tsp), TSP_Instance(filepath=TSP/TEST/cluster_netgen/102.tsp), TSP_Instance(filepath=TSP/TEST/cluster_netgen/135.tsp), TSP_Instance(filepath=TSP/TEST/cluster_netgen/196.tsp), TSP_Instance(filepath=TSP/TEST/cluster_netgen/111.tsp), TSP_Instance(filepath=TSP/TEST/compression/086.tsp), TSP_Instance(filepath=TSP/TEST/compression/014.tsp), TSP_Instance(filepath=TSP/TEST/compression/140.tsp), TSP_Instance(filepath=TSP/TEST/compression/147.tsp), TSP_Instance(filepath=TSP/TEST/compression/136.tsp), TSP_Instance(filepath=TSP/TEST/compression/010.tsp), TSP_Instance(filepath=TSP/TEST/compression/160.tsp), TSP_Instance(filepath=TSP/TEST/compression/196.tsp), TSP_Instance(filepath=TSP/TEST/compression/044.tsp), TSP_Instance(filepath=TSP/TEST/compression/144.tsp), TSP_Instance(filepath=TSP/TEST/compression/199.tsp), TSP_Instance(filepath=TSP/TEST/compression/066.tsp), TSP_Instance(filepath=TSP/TEST/compression/150.tsp), TSP_Instance(filepath=TSP/TEST/compression/124.tsp), TSP_Instance(filepath=TSP/TEST/compression/080.tsp), TSP_Instance(filepath=TSP/TEST/compression/163.tsp), TSP_Instance(filepath=TSP/TEST/compression/062.tsp), TSP_Instance(filepath=TSP/TEST/compression/171.tsp), TSP_Instance(filepath=TSP/TEST/compression/043.tsp), TSP_Instance(filepath=TSP/TEST/compression/153.tsp), TSP_Instance(filepath=TSP/TEST/compression/107.tsp), TSP_Instance(filepath=TSP/TEST/compression/028.tsp), TSP_Instance(filepath=TSP/TEST/compression/071.tsp), TSP_Instance(filepath=TSP/TEST/compression/112.tsp), TSP_Instance(filepath=TSP/TEST/compression/056.tsp), TSP_Instance(filepath=TSP/TEST/expansion/082.tsp), TSP_Instance(filepath=TSP/TEST/expansion/146.tsp), TSP_Instance(filepath=TSP/TEST/expansion/076.tsp), TSP_Instance(filepath=TSP/TEST/expansion/111.tsp), TSP_Instance(filepath=TSP/TEST/expansion/077.tsp), TSP_Instance(filepath=TSP/TEST/expansion/112.tsp), TSP_Instance(filepath=TSP/TEST/expansion/171.tsp), TSP_Instance(filepath=TSP/TEST/expansion/063.tsp), TSP_Instance(filepath=TSP/TEST/expansion/086.tsp), TSP_Instance(filepath=TSP/TEST/expansion/183.tsp), TSP_Instance(filepath=TSP/TEST/expansion/034.tsp), TSP_Instance(filepath=TSP/TEST/expansion/168.tsp), TSP_Instance(filepath=TSP/TEST/expansion/003.tsp), TSP_Instance(filepath=TSP/TEST/expansion/056.tsp), TSP_Instance(filepath=TSP/TEST/expansion/176.tsp), TSP_Instance(filepath=TSP/TEST/expansion/143.tsp), TSP_Instance(filepath=TSP/TEST/expansion/095.tsp), TSP_Instance(filepath=TSP/TEST/expansion/157.tsp), TSP_Instance(filepath=TSP/TEST/expansion/044.tsp), TSP_Instance(filepath=TSP/TEST/expansion/088.tsp), TSP_Instance(filepath=TSP/TEST/expansion/008.tsp), TSP_Instance(filepath=TSP/TEST/expansion/154.tsp), TSP_Instance(filepath=TSP/TEST/expansion/015.tsp), TSP_Instance(filepath=TSP/TEST/expansion/081.tsp), TSP_Instance(filepath=TSP/TEST/expansion/102.tsp), TSP_Instance(filepath=TSP/TEST/explosion/086.tsp), TSP_Instance(filepath=TSP/TEST/explosion/007.tsp), TSP_Instance(filepath=TSP/TEST/explosion/164.tsp), TSP_Instance(filepath=TSP/TEST/explosion/181.tsp), TSP_Instance(filepath=TSP/TEST/explosion/085.tsp), TSP_Instance(filepath=TSP/TEST/explosion/172.tsp), TSP_Instance(filepath=TSP/TEST/explosion/025.tsp), TSP_Instance(filepath=TSP/TEST/explosion/148.tsp), TSP_Instance(filepath=TSP/TEST/explosion/081.tsp), TSP_Instance(filepath=TSP/TEST/explosion/041.tsp), TSP_Instance(filepath=TSP/TEST/explosion/028.tsp), TSP_Instance(filepath=TSP/TEST/explosion/147.tsp), TSP_Instance(filepath=TSP/TEST/explosion/050.tsp), TSP_Instance(filepath=TSP/TEST/explosion/126.tsp), TSP_Instance(filepath=TSP/TEST/explosion/042.tsp), TSP_Instance(filepath=TSP/TEST/explosion/068.tsp), TSP_Instance(filepath=TSP/TEST/explosion/145.tsp), TSP_Instance(filepath=TSP/TEST/explosion/157.tsp), TSP_Instance(filepath=TSP/TEST/explosion/161.tsp), TSP_Instance(filepath=TSP/TEST/explosion/059.tsp), TSP_Instance(filepath=TSP/TEST/explosion/036.tsp), TSP_Instance(filepath=TSP/TEST/explosion/135.tsp), TSP_Instance(filepath=TSP/TEST/explosion/064.tsp), TSP_Instance(filepath=TSP/TEST/explosion/182.tsp), TSP_Instance(filepath=TSP/TEST/explosion/102.tsp), TSP_Instance(filepath=TSP/TEST/grid/110.tsp), TSP_Instance(filepath=TSP/TEST/grid/046.tsp), TSP_Instance(filepath=TSP/TEST/grid/043.tsp), TSP_Instance(filepath=TSP/TEST/grid/149.tsp), TSP_Instance(filepath=TSP/TEST/grid/112.tsp), TSP_Instance(filepath=TSP/TEST/grid/100.tsp), TSP_Instance(filepath=TSP/TEST/grid/153.tsp), TSP_Instance(filepath=TSP/TEST/grid/054.tsp), TSP_Instance(filepath=TSP/TEST/grid/090.tsp), TSP_Instance(filepath=TSP/TEST/grid/163.tsp), TSP_Instance(filepath=TSP/TEST/grid/170.tsp), TSP_Instance(filepath=TSP/TEST/grid/107.tsp), TSP_Instance(filepath=TSP/TEST/grid/136.tsp), TSP_Instance(filepath=TSP/TEST/grid/038.tsp), TSP_Instance(filepath=TSP/TEST/grid/024.tsp), TSP_Instance(filepath=TSP/TEST/grid/049.tsp), TSP_Instance(filepath=TSP/TEST/grid/042.tsp), TSP_Instance(filepath=TSP/TEST/grid/158.tsp), TSP_Instance(filepath=TSP/TEST/grid/147.tsp), TSP_Instance(filepath=TSP/TEST/grid/187.tsp), TSP_Instance(filepath=TSP/TEST/grid/012.tsp), TSP_Instance(filepath=TSP/TEST/grid/165.tsp), TSP_Instance(filepath=TSP/TEST/grid/057.tsp), TSP_Instance(filepath=TSP/TEST/grid/040.tsp), TSP_Instance(filepath=TSP/TEST/grid/023.tsp), TSP_Instance(filepath=TSP/TEST/implosion/135.tsp), TSP_Instance(filepath=TSP/TEST/implosion/074.tsp), TSP_Instance(filepath=TSP/TEST/implosion/081.tsp), TSP_Instance(filepath=TSP/TEST/implosion/048.tsp), TSP_Instance(filepath=TSP/TEST/implosion/185.tsp), TSP_Instance(filepath=TSP/TEST/implosion/123.tsp), TSP_Instance(filepath=TSP/TEST/implosion/184.tsp), TSP_Instance(filepath=TSP/TEST/implosion/193.tsp), TSP_Instance(filepath=TSP/TEST/implosion/001.tsp), TSP_Instance(filepath=TSP/TEST/implosion/150.tsp), TSP_Instance(filepath=TSP/TEST/implosion/140.tsp), TSP_Instance(filepath=TSP/TEST/implosion/099.tsp), TSP_Instance(filepath=TSP/TEST/implosion/154.tsp), TSP_Instance(filepath=TSP/TEST/implosion/104.tsp), TSP_Instance(filepath=TSP/TEST/implosion/052.tsp), TSP_Instance(filepath=TSP/TEST/implosion/172.tsp), TSP_Instance(filepath=TSP/TEST/implosion/182.tsp), TSP_Instance(filepath=TSP/TEST/implosion/007.tsp), TSP_Instance(filepath=TSP/TEST/implosion/153.tsp), TSP_Instance(filepath=TSP/TEST/implosion/020.tsp), TSP_Instance(filepath=TSP/TEST/implosion/024.tsp), TSP_Instance(filepath=TSP/TEST/implosion/067.tsp), TSP_Instance(filepath=TSP/TEST/implosion/018.tsp), TSP_Instance(filepath=TSP/TEST/implosion/014.tsp), TSP_Instance(filepath=TSP/TEST/implosion/145.tsp), TSP_Instance(filepath=TSP/TEST/linearprojection/194.tsp), TSP_Instance(filepath=TSP/TEST/linearprojection/134.tsp), TSP_Instance(filepath=TSP/TEST/linearprojection/180.tsp), TSP_Instance(filepath=TSP/TEST/linearprojection/110.tsp), TSP_Instance(filepath=TSP/TEST/linearprojection/048.tsp), TSP_Instance(filepath=TSP/TEST/linearprojection/175.tsp), TSP_Instance(filepath=TSP/TEST/linearprojection/098.tsp), TSP_Instance(filepath=TSP/TEST/linearprojection/032.tsp), TSP_Instance(filepath=TSP/TEST/linearprojection/160.tsp), TSP_Instance(filepath=TSP/TEST/linearprojection/049.tsp), TSP_Instance(filepath=TSP/TEST/linearprojection/107.tsp), TSP_Instance(filepath=TSP/TEST/linearprojection/056.tsp), TSP_Instance(filepath=TSP/TEST/linearprojection/020.tsp), TSP_Instance(filepath=TSP/TEST/linearprojection/183.tsp), TSP_Instance(filepath=TSP/TEST/linearprojection/124.tsp), TSP_Instance(filepath=TSP/TEST/linearprojection/149.tsp), TSP_Instance(filepath=TSP/TEST/linearprojection/050.tsp), TSP_Instance(filepath=TSP/TEST/linearprojection/027.tsp), TSP_Instance(filepath=TSP/TEST/linearprojection/143.tsp), TSP_Instance(filepath=TSP/TEST/linearprojection/182.tsp), TSP_Instance(filepath=TSP/TEST/linearprojection/189.tsp), TSP_Instance(filepath=TSP/TEST/linearprojection/011.tsp), TSP_Instance(filepath=TSP/TEST/linearprojection/166.tsp), TSP_Instance(filepath=TSP/TEST/linearprojection/121.tsp), TSP_Instance(filepath=TSP/TEST/linearprojection/130.tsp), TSP_Instance(filepath=TSP/TEST/rotation/177.tsp), TSP_Instance(filepath=TSP/TEST/rotation/183.tsp), TSP_Instance(filepath=TSP/TEST/rotation/096.tsp), TSP_Instance(filepath=TSP/TEST/rotation/078.tsp), TSP_Instance(filepath=TSP/TEST/rotation/110.tsp), TSP_Instance(filepath=TSP/TEST/rotation/189.tsp), TSP_Instance(filepath=TSP/TEST/rotation/037.tsp), TSP_Instance(filepath=TSP/TEST/rotation/100.tsp), TSP_Instance(filepath=TSP/TEST/rotation/178.tsp), TSP_Instance(filepath=TSP/TEST/rotation/059.tsp), TSP_Instance(filepath=TSP/TEST/rotation/133.tsp), TSP_Instance(filepath=TSP/TEST/rotation/117.tsp), TSP_Instance(filepath=TSP/TEST/rotation/017.tsp), TSP_Instance(filepath=TSP/TEST/rotation/173.tsp), TSP_Instance(filepath=TSP/TEST/rotation/148.tsp), TSP_Instance(filepath=TSP/TEST/rotation/035.tsp), TSP_Instance(filepath=TSP/TEST/rotation/001.tsp), TSP_Instance(filepath=TSP/TEST/rotation/126.tsp), TSP_Instance(filepath=TSP/TEST/rotation/107.tsp), TSP_Instance(filepath=TSP/TEST/rotation/014.tsp), TSP_Instance(filepath=TSP/TEST/rotation/138.tsp), TSP_Instance(filepath=TSP/TEST/rotation/181.tsp), TSP_Instance(filepath=TSP/TEST/rotation/111.tsp), TSP_Instance(filepath=TSP/TEST/rotation/127.tsp), TSP_Instance(filepath=TSP/TEST/rotation/068.tsp), TSP_Instance(filepath=TSP/TEST/uniform_portgen/190.tsp), TSP_Instance(filepath=TSP/TEST/uniform_portgen/117.tsp), TSP_Instance(filepath=TSP/TEST/uniform_portgen/159.tsp), TSP_Instance(filepath=TSP/TEST/uniform_portgen/124.tsp), TSP_Instance(filepath=TSP/TEST/uniform_portgen/101.tsp), TSP_Instance(filepath=TSP/TEST/uniform_portgen/013.tsp), TSP_Instance(filepath=TSP/TEST/uniform_portgen/161.tsp), TSP_Instance(filepath=TSP/TEST/uniform_portgen/038.tsp), TSP_Instance(filepath=TSP/TEST/uniform_portgen/004.tsp), TSP_Instance(filepath=TSP/TEST/uniform_portgen/139.tsp), TSP_Instance(filepath=TSP/TEST/uniform_portgen/148.tsp), TSP_Instance(filepath=TSP/TEST/uniform_portgen/021.tsp), TSP_Instance(filepath=TSP/TEST/uniform_portgen/007.tsp), TSP_Instance(filepath=TSP/TEST/uniform_portgen/012.tsp), TSP_Instance(filepath=TSP/TEST/uniform_portgen/031.tsp), TSP_Instance(filepath=TSP/TEST/uniform_portgen/129.tsp), TSP_Instance(filepath=TSP/TEST/uniform_portgen/093.tsp), TSP_Instance(filepath=TSP/TEST/uniform_portgen/106.tsp), TSP_Instance(filepath=TSP/TEST/uniform_portgen/091.tsp), TSP_Instance(filepath=TSP/TEST/uniform_portgen/184.tsp), TSP_Instance(filepath=TSP/TEST/uniform_portgen/049.tsp), TSP_Instance(filepath=TSP/TEST/uniform_portgen/022.tsp), TSP_Instance(filepath=TSP/TEST/uniform_portgen/023.tsp), TSP_Instance(filepath=TSP/TEST/uniform_portgen/061.tsp), TSP_Instance(filepath=TSP/TEST/uniform_portgen/068.tsp)]"
      ]
     },
     "execution_count": 2,
     "metadata": {},
     "output_type": "execute_result"
    }
   ],
   "source": [
    "train_instances = TSP_from_index_file(\n",
    "    filepath=DATA_DIR / \"TSP\" / \"TRAIN\" / \"index.json\",\n",
    "    cut_off_cost=100,\n",
    "    cut_off_time=10,\n",
    "    n=5,\n",
    "    seed=SEED\n",
    ")\n",
    "test_instances = TSP_from_index_file(\n",
    "    filepath=DATA_DIR / \"TSP\" / \"TEST\" / \"index.json\",\n",
    "    cut_off_cost=1000,\n",
    "    cut_off_time=100,\n",
    "    n=250,\n",
    "    seed=0\n",
    ")\n",
    "test_instances"
   ]
  },
  {
   "cell_type": "code",
   "execution_count": 3,
   "metadata": {},
   "outputs": [],
   "source": [
    "train_instances = set_n22_cut_off_time(train_instances, reference_cut_off_time=10.0)"
   ]
  },
  {
   "cell_type": "code",
   "execution_count": 4,
   "metadata": {},
   "outputs": [],
   "source": [
    "# surrogate_policy = TestSurrogatePolicy(\n",
    "#     first_fit_solver_count=5,\n",
    "#     refit_solver_count=2,\n",
    "# )\n",
    "\n",
    "surrogate_policy = EvaluationSurrogatePolicyA(\n",
    "    first_fit_solver_count=5,\n",
    "    refit_solver_count=2,\n",
    "    pct_chance=0.5,\n",
    ")\n",
    "\n",
    "# surrogate_policy = EvaluationSurrogatePolicyB(\n",
    "#     first_fit_solver_count=5,\n",
    "#     refit_solver_count=2,\n",
    "#     reevaluate_pct=0.5,\n",
    "# )\n",
    "\n",
    "# surrogate_policy = EvaluationSurrogatePolicyC(\n",
    "#     first_fit_solver_count=5,\n",
    "#     refit_solver_count=2,\n",
    "#     reevaluate_factor=1.0,\n",
    "# )\n",
    "\n",
    "# surrogate_policy = IterationSurrogatePolicyA(\n",
    "#     first_fit_solver_count=5,\n",
    "#     refit_solver_count=2,\n",
    "#     iter_diff=2,\n",
    "# )\n",
    "\n",
    "# surrogate_policy = IterationSurrogatePolicyB(\n",
    "#     first_fit_solver_count=5,\n",
    "#     refit_solver_count=2,\n",
    "# )"
   ]
  },
  {
   "cell_type": "code",
   "execution_count": 5,
   "metadata": {},
   "outputs": [
    {
     "name": "stderr",
     "output_type": "stream",
     "text": [
      "[2025-05-01 09:17:42] INFO      Solver 1/1\n",
      "[2025-05-01 09:17:42] INFO      Attempt 1/1\n",
      "[2025-05-01 09:17:42] DEBUG     AAC(prefix=config;solver=1;attempt=1, iter=1/30)\n",
      "[2025-05-01 09:17:42] DEBUG     SurrogatePolicy(estimator_wrapper=None, first_fit_solver_count=5, refit_solver_count=2, last_fit_solver_count=0, is_fitted=False)\n",
      "[2025-05-01 09:17:42] DEBUG     SurrogatePolicy.notify_iter(solver_count=0)\n",
      "[2025-05-01 09:17:42] DEBUG     Portfolio.evaluate(config;solver=1;attempt=1;aac_iter=1)\n",
      "[2025-05-01 09:17:42] DEBUG     Portfolio(size=1)[Solver(id=52980316141715150)]\n",
      "[2025-05-01 09:17:42] DEBUG     solve(prefix=config;solver=1;attempt=1;aac_iter=1, solver=Solver(id=52980316141715150), instance=TSP_Instance(filepath=TSP/TRAIN/cluster_netgen/170.tsp))\n",
      "[2025-05-01 09:17:42] DEBUG     calculate_features(instance=TSP_Instance(filepath=TSP/TRAIN/cluster_netgen/170.tsp))\n",
      "[2025-05-01 09:17:42] DEBUG     solve(prefix=config;solver=1;attempt=1;aac_iter=1, solver=Solver(id=52980316141715150), instance=TSP_Instance(filepath=TSP/TRAIN/compression/127.tsp))\n",
      "[2025-05-01 09:17:42] DEBUG     calculate_features(instance=TSP_Instance(filepath=TSP/TRAIN/compression/127.tsp))\n",
      "[2025-05-01 09:17:42] DEBUG     solve(prefix=config;solver=1;attempt=1;aac_iter=1, solver=Solver(id=52980316141715150), instance=TSP_Instance(filepath=TSP/TRAIN/expansion/102.tsp))\n",
      "[2025-05-01 09:17:42] DEBUG     calculate_features(instance=TSP_Instance(filepath=TSP/TRAIN/expansion/102.tsp))\n",
      "[2025-05-01 09:17:42] DEBUG     solve(prefix=config;solver=1;attempt=1;aac_iter=1, solver=Solver(id=52980316141715150), instance=TSP_Instance(filepath=TSP/TRAIN/explosion/053.tsp))\n",
      "[2025-05-01 09:17:42] DEBUG     calculate_features(instance=TSP_Instance(filepath=TSP/TRAIN/explosion/053.tsp))\n",
      "[2025-05-01 09:17:42] DEBUG     solve(prefix=config;solver=1;attempt=1;aac_iter=1, solver=Solver(id=52980316141715150), instance=TSP_Instance(filepath=TSP/TRAIN/grid/061.tsp))\n",
      "[2025-05-01 09:17:42] DEBUG     calculate_features(instance=TSP_Instance(filepath=TSP/TRAIN/grid/061.tsp))\n",
      "[2025-05-01 09:17:49] DEBUG     Solver.Result(prefix=config;solver=1;attempt=1;aac_iter=1, solver=Solver(id=52980316141715150), instance=TSP_Instance(filepath=TSP/TRAIN/explosion/053.tsp), cost=9.70, time=1.71, cut_off_cost=9.70, cut_off_time=0.97, cached=False, surrogate=False, error=False)\n",
      "[2025-05-01 09:17:50] DEBUG     Solver.Result(prefix=config;solver=1;attempt=1;aac_iter=1, solver=Solver(id=52980316141715150), instance=TSP_Instance(filepath=TSP/TRAIN/expansion/102.tsp), cost=11.20, time=1.95, cut_off_cost=11.20, cut_off_time=1.12, cached=False, surrogate=False, error=True)\n",
      "[2025-05-01 09:17:51] DEBUG     Solver.Result(prefix=config;solver=1;attempt=1;aac_iter=1, solver=Solver(id=52980316141715150), instance=TSP_Instance(filepath=TSP/TRAIN/compression/127.tsp), cost=65.20, time=8.10, cut_off_cost=65.20, cut_off_time=6.52, cached=False, surrogate=False, error=False)\n",
      "[2025-05-01 09:17:51] DEBUG     Solver.Result(prefix=config;solver=1;attempt=1;aac_iter=1, solver=Solver(id=52980316141715150), instance=TSP_Instance(filepath=TSP/TRAIN/cluster_netgen/170.tsp), cost=19.10, time=2.83, cut_off_cost=19.10, cut_off_time=1.91, cached=False, surrogate=False, error=True)\n",
      "[2025-05-01 09:17:52] DEBUG     Solver.Result(prefix=config;solver=1;attempt=1;aac_iter=1, solver=Solver(id=52980316141715150), instance=TSP_Instance(filepath=TSP/TRAIN/grid/061.tsp), cost=80.60, time=9.61, cut_off_cost=80.60, cut_off_time=8.06, cached=False, surrogate=False, error=False)\n"
     ]
    },
    {
     "ename": "KeyboardInterrupt",
     "evalue": "",
     "output_type": "error",
     "traceback": [
      "\u001b[1;31m---------------------------------------------------------------------------\u001b[0m",
      "\u001b[1;31mKeyboardInterrupt\u001b[0m                         Traceback (most recent call last)",
      "Cell \u001b[1;32mIn[5], line 5\u001b[0m\n\u001b[0;32m      2\u001b[0m ATTEMPTS_N \u001b[38;5;241m=\u001b[39m \u001b[38;5;241m1\u001b[39m\n\u001b[0;32m      3\u001b[0m MAX_ITER \u001b[38;5;241m=\u001b[39m \u001b[38;5;241m30\u001b[39m\n\u001b[1;32m----> 5\u001b[0m portfolio \u001b[38;5;241m=\u001b[39m \u001b[43mparhydra\u001b[49m\u001b[43m(\u001b[49m\n\u001b[0;32m      6\u001b[0m \u001b[43m    \u001b[49m\u001b[43mtrain_instances\u001b[49m\u001b[38;5;241;43m=\u001b[39;49m\u001b[43mtrain_instances\u001b[49m\u001b[43m,\u001b[49m\n\u001b[0;32m      7\u001b[0m \u001b[43m    \u001b[49m\u001b[43msurrogate_policy\u001b[49m\u001b[38;5;241;43m=\u001b[39;49m\u001b[43msurrogate_policy\u001b[49m\u001b[43m,\u001b[49m\n\u001b[0;32m      8\u001b[0m \u001b[43m    \u001b[49m\u001b[43mSOLVERS_N\u001b[49m\u001b[38;5;241;43m=\u001b[39;49m\u001b[43mSOLVERS_N\u001b[49m\u001b[43m,\u001b[49m\n\u001b[0;32m      9\u001b[0m \u001b[43m    \u001b[49m\u001b[43mATTEMPTS_N\u001b[49m\u001b[38;5;241;43m=\u001b[39;49m\u001b[43mATTEMPTS_N\u001b[49m\u001b[43m,\u001b[49m\n\u001b[0;32m     10\u001b[0m \u001b[43m    \u001b[49m\u001b[43mMAX_ITER\u001b[49m\u001b[38;5;241;43m=\u001b[39;49m\u001b[43mMAX_ITER\u001b[49m\u001b[43m,\u001b[49m\n\u001b[0;32m     11\u001b[0m \u001b[43m)\u001b[49m\n",
      "File \u001b[1;32mc:\\Users\\zakrz\\Documents\\DataScience\\praca magisterska\\raw-algorithm-portfolios\\src\\experiment\\parhydra.py:47\u001b[0m, in \u001b[0;36mparhydra\u001b[1;34m(train_instances, surrogate_policy, SOLVERS_N, ATTEMPTS_N, MAX_ITER)\u001b[0m\n\u001b[0;32m     37\u001b[0m portfolio \u001b[38;5;241m=\u001b[39m Portfolio\u001b[38;5;241m.\u001b[39mfrom_iterable(iteration_solvers)\n\u001b[0;32m     38\u001b[0m aac \u001b[38;5;241m=\u001b[39m AAC(\n\u001b[0;32m     39\u001b[0m     portfolio\u001b[38;5;241m=\u001b[39mportfolio,\n\u001b[0;32m     40\u001b[0m     instance_list\u001b[38;5;241m=\u001b[39mtrain_instances,\n\u001b[1;32m   (...)\u001b[0m\n\u001b[0;32m     45\u001b[0m     surrogate_policy\u001b[38;5;241m=\u001b[39msurrogate_policy,\n\u001b[0;32m     46\u001b[0m )\n\u001b[1;32m---> 47\u001b[0m portfolio \u001b[38;5;241m=\u001b[39m \u001b[43maac\u001b[49m\u001b[38;5;241;43m.\u001b[39;49m\u001b[43mconfigure\u001b[49m\u001b[43m(\u001b[49m\u001b[43m)\u001b[49m\n\u001b[0;32m     48\u001b[0m set_n22_cut_off_time(train_instances, reference_cut_off_time\u001b[38;5;241m=\u001b[39m\u001b[38;5;241m10.0\u001b[39m)\n\u001b[0;32m     49\u001b[0m result \u001b[38;5;241m=\u001b[39m portfolio\u001b[38;5;241m.\u001b[39mevaluate(\n\u001b[0;32m     50\u001b[0m     instance_list\u001b[38;5;241m=\u001b[39mtrain_instances,\n\u001b[0;32m     51\u001b[0m     prefix\u001b[38;5;241m=\u001b[39m\u001b[38;5;124mf\u001b[39m\u001b[38;5;124m\"\u001b[39m\u001b[38;5;124mvalidate;solver=\u001b[39m\u001b[38;5;132;01m{\u001b[39;00msolver_i\u001b[38;5;241m+\u001b[39m\u001b[38;5;241m1\u001b[39m\u001b[38;5;132;01m}\u001b[39;00m\u001b[38;5;124m;attempt=\u001b[39m\u001b[38;5;132;01m{\u001b[39;00mattempt_i\u001b[38;5;241m+\u001b[39m\u001b[38;5;241m1\u001b[39m\u001b[38;5;132;01m}\u001b[39;00m\u001b[38;5;124m\"\u001b[39m,\n\u001b[0;32m     52\u001b[0m     calculate_features\u001b[38;5;241m=\u001b[39m\u001b[38;5;28;01mTrue\u001b[39;00m,\n\u001b[0;32m     53\u001b[0m     cache\u001b[38;5;241m=\u001b[39m\u001b[38;5;28;01mTrue\u001b[39;00m,\n\u001b[0;32m     54\u001b[0m )\n",
      "File \u001b[1;32mc:\\Users\\zakrz\\Documents\\DataScience\\praca magisterska\\raw-algorithm-portfolios\\src\\aac\\AAC.py:123\u001b[0m, in \u001b[0;36mAAC.configure\u001b[1;34m(self)\u001b[0m\n\u001b[0;32m    122\u001b[0m \u001b[38;5;28;01mdef\u001b[39;00m \u001b[38;5;21mconfigure\u001b[39m(\u001b[38;5;28mself\u001b[39m) \u001b[38;5;241m-\u001b[39m\u001b[38;5;241m>\u001b[39m Portfolio:\n\u001b[1;32m--> 123\u001b[0m     \u001b[38;5;28;01mfor\u001b[39;00m _ \u001b[38;5;129;01min\u001b[39;00m \u001b[38;5;28mself\u001b[39m\u001b[38;5;241m.\u001b[39mconfigure_iter():\n\u001b[0;32m    124\u001b[0m         \u001b[38;5;28;01mpass\u001b[39;00m\n\u001b[0;32m    125\u001b[0m     \u001b[38;5;28;01mreturn\u001b[39;00m \u001b[38;5;28mself\u001b[39m\u001b[38;5;241m.\u001b[39m_portfolio\n",
      "File \u001b[1;32mc:\\Users\\zakrz\\Documents\\DataScience\\praca magisterska\\raw-algorithm-portfolios\\src\\aac\\AAC.py:98\u001b[0m, in \u001b[0;36mAAC.configure_iter\u001b[1;34m(self)\u001b[0m\n\u001b[0;32m     96\u001b[0m \u001b[38;5;28mself\u001b[39m\u001b[38;5;241m.\u001b[39m_portfolio\u001b[38;5;241m.\u001b[39mupdate_solvers(trial_info\u001b[38;5;241m.\u001b[39mconfig)\n\u001b[0;32m     97\u001b[0m \u001b[38;5;28mself\u001b[39m\u001b[38;5;241m.\u001b[39m_surrogate_policy\u001b[38;5;241m.\u001b[39mnotify_iter(\u001b[38;5;28mself\u001b[39m\u001b[38;5;241m.\u001b[39miter)\n\u001b[1;32m---> 98\u001b[0m result \u001b[38;5;241m=\u001b[39m \u001b[38;5;28;43mself\u001b[39;49m\u001b[38;5;241;43m.\u001b[39;49m\u001b[43m_portfolio\u001b[49m\u001b[38;5;241;43m.\u001b[39;49m\u001b[43mevaluate\u001b[49m\u001b[43m(\u001b[49m\n\u001b[0;32m     99\u001b[0m \u001b[43m    \u001b[49m\u001b[43minstance_list\u001b[49m\u001b[38;5;241;43m=\u001b[39;49m\u001b[38;5;28;43mself\u001b[39;49m\u001b[38;5;241;43m.\u001b[39;49m\u001b[43m_instance_list\u001b[49m\u001b[43m,\u001b[49m\n\u001b[0;32m    100\u001b[0m \u001b[43m    \u001b[49m\u001b[43mprefix\u001b[49m\u001b[38;5;241;43m=\u001b[39;49m\u001b[38;5;28;43mself\u001b[39;49m\u001b[38;5;241;43m.\u001b[39;49m\u001b[43m_get_iteration_prefix\u001b[49m\u001b[43m(\u001b[49m\u001b[43m)\u001b[49m\u001b[43m,\u001b[49m\n\u001b[0;32m    101\u001b[0m \u001b[43m    \u001b[49m\u001b[43mcalculate_features\u001b[49m\u001b[38;5;241;43m=\u001b[39;49m\u001b[38;5;28;43mself\u001b[39;49m\u001b[38;5;241;43m.\u001b[39;49m\u001b[43m_calculate_features\u001b[49m\u001b[43m,\u001b[49m\n\u001b[0;32m    102\u001b[0m \u001b[43m    \u001b[49m\u001b[43mcache\u001b[49m\u001b[38;5;241;43m=\u001b[39;49m\u001b[38;5;28;43;01mTrue\u001b[39;49;00m\u001b[43m,\u001b[49m\n\u001b[0;32m    103\u001b[0m \u001b[43m    \u001b[49m\u001b[43msurrogate_policy\u001b[49m\u001b[38;5;241;43m=\u001b[39;49m\u001b[38;5;28;43mself\u001b[39;49m\u001b[38;5;241;43m.\u001b[39;49m\u001b[43m_surrogate_policy\u001b[49m\u001b[43m,\u001b[49m\n\u001b[0;32m    104\u001b[0m \u001b[43m\u001b[49m\u001b[43m)\u001b[49m\n\u001b[0;32m    105\u001b[0m \u001b[38;5;28;01mif\u001b[39;00m \u001b[38;5;28mself\u001b[39m\u001b[38;5;241m.\u001b[39m_surrogate_policy\u001b[38;5;241m.\u001b[39mshould_reevaluate_portfolio(\n\u001b[0;32m    106\u001b[0m     result,\n\u001b[0;32m    107\u001b[0m     \u001b[38;5;28mself\u001b[39m\u001b[38;5;241m.\u001b[39mincumbent_cost,\n\u001b[0;32m    108\u001b[0m ):\n\u001b[0;32m    109\u001b[0m     result \u001b[38;5;241m=\u001b[39m \u001b[38;5;28mself\u001b[39m\u001b[38;5;241m.\u001b[39m_portfolio\u001b[38;5;241m.\u001b[39mevaluate(\n\u001b[0;32m    110\u001b[0m         instance_list\u001b[38;5;241m=\u001b[39m\u001b[38;5;28mself\u001b[39m\u001b[38;5;241m.\u001b[39m_instance_list,\n\u001b[0;32m    111\u001b[0m         prefix\u001b[38;5;241m=\u001b[39m\u001b[38;5;28mself\u001b[39m\u001b[38;5;241m.\u001b[39m_get_iteration_prefix() \u001b[38;5;241m+\u001b[39m \u001b[38;5;124m\"\u001b[39m\u001b[38;5;124m;reevaluate\u001b[39m\u001b[38;5;124m\"\u001b[39m,\n\u001b[0;32m    112\u001b[0m     )\n",
      "File \u001b[1;32mc:\\Users\\zakrz\\Documents\\DataScience\\praca magisterska\\raw-algorithm-portfolios\\src\\solver\\Portfolio.py:167\u001b[0m, in \u001b[0;36mPortfolio.evaluate\u001b[1;34m(self, instance_list, prefix, calculate_features, cache, surrogate_policy)\u001b[0m\n\u001b[0;32m    164\u001b[0m             futures\u001b[38;5;241m.\u001b[39mappend((instance, solver, future))\n\u001b[0;32m    166\u001b[0m \u001b[38;5;28;01mfor\u001b[39;00m instance, solver, future \u001b[38;5;129;01min\u001b[39;00m futures:\n\u001b[1;32m--> 167\u001b[0m     solver_result \u001b[38;5;241m=\u001b[39m \u001b[43mfuture\u001b[49m\u001b[38;5;241;43m.\u001b[39;49m\u001b[43mresult\u001b[49m\u001b[43m(\u001b[49m\u001b[43m)\u001b[49m\n\u001b[0;32m    168\u001b[0m     result\u001b[38;5;241m.\u001b[39mupdate(solver_result)\n\u001b[0;32m    170\u001b[0m executor\u001b[38;5;241m.\u001b[39mshutdown(wait\u001b[38;5;241m=\u001b[39m\u001b[38;5;28;01mFalse\u001b[39;00m, cancel_futures\u001b[38;5;241m=\u001b[39m\u001b[38;5;28;01mTrue\u001b[39;00m)\n",
      "File \u001b[1;32mc:\\Users\\zakrz\\miniconda3\\envs\\SMAC\\lib\\concurrent\\futures\\_base.py:453\u001b[0m, in \u001b[0;36mFuture.result\u001b[1;34m(self, timeout)\u001b[0m\n\u001b[0;32m    450\u001b[0m \u001b[38;5;28;01melif\u001b[39;00m \u001b[38;5;28mself\u001b[39m\u001b[38;5;241m.\u001b[39m_state \u001b[38;5;241m==\u001b[39m FINISHED:\n\u001b[0;32m    451\u001b[0m     \u001b[38;5;28;01mreturn\u001b[39;00m \u001b[38;5;28mself\u001b[39m\u001b[38;5;241m.\u001b[39m__get_result()\n\u001b[1;32m--> 453\u001b[0m \u001b[38;5;28;43mself\u001b[39;49m\u001b[38;5;241;43m.\u001b[39;49m\u001b[43m_condition\u001b[49m\u001b[38;5;241;43m.\u001b[39;49m\u001b[43mwait\u001b[49m\u001b[43m(\u001b[49m\u001b[43mtimeout\u001b[49m\u001b[43m)\u001b[49m\n\u001b[0;32m    455\u001b[0m \u001b[38;5;28;01mif\u001b[39;00m \u001b[38;5;28mself\u001b[39m\u001b[38;5;241m.\u001b[39m_state \u001b[38;5;129;01min\u001b[39;00m [CANCELLED, CANCELLED_AND_NOTIFIED]:\n\u001b[0;32m    456\u001b[0m     \u001b[38;5;28;01mraise\u001b[39;00m CancelledError()\n",
      "File \u001b[1;32mc:\\Users\\zakrz\\miniconda3\\envs\\SMAC\\lib\\threading.py:320\u001b[0m, in \u001b[0;36mCondition.wait\u001b[1;34m(self, timeout)\u001b[0m\n\u001b[0;32m    318\u001b[0m \u001b[38;5;28;01mtry\u001b[39;00m:    \u001b[38;5;66;03m# restore state no matter what (e.g., KeyboardInterrupt)\u001b[39;00m\n\u001b[0;32m    319\u001b[0m     \u001b[38;5;28;01mif\u001b[39;00m timeout \u001b[38;5;129;01mis\u001b[39;00m \u001b[38;5;28;01mNone\u001b[39;00m:\n\u001b[1;32m--> 320\u001b[0m         \u001b[43mwaiter\u001b[49m\u001b[38;5;241;43m.\u001b[39;49m\u001b[43macquire\u001b[49m\u001b[43m(\u001b[49m\u001b[43m)\u001b[49m\n\u001b[0;32m    321\u001b[0m         gotit \u001b[38;5;241m=\u001b[39m \u001b[38;5;28;01mTrue\u001b[39;00m\n\u001b[0;32m    322\u001b[0m     \u001b[38;5;28;01melse\u001b[39;00m:\n",
      "\u001b[1;31mKeyboardInterrupt\u001b[0m: "
     ]
    }
   ],
   "source": [
    "SOLVERS_N = 1\n",
    "ATTEMPTS_N = 1\n",
    "MAX_ITER = 30\n",
    "\n",
    "portfolio = parhydra(\n",
    "    train_instances=train_instances,\n",
    "    surrogate_policy=surrogate_policy,\n",
    "    SOLVERS_N=SOLVERS_N,\n",
    "    ATTEMPTS_N=ATTEMPTS_N,\n",
    "    MAX_ITER=MAX_ITER,\n",
    ")"
   ]
  }
 ],
 "metadata": {
  "kernelspec": {
   "display_name": "SMAC",
   "language": "python",
   "name": "python3"
  },
  "language_info": {
   "codemirror_mode": {
    "name": "ipython",
    "version": 3
   },
   "file_extension": ".py",
   "mimetype": "text/x-python",
   "name": "python",
   "nbconvert_exporter": "python",
   "pygments_lexer": "ipython3",
   "version": "3.10.15"
  }
 },
 "nbformat": 4,
 "nbformat_minor": 2
}
