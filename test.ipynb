{
 "cells": [
  {
   "cell_type": "code",
   "execution_count": 1,
   "metadata": {},
   "outputs": [],
   "source": [
    "import os\n",
    "\n",
    "os.environ[\"SEED\"] = \"0\"\n",
    "import numpy as np\n",
    "import pandas as pd\n",
    "from ConfigSpace import Configuration\n",
    "\n",
    "from src.instance.SAT_Instance import SAT_Instance, SAT_from_index_file\n",
    "from src.solver.SAT_Riss_Solver import SAT_Riss_Solver\n",
    "from src.constant import DATA_DIR"
   ]
  },
  {
   "cell_type": "code",
   "execution_count": 2,
   "metadata": {},
   "outputs": [
    {
     "data": {
      "text/plain": [
       "Configuration(values={\n",
       "  'K': 0.5488135039273,\n",
       "  'R': 3.5835764522666,\n",
       "  'act-based': 'on',\n",
       "  'actDec': 3.9278479610083,\n",
       "  'actIncMode': 1,\n",
       "  'actStart': 97861.8342232764,\n",
       "  'alluiphack': 0,\n",
       "  'biAsserting': 'off',\n",
       "  'ccmin-mode': 2,\n",
       "  'cir-bump': 80701568,\n",
       "  'cla-decay': 0.2223213882516,\n",
       "  'clsActB': 1,\n",
       "  'dpll': 'off',\n",
       "  'dynLimits': 'on',\n",
       "  'enabled_cp3': 'off',\n",
       "  'firstReduceDB': 576702667,\n",
       "  'ics': 'off',\n",
       "  'incClLBD': 351544501,\n",
       "  'incClSize': 1049799908,\n",
       "  'incClean': 750555509,\n",
       "  'incLBD': 'off',\n",
       "  'incReduceDB': 58289758,\n",
       "  'incResAct': 412739490,\n",
       "  'incResCnt': 41336362,\n",
       "  'incResPol': 1027629257,\n",
       "  'incRestartA': 'off',\n",
       "  'incSaveState': 'on',\n",
       "  'independent': 'on',\n",
       "  'init-act': 3,\n",
       "  'init-pol': 6,\n",
       "  'keepLonger': 'on',\n",
       "  'keepWorst': 0.8423420796677,\n",
       "  'laHack': 'off',\n",
       "  'lbd-core-th': 20166942,\n",
       "  'lbdIgnL0': 'on',\n",
       "  'lbdIgnLA': 'on',\n",
       "  'lbdupd': 2,\n",
       "  'learnDecMS': 773332799,\n",
       "  'learnDecP': 10,\n",
       "  'learnDecRER': 'on',\n",
       "  'longConflict': 'off',\n",
       "  'lpd': 1469,\n",
       "  'maxlearnts': 82434169,\n",
       "  'minLBDFrozenClause': 1236911943,\n",
       "  'minLBDMinimizingClause': 1841547538,\n",
       "  'minSizeMinimizingClause': 396742822,\n",
       "  'minmaxsize': 319224543,\n",
       "  'otfss': 'on',\n",
       "  'otfssL': 'on',\n",
       "  'otfssMLDB': 1118155776,\n",
       "  'phase-bit': 430471200,\n",
       "  'phase-saving': 2,\n",
       "  'polMode': 'on',\n",
       "  'prefA': 3,\n",
       "  'prob-limit': 2072643658,\n",
       "  'prob-step-width': 953721562,\n",
       "  'quickRed': 'off',\n",
       "  'r-dyn-bl': 'off',\n",
       "  'r-dyn-ema': 'on',\n",
       "  'r-min-noBlock': 858978537,\n",
       "  'rMax': 1990506785,\n",
       "  'recEE': 'off',\n",
       "  'recLBDf': -7.3831789648804,\n",
       "  'receive': 'off',\n",
       "  'reduce-frac': 0.2123904988903,\n",
       "  'refConflict': 'off',\n",
       "  'refRec': 'off',\n",
       "  'rem-asc': 1636402119,\n",
       "  'rem-asi': 1.7960367755963,\n",
       "  'rem-lsf': 5.3657921110872,\n",
       "  'rem-lsi': 2.6332237673715,\n",
       "  'remIncLBD': 'off',\n",
       "  'remtype': 0,\n",
       "  'rer': 'on',\n",
       "  'resRefRec': 'on',\n",
       "  'revMin': 'on',\n",
       "  'revRevC': 'on',\n",
       "  'rlevel': 0,\n",
       "  'rnd-freq': 0.2148807367506,\n",
       "  'rnd-init': 'on',\n",
       "  'rnd-seed': 396059702.8072938,\n",
       "  'rsw-int': 1527345067,\n",
       "  'rtype': 1,\n",
       "  'sUhdProbe': 2,\n",
       "  'sbr': 1034351722,\n",
       "  'sendAll': 'on',\n",
       "  'shareTime': 0,\n",
       "  'size-core': 274685775,\n",
       "  'specialIncReduceDB': 1234984145,\n",
       "  'szLBDQueue': 95814,\n",
       "  'szTrailQueue': 66574,\n",
       "  'updLearnAct': 'on',\n",
       "  'var-decay-b': 0.194342222943,\n",
       "  'var-decay-d': 2083197783,\n",
       "  'var-decay-e': 0.6394725163987,\n",
       "  'var-decay-i': 0.5113189825465,\n",
       "  'varActB': 2,\n",
       "  'vsids-d': 1296353735,\n",
       "  'vsids-e': 0.132487634758,\n",
       "  'vsids-i': 0.1469466454004,\n",
       "  'vsids-s': 0.4205394666801,\n",
       "})"
      ]
     },
     "execution_count": 2,
     "metadata": {},
     "output_type": "execute_result"
    }
   ],
   "source": [
    "solver = SAT_Riss_Solver()\n",
    "(solver.config)"
   ]
  },
  {
   "cell_type": "code",
   "execution_count": 4,
   "metadata": {},
   "outputs": [],
   "source": [
    "solver = SAT_Riss_Solver()\n",
    "instances = SAT_from_index_file(filepath=DATA_DIR / \"SAT\" / \"index.json\", max_cost=10.0, max_time=10.0)\n",
    "\n",
    "# for instance in instances:\n",
    "    # solver.solve(instance, prefix=\"test\")"
   ]
  },
  {
   "cell_type": "code",
   "execution_count": 6,
   "metadata": {},
   "outputs": [
    {
     "name": "stdout",
     "output_type": "stream",
     "text": [
      "SAT_Instance(filepath=SAT/uf250-01.cnf)\n",
      "SAT_Instance(filepath=SAT/uf250-02.cnf)\n",
      "SAT_Instance(filepath=SAT/uf250-03.cnf)\n",
      "SAT_Instance(filepath=SAT/uf250-04.cnf)\n",
      "SAT_Instance(filepath=SAT/uf250-05.cnf)\n",
      "SAT_Instance(filepath=SAT/uuf250-01.cnf)\n",
      "SAT_Instance(filepath=SAT/uuf250-02.cnf)\n",
      "SAT_Instance(filepath=SAT/uuf250-03.cnf)\n",
      "SAT_Instance(filepath=SAT/uuf250-04.cnf)\n",
      "SAT_Instance(filepath=SAT/uuf250-05.cnf)\n"
     ]
    }
   ],
   "source": [
    "for instance in instances:\n",
    "    print(instance)"
   ]
  },
  {
   "cell_type": "code",
   "execution_count": null,
   "metadata": {},
   "outputs": [],
   "source": [
    "solver.to_dict()"
   ]
  },
  {
   "cell_type": "code",
   "execution_count": null,
   "metadata": {},
   "outputs": [],
   "source": [
    "test_instances = TSP_from_index_file(filepath=DATA_DIR / \"TSP\" / \"TEST_400\" / \"index.json\", max_cost=100.0, max_time=10.0)\n",
    "instance = test_instances[23]\n",
    "instance"
   ]
  },
  {
   "cell_type": "code",
   "execution_count": null,
   "metadata": {},
   "outputs": [],
   "source": [
    "solver = TSP_LKH_Solver()\n",
    "solver"
   ]
  },
  {
   "cell_type": "code",
   "execution_count": null,
   "metadata": {},
   "outputs": [],
   "source": [
    "solver.solve(instance, prefix=\"test\")"
   ]
  },
  {
   "cell_type": "code",
   "execution_count": null,
   "metadata": {},
   "outputs": [],
   "source": [
    "import matplotlib.pyplot as plt\n",
    "fig, ax = plt.subplots(figsize=(4.5, 4.5))\n",
    "\n",
    "df = instance._read_file_to_df()\n",
    "plt.scatter(df[\"X\"], df[\"Y\"], s=6)\n",
    "ax.ticklabel_format(style=\"scientific\", axis=\"both\", scilimits=(0, 0))\n",
    "plt.grid(color=\"black\", alpha=0.05)\n",
    "\n",
    "plt.xlabel(\"X coordinate\")\n",
    "plt.ylabel(\"Y coordinate\")\n",
    "plt.savefig(\"grid.pdf\", bbox_inches=\"tight\", transparent=True)\n",
    "plt.show()"
   ]
  },
  {
   "cell_type": "code",
   "execution_count": null,
   "metadata": {},
   "outputs": [],
   "source": [
    "idx = []\n",
    "with open(\"out\") as f:\n",
    "    for line in f:\n",
    "        if line.startswith(\"NAME\"):\n",
    "            continue\n",
    "        elif line.startswith(\"COMMENT\"):\n",
    "            continue\n",
    "        elif line.startswith(\"TYPE\"):\n",
    "            continue\n",
    "        elif line.startswith(\"DIMENSION\"):\n",
    "            continue\n",
    "        elif line.startswith(\"TOUR\"):\n",
    "            continue\n",
    "        elif line.startswith(\"-1\"):\n",
    "            break\n",
    "        idx.append(int(line.strip()))\n",
    "\n",
    "fig, ax = plt.subplots(figsize=(4.5, 4.5))\n",
    "df = instance._read_file_to_df()\n",
    "plt.plot(df.loc[idx, \"X\"], df.loc[idx, \"Y\"], c=\"red\", lw=0.8, zorder=1)\n",
    "plt.scatter(df[\"X\"], df[\"Y\"], s=6, zorder=2)\n",
    "ax.ticklabel_format(style=\"scientific\", axis=\"both\", scilimits=(0, 0))\n",
    "plt.grid(color=\"black\", alpha=0.05)\n",
    "plt.xlabel(\"X coordinate\")\n",
    "plt.ylabel(\"Y coordinate\")\n",
    "plt.savefig(\"grid_solved.pdf\", bbox_inches=\"tight\", transparent=True)\n",
    "plt.show()"
   ]
  },
  {
   "cell_type": "code",
   "execution_count": null,
   "metadata": {},
   "outputs": [],
   "source": [
    "instance = test_instances[4]\n",
    "fig, ax = plt.subplots(figsize=(4.5, 4.5))\n",
    "\n",
    "df = instance._read_file_to_df()\n",
    "plt.scatter(df[\"X\"], df[\"Y\"], s=6)\n",
    "ax.ticklabel_format(style=\"scientific\", axis=\"both\", scilimits=(0, 0))\n",
    "plt.grid(color=\"black\", alpha=0.05)\n",
    "\n",
    "plt.xlabel(\"X coordinate\")\n",
    "plt.ylabel(\"Y coordinate\")\n",
    "plt.savefig(\"cluster_netgen.pdf\", bbox_inches=\"tight\", transparent=True)\n",
    "plt.show()\n"
   ]
  },
  {
   "cell_type": "code",
   "execution_count": null,
   "metadata": {},
   "outputs": [],
   "source": [
    "fig, ax = plt.subplots(figsize=(4.5, 4.5))\n",
    "\n",
    "df = instance._read_file_to_df()\n",
    "plt.scatter(df[\"X\"], df[\"Y\"], s=6)\n",
    "ax.ticklabel_format(style=\"scientific\", axis=\"both\", scilimits=(0, 0))\n",
    "plt.grid(color=\"black\", alpha=0.05)\n",
    "\n",
    "plt.xlabel(\"X coordinate\")\n",
    "plt.ylabel(\"Y coordinate\")\n",
    "plt.savefig(\"grid.pdf\", bbox_inches=\"tight\", transparent=True)\n",
    "plt.show()"
   ]
  },
  {
   "cell_type": "code",
   "execution_count": null,
   "metadata": {},
   "outputs": [],
   "source": [
    "# import joblib\n",
    "# paths = list((MAIN_DIR / \"_archive\" / \"experiments\" / \"2025-01-27\" / \"200\" / \"database\").glob(\"*.db\"))\n",
    "# for path in paths:\n",
    "#     db = DB(path)\n",
    "\n",
    "#     configured_portfolio_solvers = pd.read_sql_query(\"\"\" \n",
    "#     SELECT DISTINCT solver_id FROM results\n",
    "#     WHERE prefix LIKE 'test%'                  \n",
    "#     \"\"\", db._conn)[\"solver_id\"].to_list()\n",
    "\n",
    "#     portfolio = Portfolio.from_iterable([TSP_LKH_Solver.from_db(id_, db) for id_ in configured_portfolio_solvers])\n",
    "#     joblib.dump(portfolio, MAIN_DIR / \"portfolios\" / \"200\" / f\"{path.stem}.pkl\")\n",
    "\n",
    "# paths = list((MAIN_DIR / \"_archive\" / \"experiments\" / \"2025-01-27\" / \"400\" / \"database\").glob(\"*.db\"))\n",
    "# for path in paths:\n",
    "#     db = DB(path)\n",
    "\n",
    "#     configured_portfolio_solvers = pd.read_sql_query(\"\"\" \n",
    "#     SELECT DISTINCT solver_id FROM results\n",
    "#     WHERE prefix LIKE 'test%'                  \n",
    "#     \"\"\", db._conn)[\"solver_id\"].to_list()\n",
    "\n",
    "#     portfolio = Portfolio.from_iterable([TSP_LKH_Solver.from_db(id_, db) for id_ in configured_portfolio_solvers])\n",
    "#     joblib.dump(portfolio, MAIN_DIR / \"portfolios\" / \"400\" / f\"{path.stem}.pkl\")"
   ]
  },
  {
   "cell_type": "code",
   "execution_count": null,
   "metadata": {},
   "outputs": [],
   "source": [
    "# import joblib\n",
    "\n",
    "# paths = list((MAIN_DIR / \"portfolios\" / \"200\").glob(\"run-plain-30-*.pkl\"))\n",
    "# for path in paths:\n",
    "#     run_id = path.stem.split(\"-\")[-1]\n",
    "#     portfolio = joblib.load(path)\n",
    "\n",
    "#     for i in range(100):\n",
    "#         portfolio.evaluate(\n",
    "#             test_instances,\n",
    "#             prefix=f\"{run_id};test{i}\",\n",
    "#             calculate_features=False,\n",
    "#             cache=False,\n",
    "#         )"
   ]
  }
 ],
 "metadata": {
  "kernelspec": {
   "display_name": "SMAC",
   "language": "python",
   "name": "python3"
  },
  "language_info": {
   "codemirror_mode": {
    "name": "ipython",
    "version": 3
   },
   "file_extension": ".py",
   "mimetype": "text/x-python",
   "name": "python",
   "nbconvert_exporter": "python",
   "pygments_lexer": "ipython3",
   "version": "3.10.15"
  }
 },
 "nbformat": 4,
 "nbformat_minor": 2
}
