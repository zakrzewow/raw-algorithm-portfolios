{
 "cells": [
  {
   "cell_type": "code",
   "execution_count": 29,
   "metadata": {},
   "outputs": [],
   "source": [
    "import os\n",
    "\n",
    "os.environ[\"SEED\"] = \"0\"\n",
    "\n",
    "import cocoex\n",
    "\n",
    "from src.solver.BBOB_POP_Solver import BBOB_POP_Solver\n",
    "from src.instance.BBOB_Instance import BBOB_Instance\n",
    "from src.instance.InstanceList import InstanceList\n",
    "from src.database import DB\n",
    "from src.constant import DATABASE_DIR\n",
    "from src.solver.Portfolio import Portfolio"
   ]
  },
  {
   "cell_type": "code",
   "execution_count": 30,
   "metadata": {},
   "outputs": [],
   "source": [
    "db = DB(DATABASE_DIR / \"test-baseline--25-2025_07_13_14_22_04.db\")"
   ]
  },
  {
   "cell_type": "code",
   "execution_count": 5,
   "metadata": {},
   "outputs": [
    {
     "data": {
      "text/plain": [
       "BBOB_Instance(problem_id=bbob_f001_i01_d02)"
      ]
     },
     "execution_count": 5,
     "metadata": {},
     "output_type": "execute_result"
    }
   ],
   "source": [
    "instance = BBOB_Instance(\n",
    "    function_index=1,\n",
    "    dimension=2,\n",
    "    instance_index=1,\n",
    "    cut_off_cost=50.0,\n",
    "    cut_off_time=5.0,\n",
    ")\n",
    "instance"
   ]
  },
  {
   "cell_type": "code",
   "execution_count": 6,
   "metadata": {},
   "outputs": [
    {
     "name": "stderr",
     "output_type": "stream",
     "text": [
      "[2025-07-13 13:55:02] DEBUG     solve(prefix=test, solver=Solver(id=972306317029875343), instance=BBOB_Instance(problem_id=bbob_f001_i01_d02))\n",
      "[2025-07-13 13:55:07] DEBUG     Solver.Result(prefix=test, solver=Solver(id=972306317029875343), instance=BBOB_Instance(problem_id=bbob_f001_i01_d02), cost=50.00, time=5.00, cut_off_cost=50.00, cut_off_time=5.00, cached=False, surrogate=False, error=False)\n"
     ]
    },
    {
     "data": {
      "text/plain": [
       "<Future at 0x24d71665a80 state=finished returned Result>"
      ]
     },
     "execution_count": 6,
     "metadata": {},
     "output_type": "execute_result"
    }
   ],
   "source": [
    "solver = BBOB_POP_Solver()\n",
    "solver.solve(\n",
    "    instance=instance,\n",
    "    prefix=\"test\",\n",
    "    calculate_features=False,\n",
    "    cache=False\n",
    ")"
   ]
  }
 ],
 "metadata": {
  "kernelspec": {
   "display_name": "SMAC",
   "language": "python",
   "name": "python3"
  },
  "language_info": {
   "codemirror_mode": {
    "name": "ipython",
    "version": 3
   },
   "file_extension": ".py",
   "mimetype": "text/x-python",
   "name": "python",
   "nbconvert_exporter": "python",
   "pygments_lexer": "ipython3",
   "version": "3.10.15"
  }
 },
 "nbformat": 4,
 "nbformat_minor": 2
}
