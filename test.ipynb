{
 "cells": [
  {
   "cell_type": "code",
   "execution_count": 1,
   "metadata": {},
   "outputs": [],
   "source": [
    "\n",
    "import pandas as pd\n",
    "\n",
    "from src.configuration_space.LKH import CONFIGURATION_SPACE\n",
    "from src.constant import DATA_DIR\n",
    "from src.database import DB\n",
    "from src.instance.Instance import Instance\n",
    "from src.instance.TSP_Instance import TSP_Instance\n",
    "from src.solver.TSP_LKH_Solver import TSP_LKH_Solver"
   ]
  },
  {
   "cell_type": "code",
   "execution_count": 2,
   "metadata": {},
   "outputs": [],
   "source": [
    "filepath = DATA_DIR / \"TSP\" / \"CEPS_benchmark\" / \"cluster\" / \"00.tsp\"\n",
    "optimum = 19198495.0"
   ]
  },
  {
   "cell_type": "code",
   "execution_count": 3,
   "metadata": {},
   "outputs": [],
   "source": [
    "instance = TSP_Instance(filepath, optimum)"
   ]
  },
  {
   "cell_type": "code",
   "execution_count": 4,
   "metadata": {},
   "outputs": [
    {
     "data": {
      "text/plain": [
       "ResultWithTime(result={'angle_min': 0.0, 'angle_median': 1.4981630521526332, 'angle_mean': 1.5003448823311594, 'angle_max': 3.141592653589793, 'angle_sd': 0.894280574969127, 'angle_span': 3.141592653589793, 'angle_coef_of_var': 0.5960500052358891, 'centroid_centroid_x': 0.3658317018637269, 'centroid_centroid_y': 0.37874361, 'centroid_dist_min': 0.014534227007035223, 'centroid_dist_median': 0.3375686998045061, 'centroid_dist_mean': 0.36551180190942595, 'centroid_dist_max': 0.8772818772700676, 'centroid_dist_sd': 0.1528656985861905, 'centroid_dist_span': 0.8627476502630324, 'centroid_dist_coef_of_var': 0.41822370108878376, 'cluster_01pct_number_of_clusters': 18, 'cluster_01pct_mean_distance_to_centroid': 0.08130744316312453, 'cluster_05pct_number_of_clusters': 1, 'cluster_05pct_mean_distance_to_centroid': 0.36466791247436287, 'cluster_10pct_number_of_clusters': 1, 'cluster_10pct_mean_distance_to_centroid': 0.36551180190942595, 'bounding_box_10_ratio_of_cities_outside_box': 0.34375, 'bounding_box_20_ratio_of_cities_outside_box': 0.72875, 'bounding_box_30_ratio_of_cities_outside_box': 0.905, 'chull_area': 0.9855310546838266, 'chull_points_on_hull': 0.02125, 'distance_distances_shorter_mean_distance': 0.501015625, 'distance_distinct_distances': 1.0, 'distance_mode_frequency': 800.0, 'distance_mode_quantity': 1.5625e-06, 'distance_mode_mean': 0.0, 'distance_mean_tour_length': 778.8988118662769, 'distance_sum_of_lowest_edge_values': 9.183586529102042, 'distance_min': 0.0, 'distance_median': 0.48522382139754133, 'distance_mean': 0.4862032427196526, 'distance_max': 1.3780684005182966, 'distance_sd': 0.2783553597619221, 'distance_span': 1.3780684005182966, 'distance_coef_of_var': 0.5725082338095867, 'modes_number': 4, 'mst_depth_min': 1.0, 'mst_depth_median': 5.0, 'mst_depth_mean': 14.375, 'mst_depth_max': 84.0, 'mst_depth_sd': 19.646994184240867, 'mst_depth_span': 83.0, 'mst_depth_coef_of_var': 1.3667474215124082, 'mst_dists_min': 0.0006718710373618856, 'mst_dists_median': 0.01683397277101605, 'mst_dists_mean': 0.02143351279135155, 'mst_dists_max': 0.09907484305368484, 'mst_dists_sd': 0.014802730599708576, 'mst_dists_span': 0.09840297201632296, 'mst_dists_coef_of_var': 0.6906348363802268, 'mst_dists_sum': 5.503542299671988e-05, 'nnds_min': 0.0006718710373618856, 'nnds_median': 0.012181164130354815, 'nnds_mean': 0.01642069714659279, 'nnds_max': 0.09907484305368484, 'nnds_sd': 0.012435633068425342, 'nnds_span': 0.09840297201632296, 'nnds_coef_of_var': 0.7573145620681319, 'num_nodes': 0.0, 'cost_matrix_avg': 0.0, 'cost_matrix_std': 0.0, 'cost_matrix_skew': 0.0, 'stdTime': 0.0, 'mst_length': 0.0, 'mst_length_avg': 0.0, 'mst_length_std': 0.0, 'mst_length_skew': 0.0, 'mst_degree_avg': 0.0, 'mst_degree_std': 0.0, 'mst_degree_skew': 0.0, 'mstTime': 0.0, 'cluster_distance_avg': 0.0, 'cluster_distance_std': 0.0, 'cluster_distance_skew': 0.0, 'clusterTime': 0.0, 'tour_const_heu_avg': 0.0, 'tour_const_std': 0.0, 'tour_const_skew': 0.0, 'ls_impov_per_step_avg': 0.0, 'ls_impov_per_step_std': 0.0, 'ls_impov_per_step_skew': 0.0, 'ls_steps_2lm_avg': 0.0, 'ls_steps_2lm_std': 0.0, 'ls_steps_2lm_skew': 0.0, 'ls_maxdist_avg': 0.0, 'ls_maxdist_std': 0.0, 'ls_maxdist_skew': 0.0, 'ls_bestsol_avg': 0.0, 'ls_bestsol_std': 0.0, 'ls_bestsol_skew': 0.0, 'ls_backbone_avg': 0.0, 'ls_backbone_std': 0.0, 'ls_backbone_skew': 0.0, 'lpTime': 0.0, 'bc_improv_per_cut_avg': 0.0, 'bc_improv_per_cut_std': 0.0, 'bc_improv_per_cut_skew': 0.0, 'bc_upper_lower_ratio': 0.0, 'bc_no1s_min': 0.0, 'bc_no1s_q25': 0.0, 'bc_no1s_q50': 0.0, 'bc_no1s_q75': 0.0, 'bc_no1s_max': 0.0, 'bc_p1s': 0.0, 'bc_pn1s': 0.0, 'bcTime': 0.0, 'acc': 0.0, 'acfTime': 0.0}, time=5.964380741119385)"
      ]
     },
     "execution_count": 4,
     "metadata": {},
     "output_type": "execute_result"
    }
   ],
   "source": [
    "result = instance.calculate_features()\n",
    "instance.features = result.result\n",
    "result"
   ]
  },
  {
   "cell_type": "code",
   "execution_count": 5,
   "metadata": {},
   "outputs": [],
   "source": [
    "instance.to_db()"
   ]
  },
  {
   "cell_type": "code",
   "execution_count": 14,
   "metadata": {},
   "outputs": [],
   "source": [
    "instance2 = instance.mutate().result"
   ]
  },
  {
   "cell_type": "code",
   "execution_count": 15,
   "metadata": {},
   "outputs": [],
   "source": [
    "instance2.to_db()"
   ]
  },
  {
   "cell_type": "code",
   "execution_count": 16,
   "metadata": {},
   "outputs": [],
   "source": [
    "db = DB()"
   ]
  },
  {
   "cell_type": "code",
   "execution_count": 5,
   "metadata": {},
   "outputs": [],
   "source": [
    "solver = TSP_LKH_Solver()"
   ]
  },
  {
   "cell_type": "code",
   "execution_count": 6,
   "metadata": {},
   "outputs": [],
   "source": [
    "solver.to_db()"
   ]
  },
  {
   "cell_type": "code",
   "execution_count": 17,
   "metadata": {},
   "outputs": [
    {
     "data": {
      "text/html": [
       "<div>\n",
       "<style scoped>\n",
       "    .dataframe tbody tr th:only-of-type {\n",
       "        vertical-align: middle;\n",
       "    }\n",
       "\n",
       "    .dataframe tbody tr th {\n",
       "        vertical-align: top;\n",
       "    }\n",
       "\n",
       "    .dataframe thead th {\n",
       "        text-align: right;\n",
       "    }\n",
       "</style>\n",
       "<table border=\"1\" class=\"dataframe\">\n",
       "  <thead>\n",
       "    <tr style=\"text-align: right;\">\n",
       "      <th></th>\n",
       "      <th>id</th>\n",
       "      <th>filepath</th>\n",
       "      <th>optimum</th>\n",
       "      <th>angle_min</th>\n",
       "      <th>angle_median</th>\n",
       "      <th>angle_mean</th>\n",
       "      <th>angle_max</th>\n",
       "      <th>angle_sd</th>\n",
       "      <th>angle_span</th>\n",
       "      <th>angle_coef_of_var</th>\n",
       "      <th>...</th>\n",
       "      <th>bc_no1s_min</th>\n",
       "      <th>bc_no1s_q25</th>\n",
       "      <th>bc_no1s_q50</th>\n",
       "      <th>bc_no1s_q75</th>\n",
       "      <th>bc_no1s_max</th>\n",
       "      <th>bc_p1s</th>\n",
       "      <th>bc_pn1s</th>\n",
       "      <th>bcTime</th>\n",
       "      <th>acc</th>\n",
       "      <th>acfTime</th>\n",
       "    </tr>\n",
       "  </thead>\n",
       "  <tbody>\n",
       "    <tr>\n",
       "      <th>0</th>\n",
       "      <td>1018017649469757748</td>\n",
       "      <td>TSP/CEPS_benchmark/cluster/00.tsp</td>\n",
       "      <td>19198495.0</td>\n",
       "      <td>0.0</td>\n",
       "      <td>1.498163</td>\n",
       "      <td>1.500345</td>\n",
       "      <td>3.141593</td>\n",
       "      <td>0.894281</td>\n",
       "      <td>3.141593</td>\n",
       "      <td>0.59605</td>\n",
       "      <td>...</td>\n",
       "      <td>0.0</td>\n",
       "      <td>0.0</td>\n",
       "      <td>0.0</td>\n",
       "      <td>0.0</td>\n",
       "      <td>0.0</td>\n",
       "      <td>0.0</td>\n",
       "      <td>0.0</td>\n",
       "      <td>0.0</td>\n",
       "      <td>0.0</td>\n",
       "      <td>0.0</td>\n",
       "    </tr>\n",
       "    <tr>\n",
       "      <th>1</th>\n",
       "      <td>2067024810368013741</td>\n",
       "      <td>TSP/CEPS_generated/6.tsp</td>\n",
       "      <td>0.0</td>\n",
       "      <td>NaN</td>\n",
       "      <td>NaN</td>\n",
       "      <td>NaN</td>\n",
       "      <td>NaN</td>\n",
       "      <td>NaN</td>\n",
       "      <td>NaN</td>\n",
       "      <td>NaN</td>\n",
       "      <td>...</td>\n",
       "      <td>NaN</td>\n",
       "      <td>NaN</td>\n",
       "      <td>NaN</td>\n",
       "      <td>NaN</td>\n",
       "      <td>NaN</td>\n",
       "      <td>NaN</td>\n",
       "      <td>NaN</td>\n",
       "      <td>NaN</td>\n",
       "      <td>NaN</td>\n",
       "      <td>NaN</td>\n",
       "    </tr>\n",
       "  </tbody>\n",
       "</table>\n",
       "<p>2 rows × 117 columns</p>\n",
       "</div>"
      ],
      "text/plain": [
       "                    id                           filepath     optimum  \\\n",
       "0  1018017649469757748  TSP/CEPS_benchmark/cluster/00.tsp  19198495.0   \n",
       "1  2067024810368013741           TSP/CEPS_generated/6.tsp         0.0   \n",
       "\n",
       "   angle_min  angle_median  angle_mean  angle_max  angle_sd  angle_span  \\\n",
       "0        0.0      1.498163    1.500345   3.141593  0.894281    3.141593   \n",
       "1        NaN           NaN         NaN        NaN       NaN         NaN   \n",
       "\n",
       "   angle_coef_of_var  ...  bc_no1s_min  bc_no1s_q25  bc_no1s_q50  bc_no1s_q75  \\\n",
       "0            0.59605  ...          0.0          0.0          0.0          0.0   \n",
       "1                NaN  ...          NaN          NaN          NaN          NaN   \n",
       "\n",
       "   bc_no1s_max  bc_p1s  bc_pn1s  bcTime  acc  acfTime  \n",
       "0          0.0     0.0      0.0     0.0  0.0      0.0  \n",
       "1          NaN     NaN      NaN     NaN  NaN      NaN  \n",
       "\n",
       "[2 rows x 117 columns]"
      ]
     },
     "execution_count": 17,
     "metadata": {},
     "output_type": "execute_result"
    }
   ],
   "source": [
    "pd.read_sql_query(\"SELECT * FROM instances\", db._conn)"
   ]
  },
  {
   "cell_type": "code",
   "execution_count": 18,
   "metadata": {},
   "outputs": [
    {
     "data": {
      "text/plain": [
       "TSP_Instance(filepath=TSP/CEPS_generated/6.tsp)"
      ]
     },
     "execution_count": 18,
     "metadata": {},
     "output_type": "execute_result"
    }
   ],
   "source": [
    "TSP_Instance.from_db(\"2067024810368013741\")"
   ]
  },
  {
   "cell_type": "code",
   "execution_count": 10,
   "metadata": {},
   "outputs": [
    {
     "data": {
      "text/plain": [
       "TSP_Instance(filepath=TSP/CEPS_benchmark/cluster/00.tsp)"
      ]
     },
     "execution_count": 10,
     "metadata": {},
     "output_type": "execute_result"
    }
   ],
   "source": [
    "instance.filepath"
   ]
  },
  {
   "cell_type": "code",
   "execution_count": 5,
   "metadata": {},
   "outputs": [
    {
     "name": "stdout",
     "output_type": "stream",
     "text": [
      "In-memory size: 48 bytes\n",
      "Serialized size: 3597 bytes\n"
     ]
    }
   ],
   "source": [
    "import sys\n",
    "import pickle\n",
    "\n",
    "my_object = instance\n",
    "in_memory_size = sys.getsizeof(my_object)\n",
    "serialized_object = pickle.dumps(my_object)\n",
    "serialized_size = len(serialized_object)\n",
    "\n",
    "print(f\"In-memory size: {in_memory_size} bytes\")\n",
    "print(f\"Serialized size: {serialized_size} bytes\")"
   ]
  },
  {
   "cell_type": "code",
   "execution_count": null,
   "metadata": {},
   "outputs": [],
   "source": []
  }
 ],
 "metadata": {
  "kernelspec": {
   "display_name": "SMAC",
   "language": "python",
   "name": "python3"
  },
  "language_info": {
   "codemirror_mode": {
    "name": "ipython",
    "version": 3
   },
   "file_extension": ".py",
   "mimetype": "text/x-python",
   "name": "python",
   "nbconvert_exporter": "python",
   "pygments_lexer": "ipython3",
   "version": "3.10.15"
  }
 },
 "nbformat": 4,
 "nbformat_minor": 2
}
