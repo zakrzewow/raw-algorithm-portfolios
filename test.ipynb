{
 "cells": [
  {
   "cell_type": "code",
   "execution_count": 1,
   "metadata": {},
   "outputs": [],
   "source": [
    "import os\n",
    "\n",
    "os.environ[\"SEED\"] = \"0\"\n",
    "import numpy as np\n",
    "import pandas as pd\n",
    "from ConfigSpace import Configuration\n",
    "\n",
    "from src.instance.SAT_Instance import SAT_Instance, SAT_from_index_file\n",
    "from src.solver.SAT_Riss_Solver import SAT_Riss_Solver\n",
    "from src.constant import DATA_DIR"
   ]
  },
  {
   "cell_type": "code",
   "execution_count": null,
   "metadata": {},
   "outputs": [
    {
     "data": {
      "text/plain": [
       "Configuration(values={\n",
       "  'K': 0.6813925106038,\n",
       "  'R': 1.7485235670034,\n",
       "  'act-based': 'off',\n",
       "  'actDec': 0.9345945644412,\n",
       "  'actIncMode': 1,\n",
       "  'actStart': 16053.882248525642,\n",
       "  'alluiphack': 1,\n",
       "  'biAsserting': 'off',\n",
       "  'ccmin-mode': 2,\n",
       "  'cir-bump': 269350066,\n",
       "  'cla-decay': 0.7276963431316,\n",
       "  'clsActB': 0,\n",
       "  'delay-units': 'off',\n",
       "  'dpll': 'off',\n",
       "  'dynLimits': 'off',\n",
       "  'eac': 'on',\n",
       "  'enabled_cp3': 'on',\n",
       "  'firstReduceDB': 191516357,\n",
       "  'gc-frac': 0.2531911937229,\n",
       "  'ics': 'on',\n",
       "  'incClLBD': 1331730391,\n",
       "  'incClSize': 2105845414,\n",
       "  'incClean': 1343265164,\n",
       "  'incLBD': 'on',\n",
       "  'incReduceDB': 575229061,\n",
       "  'incResAct': 1821448330,\n",
       "  'incResCnt': 1385382275,\n",
       "  'incResPol': 1548531386,\n",
       "  'incRestartA': 'on',\n",
       "  'incSaveState': 'on',\n",
       "  'incsverb': 1,\n",
       "  'independent': 'off',\n",
       "  'init-act': 4,\n",
       "  'init-pol': 6,\n",
       "  'keepLonger': 'off',\n",
       "  'keepWorst': 0.1328149987687,\n",
       "  'laHack': 'on',\n",
       "  'lbd-core-th': 1456806181,\n",
       "  'lbdIgnL0': 'on',\n",
       "  'lbdIgnLA': 'off',\n",
       "  'lbdupd': 0,\n",
       "  'learnDecMS': 892998700,\n",
       "  'learnDecP': 51,\n",
       "  'learnDecRER': 'on',\n",
       "  'longConflict': 'off',\n",
       "  'lpd': 1546,\n",
       "  'maxlearnts': 1746906401,\n",
       "  'minLBDFrozenClause': 1172564312,\n",
       "  'minLBDMinimizingClause': 1066927688,\n",
       "  'minSizeMinimizingClause': 1193028842,\n",
       "  'minmaxsize': 1076297411,\n",
       "  'nanosleep': 2006269952,\n",
       "  'otfss': 'off',\n",
       "  'otfssL': 'on',\n",
       "  'otfssMLDB': 775303800,\n",
       "  'phase-bit': 1687330498,\n",
       "  'phase-saving': 1,\n",
       "  'polMode': 'on',\n",
       "  'ppOnly': 'on',\n",
       "  'prefA': 2,\n",
       "  'prob-limit': 11637406,\n",
       "  'prob-step-width': 1471502964,\n",
       "  'quickRed': 'off',\n",
       "  'r-dyn-bl': 'off',\n",
       "  'r-dyn-ema': 'on',\n",
       "  'r-min-noBlock': 632204807,\n",
       "  'rMax': 72463294,\n",
       "  'recEE': 'off',\n",
       "  'recLBDf': -2.36647947972,\n",
       "  'receive': 'on',\n",
       "  'reduce-frac': 0.4044249428852,\n",
       "  'refConflict': 'off',\n",
       "  'refRec': 'on',\n",
       "  'rem-asc': 457110846,\n",
       "  'rem-asi': 9.5214269729542,\n",
       "  'rem-lsf': 9.0787559435433,\n",
       "  'rem-lsi': 6.964631446525,\n",
       "  'remIncLBD': 'off',\n",
       "  'remtype': 1,\n",
       "  'rer': 'off',\n",
       "  'resRefRec': 'on',\n",
       "  'revMin': 'on',\n",
       "  'revRevC': 'on',\n",
       "  'rlevel': 2,\n",
       "  'rmf': 'off',\n",
       "  'rnd-freq': 0.4317849276252,\n",
       "  'rnd-init': 'on',\n",
       "  'rnd-seed': 999277993.9221711,\n",
       "  'rsw-int': 2045373640,\n",
       "  'rtype': 2,\n",
       "  'sInterval': 589490065,\n",
       "  'sUhdProbe': 1,\n",
       "  'sbr': 1396370797,\n",
       "  'sendAll': 'off',\n",
       "  'shareTime': 2,\n",
       "  'size-core': 908531198,\n",
       "  'solve_stats': 'on',\n",
       "  'solververb': 0,\n",
       "  'specialIncReduceDB': 725958577,\n",
       "  'szLBDQueue': 40078,\n",
       "  'szTrailQueue': 20055,\n",
       "  'updLearnAct': 'on',\n",
       "  'useIP': 'on',\n",
       "  'usePP': 'off',\n",
       "  'var-decay-b': 0.3813971534309,\n",
       "  'var-decay-d': 1778078732,\n",
       "  'var-decay-e': 0.5369230010824,\n",
       "  'var-decay-i': 0.0299503249047,\n",
       "  'varActB': 2,\n",
       "  'vsids-d': 5186484,\n",
       "  'vsids-e': 0.5241838603938,\n",
       "  'vsids-i': 0.8427768626848,\n",
       "  'vsids-s': 0.2213964462928,\n",
       "})"
      ]
     },
     "execution_count": 3,
     "metadata": {},
     "output_type": "execute_result"
    }
   ],
   "source": [
    "solver = SAT_Riss_Solver()\n",
    "(solver.config)"
   ]
  },
  {
   "cell_type": "code",
   "execution_count": null,
   "metadata": {},
   "outputs": [],
   "source": [
    "\n",
    "\n",
    "params"
   ]
  },
  {
   "cell_type": "code",
   "execution_count": null,
   "metadata": {},
   "outputs": [],
   "source": [
    "solver = SAT_Riss_Solver()\n",
    "instances = SAT_from_index_file(filepath=DATA_DIR / \"SAT\" / \"index.json\", max_cost=10.0, max_time=10.0)\n",
    "\n",
    "for instance in instances:\n",
    "    solver.solve(instance, prefix=\"test\")"
   ]
  },
  {
   "cell_type": "code",
   "execution_count": null,
   "metadata": {},
   "outputs": [],
   "source": [
    "solver.to_dict()"
   ]
  },
  {
   "cell_type": "code",
   "execution_count": null,
   "metadata": {},
   "outputs": [],
   "source": [
    "test_instances = TSP_from_index_file(filepath=DATA_DIR / \"TSP\" / \"TEST_400\" / \"index.json\", max_cost=100.0, max_time=10.0)\n",
    "instance = test_instances[23]\n",
    "instance"
   ]
  },
  {
   "cell_type": "code",
   "execution_count": null,
   "metadata": {},
   "outputs": [],
   "source": [
    "solver = TSP_LKH_Solver()\n",
    "solver"
   ]
  },
  {
   "cell_type": "code",
   "execution_count": null,
   "metadata": {},
   "outputs": [],
   "source": [
    "solver.solve(instance, prefix=\"test\")"
   ]
  },
  {
   "cell_type": "code",
   "execution_count": null,
   "metadata": {},
   "outputs": [],
   "source": [
    "import matplotlib.pyplot as plt\n",
    "fig, ax = plt.subplots(figsize=(4.5, 4.5))\n",
    "\n",
    "df = instance._read_file_to_df()\n",
    "plt.scatter(df[\"X\"], df[\"Y\"], s=6)\n",
    "ax.ticklabel_format(style=\"scientific\", axis=\"both\", scilimits=(0, 0))\n",
    "plt.grid(color=\"black\", alpha=0.05)\n",
    "\n",
    "plt.xlabel(\"X coordinate\")\n",
    "plt.ylabel(\"Y coordinate\")\n",
    "plt.savefig(\"grid.pdf\", bbox_inches=\"tight\", transparent=True)\n",
    "plt.show()"
   ]
  },
  {
   "cell_type": "code",
   "execution_count": null,
   "metadata": {},
   "outputs": [],
   "source": [
    "idx = []\n",
    "with open(\"out\") as f:\n",
    "    for line in f:\n",
    "        if line.startswith(\"NAME\"):\n",
    "            continue\n",
    "        elif line.startswith(\"COMMENT\"):\n",
    "            continue\n",
    "        elif line.startswith(\"TYPE\"):\n",
    "            continue\n",
    "        elif line.startswith(\"DIMENSION\"):\n",
    "            continue\n",
    "        elif line.startswith(\"TOUR\"):\n",
    "            continue\n",
    "        elif line.startswith(\"-1\"):\n",
    "            break\n",
    "        idx.append(int(line.strip()))\n",
    "\n",
    "fig, ax = plt.subplots(figsize=(4.5, 4.5))\n",
    "df = instance._read_file_to_df()\n",
    "plt.plot(df.loc[idx, \"X\"], df.loc[idx, \"Y\"], c=\"red\", lw=0.8, zorder=1)\n",
    "plt.scatter(df[\"X\"], df[\"Y\"], s=6, zorder=2)\n",
    "ax.ticklabel_format(style=\"scientific\", axis=\"both\", scilimits=(0, 0))\n",
    "plt.grid(color=\"black\", alpha=0.05)\n",
    "plt.xlabel(\"X coordinate\")\n",
    "plt.ylabel(\"Y coordinate\")\n",
    "plt.savefig(\"grid_solved.pdf\", bbox_inches=\"tight\", transparent=True)\n",
    "plt.show()"
   ]
  },
  {
   "cell_type": "code",
   "execution_count": null,
   "metadata": {},
   "outputs": [],
   "source": [
    "instance = test_instances[4]\n",
    "fig, ax = plt.subplots(figsize=(4.5, 4.5))\n",
    "\n",
    "df = instance._read_file_to_df()\n",
    "plt.scatter(df[\"X\"], df[\"Y\"], s=6)\n",
    "ax.ticklabel_format(style=\"scientific\", axis=\"both\", scilimits=(0, 0))\n",
    "plt.grid(color=\"black\", alpha=0.05)\n",
    "\n",
    "plt.xlabel(\"X coordinate\")\n",
    "plt.ylabel(\"Y coordinate\")\n",
    "plt.savefig(\"cluster_netgen.pdf\", bbox_inches=\"tight\", transparent=True)\n",
    "plt.show()\n"
   ]
  },
  {
   "cell_type": "code",
   "execution_count": null,
   "metadata": {},
   "outputs": [],
   "source": [
    "fig, ax = plt.subplots(figsize=(4.5, 4.5))\n",
    "\n",
    "df = instance._read_file_to_df()\n",
    "plt.scatter(df[\"X\"], df[\"Y\"], s=6)\n",
    "ax.ticklabel_format(style=\"scientific\", axis=\"both\", scilimits=(0, 0))\n",
    "plt.grid(color=\"black\", alpha=0.05)\n",
    "\n",
    "plt.xlabel(\"X coordinate\")\n",
    "plt.ylabel(\"Y coordinate\")\n",
    "plt.savefig(\"grid.pdf\", bbox_inches=\"tight\", transparent=True)\n",
    "plt.show()"
   ]
  },
  {
   "cell_type": "code",
   "execution_count": null,
   "metadata": {},
   "outputs": [],
   "source": [
    "# import joblib\n",
    "# paths = list((MAIN_DIR / \"_archive\" / \"experiments\" / \"2025-01-27\" / \"200\" / \"database\").glob(\"*.db\"))\n",
    "# for path in paths:\n",
    "#     db = DB(path)\n",
    "\n",
    "#     configured_portfolio_solvers = pd.read_sql_query(\"\"\" \n",
    "#     SELECT DISTINCT solver_id FROM results\n",
    "#     WHERE prefix LIKE 'test%'                  \n",
    "#     \"\"\", db._conn)[\"solver_id\"].to_list()\n",
    "\n",
    "#     portfolio = Portfolio.from_iterable([TSP_LKH_Solver.from_db(id_, db) for id_ in configured_portfolio_solvers])\n",
    "#     joblib.dump(portfolio, MAIN_DIR / \"portfolios\" / \"200\" / f\"{path.stem}.pkl\")\n",
    "\n",
    "# paths = list((MAIN_DIR / \"_archive\" / \"experiments\" / \"2025-01-27\" / \"400\" / \"database\").glob(\"*.db\"))\n",
    "# for path in paths:\n",
    "#     db = DB(path)\n",
    "\n",
    "#     configured_portfolio_solvers = pd.read_sql_query(\"\"\" \n",
    "#     SELECT DISTINCT solver_id FROM results\n",
    "#     WHERE prefix LIKE 'test%'                  \n",
    "#     \"\"\", db._conn)[\"solver_id\"].to_list()\n",
    "\n",
    "#     portfolio = Portfolio.from_iterable([TSP_LKH_Solver.from_db(id_, db) for id_ in configured_portfolio_solvers])\n",
    "#     joblib.dump(portfolio, MAIN_DIR / \"portfolios\" / \"400\" / f\"{path.stem}.pkl\")"
   ]
  },
  {
   "cell_type": "code",
   "execution_count": null,
   "metadata": {},
   "outputs": [],
   "source": [
    "# import joblib\n",
    "\n",
    "# paths = list((MAIN_DIR / \"portfolios\" / \"200\").glob(\"run-plain-30-*.pkl\"))\n",
    "# for path in paths:\n",
    "#     run_id = path.stem.split(\"-\")[-1]\n",
    "#     portfolio = joblib.load(path)\n",
    "\n",
    "#     for i in range(100):\n",
    "#         portfolio.evaluate(\n",
    "#             test_instances,\n",
    "#             prefix=f\"{run_id};test{i}\",\n",
    "#             calculate_features=False,\n",
    "#             cache=False,\n",
    "#         )"
   ]
  }
 ],
 "metadata": {
  "kernelspec": {
   "display_name": "SMAC",
   "language": "python",
   "name": "python3"
  },
  "language_info": {
   "codemirror_mode": {
    "name": "ipython",
    "version": 3
   },
   "file_extension": ".py",
   "mimetype": "text/x-python",
   "name": "python",
   "nbconvert_exporter": "python",
   "pygments_lexer": "ipython3",
   "version": "3.10.15"
  }
 },
 "nbformat": 4,
 "nbformat_minor": 2
}
