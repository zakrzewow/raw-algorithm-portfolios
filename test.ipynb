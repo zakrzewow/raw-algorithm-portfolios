{
 "cells": [
  {
   "cell_type": "code",
   "execution_count": 1,
   "metadata": {},
   "outputs": [],
   "source": [
    "import os\n",
    "\n",
    "os.environ[\"SEED\"] = \"0\"\n",
    "import numpy as np\n",
    "import pandas as pd\n",
    "from ConfigSpace import Configuration\n",
    "\n",
    "from src.instance.SAT_Instance import SAT_Instance, SAT_from_index_file\n",
    "from src.solver.SAT_Riss_Solver import SAT_Riss_Solver\n",
    "from src.constant import DATA_DIR, DATABASE_DIR\n",
    "from src.database import DB\n",
    "from src.database.queries import get_model_training_data"
   ]
  },
  {
   "cell_type": "code",
   "execution_count": 2,
   "metadata": {},
   "outputs": [],
   "source": [
    "db = DB(\"database/run-30-sur-50-1027449.db\")\n",
    "X, y = get_model_training_data(db)"
   ]
  },
  {
   "cell_type": "code",
   "execution_count": 5,
   "metadata": {},
   "outputs": [],
   "source": [
    "query = f\"\"\"\n",
    "select \n",
    "    {db.SCHEMA.EVALUATIONS}.cost,\n",
    "    {db.SCHEMA.SOLVERS}.*,\n",
    "    {db.SCHEMA.INSTANCES}.*\n",
    "from {db.SCHEMA.EVALUATIONS}\n",
    "join {db.SCHEMA.INSTANCES} on {db.SCHEMA.EVALUATIONS}.instance_id = {db.SCHEMA.INSTANCES}.id\n",
    "join {db.SCHEMA.SOLVERS} on {db.SCHEMA.EVALUATIONS}.solver_id = {db.SCHEMA.SOLVERS}.id\n",
    "\"\"\"\n",
    "df = db.query2df(query)\n",
    "df = df.drop(columns=[\"id\", \"filepath\"])\n",
    "df = df.dropna()"
   ]
  },
  {
   "cell_type": "code",
   "execution_count": null,
   "metadata": {},
   "outputs": [],
   "source": []
  },
  {
   "cell_type": "code",
   "execution_count": 20,
   "metadata": {},
   "outputs": [
    {
     "data": {
      "text/plain": [
       "Index(['cost', 'K', 'R', 'act_based', 'actDec', 'actIncMode', 'actStart',\n",
       "       'alluiphack', 'biAsserting', 'ccmin_mode',\n",
       "       ...\n",
       "       'CG_coeff_variation', 'CG_min', 'CG_max', 'CG_entropy',\n",
       "       'cluster_coeff_mean', 'cluster_coeff_coeff_variation',\n",
       "       'cluster_coeff_min', 'cluster_coeff_max', 'cluster_coeff_entropy',\n",
       "       'CG_featuretime'],\n",
       "      dtype='object', length=158)"
      ]
     },
     "execution_count": 20,
     "metadata": {},
     "output_type": "execute_result"
    }
   ],
   "source": [
    "df.columns"
   ]
  },
  {
   "cell_type": "code",
   "execution_count": 7,
   "metadata": {},
   "outputs": [],
   "source": [
    "instances = SAT_from_index_file(\n",
    "    filepath=DATA_DIR / \"SAT\" / \"index.json\",\n",
    "    max_cost=100.0,\n",
    "    max_time=10.0,\n",
    ")\n",
    "\n",
    "train_instances = instances[:30]\n",
    "test_instances = instances[30:80]"
   ]
  },
  {
   "cell_type": "code",
   "execution_count": 10,
   "metadata": {},
   "outputs": [
    {
     "data": {
      "text/plain": [
       "54"
      ]
     },
     "execution_count": 10,
     "metadata": {},
     "output_type": "execute_result"
    }
   ],
   "source": [
    "instance = train_instances[0]\n",
    "instance.calculate_features()\n",
    "len(instance.features)"
   ]
  },
  {
   "cell_type": "code",
   "execution_count": 12,
   "metadata": {},
   "outputs": [
    {
     "data": {
      "text/plain": [
       "Solver(id=386181383168834235)"
      ]
     },
     "execution_count": 12,
     "metadata": {},
     "output_type": "execute_result"
    }
   ],
   "source": [
    "solver = SAT_Riss_Solver()\n",
    "solver"
   ]
  },
  {
   "cell_type": "code",
   "execution_count": 14,
   "metadata": {},
   "outputs": [
    {
     "data": {
      "text/plain": [
       "(54,)"
      ]
     },
     "execution_count": 14,
     "metadata": {},
     "output_type": "execute_result"
    }
   ],
   "source": [
    "instance.get_array().shape"
   ]
  },
  {
   "cell_type": "code",
   "execution_count": 15,
   "metadata": {},
   "outputs": [
    {
     "data": {
      "text/plain": [
       "(101,)"
      ]
     },
     "execution_count": 15,
     "metadata": {},
     "output_type": "execute_result"
    }
   ],
   "source": [
    "solver.get_array().shape"
   ]
  },
  {
   "cell_type": "code",
   "execution_count": 16,
   "metadata": {},
   "outputs": [],
   "source": [
    "X = np.concatenate([solver.get_array(), instance.get_array()])\n",
    "X = X.reshape(1, -1)"
   ]
  },
  {
   "cell_type": "code",
   "execution_count": 32,
   "metadata": {},
   "outputs": [],
   "source": [
    "keys_solver = list(solver.config.keys())\n",
    "keys_solver = [k.replace(\"-\", \"_\").replace(\"+\", \"_\") for k in keys_solver]\n",
    "\n",
    "keys_instance = list(instance.features.keys())\n",
    "keys_instance = [k.replace(\"-\", \"_\").replace(\"+\", \"_\") for k in keys_instance]"
   ]
  },
  {
   "cell_type": "code",
   "execution_count": 33,
   "metadata": {},
   "outputs": [
    {
     "data": {
      "text/plain": [
       "Index(['cost', 'max_cost', 'max_time'], dtype='object')"
      ]
     },
     "execution_count": 33,
     "metadata": {},
     "output_type": "execute_result"
    }
   ],
   "source": [
    "df.columns.difference(set(keys_solver + keys_instance))"
   ]
  },
  {
   "cell_type": "code",
   "execution_count": 40,
   "metadata": {},
   "outputs": [
    {
     "data": {
      "text/plain": [
       "0       10.0\n",
       "1       10.0\n",
       "2       10.0\n",
       "3       10.0\n",
       "4       10.0\n",
       "        ... \n",
       "2216    10.0\n",
       "2217    10.0\n",
       "2218    10.0\n",
       "2219    10.0\n",
       "2220    10.0\n",
       "Name: max_time, Length: 2221, dtype: float64"
      ]
     },
     "execution_count": 40,
     "metadata": {},
     "output_type": "execute_result"
    }
   ],
   "source": [
    "df[\"max_time\"]"
   ]
  },
  {
   "cell_type": "code",
   "execution_count": 41,
   "metadata": {},
   "outputs": [],
   "source": [
    "# index = []\n",
    "# for filepath in list((DATA_DIR / \"SAT\").glob(\"*.cnf\")):\n",
    "#     v = \"/\".join(filepath.parts[-2:])\n",
    "#     index.append(v)\n",
    "\n",
    "# index"
   ]
  },
  {
   "cell_type": "code",
   "execution_count": 39,
   "metadata": {},
   "outputs": [],
   "source": [
    "# for filepath in list((DATA_DIR / \"SAT\").glob(\"*.cnf\")):\n",
    "#     # Read the file\n",
    "#     with open(filepath, 'r') as f:\n",
    "#         lines = f.readlines()\n",
    "    \n",
    "#     # Remove last 4 lines and add one empty line\n",
    "#     modified_lines = lines[:-4] + ['\\n']\n",
    "    \n",
    "#     # Write back to the file\n",
    "#     with open(filepath, 'w') as f:\n",
    "#         f.writelines(modified_lines)\n",
    "    \n",
    "#     print(f\"Processed: {filepath.name}\")"
   ]
  },
  {
   "cell_type": "code",
   "execution_count": 8,
   "metadata": {},
   "outputs": [],
   "source": [
    "solver = SAT_Riss_Solver()\n",
    "instances = SAT_from_index_file(filepath=DATA_DIR / \"SAT\" / \"index_u150.json\", max_cost=10.0, max_time=10.0)\n"
   ]
  }
 ],
 "metadata": {
  "kernelspec": {
   "display_name": "SMAC",
   "language": "python",
   "name": "python3"
  },
  "language_info": {
   "codemirror_mode": {
    "name": "ipython",
    "version": 3
   },
   "file_extension": ".py",
   "mimetype": "text/x-python",
   "name": "python",
   "nbconvert_exporter": "python",
   "pygments_lexer": "ipython3",
   "version": "3.10.15"
  }
 },
 "nbformat": 4,
 "nbformat_minor": 2
}
