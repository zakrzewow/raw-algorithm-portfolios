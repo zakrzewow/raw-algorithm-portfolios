{
 "cells": [
  {
   "cell_type": "code",
   "execution_count": null,
   "metadata": {},
   "outputs": [],
   "source": [
    "import os\n",
    "\n",
    "os.environ[\"SEED\"] = \"0\"\n",
    "\n",
    "import json\n",
    "from pathlib import Path\n",
    "\n",
    "import pandas as pd\n",
    "\n",
    "from src.constant import DATABASE_DIR, DATA_DIR\n",
    "from src.database import DB\n",
    "from src.instance.BBOB_Instance import BBOB_Instance\n",
    "\n",
    "pd.options.display.max_columns = None"
   ]
  },
  {
   "cell_type": "code",
   "execution_count": null,
   "metadata": {},
   "outputs": [],
   "source": [
    "# features = {}\n",
    "\n",
    "# for features_file in Path(\"features\").glob(\"*.json\"):\n",
    "#     with open(features_file, \"r\") as f:\n",
    "#         features = {\n",
    "#             **features,\n",
    "#             **json.load(f)\n",
    "#         }\n",
    "\n",
    "# len(features)\n",
    "\n",
    "# with open(DATA_DIR / \"BBOB\" / \"features.json\", \"w\") as f:\n",
    "#     json.dump(features, f, indent=4)"
   ]
  },
  {
   "cell_type": "code",
   "execution_count": null,
   "metadata": {},
   "outputs": [],
   "source": [
    "# from src.instance.BBOB_Instance import BBOB_Instance\n",
    "# import json\n",
    "\n",
    "# features = {}\n",
    "\n",
    "# for instance_index in [1, 2, 3, 4, 5]:\n",
    "#     instance = BBOB_Instance(\n",
    "#         function_index=7,\n",
    "#         dimension=2,\n",
    "#         instance_index=instance_index,\n",
    "#     )\n",
    "#     result, time = instance.calculate_features()\n",
    "#     features[instance.id()] = {\"result\": result, \"time\": time}\n",
    "\n",
    "# with open(\"features/features_7_2.json\", \"w\") as f:\n",
    "#     json.dump(features, f, indent=4)"
   ]
  }
 ],
 "metadata": {
  "kernelspec": {
   "display_name": "SMAC",
   "language": "python",
   "name": "python3"
  },
  "language_info": {
   "codemirror_mode": {
    "name": "ipython",
    "version": 3
   },
   "file_extension": ".py",
   "mimetype": "text/x-python",
   "name": "python",
   "nbconvert_exporter": "python",
   "pygments_lexer": "ipython3",
   "version": "3.10.15"
  }
 },
 "nbformat": 4,
 "nbformat_minor": 2
}
