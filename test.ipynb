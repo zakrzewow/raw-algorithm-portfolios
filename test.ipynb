{
 "cells": [
  {
   "cell_type": "code",
   "execution_count": 1,
   "metadata": {},
   "outputs": [],
   "source": [
    "import os\n",
    "\n",
    "os.environ[\"SEED\"] = \"0\"\n",
    "\n",
    "import cocoex\n",
    "import matplotlib.pyplot as plt\n",
    "import nevergrad as ng\n",
    "import numpy as np\n",
    "import scipy\n",
    "\n",
    "from src.solver.BBOB_POP_Solver import BBOB_POP_Solver\n",
    "from src.instance.BBOB_Instance import BBOB_Instance"
   ]
  },
  {
   "cell_type": "code",
   "execution_count": 2,
   "metadata": {},
   "outputs": [
    {
     "data": {
      "text/plain": [
       "15"
      ]
     },
     "execution_count": 2,
     "metadata": {},
     "output_type": "execute_result"
    }
   ],
   "source": [
    "suite = cocoex.Suite(\"bbob\", \"\", \"function_indices:1 dimensions:2 instance_indices:1-15\")\n",
    "# 6 dimensions X 24 functions X 15 instances = 2160 problems\n",
    "len(list(suite))"
   ]
  },
  {
   "cell_type": "code",
   "execution_count": 3,
   "metadata": {},
   "outputs": [
    {
     "data": {
      "text/plain": [
       "BBOB_Instance(problem_id=bbob_f001_i01_d02)"
      ]
     },
     "execution_count": 3,
     "metadata": {},
     "output_type": "execute_result"
    }
   ],
   "source": [
    "instance = BBOB_Instance(\n",
    "    function_index=1,\n",
    "    dimension=2,\n",
    "    instance_index=1,\n",
    "    cut_off_cost=50.0,\n",
    "    cut_off_time=5.0,\n",
    ")\n",
    "instance"
   ]
  },
  {
   "cell_type": "code",
   "execution_count": 6,
   "metadata": {},
   "outputs": [
    {
     "data": {
      "text/plain": [
       "(0.6653308868408203, 0.6653308868408203, 50.0, 5.0)"
      ]
     },
     "execution_count": 6,
     "metadata": {},
     "output_type": "execute_result"
    }
   ],
   "source": [
    "solver = BBOB_POP_Solver()\n",
    "\n",
    "result = solver._solve(\n",
    "    prefix=\"test\",\n",
    "    solver=solver,\n",
    "    instance=instance,\n",
    "    features_time=0\n",
    ")\n",
    "result.cost, result.time, result.cut_off_cost, result.cut_off_time"
   ]
  },
  {
   "cell_type": "code",
   "execution_count": 7,
   "metadata": {},
   "outputs": [
    {
     "name": "stderr",
     "output_type": "stream",
     "text": [
      "[2025-07-11 07:00:28] DEBUG     solve(prefix=test, solver=Solver(id=2253826169615980878), instance=BBOB_Instance(problem_id=bbob_f001_i01_d02))\n",
      "[2025-07-11 07:00:29] DEBUG     Solver.Result(prefix=test, solver=Solver(id=2253826169615980878), instance=BBOB_Instance(problem_id=bbob_f001_i01_d02), cost=0.86, time=0.86, cut_off_cost=50.00, cut_off_time=5.00, cached=False, surrogate=False, error=False)\n"
     ]
    },
    {
     "data": {
      "text/plain": [
       "<Future at 0x1910342ac80 state=finished returned Result>"
      ]
     },
     "execution_count": 7,
     "metadata": {},
     "output_type": "execute_result"
    }
   ],
   "source": [
    "solver.solve(\n",
    "    instance=instance,\n",
    "    prefix=\"test\",\n",
    "    calculate_features=False,\n",
    "    cache=False\n",
    ")"
   ]
  },
  {
   "cell_type": "code",
   "execution_count": null,
   "metadata": {},
   "outputs": [],
   "source": [
    "problem = suite[0]\n",
    "\n",
    "pso_config = ng.families.ConfPSO(\n",
    "    popsize=20,           # Population size\n",
    "    omega=0.729,          # Inertia weight\n",
    "    phip=1.49618,         # Cognitive parameter\n",
    "    phig=1.49618,         # Social parameter\n",
    ")\n",
    "\n",
    "optimizer = pso_config(2, budget=100000)\n",
    "\n",
    "recommendation = optimizer.minimize(problem, max_time=100)\n",
    "recommendation.value, problem.evaluations, problem.final_target_hit"
   ]
  },
  {
   "cell_type": "code",
   "execution_count": null,
   "metadata": {},
   "outputs": [],
   "source": [
    "problem = suite[0]\n",
    "\n",
    "de_config = ng.families.DifferentialEvolution(\n",
    "    popsize=20,\n",
    "    crossover=0.8,\n",
    ")\n",
    "\n",
    "optimizer = de_config(2, budget=10000)\n",
    "\n",
    "recommendation = optimizer.minimize(problem, max_time=1)\n",
    "recommendation.value, problem.evaluations, problem.final_target_hit"
   ]
  }
 ],
 "metadata": {
  "kernelspec": {
   "display_name": "SMAC",
   "language": "python",
   "name": "python3"
  },
  "language_info": {
   "codemirror_mode": {
    "name": "ipython",
    "version": 3
   },
   "file_extension": ".py",
   "mimetype": "text/x-python",
   "name": "python",
   "nbconvert_exporter": "python",
   "pygments_lexer": "ipython3",
   "version": "3.10.18"
  }
 },
 "nbformat": 4,
 "nbformat_minor": 2
}
