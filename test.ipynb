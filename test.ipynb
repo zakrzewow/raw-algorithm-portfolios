{
 "cells": [
  {
   "cell_type": "code",
   "execution_count": 1,
   "metadata": {},
   "outputs": [],
   "source": [
    "import os\n",
    "\n",
    "os.environ[\"SEED\"] = \"0\"\n",
    "import numpy as np\n",
    "import pandas as pd\n",
    "from ConfigSpace import Configuration\n",
    "\n",
    "from src.aac.AAC import AAC\n",
    "from src.configuration_space.LKH import CONFIGURATION_SPACE\n",
    "from src.constant import DATA_DIR, SEED\n",
    "from src.database import DB\n",
    "from src.database.queries import *\n",
    "from src.instance.Instance import Instance\n",
    "from src.instance.InstanceList import InstanceList\n",
    "from src.instance.TSP_Instance import TSP_Instance, TSP_train_test_from_index_file\n",
    "from src.solver.Portfolio import Portfolio\n",
    "from src.solver.TSP_LKH_Solver import TSP_LKH_Solver\n",
    "from src.aac.SurrogateEstimator import Estimator1, SurrogateEstimator"
   ]
  },
  {
   "cell_type": "code",
   "execution_count": null,
   "metadata": {},
   "outputs": [],
   "source": [
    "train_instances, test_instances = TSP_train_test_from_index_file(\n",
    "    filepath=DATA_DIR / \"TSP\" / \"CEPS_benchmark\" / \"index.json\",\n",
    "    train_size=3,\n",
    ")\n",
    "train_instances"
   ]
  },
  {
   "cell_type": "code",
   "execution_count": null,
   "metadata": {},
   "outputs": [],
   "source": [
    "portfolio = Portfolio.from_solver_class(TSP_LKH_Solver, size=1)\n",
    "portfolio"
   ]
  },
  {
   "cell_type": "code",
   "execution_count": 4,
   "metadata": {},
   "outputs": [],
   "source": [
    "aac = AAC(\n",
    "    portfolio=portfolio,\n",
    "    instance_list=train_instances,\n",
    "    prefix=\"config\",\n",
    "    t_c=600,\n",
    "    calculate_features=False,\n",
    "    estimator=None,\n",
    ")"
   ]
  },
  {
   "cell_type": "code",
   "execution_count": null,
   "metadata": {},
   "outputs": [],
   "source": [
    "for _ in aac.configure_iter():\n",
    "    print(aac.get_progress())"
   ]
  },
  {
   "cell_type": "code",
   "execution_count": null,
   "metadata": {},
   "outputs": [],
   "source": [
    "last_model_iter = 0\n",
    "\n",
    "estimator = None\n",
    "db = DB()\n",
    "estimator_pct = 0.5\n",
    "for _ in aac.configure_iter():\n",
    "    if aac.get_progress() >= 0.5 and aac.iter - last_model_iter >= 10:\n",
    "        X, y = get_model_training_data(db)\n",
    "        estimator = Estimator1(max_cost=TSP_LKH_Solver.MAX_COST, estimator_pct=estimator_pct)\n",
    "        estimator.fit(X, y)\n",
    "        estimator.log()\n",
    "        last_model_iter = aac.iter\n",
    "        aac.update(estimator=estimator)"
   ]
  },
  {
   "cell_type": "code",
   "execution_count": 4,
   "metadata": {},
   "outputs": [],
   "source": [
    "# db = DB()\n",
    "db = DB(\"database/run-test_923971.db\")"
   ]
  },
  {
   "cell_type": "code",
   "execution_count": null,
   "metadata": {},
   "outputs": [],
   "source": [
    "pd.read_sql_query(\"SELECT * FROM instances\", db._conn)"
   ]
  },
  {
   "cell_type": "code",
   "execution_count": null,
   "metadata": {},
   "outputs": [],
   "source": [
    "pd.read_sql_query(\"SELECT * FROM solvers\", db._conn)"
   ]
  },
  {
   "cell_type": "code",
   "execution_count": null,
   "metadata": {},
   "outputs": [],
   "source": [
    "results = pd.read_sql_query(\"SELECT * FROM results\", db._conn)\n",
    "results"
   ]
  },
  {
   "cell_type": "code",
   "execution_count": null,
   "metadata": {},
   "outputs": [],
   "source": [
    "_ = results.loc[results[\"prefix\"].str.startswith(\"config\")]\n",
    "_.loc[_[\"surrogate\"] == 1]"
   ]
  },
  {
   "cell_type": "code",
   "execution_count": null,
   "metadata": {},
   "outputs": [],
   "source": [
    "pd.read_sql_query(\"SELECT * FROM evaluations\", db._conn)"
   ]
  }
 ],
 "metadata": {
  "kernelspec": {
   "display_name": "SMAC",
   "language": "python",
   "name": "python3"
  },
  "language_info": {
   "codemirror_mode": {
    "name": "ipython",
    "version": 3
   },
   "file_extension": ".py",
   "mimetype": "text/x-python",
   "name": "python",
   "nbconvert_exporter": "python",
   "pygments_lexer": "ipython3",
   "version": "3.10.15"
  }
 },
 "nbformat": 4,
 "nbformat_minor": 2
}
