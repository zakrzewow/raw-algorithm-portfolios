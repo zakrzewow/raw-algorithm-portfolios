{
 "cells": [
  {
   "cell_type": "code",
   "execution_count": 8,
   "metadata": {},
   "outputs": [],
   "source": [
    "import numpy as np\n",
    "import pandas as pd\n",
    "\n",
    "from src.constant import DATA_DIR, DATABASE_DIR\n",
    "from src.database import DB\n",
    "from src.database.queries import *\n",
    "from src.instance.InstanceList import InstanceList\n",
    "from src.instance.TSP_Instance import TSP_from_index_file\n",
    "from src.solver.TSP_LKH_Solver import TSP_LKH_Solver"
   ]
  },
  {
   "cell_type": "code",
   "execution_count": 9,
   "metadata": {},
   "outputs": [],
   "source": [
    "generators = [\n",
    "    \"cluster_netgen\",\n",
    "    \"compression\",\n",
    "    \"expansion\",\n",
    "    \"explosion\",\n",
    "    \"grid\",\n",
    "    \"cluster\",\n",
    "    \"implosion\",\n",
    "    \"linearprojection\",\n",
    "    \"rotation\",\n",
    "    \"uniform_portgen\",\n",
    "]\n",
    "\n",
    "test_instances = TSP_from_index_file(filepath=DATA_DIR / \"TSP\" / \"TEST\" / \"index.json\")\n",
    "\n",
    "id_to_generator_name = {\n",
    "    instance.id(): instance.filepath.parts[-2] for instance in test_instances\n",
    "}\n",
    "\n",
    "id_to_name = {\n",
    "    instance.id(): instance.filepath.parts[-1] for instance in test_instances\n",
    "}"
   ]
  },
  {
   "cell_type": "code",
   "execution_count": 14,
   "metadata": {},
   "outputs": [],
   "source": [
    "def agg_prefix(prefix):\n",
    "\n",
    "    frames = []\n",
    "\n",
    "    def agg_cost(x):\n",
    "        count = x.shape[0]\n",
    "        x = x[x < TSP_LKH_Solver.MAX_COST]\n",
    "        idx = count // 2\n",
    "        if x.shape[0] <= idx:\n",
    "            return x.iloc[-1]\n",
    "        return x.iloc[idx]\n",
    "        \n",
    "\n",
    "    for idx, db_path in enumerate(DATABASE_DIR.glob(f\"{prefix}-*.db\")):\n",
    "        db = DB(db_path)\n",
    "        results = pd.read_sql_query(\"SELECT * FROM results\", db._conn)\n",
    "        series = (\n",
    "            results.loc[results[\"prefix\"].str.startswith(\"test\")]\n",
    "            .groupby([\"instance_id\", \"prefix\"])[\"cost\"]\n",
    "            .min()\n",
    "            .reset_index()\n",
    "            .groupby(\"instance_id\")[\"cost\"]\n",
    "            .agg(agg_cost)\n",
    "        )\n",
    "        frames.append(series)\n",
    "        \n",
    "\n",
    "    df = (\n",
    "        pd.concat(frames, axis=1)\n",
    "        .mean(axis=1)\n",
    "        .round(3)\n",
    "        .rename(prefix)\n",
    "        .to_frame()\n",
    "    )\n",
    "\n",
    "    df[\"generator\"] = df.index.map(id_to_generator_name)\n",
    "    df[\"name\"] = df.index.map(id_to_name)\n",
    "    df = df.pivot_table(index=\"generator\", columns=\"name\", values=prefix).loc[generators, :]\n",
    "    return df\n",
    "\n",
    "n = 500\n",
    "plain = agg_prefix(f\"run-plain-{n}\")\n",
    "sur25 = agg_prefix(f\"run-{n}-sur-25\")\n",
    "sur50 = agg_prefix(f\"run-{n}-sur-50\")\n",
    "sur75 = agg_prefix(f\"run-{n}-sur-75\")\n",
    "\n",
    "plain = plain.assign(generator=f\"plain-{n}\").set_index(\"generator\", append=True)\n",
    "sur25 = sur25.assign(generator=\"surrogate-25\").set_index(\"generator\", append=True)\n",
    "sur50 = sur50.assign(generator=\"surrogate-50\").set_index(\"generator\", append=True)\n",
    "sur75 = sur75.assign(generator=\"surrogate-75\").set_index(\"generator\", append=True)"
   ]
  },
  {
   "cell_type": "code",
   "execution_count": 15,
   "metadata": {},
   "outputs": [],
   "source": [
    "df = pd.concat([plain, sur25, sur50, sur75], axis=0).sort_index(level=0).loc[generators]   \n",
    "df[\"mean\"] = df.mean(axis=1)"
   ]
  },
  {
   "cell_type": "code",
   "execution_count": 16,
   "metadata": {},
   "outputs": [
    {
     "name": "stdout",
     "output_type": "stream",
     "text": [
      "plain_total_mean=0.304\n",
      "sur25_total_mean=0.303\n",
      "sur50_total_mean=0.304\n",
      "sur75_total_mean=0.363\n"
     ]
    }
   ],
   "source": [
    "plain_total_mean = plain.mean(axis=1).mean(axis=0)\n",
    "sur25_total_mean = sur25.mean(axis=1).mean(axis=0)\n",
    "sur50_total_mean = sur50.mean(axis=1).mean(axis=0)\n",
    "sur75_total_mean = sur75.mean(axis=1).mean(axis=0)\n",
    "print(f\"{plain_total_mean=:.3f}\")\n",
    "print(f\"{sur25_total_mean=:.3f}\")\n",
    "print(f\"{sur50_total_mean=:.3f}\")\n",
    "print(f\"{sur75_total_mean=:.3f}\")"
   ]
  },
  {
   "cell_type": "code",
   "execution_count": 17,
   "metadata": {},
   "outputs": [
    {
     "name": "stdout",
     "output_type": "stream",
     "text": [
      "plain_training=0.303 plain_not_training=0.306\n",
      "sur25_training=0.320 sur25_not_training=0.287\n",
      "sur50_training=0.291 sur50_not_training=0.316\n",
      "sur75_training=0.356 sur75_not_training=0.370\n"
     ]
    }
   ],
   "source": [
    "plain_training = plain.iloc[:5].mean(axis=1).mean(axis=0)\n",
    "sur25_training = sur25.iloc[:5].mean(axis=1).mean(axis=0)\n",
    "sur50_training = sur50.iloc[:5].mean(axis=1).mean(axis=0)\n",
    "sur75_training = sur75.iloc[:5].mean(axis=1).mean(axis=0)\n",
    "\n",
    "plain_not_training = plain.iloc[5:].mean(axis=1).mean(axis=0)\n",
    "sur25_not_training = sur25.iloc[5:].mean(axis=1).mean(axis=0)\n",
    "sur50_not_training = sur50.iloc[5:].mean(axis=1).mean(axis=0)\n",
    "sur75_not_training = sur75.iloc[5:].mean(axis=1).mean(axis=0)\n",
    "\n",
    "print(f\"{plain_training=:.3f}\", f\"{plain_not_training=:.3f}\")\n",
    "print(f\"{sur25_training=:.3f}\", f\"{sur25_not_training=:.3f}\")\n",
    "print(f\"{sur50_training=:.3f}\", f\"{sur50_not_training=:.3f}\")\n",
    "print(f\"{sur75_training=:.3f}\", f\"{sur75_not_training=:.3f}\")"
   ]
  },
  {
   "cell_type": "code",
   "execution_count": 18,
   "metadata": {},
   "outputs": [],
   "source": [
    "# \n",
    "df.to_excel(\"tmp.xlsx\")"
   ]
  },
  {
   "cell_type": "code",
   "execution_count": 54,
   "metadata": {},
   "outputs": [
    {
     "data": {
      "text/plain": [
       "20640.65"
      ]
     },
     "execution_count": 54,
     "metadata": {},
     "output_type": "execute_result"
    }
   ],
   "source": [
    "times = {}\n",
    "\n",
    "for idx, db_path in enumerate(DATABASE_DIR.glob(f\"{PREFIX}-*.db\")):\n",
    "    db = DB(db_path)\n",
    "    results = pd.read_sql_query(\"SELECT * FROM results\", db._conn)\n",
    "    times[idx] = results.loc[\n",
    "        results[\"prefix\"].str.startswith(\"config\")\n",
    "        & results[\"cached\"].eq(0)\n",
    "        & results[\"surrogate\"].eq(0),\n",
    "        \"time\",\n",
    "    ].sum()\n",
    "    \n",
    "np.round(pd.Series(times).mean(), 2)"
   ]
  },
  {
   "cell_type": "code",
   "execution_count": 55,
   "metadata": {},
   "outputs": [
    {
     "data": {
      "text/plain": [
       "5.73351327659766"
      ]
     },
     "execution_count": 55,
     "metadata": {},
     "output_type": "execute_result"
    }
   ],
   "source": [
    "pd.Series(times).mean() / 3600"
   ]
  },
  {
   "cell_type": "code",
   "execution_count": null,
   "metadata": {},
   "outputs": [],
   "source": [
    "# def agg_cost(x):\n",
    "#     count = x.shape[0]\n",
    "#     x = x[x < TSP_LKH_Solver.MAX_COST]\n",
    "#     idx = count // 2\n",
    "#     if x.shape[0] <= idx:\n",
    "#         return x.iloc[-1]\n",
    "#     return x.iloc[idx]\n",
    "\n",
    "# for idx, db_path in enumerate(DATABASE_DIR.glob(f\"run-500-sur-25-*.db\")):\n",
    "#     db = DB(db_path)\n",
    "#     results = pd.read_sql_query(\"SELECT * FROM results\", db._conn)\n",
    "#     series = (\n",
    "#         results.loc[results[\"prefix\"].str.startswith(\"test\")]\n",
    "#         .groupby([\"instance_id\", \"prefix\"])[\"cost\"]\n",
    "#         .min()\n",
    "#         .reset_index()\n",
    "#         .groupby(\"instance_id\")[\"cost\"]\n",
    "#         .agg(agg_cost)\n",
    "#     )\n",
    "#     print(db_path, series.mean())"
   ]
  }
 ],
 "metadata": {
  "kernelspec": {
   "display_name": "SMAC",
   "language": "python",
   "name": "python3"
  },
  "language_info": {
   "codemirror_mode": {
    "name": "ipython",
    "version": 3
   },
   "file_extension": ".py",
   "mimetype": "text/x-python",
   "name": "python",
   "nbconvert_exporter": "python",
   "pygments_lexer": "ipython3",
   "version": "3.10.15"
  }
 },
 "nbformat": 4,
 "nbformat_minor": 2
}
