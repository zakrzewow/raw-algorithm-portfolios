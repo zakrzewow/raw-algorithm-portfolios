{
 "cells": [
  {
   "cell_type": "code",
   "execution_count": 1,
   "metadata": {},
   "outputs": [],
   "source": [
    "import sqlite3\n",
    "\n",
    "import matplotlib.pyplot as plt\n",
    "import numpy as np\n",
    "import pandas as pd\n",
    "\n",
    "FONT_COLOR = \"#22373a\"\n",
    "FILL_COLOR = \"#b4cccf\"\n",
    "\n",
    "plt.rcParams[\"axes.grid\"] = True\n",
    "plt.rcParams[\"grid.alpha\"] = 0.25\n",
    "plt.rcParams[\"grid.color\"] = \"#cccccc\"\n",
    "\n",
    "pd.options.display.max_columns = 999\n"
   ]
  },
  {
   "cell_type": "code",
   "execution_count": 2,
   "metadata": {},
   "outputs": [],
   "source": [
    "RESULTS = {\n",
    "    1: {\n",
    "        \"CEPS\": \"_archive/7/CEPS1.db\",\n",
    "        \"S-CEPS\": \"_archive/7/MY_CEPS1.db\",\n",
    "    },\n",
    "    2: {\n",
    "        \"CEPS\": \"_archive/7/CEPS2.db\",\n",
    "        \"S-CEPS\": \"_archive/7/MY_CEPS2.db\",\n",
    "    },\n",
    "}\n",
    "\n",
    "results = {}\n",
    "\n",
    "for i, result in RESULTS.items():\n",
    "    ss = []\n",
    "    for name, db in result.items():\n",
    "        conn = sqlite3.connect(db)\n",
    "\n",
    "        df = pd.read_sql_query(\"SELECT * FROM results\", conn)\n",
    "        conn.close()\n",
    "        s = df.loc[df[\"comment\"].str.startswith(\"test\")].pivot_table(index=\"instance_id\", columns=\"solver_id\", values=\"cost\", aggfunc=lambda x: sorted(x)[1])\n",
    "        s[name] = s.min(axis=1)\n",
    "        ss.append(s[name])\n",
    "    results[i] = pd.concat(ss, axis=1)"
   ]
  },
  {
   "cell_type": "code",
   "execution_count": 3,
   "metadata": {},
   "outputs": [
    {
     "data": {
      "text/html": [
       "<div>\n",
       "<style scoped>\n",
       "    .dataframe tbody tr th:only-of-type {\n",
       "        vertical-align: middle;\n",
       "    }\n",
       "\n",
       "    .dataframe tbody tr th {\n",
       "        vertical-align: top;\n",
       "    }\n",
       "\n",
       "    .dataframe thead th {\n",
       "        text-align: right;\n",
       "    }\n",
       "</style>\n",
       "<table border=\"1\" class=\"dataframe\">\n",
       "  <thead>\n",
       "    <tr style=\"text-align: right;\">\n",
       "      <th></th>\n",
       "      <th>CEPS</th>\n",
       "      <th>S-CEPS</th>\n",
       "    </tr>\n",
       "  </thead>\n",
       "  <tbody>\n",
       "    <tr>\n",
       "      <th>count</th>\n",
       "      <td>470.000000</td>\n",
       "      <td>470.000000</td>\n",
       "    </tr>\n",
       "    <tr>\n",
       "      <th>mean</th>\n",
       "      <td>1.892681</td>\n",
       "      <td>1.891021</td>\n",
       "    </tr>\n",
       "    <tr>\n",
       "      <th>std</th>\n",
       "      <td>9.202442</td>\n",
       "      <td>9.164217</td>\n",
       "    </tr>\n",
       "    <tr>\n",
       "      <th>min</th>\n",
       "      <td>0.040000</td>\n",
       "      <td>0.080000</td>\n",
       "    </tr>\n",
       "    <tr>\n",
       "      <th>25%</th>\n",
       "      <td>0.320000</td>\n",
       "      <td>0.452500</td>\n",
       "    </tr>\n",
       "    <tr>\n",
       "      <th>50%</th>\n",
       "      <td>0.550000</td>\n",
       "      <td>0.730000</td>\n",
       "    </tr>\n",
       "    <tr>\n",
       "      <th>75%</th>\n",
       "      <td>1.170000</td>\n",
       "      <td>1.210000</td>\n",
       "    </tr>\n",
       "    <tr>\n",
       "      <th>max</th>\n",
       "      <td>100.000000</td>\n",
       "      <td>100.000000</td>\n",
       "    </tr>\n",
       "  </tbody>\n",
       "</table>\n",
       "</div>"
      ],
      "text/plain": [
       "             CEPS      S-CEPS\n",
       "count  470.000000  470.000000\n",
       "mean     1.892681    1.891021\n",
       "std      9.202442    9.164217\n",
       "min      0.040000    0.080000\n",
       "25%      0.320000    0.452500\n",
       "50%      0.550000    0.730000\n",
       "75%      1.170000    1.210000\n",
       "max    100.000000  100.000000"
      ]
     },
     "execution_count": 3,
     "metadata": {},
     "output_type": "execute_result"
    }
   ],
   "source": [
    "results[1].describe()"
   ]
  },
  {
   "cell_type": "code",
   "execution_count": 6,
   "metadata": {},
   "outputs": [
    {
     "data": {
      "image/png": "[encoded data removed]",
      "text/plain": [
       "<Figure size 600x350 with 2 Axes>"
      ]
     },
     "metadata": {},
     "output_type": "display_data"
    }
   ],
   "source": [
    "n = len(results)\n",
    "\n",
    "fig, ax = plt.subplots(ncols=n, nrows=1, figsize=(n * 3, 3.5), sharey=True)\n",
    "\n",
    "for i, (result_group, result) in enumerate(results.items()):\n",
    "    ax[i].boxplot(\n",
    "        result,\n",
    "        patch_artist=True,\n",
    "        boxprops=dict(facecolor=FILL_COLOR),\n",
    "        showfliers=False,\n",
    "        medianprops=dict(color=FONT_COLOR),\n",
    "        labels=result.columns,\n",
    "    )\n",
    "    for j, label in enumerate(result.columns):\n",
    "        mean_value = result[label].mean()\n",
    "        ax[i].plot(\n",
    "            [j + 1], [mean_value], marker=\"^\", markersize=5, color=FONT_COLOR\n",
    "        )\n",
    "    ax[i].yaxis.set_visible(True)\n",
    "    ax[i].tick_params(axis=\"y\", which=\"both\", labelleft=True)\n",
    "    ax[i].set_yticks([0, 1, 2, 3, 4])\n",
    "    ax[i].set_ylabel(\"PAR-10\", color=FONT_COLOR)\n",
    "    ax[i].set_title(f\"TSP-{result_group}\", fontsize=11, color=FONT_COLOR)\n",
    "    ax[i].yaxis.grid(True)\n",
    "    ax[i].xaxis.grid(False)\n",
    "    ax[i].spines[[\"left\", \"top\", \"right\", \"bottom\"]].set_color(FONT_COLOR)\n",
    "    ax[i].tick_params(axis='x', colors=FONT_COLOR)\n",
    "    ax[i].tick_params(axis='y', colors=FONT_COLOR)\n",
    "\n",
    "plt.savefig(\"resuts.png\", dpi=300, bbox_inches=\"tight\", transparent=True)\n",
    "plt.subplots_adjust(wspace=0.3)\n",
    "plt.show()"
   ]
  }
 ],
 "metadata": {
  "kernelspec": {
   "display_name": "SMAC",
   "language": "python",
   "name": "python3"
  },
  "language_info": {
   "codemirror_mode": {
    "name": "ipython",
    "version": 3
   },
   "file_extension": ".py",
   "mimetype": "text/x-python",
   "name": "python",
   "nbconvert_exporter": "python",
   "pygments_lexer": "ipython3",
   "version": "3.10.15"
  }
 },
 "nbformat": 4,
 "nbformat_minor": 2
}
