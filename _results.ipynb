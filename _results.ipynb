{
 "cells": [
  {
   "cell_type": "code",
   "execution_count": 19,
   "metadata": {},
   "outputs": [],
   "source": [
    "import sqlite3\n",
    "\n",
    "import matplotlib.pyplot as plt\n",
    "import numpy as np\n",
    "import pandas as pd\n",
    "\n",
    "FONT_COLOR = \"#22373a\"\n",
    "FILL_COLOR = \"#b4cccf\"\n",
    "\n",
    "plt.rcParams[\"axes.grid\"] = True\n",
    "plt.rcParams[\"grid.alpha\"] = 0.25\n",
    "plt.rcParams[\"grid.color\"] = \"#cccccc\"\n",
    "\n",
    "pd.options.display.max_columns = 999\n"
   ]
  },
  {
   "cell_type": "code",
   "execution_count": 22,
   "metadata": {},
   "outputs": [],
   "source": [
    "RESULTS = {\n",
    "    1: {\n",
    "        \"CEPS\": \"CEPS1.db\",\n",
    "        \"FT-CEPS\": \"FT_CEPS1.db\",\n",
    "        \"S-CEPS\": \"MY_CEPS1.db\",\n",
    "        \"FT-S-CEPS\": \"FT_MY_CEPS1.db\"\n",
    "    },\n",
    "    2: {\n",
    "        \"CEPS\": \"CEPS2.db\",\n",
    "        \"FT-CEPS\": \"FT_CEPS2.db\",\n",
    "        \"S-CEPS\": \"MY_CEPS2.db\",\n",
    "        \"FT-S-CEPS\": \"FT_MY_CEPS2.db\"\n",
    "    },\n",
    "}\n",
    "\n",
    "results = {}\n",
    "\n",
    "for i, result in RESULTS.items():\n",
    "    ss = []\n",
    "    for name, db in result.items():\n",
    "        conn = sqlite3.connect(db)\n",
    "\n",
    "        df = pd.read_sql_query(\"SELECT * FROM results\", conn)\n",
    "        conn.close()\n",
    "        if \"FT\" in name:\n",
    "            s = df.loc[df[\"comment\"].str.startswith(\"finetune\")].groupby(\"instance_id\")[\"cost\"].min()\n",
    "            s = s.rename(name)\n",
    "        else:\n",
    "            s = df.loc[df[\"comment\"].str.startswith(\"test\")].pivot_table(index=\"instance_id\", columns=\"solver_id\", values=\"cost\", aggfunc=lambda x: sorted(x)[1])\n",
    "            s[name] = s.min(axis=1)\n",
    "            s = s[name]\n",
    "        ss.append(s)\n",
    "    results[i] = pd.concat(ss, axis=1)"
   ]
  },
  {
   "cell_type": "code",
   "execution_count": 23,
   "metadata": {},
   "outputs": [
    {
     "data": {
      "image/png": "[encoded data removed]",
      "text/plain": [
       "<Figure size 1000x350 with 2 Axes>"
      ]
     },
     "metadata": {},
     "output_type": "display_data"
    }
   ],
   "source": [
    "n = len(results)\n",
    "\n",
    "fig, ax = plt.subplots(ncols=n, nrows=1, figsize=(n * 5, 3.5), sharey=True)\n",
    "\n",
    "for i, (result_group, result) in enumerate(results.items()):\n",
    "    ax[i].boxplot(\n",
    "        result,\n",
    "        patch_artist=True,\n",
    "        boxprops=dict(facecolor=FILL_COLOR),\n",
    "        showfliers=False,\n",
    "        medianprops=dict(color=FONT_COLOR),\n",
    "        tick_labels=result.columns,\n",
    "    )\n",
    "    for j, label in enumerate(result.columns):\n",
    "        mean_value = result[label].mean()\n",
    "        ax[i].plot(\n",
    "            [j + 1], [mean_value], marker=\"^\", markersize=5, color=FONT_COLOR\n",
    "        )\n",
    "    ax[i].yaxis.set_visible(True)\n",
    "    ax[i].tick_params(axis=\"y\", which=\"both\", labelleft=True)\n",
    "    ax[i].set_yticks([0, 1, 2, 3, 4])\n",
    "    ax[i].set_ylabel(\"PAR-10\", color=FONT_COLOR)\n",
    "    ax[i].set_title(f\"TSP-{result_group}\", fontsize=11, color=FONT_COLOR)\n",
    "    ax[i].yaxis.grid(True)\n",
    "    ax[i].xaxis.grid(False)\n",
    "    ax[i].spines[[\"left\", \"top\", \"right\", \"bottom\"]].set_color(FONT_COLOR)\n",
    "    ax[i].tick_params(axis='x', colors=FONT_COLOR)\n",
    "    ax[i].tick_params(axis='y', colors=FONT_COLOR)\n",
    "\n",
    "plt.savefig(\"resuts.png\", dpi=300, bbox_inches=\"tight\", transparent=True)\n",
    "plt.subplots_adjust(wspace=0.3)\n",
    "plt.show()"
   ]
  },
  {
   "cell_type": "code",
   "execution_count": null,
   "metadata": {},
   "outputs": [],
   "source": []
  }
 ],
 "metadata": {
  "kernelspec": {
   "display_name": "SMAC",
   "language": "python",
   "name": "python3"
  },
  "language_info": {
   "codemirror_mode": {
    "name": "ipython",
    "version": 3
   },
   "file_extension": ".py",
   "mimetype": "text/x-python",
   "name": "python",
   "nbconvert_exporter": "python",
   "pygments_lexer": "ipython3",
   "version": "3.10.15"
  }
 },
 "nbformat": 4,
 "nbformat_minor": 2
}
