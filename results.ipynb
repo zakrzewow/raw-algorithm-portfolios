{
 "cells": [
  {
   "cell_type": "code",
   "execution_count": 1,
   "metadata": {},
   "outputs": [],
   "source": [
    "import numpy as np\n",
    "import pandas as pd\n",
    "\n",
    "from src.constant import DATABASE_DIR\n",
    "from src.database import DB"
   ]
  },
  {
   "cell_type": "code",
   "execution_count": 2,
   "metadata": {},
   "outputs": [],
   "source": []
  },
  {
   "cell_type": "code",
   "execution_count": 24,
   "metadata": {},
   "outputs": [
    {
     "name": "stdout",
     "output_type": "stream",
     "text": [
      "run-plain_924039.db\n",
      "Mean: 7.99\n",
      "Median: 1.11\n",
      "#Timeouts: 6\n",
      "\n",
      "run-plain_924041.db\n",
      "Mean: 6.41\n",
      "Median: 1.35\n",
      "#Timeouts: 4\n",
      "\n",
      "run-plain_924042.db\n",
      "Mean: 23.49\n",
      "Median: 2.99\n",
      "#Timeouts: 20\n",
      "\n",
      "run-plain_924043.db\n",
      "Mean: 12.34\n",
      "Median: 1.19\n",
      "#Timeouts: 10\n",
      "\n",
      "run-plain_924044.db\n",
      "Mean: 22.75\n",
      "Median: 2.23\n",
      "#Timeouts: 20\n",
      "\n"
     ]
    }
   ],
   "source": [
    "files = list(DATABASE_DIR.glob('*.db'))\n",
    "\n",
    "for db_path in files:\n",
    "    print(db_path.name)\n",
    "    db = DB(db_path)\n",
    "    results = pd.read_sql_query(\"SELECT * FROM results\", db._conn)\n",
    "    _ = results.loc[results[\"prefix\"].str.startswith(\"test\")].pivot_table(index=\"instance_id\", columns=\"solver_id\", values=\"cost\", aggfunc=lambda x: sorted(x)[1])\n",
    "    _[\"min\"] = _.min(axis=1)\n",
    "    _[\"min\"].describe()\n",
    "\n",
    "    print(f\"Mean: {_['min'].mean():.2f}\")\n",
    "    print(f\"Median: {_['min'].median():.2f}\")\n",
    "    print(\"#Timeouts:\", (_[\"min\"] > 90).sum())\n",
    "    print()"
   ]
  }
 ],
 "metadata": {
  "kernelspec": {
   "display_name": "SMAC",
   "language": "python",
   "name": "python3"
  },
  "language_info": {
   "codemirror_mode": {
    "name": "ipython",
    "version": 3
   },
   "file_extension": ".py",
   "mimetype": "text/x-python",
   "name": "python",
   "nbconvert_exporter": "python",
   "pygments_lexer": "ipython3",
   "version": "3.10.15"
  }
 },
 "nbformat": 4,
 "nbformat_minor": 2
}
