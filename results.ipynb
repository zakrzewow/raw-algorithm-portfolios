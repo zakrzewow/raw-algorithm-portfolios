{
 "cells": [
  {
   "cell_type": "code",
   "execution_count": 1,
   "metadata": {},
   "outputs": [],
   "source": [
    "import numpy as np\n",
    "import pandas as pd\n",
    "\n",
    "from src.constant import DATABASE_DIR\n",
    "from src.database import DB"
   ]
  },
  {
   "cell_type": "code",
   "execution_count": 2,
   "metadata": {},
   "outputs": [
    {
     "name": "stdout",
     "output_type": "stream",
     "text": [
      "run-sur-90_924055.db\n",
      "Mean: 13.96\n",
      "Median: 3.47\n",
      "#Timeouts: 10\n",
      "\n",
      "run-sur-90_924056.db\n",
      "Mean: 40.85\n",
      "Median: 6.69\n",
      "#Timeouts: 37\n",
      "\n",
      "run-sur-90_924057.db\n",
      "Mean: 29.73\n",
      "Median: 1.67\n",
      "#Timeouts: 27\n",
      "\n",
      "run-sur-90_924058.db\n",
      "Mean: 35.71\n",
      "Median: 4.13\n",
      "#Timeouts: 32\n",
      "\n",
      "run-sur-90_924059.db\n",
      "Mean: 11.52\n",
      "Median: 1.67\n",
      "#Timeouts: 9\n",
      "\n"
     ]
    }
   ],
   "source": [
    "files = list(DATABASE_DIR.glob('run-sur-90*.db'))\n",
    "\n",
    "for db_path in files:\n",
    "    print(db_path.name)\n",
    "    db = DB(db_path)\n",
    "    results = pd.read_sql_query(\"SELECT * FROM results\", db._conn)\n",
    "    _ = results.loc[results[\"prefix\"].str.startswith(\"test\")].pivot_table(index=\"instance_id\", columns=\"solver_id\", values=\"cost\", aggfunc=lambda x: sorted(x)[1])\n",
    "    _[\"min\"] = _.min(axis=1)\n",
    "    _[\"min\"].describe()\n",
    "\n",
    "    print(f\"Mean: {_['min'].mean():.2f}\")\n",
    "    print(f\"Median: {_['min'].median():.2f}\")\n",
    "    print(\"#Timeouts:\", (_[\"min\"] > 90).sum())\n",
    "    print()"
   ]
  }
 ],
 "metadata": {
  "kernelspec": {
   "display_name": "SMAC",
   "language": "python",
   "name": "python3"
  },
  "language_info": {
   "codemirror_mode": {
    "name": "ipython",
    "version": 3
   },
   "file_extension": ".py",
   "mimetype": "text/x-python",
   "name": "python",
   "nbconvert_exporter": "python",
   "pygments_lexer": "ipython3",
   "version": "3.10.15"
  }
 },
 "nbformat": 4,
 "nbformat_minor": 2
}
