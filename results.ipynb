{
 "cells": [
  {
   "cell_type": "code",
   "execution_count": 2,
   "metadata": {},
   "outputs": [],
   "source": [
    "import numpy as np\n",
    "import pandas as pd\n",
    "\n",
    "from src.constant import DATA_DIR, DATABASE_DIR\n",
    "from src.database import DB\n",
    "from src.database.queries import *\n",
    "from src.instance.InstanceList import InstanceList\n",
    "from src.instance.TSP_Instance import TSP_from_index_file"
   ]
  },
  {
   "cell_type": "code",
   "execution_count": 3,
   "metadata": {},
   "outputs": [],
   "source": [
    "generators = [\n",
    "    \"cluster_netgen\",\n",
    "    \"compression\",\n",
    "    \"expansion\",\n",
    "    \"explosion\",\n",
    "    \"grid\",\n",
    "    \"cluster\",\n",
    "    \"implosion\",\n",
    "    \"linearprojection\",\n",
    "    \"rotation\",\n",
    "    \"uniform_portgen\",\n",
    "]\n",
    "\n",
    "instances = TSP_from_index_file(filepath=DATA_DIR / \"TSP\" / \"CEPS_benchmark\" / \"index.json\")\n",
    "test_instances = InstanceList()\n",
    "for i in range(10):\n",
    "    test_instances.append(instances[i * 50])\n",
    "\n",
    "id_to_generator_name = {instance.id(): instance.filepath.parts[-2] for instance in test_instances}"
   ]
  },
  {
   "cell_type": "code",
   "execution_count": 4,
   "metadata": {},
   "outputs": [
    {
     "data": {
      "text/html": [
       "<div>\n",
       "<style scoped>\n",
       "    .dataframe tbody tr th:only-of-type {\n",
       "        vertical-align: middle;\n",
       "    }\n",
       "\n",
       "    .dataframe tbody tr th {\n",
       "        vertical-align: top;\n",
       "    }\n",
       "\n",
       "    .dataframe thead th {\n",
       "        text-align: right;\n",
       "    }\n",
       "</style>\n",
       "<table border=\"1\" class=\"dataframe\">\n",
       "  <thead>\n",
       "    <tr style=\"text-align: right;\">\n",
       "      <th>instance_id</th>\n",
       "      <th>cluster_netgen</th>\n",
       "      <th>compression</th>\n",
       "      <th>expansion</th>\n",
       "      <th>explosion</th>\n",
       "      <th>grid</th>\n",
       "      <th>cluster</th>\n",
       "      <th>implosion</th>\n",
       "      <th>linearprojection</th>\n",
       "      <th>rotation</th>\n",
       "      <th>uniform_portgen</th>\n",
       "    </tr>\n",
       "  </thead>\n",
       "  <tbody>\n",
       "    <tr>\n",
       "      <th>run-plain-90</th>\n",
       "      <td>1.17</td>\n",
       "      <td>4.02</td>\n",
       "      <td>13.58</td>\n",
       "      <td>2.97</td>\n",
       "      <td>43.36</td>\n",
       "      <td>4.59</td>\n",
       "      <td>1.42</td>\n",
       "      <td>1.21</td>\n",
       "      <td>1.16</td>\n",
       "      <td>1.87</td>\n",
       "    </tr>\n",
       "  </tbody>\n",
       "</table>\n",
       "</div>"
      ],
      "text/plain": [
       "instance_id   cluster_netgen  compression  expansion  explosion   grid  \\\n",
       "run-plain-90            1.17         4.02      13.58       2.97  43.36   \n",
       "\n",
       "instance_id   cluster  implosion  linearprojection  rotation  uniform_portgen  \n",
       "run-plain-90     4.59       1.42              1.21      1.16             1.87  "
      ]
     },
     "execution_count": 4,
     "metadata": {},
     "output_type": "execute_result"
    }
   ],
   "source": [
    "PREFIX = \"run-plain-90\"\n",
    "frames = []\n",
    "\n",
    "for idx, db_path in enumerate(DATABASE_DIR.glob(f\"{PREFIX}-*.db\")):\n",
    "    db = DB(db_path)\n",
    "    results = pd.read_sql_query(\"SELECT * FROM results\", db._conn)\n",
    "    series = (\n",
    "        results.loc[results[\"prefix\"].str.startswith(\"test\")]\n",
    "        .groupby([\"instance_id\", \"prefix\"])[\"cost\"]\n",
    "        .min()\n",
    "        .reset_index()\n",
    "        .sort_values([\"instance_id\", \"cost\"])\n",
    "        .groupby(\"instance_id\")[\"cost\"]\n",
    "        .quantile(0.5, interpolation=\"lower\")\n",
    "        .rename(idx)\n",
    "    )\n",
    "    frames.append(series)\n",
    "\n",
    "df = (\n",
    "    pd.concat(frames, axis=1)\n",
    "    .mean(axis=1)\n",
    "    .round(2)\n",
    "    .rename(PREFIX)\n",
    "    .to_frame()\n",
    ")\n",
    "df.index = df.index.map(id_to_generator_name)\n",
    "df.loc[generators].T"
   ]
  },
  {
   "cell_type": "code",
   "execution_count": 5,
   "metadata": {},
   "outputs": [
    {
     "data": {
      "text/html": [
       "<div>\n",
       "<style scoped>\n",
       "    .dataframe tbody tr th:only-of-type {\n",
       "        vertical-align: middle;\n",
       "    }\n",
       "\n",
       "    .dataframe tbody tr th {\n",
       "        vertical-align: top;\n",
       "    }\n",
       "\n",
       "    .dataframe thead th {\n",
       "        text-align: right;\n",
       "    }\n",
       "</style>\n",
       "<table border=\"1\" class=\"dataframe\">\n",
       "  <thead>\n",
       "    <tr style=\"text-align: right;\">\n",
       "      <th>instance_id</th>\n",
       "      <th>cluster_netgen</th>\n",
       "      <th>compression</th>\n",
       "      <th>expansion</th>\n",
       "      <th>explosion</th>\n",
       "      <th>grid</th>\n",
       "      <th>cluster</th>\n",
       "      <th>implosion</th>\n",
       "      <th>linearprojection</th>\n",
       "      <th>rotation</th>\n",
       "      <th>uniform_portgen</th>\n",
       "    </tr>\n",
       "  </thead>\n",
       "  <tbody>\n",
       "    <tr>\n",
       "      <th>run-plain-90</th>\n",
       "      <td>0</td>\n",
       "      <td>0</td>\n",
       "      <td>1</td>\n",
       "      <td>0</td>\n",
       "      <td>4</td>\n",
       "      <td>0</td>\n",
       "      <td>0</td>\n",
       "      <td>0</td>\n",
       "      <td>0</td>\n",
       "      <td>0</td>\n",
       "    </tr>\n",
       "  </tbody>\n",
       "</table>\n",
       "</div>"
      ],
      "text/plain": [
       "instance_id   cluster_netgen  compression  expansion  explosion  grid  \\\n",
       "run-plain-90               0            0          1          0     4   \n",
       "\n",
       "instance_id   cluster  implosion  linearprojection  rotation  uniform_portgen  \n",
       "run-plain-90        0          0                 0         0                0  "
      ]
     },
     "execution_count": 5,
     "metadata": {},
     "output_type": "execute_result"
    }
   ],
   "source": [
    "df = (\n",
    "    pd.concat(frames, axis=1)\n",
    "    .eq(100)\n",
    "    .sum(axis=1)\n",
    "    .rename(PREFIX)\n",
    "    .to_frame()\n",
    ")\n",
    "df.index = df.index.map(id_to_generator_name)\n",
    "df.loc[generators].T"
   ]
  },
  {
   "cell_type": "code",
   "execution_count": 10,
   "metadata": {},
   "outputs": [
    {
     "data": {
      "text/plain": [
       "123763.65757928848"
      ]
     },
     "execution_count": 10,
     "metadata": {},
     "output_type": "execute_result"
    }
   ],
   "source": [
    "results.loc[results[\"prefix\"].str.startswith(\"config\") & results[\"cached\"].eq(0) & results[\"surrogate\"].eq(0), \"time\"].sum()"
   ]
  }
 ],
 "metadata": {
  "kernelspec": {
   "display_name": "SMAC",
   "language": "python",
   "name": "python3"
  },
  "language_info": {
   "codemirror_mode": {
    "name": "ipython",
    "version": 3
   },
   "file_extension": ".py",
   "mimetype": "text/x-python",
   "name": "python",
   "nbconvert_exporter": "python",
   "pygments_lexer": "ipython3",
   "version": "3.10.15"
  }
 },
 "nbformat": 4,
 "nbformat_minor": 2
}
