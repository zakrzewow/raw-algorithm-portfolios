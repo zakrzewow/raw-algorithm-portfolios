{
 "cells": [
  {
   "cell_type": "code",
   "execution_count": 13,
   "metadata": {},
   "outputs": [],
   "source": [
    "import os\n",
    "\n",
    "os.environ[\"SEED\"] = \"0\"\n",
    "\n",
    "import numpy as np\n",
    "import pandas as pd\n",
    "\n",
    "from src.aac.AAC import AAC\n",
    "from src.constant import DATA_DIR, DATABASE_DIR, MAIN_DIR, SEED\n",
    "from src.database import DB\n",
    "from src.database.db import DB_PATH\n",
    "from src.database.queries import get_model_training_data, get_solvers_count\n",
    "from src.experiment import parhydra\n",
    "from src.instance.TSP_Instance import TSP_from_index_file, set_n22_cut_off_time\n",
    "from src.log import logger\n",
    "from src.solver.Portfolio import Portfolio\n",
    "from src.solver.TSP_LKH_Solver import TSP_LKH_Solver\n",
    "from src.surrogate.SurrogatePolicy import (\n",
    "    EvaluationSurrogatePolicyA,\n",
    "    EvaluationSurrogatePolicyB,\n",
    "    EvaluationSurrogatePolicyC,\n",
    "    IterationSurrogatePolicyA,\n",
    "    IterationSurrogatePolicyB,\n",
    "    SurrogatePolicy,\n",
    "    TestSurrogatePolicy,\n",
    ")\n",
    "from src.surrogate.wrapper import EmptyWrapper, SurvivalFunctionWrapper"
   ]
  },
  {
   "cell_type": "code",
   "execution_count": 15,
   "metadata": {},
   "outputs": [],
   "source": [
    "# db_path_list = list(DATABASE_DIR.glob(\"run-policy-*.db\"))\n",
    "\n",
    "# records = []\n",
    "\n",
    "# for db_path in db_path_list:\n",
    "#     results = DB(db_path).get_results()\n",
    "#     print(db_path, results.loc[results[\"prefix\"].str.startswith(\"test\")].shape[0])"
   ]
  },
  {
   "cell_type": "code",
   "execution_count": null,
   "metadata": {},
   "outputs": [
    {
     "name": "stdout",
     "output_type": "stream",
     "text": [
      "100.0\n",
      "100.0\n",
      "100.0\n",
      "100.0\n",
      "100.0\n",
      "100.0\n",
      "100.0\n",
      "100.0\n",
      "100.0\n",
      "100.0\n",
      "100.0\n",
      "100.0\n",
      "100.0\n",
      "100.0\n",
      "100.0\n",
      "100.0\n",
      "100.0\n",
      "100.0\n"
     ]
    },
    {
     "data": {
      "text/html": [
       "<div>\n",
       "<style scoped>\n",
       "    .dataframe tbody tr th:only-of-type {\n",
       "        vertical-align: middle;\n",
       "    }\n",
       "\n",
       "    .dataframe tbody tr th {\n",
       "        vertical-align: top;\n",
       "    }\n",
       "\n",
       "    .dataframe thead th {\n",
       "        text-align: right;\n",
       "    }\n",
       "</style>\n",
       "<table border=\"1\" class=\"dataframe\">\n",
       "  <thead>\n",
       "    <tr style=\"text-align: right;\">\n",
       "      <th></th>\n",
       "      <th>db_path</th>\n",
       "      <th>cost</th>\n",
       "      <th>cpu_time</th>\n",
       "    </tr>\n",
       "  </thead>\n",
       "  <tbody>\n",
       "    <tr>\n",
       "      <th>0</th>\n",
       "      <td>C:\\Users\\grzegorzzakrzewski\\Documents\\DataScie...</td>\n",
       "      <td>0.23256</td>\n",
       "      <td>1.352241</td>\n",
       "    </tr>\n",
       "    <tr>\n",
       "      <th>1</th>\n",
       "      <td>C:\\Users\\grzegorzzakrzewski\\Documents\\DataScie...</td>\n",
       "      <td>0.44340</td>\n",
       "      <td>1.458148</td>\n",
       "    </tr>\n",
       "    <tr>\n",
       "      <th>2</th>\n",
       "      <td>C:\\Users\\grzegorzzakrzewski\\Documents\\DataScie...</td>\n",
       "      <td>0.28644</td>\n",
       "      <td>1.242379</td>\n",
       "    </tr>\n",
       "    <tr>\n",
       "      <th>3</th>\n",
       "      <td>C:\\Users\\grzegorzzakrzewski\\Documents\\DataScie...</td>\n",
       "      <td>0.42632</td>\n",
       "      <td>0.867457</td>\n",
       "    </tr>\n",
       "    <tr>\n",
       "      <th>4</th>\n",
       "      <td>C:\\Users\\grzegorzzakrzewski\\Documents\\DataScie...</td>\n",
       "      <td>0.21780</td>\n",
       "      <td>0.907636</td>\n",
       "    </tr>\n",
       "    <tr>\n",
       "      <th>5</th>\n",
       "      <td>C:\\Users\\grzegorzzakrzewski\\Documents\\DataScie...</td>\n",
       "      <td>0.41612</td>\n",
       "      <td>1.007986</td>\n",
       "    </tr>\n",
       "    <tr>\n",
       "      <th>6</th>\n",
       "      <td>C:\\Users\\grzegorzzakrzewski\\Documents\\DataScie...</td>\n",
       "      <td>0.19128</td>\n",
       "      <td>0.624734</td>\n",
       "    </tr>\n",
       "    <tr>\n",
       "      <th>7</th>\n",
       "      <td>C:\\Users\\grzegorzzakrzewski\\Documents\\DataScie...</td>\n",
       "      <td>0.20928</td>\n",
       "      <td>0.624653</td>\n",
       "    </tr>\n",
       "    <tr>\n",
       "      <th>8</th>\n",
       "      <td>C:\\Users\\grzegorzzakrzewski\\Documents\\DataScie...</td>\n",
       "      <td>0.42932</td>\n",
       "      <td>0.570171</td>\n",
       "    </tr>\n",
       "    <tr>\n",
       "      <th>9</th>\n",
       "      <td>C:\\Users\\grzegorzzakrzewski\\Documents\\DataScie...</td>\n",
       "      <td>0.44380</td>\n",
       "      <td>0.974133</td>\n",
       "    </tr>\n",
       "    <tr>\n",
       "      <th>10</th>\n",
       "      <td>C:\\Users\\grzegorzzakrzewski\\Documents\\DataScie...</td>\n",
       "      <td>0.25856</td>\n",
       "      <td>0.863901</td>\n",
       "    </tr>\n",
       "    <tr>\n",
       "      <th>11</th>\n",
       "      <td>C:\\Users\\grzegorzzakrzewski\\Documents\\DataScie...</td>\n",
       "      <td>0.42108</td>\n",
       "      <td>0.975681</td>\n",
       "    </tr>\n",
       "    <tr>\n",
       "      <th>12</th>\n",
       "      <td>C:\\Users\\grzegorzzakrzewski\\Documents\\DataScie...</td>\n",
       "      <td>0.23736</td>\n",
       "      <td>0.985560</td>\n",
       "    </tr>\n",
       "    <tr>\n",
       "      <th>13</th>\n",
       "      <td>C:\\Users\\grzegorzzakrzewski\\Documents\\DataScie...</td>\n",
       "      <td>0.31756</td>\n",
       "      <td>1.114990</td>\n",
       "    </tr>\n",
       "    <tr>\n",
       "      <th>14</th>\n",
       "      <td>C:\\Users\\grzegorzzakrzewski\\Documents\\DataScie...</td>\n",
       "      <td>0.19060</td>\n",
       "      <td>0.910520</td>\n",
       "    </tr>\n",
       "    <tr>\n",
       "      <th>15</th>\n",
       "      <td>C:\\Users\\grzegorzzakrzewski\\Documents\\DataScie...</td>\n",
       "      <td>0.30208</td>\n",
       "      <td>1.012349</td>\n",
       "    </tr>\n",
       "    <tr>\n",
       "      <th>16</th>\n",
       "      <td>C:\\Users\\grzegorzzakrzewski\\Documents\\DataScie...</td>\n",
       "      <td>0.22508</td>\n",
       "      <td>0.414344</td>\n",
       "    </tr>\n",
       "    <tr>\n",
       "      <th>17</th>\n",
       "      <td>C:\\Users\\grzegorzzakrzewski\\Documents\\DataScie...</td>\n",
       "      <td>0.51268</td>\n",
       "      <td>0.686413</td>\n",
       "    </tr>\n",
       "  </tbody>\n",
       "</table>\n",
       "</div>"
      ],
      "text/plain": [
       "                                              db_path     cost  cpu_time\n",
       "0   C:\\Users\\grzegorzzakrzewski\\Documents\\DataScie...  0.23256  1.352241\n",
       "1   C:\\Users\\grzegorzzakrzewski\\Documents\\DataScie...  0.44340  1.458148\n",
       "2   C:\\Users\\grzegorzzakrzewski\\Documents\\DataScie...  0.28644  1.242379\n",
       "3   C:\\Users\\grzegorzzakrzewski\\Documents\\DataScie...  0.42632  0.867457\n",
       "4   C:\\Users\\grzegorzzakrzewski\\Documents\\DataScie...  0.21780  0.907636\n",
       "5   C:\\Users\\grzegorzzakrzewski\\Documents\\DataScie...  0.41612  1.007986\n",
       "6   C:\\Users\\grzegorzzakrzewski\\Documents\\DataScie...  0.19128  0.624734\n",
       "7   C:\\Users\\grzegorzzakrzewski\\Documents\\DataScie...  0.20928  0.624653\n",
       "8   C:\\Users\\grzegorzzakrzewski\\Documents\\DataScie...  0.42932  0.570171\n",
       "9   C:\\Users\\grzegorzzakrzewski\\Documents\\DataScie...  0.44380  0.974133\n",
       "10  C:\\Users\\grzegorzzakrzewski\\Documents\\DataScie...  0.25856  0.863901\n",
       "11  C:\\Users\\grzegorzzakrzewski\\Documents\\DataScie...  0.42108  0.975681\n",
       "12  C:\\Users\\grzegorzzakrzewski\\Documents\\DataScie...  0.23736  0.985560\n",
       "13  C:\\Users\\grzegorzzakrzewski\\Documents\\DataScie...  0.31756  1.114990\n",
       "14  C:\\Users\\grzegorzzakrzewski\\Documents\\DataScie...  0.19060  0.910520\n",
       "15  C:\\Users\\grzegorzzakrzewski\\Documents\\DataScie...  0.30208  1.012349\n",
       "16  C:\\Users\\grzegorzzakrzewski\\Documents\\DataScie...  0.22508  0.414344\n",
       "17  C:\\Users\\grzegorzzakrzewski\\Documents\\DataScie...  0.51268  0.686413"
      ]
     },
     "execution_count": 95,
     "metadata": {},
     "output_type": "execute_result"
    }
   ],
   "source": [
    "db_path_list = list(DATABASE_DIR.glob(\"run-policy-*.db\"))\n",
    "\n",
    "records = []\n",
    "\n",
    "for db_path in db_path_list:\n",
    "    results = DB(db_path).get_results()\n",
    "    cost = (\n",
    "        results.loc[results[\"prefix\"].str.startswith(\"test\")]\n",
    "        .groupby([\"instance_id\", \"prefix\"])[\"cost\"]\n",
    "        .min()  # min for every problem (of 2 solvers)\n",
    "        .reset_index()\n",
    "        .groupby(\"instance_id\")[\"cost\"]\n",
    "        .median()  # median over 5 runs\n",
    "        .mean()  # total mean score\n",
    "    )\n",
    "    cpu_time = (\n",
    "        results.loc[\n",
    "            results[\"prefix\"].str.startswith(\"config\")\n",
    "            & results[\"cached\"].eq(0)\n",
    "            & results[\"surrogate\"].eq(0),\n",
    "            \"time\",\n",
    "        ].sum()\n",
    "        / 3600\n",
    "    )\n",
    "    records.append(\n",
    "        {\n",
    "            \"db_path\": str(db_path),\n",
    "            \"cost\": cost,\n",
    "            \"cpu_time\": cpu_time,\n",
    "        }\n",
    "    )\n",
    "\n",
    "df = pd.DataFrame(records)\n",
    "df"
   ]
  },
  {
   "cell_type": "code",
   "execution_count": 93,
   "metadata": {},
   "outputs": [
    {
     "data": {
      "text/plain": [
       "100.0"
      ]
     },
     "execution_count": 93,
     "metadata": {},
     "output_type": "execute_result"
    }
   ],
   "source": [
    "results.loc[results[\"prefix\"].str.startswith(\"test\"), \"cut_off_time\"].min()"
   ]
  },
  {
   "cell_type": "code",
   "execution_count": 87,
   "metadata": {},
   "outputs": [],
   "source": [
    "df[\"policy\"] = [0, 0, 0, 1, 1, 1, 2, 2, 2, 3, 3, 3, 4, 4, 4, 5, 5, 5]"
   ]
  },
  {
   "cell_type": "code",
   "execution_count": 88,
   "metadata": {},
   "outputs": [
    {
     "data": {
      "text/plain": [
       "policy\n",
       "0    0.320800\n",
       "1    0.353413\n",
       "2    0.276627\n",
       "3    0.374480\n",
       "4    0.248507\n",
       "5    0.346613\n",
       "Name: cost, dtype: float64"
      ]
     },
     "execution_count": 88,
     "metadata": {},
     "output_type": "execute_result"
    }
   ],
   "source": [
    "df.groupby(\"policy\")[\"cost\"].mean()"
   ]
  },
  {
   "cell_type": "code",
   "execution_count": 89,
   "metadata": {},
   "outputs": [
    {
     "data": {
      "text/plain": [
       "policy\n",
       "0    1.350923\n",
       "1    0.927693\n",
       "2    0.606519\n",
       "3    0.937905\n",
       "4    1.003690\n",
       "5    0.704369\n",
       "Name: cpu_time, dtype: float64"
      ]
     },
     "execution_count": 89,
     "metadata": {},
     "output_type": "execute_result"
    }
   ],
   "source": [
    "df.groupby(\"policy\")[\"cpu_time\"].mean()"
   ]
  },
  {
   "cell_type": "code",
   "execution_count": 4,
   "metadata": {},
   "outputs": [],
   "source": [
    "db = DB(db_path)"
   ]
  },
  {
   "cell_type": "code",
   "execution_count": 5,
   "metadata": {},
   "outputs": [],
   "source": [
    "results = db.get_results()"
   ]
  },
  {
   "cell_type": "code",
   "execution_count": null,
   "metadata": {},
   "outputs": [
    {
     "data": {
      "text/plain": [
       "0.23256"
      ]
     },
     "execution_count": 46,
     "metadata": {},
     "output_type": "execute_result"
    }
   ],
   "source": []
  }
 ],
 "metadata": {
  "kernelspec": {
   "display_name": "SMAC",
   "language": "python",
   "name": "python3"
  },
  "language_info": {
   "codemirror_mode": {
    "name": "ipython",
    "version": 3
   },
   "file_extension": ".py",
   "mimetype": "text/x-python",
   "name": "python",
   "nbconvert_exporter": "python",
   "pygments_lexer": "ipython3",
   "version": "3.10.15"
  }
 },
 "nbformat": 4,
 "nbformat_minor": 2
}
