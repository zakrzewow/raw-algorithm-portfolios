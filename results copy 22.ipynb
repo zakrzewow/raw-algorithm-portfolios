{
 "cells": [
  {
   "cell_type": "code",
   "execution_count": 1,
   "metadata": {},
   "outputs": [],
   "source": [
    "import numpy as np\n",
    "import pandas as pd\n",
    "\n",
    "from src.constant import DATA_DIR, DATABASE_DIR\n",
    "from src.database import DB\n",
    "from src.database.queries import *\n",
    "from src.instance.InstanceList import InstanceList\n",
    "from src.instance.TSP_Instance import TSP_from_index_file\n",
    "from src.solver.TSP_LKH_Solver import TSP_LKH_Solver"
   ]
  },
  {
   "cell_type": "code",
   "execution_count": 2,
   "metadata": {},
   "outputs": [],
   "source": [
    "generators = [\n",
    "    \"cluster_netgen\",\n",
    "    \"compression\",\n",
    "    \"expansion\",\n",
    "    \"explosion\",\n",
    "    \"grid\",\n",
    "    \"cluster\",\n",
    "    \"implosion\",\n",
    "    \"linearprojection\",\n",
    "    \"rotation\",\n",
    "    \"uniform_portgen\",\n",
    "]\n",
    "\n",
    "test_instances = TSP_from_index_file(filepath=DATA_DIR / \"TSP\" / \"TEST\" / \"index.json\")\n",
    "\n",
    "id_to_generator_name = {\n",
    "    instance.id(): instance.filepath.parts[-2] for instance in test_instances\n",
    "}\n",
    "\n",
    "id_to_name = {\n",
    "    instance.id(): instance.filepath.parts[-1] for instance in test_instances\n",
    "}"
   ]
  },
  {
   "cell_type": "code",
   "execution_count": 60,
   "metadata": {},
   "outputs": [],
   "source": [
    "def agg_prefix(prefix):\n",
    "\n",
    "    frames = []\n",
    "\n",
    "    def agg_cost(x):\n",
    "        count = x.shape[0]\n",
    "        x = x[x < TSP_LKH_Solver.MAX_COST]\n",
    "        idx = count // 2\n",
    "        if x.shape[0] <= idx:\n",
    "            return x.iloc[-1]\n",
    "        return x.iloc[idx]\n",
    "        \n",
    "\n",
    "    for idx, db_path in enumerate(DATABASE_DIR.glob(f\"{prefix}-*.db\")):\n",
    "        db = DB(db_path)\n",
    "        results = pd.read_sql_query(\"SELECT * FROM results\", db._conn)\n",
    "        series = (\n",
    "            results.loc[results[\"prefix\"].str.startswith(\"test\")]\n",
    "            .groupby([\"instance_id\", \"prefix\"])[\"cost\"]\n",
    "            .min()\n",
    "            .reset_index()\n",
    "            .groupby(\"instance_id\")[\"cost\"]\n",
    "            .agg(agg_cost)\n",
    "        )\n",
    "        frames.append(series)\n",
    "        \n",
    "\n",
    "    df = (\n",
    "        pd.concat(frames, axis=1)\n",
    "        .mean(axis=1)\n",
    "        .round(2)\n",
    "        .rename(prefix)\n",
    "        .to_frame()\n",
    "    )\n",
    "\n",
    "    df[\"generator\"] = df.index.map(id_to_generator_name)\n",
    "    df[\"name\"] = df.index.map(id_to_name)\n",
    "    df = df.pivot_table(index=\"generator\", columns=\"name\", values=prefix).loc[generators, :]\n",
    "    return df\n",
    "\n",
    "n = 500\n",
    "plain = agg_prefix(f\"run-plain-{n}\")\n",
    "sur = agg_prefix(f\"run-{n}-sur-50\")\n",
    "\n",
    "sur = sur.assign(generator=\"surrogate-50\").set_index(\"generator\", append=True)\n",
    "plain = plain.assign(generator=f\"plain-{n}\").set_index(\"generator\", append=True)"
   ]
  },
  {
   "cell_type": "code",
   "execution_count": 61,
   "metadata": {},
   "outputs": [],
   "source": [
    "df = pd.concat([plain, sur], axis=0).sort_index(level=0).loc[generators]   \n",
    "df[\"mean\"] = df.mean(axis=1)"
   ]
  },
  {
   "cell_type": "code",
   "execution_count": 62,
   "metadata": {},
   "outputs": [
    {
     "name": "stdout",
     "output_type": "stream",
     "text": [
      "plain_total_mean=0.30 sur_total_mean=0.30\n"
     ]
    }
   ],
   "source": [
    "plain_total_mean = plain.mean(axis=1).mean(axis=0)\n",
    "sur_total_mean = sur.mean(axis=1).mean(axis=0)\n",
    "print(f\"{plain_total_mean=:.2f}\", f\"{sur_total_mean=:.2f}\")"
   ]
  },
  {
   "cell_type": "code",
   "execution_count": 63,
   "metadata": {},
   "outputs": [
    {
     "name": "stdout",
     "output_type": "stream",
     "text": [
      "plain_training=0.30 sur_training=0.29\n",
      "plain_not_training=0.31 sur_not_training=0.32\n"
     ]
    }
   ],
   "source": [
    "plain_training = plain.iloc[:5].mean(axis=1).mean(axis=0)\n",
    "sur_training = sur.iloc[:5].mean(axis=1).mean(axis=0)\n",
    "\n",
    "plain_not_training = plain.iloc[5:].mean(axis=1).mean(axis=0)\n",
    "sur_not_training = sur.iloc[5:].mean(axis=1).mean(axis=0)\n",
    "\n",
    "print(f\"{plain_training=:.2f}\", f\"{sur_training=:.2f}\")\n",
    "print(f\"{plain_not_training=:.2f}\", f\"{sur_not_training=:.2f}\")"
   ]
  },
  {
   "cell_type": "code",
   "execution_count": 65,
   "metadata": {},
   "outputs": [
    {
     "data": {
      "text/html": [
       "<div>\n",
       "<style scoped>\n",
       "    .dataframe tbody tr th:only-of-type {\n",
       "        vertical-align: middle;\n",
       "    }\n",
       "\n",
       "    .dataframe tbody tr th {\n",
       "        vertical-align: top;\n",
       "    }\n",
       "\n",
       "    .dataframe thead th {\n",
       "        text-align: right;\n",
       "    }\n",
       "</style>\n",
       "<table border=\"1\" class=\"dataframe\">\n",
       "  <thead>\n",
       "    <tr style=\"text-align: right;\">\n",
       "      <th></th>\n",
       "      <th>name</th>\n",
       "      <th>000.tsp</th>\n",
       "      <th>001.tsp</th>\n",
       "      <th>002.tsp</th>\n",
       "      <th>003.tsp</th>\n",
       "      <th>004.tsp</th>\n",
       "    </tr>\n",
       "    <tr>\n",
       "      <th>generator</th>\n",
       "      <th>generator</th>\n",
       "      <th></th>\n",
       "      <th></th>\n",
       "      <th></th>\n",
       "      <th></th>\n",
       "      <th></th>\n",
       "    </tr>\n",
       "  </thead>\n",
       "  <tbody>\n",
       "    <tr>\n",
       "      <th>cluster_netgen</th>\n",
       "      <th>surrogate-50</th>\n",
       "      <td>0.11</td>\n",
       "      <td>0.20</td>\n",
       "      <td>0.64</td>\n",
       "      <td>0.30</td>\n",
       "      <td>0.61</td>\n",
       "    </tr>\n",
       "    <tr>\n",
       "      <th>compression</th>\n",
       "      <th>surrogate-50</th>\n",
       "      <td>0.14</td>\n",
       "      <td>0.13</td>\n",
       "      <td>1.19</td>\n",
       "      <td>0.32</td>\n",
       "      <td>0.10</td>\n",
       "    </tr>\n",
       "    <tr>\n",
       "      <th>expansion</th>\n",
       "      <th>surrogate-50</th>\n",
       "      <td>0.30</td>\n",
       "      <td>0.14</td>\n",
       "      <td>0.39</td>\n",
       "      <td>0.42</td>\n",
       "      <td>0.20</td>\n",
       "    </tr>\n",
       "    <tr>\n",
       "      <th>explosion</th>\n",
       "      <th>surrogate-50</th>\n",
       "      <td>0.54</td>\n",
       "      <td>0.09</td>\n",
       "      <td>0.19</td>\n",
       "      <td>0.11</td>\n",
       "      <td>0.22</td>\n",
       "    </tr>\n",
       "    <tr>\n",
       "      <th>grid</th>\n",
       "      <th>surrogate-50</th>\n",
       "      <td>0.35</td>\n",
       "      <td>0.09</td>\n",
       "      <td>0.23</td>\n",
       "      <td>0.18</td>\n",
       "      <td>0.10</td>\n",
       "    </tr>\n",
       "    <tr>\n",
       "      <th>cluster</th>\n",
       "      <th>surrogate-50</th>\n",
       "      <td>0.16</td>\n",
       "      <td>0.15</td>\n",
       "      <td>0.15</td>\n",
       "      <td>0.16</td>\n",
       "      <td>0.15</td>\n",
       "    </tr>\n",
       "    <tr>\n",
       "      <th>implosion</th>\n",
       "      <th>surrogate-50</th>\n",
       "      <td>0.04</td>\n",
       "      <td>0.14</td>\n",
       "      <td>0.27</td>\n",
       "      <td>0.28</td>\n",
       "      <td>0.10</td>\n",
       "    </tr>\n",
       "    <tr>\n",
       "      <th>linearprojection</th>\n",
       "      <th>surrogate-50</th>\n",
       "      <td>0.19</td>\n",
       "      <td>0.35</td>\n",
       "      <td>0.14</td>\n",
       "      <td>0.09</td>\n",
       "      <td>0.16</td>\n",
       "    </tr>\n",
       "    <tr>\n",
       "      <th>rotation</th>\n",
       "      <th>surrogate-50</th>\n",
       "      <td>0.64</td>\n",
       "      <td>3.12</td>\n",
       "      <td>0.10</td>\n",
       "      <td>0.16</td>\n",
       "      <td>0.12</td>\n",
       "    </tr>\n",
       "    <tr>\n",
       "      <th>uniform_portgen</th>\n",
       "      <th>surrogate-50</th>\n",
       "      <td>0.30</td>\n",
       "      <td>0.27</td>\n",
       "      <td>0.06</td>\n",
       "      <td>0.56</td>\n",
       "      <td>0.06</td>\n",
       "    </tr>\n",
       "  </tbody>\n",
       "</table>\n",
       "</div>"
      ],
      "text/plain": [
       "name                           000.tsp  001.tsp  002.tsp  003.tsp  004.tsp\n",
       "generator        generator                                                \n",
       "cluster_netgen   surrogate-50     0.11     0.20     0.64     0.30     0.61\n",
       "compression      surrogate-50     0.14     0.13     1.19     0.32     0.10\n",
       "expansion        surrogate-50     0.30     0.14     0.39     0.42     0.20\n",
       "explosion        surrogate-50     0.54     0.09     0.19     0.11     0.22\n",
       "grid             surrogate-50     0.35     0.09     0.23     0.18     0.10\n",
       "cluster          surrogate-50     0.16     0.15     0.15     0.16     0.15\n",
       "implosion        surrogate-50     0.04     0.14     0.27     0.28     0.10\n",
       "linearprojection surrogate-50     0.19     0.35     0.14     0.09     0.16\n",
       "rotation         surrogate-50     0.64     3.12     0.10     0.16     0.12\n",
       "uniform_portgen  surrogate-50     0.30     0.27     0.06     0.56     0.06"
      ]
     },
     "execution_count": 65,
     "metadata": {},
     "output_type": "execute_result"
    }
   ],
   "source": [
    "sur"
   ]
  },
  {
   "cell_type": "code",
   "execution_count": 7,
   "metadata": {},
   "outputs": [],
   "source": [
    "# \n",
    "df.to_excel(\"tmp.xlsx\")"
   ]
  },
  {
   "cell_type": "code",
   "execution_count": 53,
   "metadata": {},
   "outputs": [
    {
     "data": {
      "text/plain": [
       "run-30-sur-50    0.52\n",
       "dtype: float64"
      ]
     },
     "execution_count": 53,
     "metadata": {},
     "output_type": "execute_result"
    }
   ],
   "source": [
    "df.mean().round(2)"
   ]
  },
  {
   "cell_type": "code",
   "execution_count": 54,
   "metadata": {},
   "outputs": [
    {
     "data": {
      "text/plain": [
       "20640.65"
      ]
     },
     "execution_count": 54,
     "metadata": {},
     "output_type": "execute_result"
    }
   ],
   "source": [
    "times = {}\n",
    "\n",
    "for idx, db_path in enumerate(DATABASE_DIR.glob(f\"{PREFIX}-*.db\")):\n",
    "    db = DB(db_path)\n",
    "    results = pd.read_sql_query(\"SELECT * FROM results\", db._conn)\n",
    "    times[idx] = results.loc[\n",
    "        results[\"prefix\"].str.startswith(\"config\")\n",
    "        & results[\"cached\"].eq(0)\n",
    "        & results[\"surrogate\"].eq(0),\n",
    "        \"time\",\n",
    "    ].sum()\n",
    "    \n",
    "np.round(pd.Series(times).mean(), 2)"
   ]
  },
  {
   "cell_type": "code",
   "execution_count": 55,
   "metadata": {},
   "outputs": [
    {
     "data": {
      "text/plain": [
       "5.73351327659766"
      ]
     },
     "execution_count": 55,
     "metadata": {},
     "output_type": "execute_result"
    }
   ],
   "source": [
    "pd.Series(times).mean() / 3600"
   ]
  }
 ],
 "metadata": {
  "kernelspec": {
   "display_name": "SMAC",
   "language": "python",
   "name": "python3"
  },
  "language_info": {
   "codemirror_mode": {
    "name": "ipython",
    "version": 3
   },
   "file_extension": ".py",
   "mimetype": "text/x-python",
   "name": "python",
   "nbconvert_exporter": "python",
   "pygments_lexer": "ipython3",
   "version": "3.10.15"
  }
 },
 "nbformat": 4,
 "nbformat_minor": 2
}
