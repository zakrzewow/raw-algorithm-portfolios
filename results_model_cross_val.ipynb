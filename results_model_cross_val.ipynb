{
 "cells": [
  {
   "cell_type": "code",
   "execution_count": 33,
   "metadata": {},
   "outputs": [],
   "source": [
    "import numpy as np\n",
    "\n",
    "from src.constant import DATA_DIR, DATABASE_DIR\n",
    "from src.database import DB\n",
    "from src.database.queries import *\n",
    "from src.instance.TSP_Instance import TSP_from_index_file\n",
    "from src.solver.TSP_LKH_Solver import TSP_LKH_Solver\n",
    "from src.aac.SurrogateEstimator import Estimator1\n",
    "\n",
    "from sklearn.model_selection import KFold\n",
    "import numpy as np\n",
    "\n",
    "def create_folds(X, y, n_splits=4):\n",
    "    kf = KFold(n_splits=n_splits, shuffle=True, random_state=42)\n",
    "    folds = []\n",
    "    for train_index, test_index in kf.split(X):\n",
    "        X_train, X_test = X[train_index], X[test_index]\n",
    "        y_train, y_test = y[train_index], y[test_index]\n",
    "        folds.append((X_train, y_train, X_test, y_test))\n",
    "    return folds"
   ]
  },
  {
   "cell_type": "code",
   "execution_count": 34,
   "metadata": {},
   "outputs": [],
   "source": [
    "generators = [\n",
    "    \"cluster_netgen\",\n",
    "    \"compression\",\n",
    "    \"expansion\",\n",
    "    \"explosion\",\n",
    "    \"grid\",\n",
    "    \"cluster\",\n",
    "    \"implosion\",\n",
    "    \"linearprojection\",\n",
    "    \"rotation\",\n",
    "    \"uniform_portgen\",\n",
    "]\n",
    "\n",
    "test_instances = TSP_from_index_file(filepath=DATA_DIR / \"TSP\" / \"TEST\" / \"index.json\")\n",
    "\n",
    "id_to_generator_name = {\n",
    "    instance.id(): instance.filepath.parts[-2] for instance in test_instances\n",
    "}\n",
    "\n",
    "id_to_name = {\n",
    "    instance.id(): instance.filepath.parts[-1] for instance in test_instances\n",
    "}"
   ]
  },
  {
   "cell_type": "code",
   "execution_count": 35,
   "metadata": {},
   "outputs": [],
   "source": [
    "acc = []\n",
    "rmse = []\n",
    "training_data_shape = []\n",
    "non_timeout_training_data_shape = []\n",
    "\n",
    "PREFIX = \"run-500-sur-50\"\n",
    "for db_path in (DATABASE_DIR.glob(f\"{PREFIX}-*.db\")):\n",
    "    db = DB(db_path)\n",
    "    X, y = get_model_training_data(db)\n",
    "\n",
    "    for X_train, y_train, X_test, y_test in create_folds(X, y):\n",
    "        estimator = Estimator1(\n",
    "            max_cost=TSP_LKH_Solver.MAX_COST, estimator_pct=0.5\n",
    "        )\n",
    "        estimator.fit(X_train, y_train)\n",
    "        acc_, rmse_ = estimator.score(X_test, y_test)\n",
    "\n",
    "        X_, y_ = estimator._training_data_\n",
    "        training_data_shape_ = X_.shape[0]\n",
    "        non_timeout_training_data_shape_ = X_[estimator._mask_non_timeout].shape[0]\n",
    "\n",
    "        acc.append(acc_)\n",
    "        rmse.append(rmse_)\n",
    "        training_data_shape.append(training_data_shape_)\n",
    "        non_timeout_training_data_shape.append(non_timeout_training_data_shape_)"
   ]
  },
  {
   "cell_type": "code",
   "execution_count": 36,
   "metadata": {},
   "outputs": [
    {
     "name": "stdout",
     "output_type": "stream",
     "text": [
      "acc=0.8280000000000001, rmse=1.9789999999999999, training_data_shape=42045.0, non_timeout_training_data_shape=21425.1\n"
     ]
    }
   ],
   "source": [
    "acc = np.mean(acc)\n",
    "rmse = np.mean(rmse)\n",
    "training_data_shape = np.mean(training_data_shape)\n",
    "non_timeout_training_data_shape = np.mean(non_timeout_training_data_shape)\n",
    "print(f\"{acc=}, {rmse=}, {training_data_shape=}, {non_timeout_training_data_shape=}\")"
   ]
  }
 ],
 "metadata": {
  "kernelspec": {
   "display_name": "SMAC",
   "language": "python",
   "name": "python3"
  },
  "language_info": {
   "codemirror_mode": {
    "name": "ipython",
    "version": 3
   },
   "file_extension": ".py",
   "mimetype": "text/x-python",
   "name": "python",
   "nbconvert_exporter": "python",
   "pygments_lexer": "ipython3",
   "version": "3.10.15"
  }
 },
 "nbformat": 4,
 "nbformat_minor": 2
}
