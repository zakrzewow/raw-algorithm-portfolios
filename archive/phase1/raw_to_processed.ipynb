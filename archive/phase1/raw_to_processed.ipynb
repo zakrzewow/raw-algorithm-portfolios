{
 "cells": [
  {
   "cell_type": "code",
   "execution_count": 1,
   "metadata": {},
   "outputs": [],
   "source": [
    "import sys\n",
    "from pathlib import Path\n",
    "\n",
    "import numpy as np\n",
    "from tqdm.auto import tqdm\n",
    "import pandas as pd\n",
    "current_dir = Path.cwd()\n",
    "parent_dir = str(current_dir.parent.parent)\n",
    "if parent_dir not in sys.path:\n",
    "    sys.path.insert(0, parent_dir)\n",
    "\n",
    "\n",
    "from src.constant import DATA_DIR, MAIN_DIR, DATABASE_DIR\n",
    "from src.database.db import DB\n",
    "from src.instance.InstanceList import InstanceList\n",
    "from src.instance.TSP_Instance import TSP_from_index_file\n",
    "\n",
    "PHASE1_DIR = MAIN_DIR / \"archive\" / \"phase1\" \n",
    "RAW_DIR = PHASE1_DIR / \"raw\"\n",
    "PROCESSED_DIR = PHASE1_DIR / \"processed\""
   ]
  },
  {
   "cell_type": "code",
   "execution_count": 2,
   "metadata": {},
   "outputs": [],
   "source": [
    "query = \"\"\"\n",
    "select\n",
    "    solver_id,\n",
    "    filepath,\n",
    "    cost\n",
    "from results\n",
    "join instances on results.instance_id = instances.id\n",
    "\"\"\"\n",
    "\n",
    "explosion = DB(RAW_DIR / \"run-phase1-dataset2-993370.db\").query2df(query)\n",
    "explosion2 = DB(RAW_DIR / \"run-phase1-dataset-995185.db\").query2df(query)\n",
    "expansion = DB(RAW_DIR / \"run-phase1-dataset2-993505.db\").query2df(query)\n",
    "expansion2 = DB(RAW_DIR / \"run-phase1-dataset-995184.db\").query2df(query)\n",
    "\n",
    "cluster_compression = DB(RAW_DIR / \"run-phase1-dataset-993244.db\").query2df(query)\n",
    "cluster_compression = cluster_compression.loc[cluster_compression[\"filepath\"].str.contains(\"cluster_netgen|compression\")]\n",
    "cluster2 = DB(RAW_DIR / \"run-phase1-dataset-995182.db\").query2df(query)\n",
    "cluster2 = cluster2.loc[~cluster2[\"filepath\"].str.contains(\"019.tsp\")]\n",
    "cluster3 = DB(RAW_DIR / \"run-phase1-dataset-997329.db\").query2df(query)\n",
    "compression2 = DB(RAW_DIR / \"run-phase1-dataset-995187.db\").query2df(query)\n",
    "\n",
    "grid1 = DB(RAW_DIR / \"run-phase1-dataset2-993371.db\").query2df(query)\n",
    "grid1 = grid1.loc[~grid1[\"filepath\"].str.contains(\"014.tsp\")]\n",
    "grid2 = DB(RAW_DIR / \"run-phase1-dataset2-994508.db\").query2df(query)\n",
    "grid3 = DB(RAW_DIR / \"run-phase1-dataset-995186.db\").query2df(query)\n",
    "\n",
    "df = (\n",
    "    pd.concat([\n",
    "        explosion,\n",
    "        explosion2,\n",
    "        expansion,\n",
    "        expansion2,\n",
    "        cluster_compression,\n",
    "        cluster2,\n",
    "        cluster3,\n",
    "        compression2,\n",
    "        grid1,\n",
    "        grid2,\n",
    "        grid3,\n",
    "    ])\n",
    "    .rename(columns={\"filepath\": \"instance_id\"})\n",
    "    .sort_values(\"instance_id\")\n",
    "    .reset_index(drop=True)\n",
    ")\n",
    "df[\"cost\"] = np.where(df[\"cost\"] == 3000.0, df[\"cost\"] / 10, df[\"cost\"])\n",
    "df[\"generator\"] = df[\"instance_id\"].apply(lambda x: x.split(\"/\")[-2])\n",
    "df.loc[:, [\"solver_id\", \"instance_id\", \"generator\", \"cost\"]].to_parquet(PROCESSED_DIR / \"evaluations.parquet\")"
   ]
  },
  {
   "cell_type": "code",
   "execution_count": 28,
   "metadata": {},
   "outputs": [],
   "source": [
    "solvers_df = pd.concat([\n",
    "    DB(RAW_DIR / \"run-phase1-dataset2-993371.db\").get_solvers(),\n",
    "    DB(RAW_DIR / \"run-phase1-dataset-995182.db\").get_solvers(),\n",
    "]).reset_index(drop=True)\n",
    "solvers_df.to_parquet(PROCESSED_DIR / \"solvers.parquet\")"
   ]
  },
  {
   "cell_type": "code",
   "execution_count": 29,
   "metadata": {},
   "outputs": [
    {
     "data": {
      "text/plain": [
       "(1000, 100)"
      ]
     },
     "execution_count": 29,
     "metadata": {},
     "output_type": "execute_result"
    }
   ],
   "source": [
    "df[\"solver_id\"].nunique(), df[\"instance_id\"].nunique()"
   ]
  },
  {
   "cell_type": "code",
   "execution_count": 19,
   "metadata": {},
   "outputs": [
    {
     "data": {
      "text/html": [
       "<div>\n",
       "<style scoped>\n",
       "    .dataframe tbody tr th:only-of-type {\n",
       "        vertical-align: middle;\n",
       "    }\n",
       "\n",
       "    .dataframe tbody tr th {\n",
       "        vertical-align: top;\n",
       "    }\n",
       "\n",
       "    .dataframe thead th {\n",
       "        text-align: right;\n",
       "    }\n",
       "</style>\n",
       "<table border=\"1\" class=\"dataframe\">\n",
       "  <thead>\n",
       "    <tr style=\"text-align: right;\">\n",
       "      <th></th>\n",
       "      <th>count</th>\n",
       "      <th>mean</th>\n",
       "      <th>std</th>\n",
       "      <th>min</th>\n",
       "      <th>25%</th>\n",
       "      <th>50%</th>\n",
       "      <th>75%</th>\n",
       "      <th>max</th>\n",
       "    </tr>\n",
       "    <tr>\n",
       "      <th>generator</th>\n",
       "      <th></th>\n",
       "      <th></th>\n",
       "      <th></th>\n",
       "      <th></th>\n",
       "      <th></th>\n",
       "      <th></th>\n",
       "      <th></th>\n",
       "      <th></th>\n",
       "    </tr>\n",
       "  </thead>\n",
       "  <tbody>\n",
       "    <tr>\n",
       "      <th>cluster_netgen</th>\n",
       "      <td>20000.0</td>\n",
       "      <td>94.599668</td>\n",
       "      <td>126.257357</td>\n",
       "      <td>0.0</td>\n",
       "      <td>0.91</td>\n",
       "      <td>11.700</td>\n",
       "      <td>267.0575</td>\n",
       "      <td>300.0</td>\n",
       "    </tr>\n",
       "    <tr>\n",
       "      <th>compression</th>\n",
       "      <td>20000.0</td>\n",
       "      <td>80.732920</td>\n",
       "      <td>120.133439</td>\n",
       "      <td>0.0</td>\n",
       "      <td>0.68</td>\n",
       "      <td>6.935</td>\n",
       "      <td>134.4050</td>\n",
       "      <td>300.0</td>\n",
       "    </tr>\n",
       "    <tr>\n",
       "      <th>expansion</th>\n",
       "      <td>20000.0</td>\n",
       "      <td>68.505207</td>\n",
       "      <td>113.706131</td>\n",
       "      <td>0.0</td>\n",
       "      <td>0.27</td>\n",
       "      <td>3.560</td>\n",
       "      <td>70.7925</td>\n",
       "      <td>300.0</td>\n",
       "    </tr>\n",
       "    <tr>\n",
       "      <th>explosion</th>\n",
       "      <td>20000.0</td>\n",
       "      <td>79.087429</td>\n",
       "      <td>119.501065</td>\n",
       "      <td>0.0</td>\n",
       "      <td>0.63</td>\n",
       "      <td>6.055</td>\n",
       "      <td>126.1475</td>\n",
       "      <td>300.0</td>\n",
       "    </tr>\n",
       "    <tr>\n",
       "      <th>grid</th>\n",
       "      <td>20000.0</td>\n",
       "      <td>68.784856</td>\n",
       "      <td>114.837667</td>\n",
       "      <td>0.0</td>\n",
       "      <td>0.27</td>\n",
       "      <td>2.720</td>\n",
       "      <td>72.0325</td>\n",
       "      <td>300.0</td>\n",
       "    </tr>\n",
       "  </tbody>\n",
       "</table>\n",
       "</div>"
      ],
      "text/plain": [
       "                  count       mean         std  min   25%     50%       75%  \\\n",
       "generator                                                                     \n",
       "cluster_netgen  20000.0  94.599668  126.257357  0.0  0.91  11.700  267.0575   \n",
       "compression     20000.0  80.732920  120.133439  0.0  0.68   6.935  134.4050   \n",
       "expansion       20000.0  68.505207  113.706131  0.0  0.27   3.560   70.7925   \n",
       "explosion       20000.0  79.087429  119.501065  0.0  0.63   6.055  126.1475   \n",
       "grid            20000.0  68.784856  114.837667  0.0  0.27   2.720   72.0325   \n",
       "\n",
       "                  max  \n",
       "generator              \n",
       "cluster_netgen  300.0  \n",
       "compression     300.0  \n",
       "expansion       300.0  \n",
       "explosion       300.0  \n",
       "grid            300.0  "
      ]
     },
     "execution_count": 19,
     "metadata": {},
     "output_type": "execute_result"
    }
   ],
   "source": [
    "df.groupby(\"generator\")[\"cost\"].describe()"
   ]
  },
  {
   "cell_type": "code",
   "execution_count": 20,
   "metadata": {},
   "outputs": [
    {
     "data": {
      "image/png": "[encoded data removed]",
      "text/plain": [
       "<Figure size 640x480 with 1 Axes>"
      ]
     },
     "metadata": {},
     "output_type": "display_data"
    }
   ],
   "source": [
    "df[\"cost\"].plot.hist(bins=50);"
   ]
  },
  {
   "cell_type": "code",
   "execution_count": 21,
   "metadata": {},
   "outputs": [
    {
     "data": {
      "text/plain": [
       "False    0.80111\n",
       "True     0.19889\n",
       "Name: cost, dtype: float64"
      ]
     },
     "execution_count": 21,
     "metadata": {},
     "output_type": "execute_result"
    }
   ],
   "source": [
    "(df[\"cost\"] == 300).value_counts(normalize=True)"
   ]
  },
  {
   "cell_type": "code",
   "execution_count": 22,
   "metadata": {},
   "outputs": [
    {
     "data": {
      "text/plain": [
       "973"
      ]
     },
     "execution_count": 22,
     "metadata": {},
     "output_type": "execute_result"
    }
   ],
   "source": [
    "df.loc[df[\"cost\"] < 300, \"solver_id\"].nunique()"
   ]
  },
  {
   "cell_type": "code",
   "execution_count": 23,
   "metadata": {},
   "outputs": [
    {
     "data": {
      "text/plain": [
       "solver_id\n",
       "1002471113494523905    179.90\n",
       "1020543843281966762     16.39\n",
       "1021573058298010931    128.50\n",
       "1028542701154549227     75.34\n",
       "1043101103933922134     22.66\n",
       "                        ...  \n",
       "962840036408618598     235.86\n",
       "962883005813177462       9.24\n",
       "970611356426903166      71.48\n",
       "973335114157418680     112.45\n",
       "991708024745890116     259.29\n",
       "Name: cost, Length: 334, dtype: float64"
      ]
     },
     "execution_count": 23,
     "metadata": {},
     "output_type": "execute_result"
    }
   ],
   "source": [
    "df.groupby(\"solver_id\")[\"cost\"].max().loc[lambda x: x < 300]"
   ]
  },
  {
   "cell_type": "code",
   "execution_count": 24,
   "metadata": {},
   "outputs": [
    {
     "data": {
      "text/plain": [
       "solver_id\n",
       "2015558950952358772    0.00\n",
       "1733104218805818797    0.00\n",
       "1730848150240827803    0.00\n",
       "1725342735224443171    0.00\n",
       "1721638763408659811    0.00\n",
       "                       ... \n",
       "1703170494775071241    0.76\n",
       "2266014232418182719    0.76\n",
       "1480426067213915705    0.78\n",
       "1236493675070612438    0.79\n",
       "990737851297008821     0.79\n",
       "Name: is_timeout, Length: 911, dtype: float64"
      ]
     },
     "execution_count": 24,
     "metadata": {},
     "output_type": "execute_result"
    }
   ],
   "source": [
    "df.assign(is_timeout=lambda x: x[\"cost\"] == 300).groupby(\"solver_id\")[\"is_timeout\"].mean().sort_values(ascending=True).loc[lambda x: x < 0.8]"
   ]
  },
  {
   "cell_type": "code",
   "execution_count": null,
   "metadata": {},
   "outputs": [],
   "source": [
    "all_instances = TSP_from_index_file(\n",
    "    filepath=DATA_DIR / \"TSP\" / \"TRAIN\" / \"index.json\",\n",
    "    max_cost=3000.0,\n",
    "    max_time=300.0,\n",
    ")\n",
    "\n",
    "instances = InstanceList()\n",
    "for i in [0, 200, 400, 600, 800]:\n",
    "    instances.extend(all_instances[i : i + 20])\n",
    "\n",
    "for instance in tqdm(instances):\n",
    "    try:\n",
    "        instance.calculate_features()\n",
    "        instance.to_db()\n",
    "    except Exception as e:\n",
    "        print(instance, e)"
   ]
  },
  {
   "cell_type": "code",
   "execution_count": null,
   "metadata": {},
   "outputs": [],
   "source": [
    "instances_df = (\n",
    "    DB(DATABASE_DIR / \"test-2025_03_23_19_00_48.db\").get_instances()\n",
    "    .drop(columns=[\"id\", \"optimum\", \"max_cost\", \"max_time\"])\n",
    "    .rename(columns={\"filepath\": \"id\"})\n",
    "    .to_parquet(PROCESSED_DIR / \"instances.parquet\")\n",
    ")\n",
    "\n",
    "instances_df.to_parquet(PROCESSED_DIR / \"instances.parquet\")"
   ]
  }
 ],
 "metadata": {
  "kernelspec": {
   "display_name": "SMAC",
   "language": "python",
   "name": "python3"
  },
  "language_info": {
   "codemirror_mode": {
    "name": "ipython",
    "version": 3
   },
   "file_extension": ".py",
   "mimetype": "text/x-python",
   "name": "python",
   "nbconvert_exporter": "python",
   "pygments_lexer": "ipython3",
   "version": "3.10.15"
  }
 },
 "nbformat": 4,
 "nbformat_minor": 2
}
