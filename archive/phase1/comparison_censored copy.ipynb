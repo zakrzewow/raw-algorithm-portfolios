{
 "cells": [
  {
   "cell_type": "code",
   "execution_count": null,
   "metadata": {},
   "outputs": [],
   "source": [
    "import warnings\n",
    "from pathlib import Path\n",
    "\n",
    "import matplotlib.pyplot as plt\n",
    "import numpy as np\n",
    "import pandas as pd\n",
    "from ConfigSpace import (\n",
    "    Categorical,\n",
    "    Configuration,\n",
    "    ConfigurationSpace,\n",
    "    Constant,\n",
    "    Float,\n",
    "    InCondition,\n",
    "    Integer,\n",
    ")\n",
    "from ConfigSpace.conditions import EqualsCondition, InCondition\n",
    "from scipy.stats import pearsonr\n",
    "from sklearn.ensemble import RandomForestRegressor\n",
    "from sklearn.gaussian_process import GaussianProcessRegressor\n",
    "from sklearn.gaussian_process.kernels import RBF\n",
    "from sklearn.linear_model import Ridge\n",
    "from sklearn.metrics import mean_squared_error, r2_score\n",
    "from sklearn.pipeline import Pipeline\n",
    "from sklearn.preprocessing import PolynomialFeatures, StandardScaler\n",
    "from sklearn.svm import SVR\n",
    "from smac import HyperparameterOptimizationFacade, Scenario\n",
    "from xgboost import XGBRegressor\n",
    "import xgboost as xgb\n",
    "\n",
    "warnings.filterwarnings(\"ignore\", category=UserWarning)\n",
    "warnings.filterwarnings(\"ignore\", category=FutureWarning)\n",
    "warnings.filterwarnings(\"ignore\", message=\".*algorithm did not converge.*\")\n",
    "\n",
    "plt.rcParams[\"font.family\"] = \"Times New Roman\"\n",
    "plt.rcParams[\"axes.grid\"] = True\n",
    "plt.rcParams[\"grid.alpha\"] = 0.2\n",
    "plt.rcParams[\"grid.color\"] = \"#cccccc\"\n",
    "plt.rcParams[\"axes.xmargin\"] = 0\n",
    "\n",
    "PHASE1_DIR = Path(\".\")\n",
    "PROCESSED_DIR = PHASE1_DIR / \"processed\""
   ]
  },
  {
   "cell_type": "code",
   "execution_count": null,
   "metadata": {},
   "outputs": [],
   "source": [
    "evaluations_df = pd.read_parquet(PROCESSED_DIR / \"evaluations.parquet\")\n",
    "solvers_df = pd.read_parquet(PROCESSED_DIR / \"solvers.parquet\")\n",
    "instances_df = pd.read_parquet(PROCESSED_DIR / \"instances.parquet\")\n",
    "\n",
    "df = pd.merge(evaluations_df, solvers_df, left_on=\"solver_id\", right_on=\"id\").drop(columns=[\"id\"])\n",
    "df = pd.merge(df, instances_df, left_on=\"instance_id\", right_on=\"id\").drop(columns=[\"id\"])\n",
    "df"
   ]
  },
  {
   "cell_type": "code",
   "execution_count": null,
   "metadata": {},
   "outputs": [],
   "source": [
    "# from sksurv.datasets import load_whas500\n",
    "# from sksurv.linear_model import CoxPHSurvivalAnalysis\n",
    "# from sksurv.ensemble import RandomSurvivalForest\n",
    "# df_train\n",
    "\n",
    "# cost = df_train[\"log_cost\"].clip(upper=np.log(300 + 1)).to_numpy()\n",
    "# is_censored = cost == np.log(300 + 1)\n",
    "\n",
    "# y_train = np.zeros(len(cost), dtype=[('is_censored', bool), ('cost', float)])\n",
    "# y_train['is_censored'] = is_censored\n",
    "# y_train['cost'] = cost\n",
    "# y_train\n",
    "\n",
    "# model = RandomSurvivalForest()\n",
    "# model.fit(X_train, y_train)\n",
    "# surv_func = model.predict_survival_function(X_train)"
   ]
  },
  {
   "cell_type": "markdown",
   "metadata": {},
   "source": [
    "## Functions"
   ]
  },
  {
   "cell_type": "code",
   "execution_count": null,
   "metadata": {},
   "outputs": [],
   "source": [
    "def get_n_splits(df, n, instance_number, solver_number, random_state=0):\n",
    "    \"\"\"\n",
    "    Generate indices to split data into training and test sets.\n",
    "    \n",
    "    Parameters:\n",
    "    -----------\n",
    "    df : pandas.DataFrame\n",
    "        DataFrame containing solver evaluation data\n",
    "    n : int\n",
    "        Number of splits\n",
    "    instance_number : int\n",
    "        Number of instances to select\n",
    "    solver_number : int\n",
    "        Number of solver configurations to select\n",
    "    random_state : int, default=0\n",
    "        Random state for reproducibility\n",
    "        \n",
    "    Yields:\n",
    "    -------\n",
    "    train_idx : numpy.array\n",
    "        Indices of training set\n",
    "    test_idx : numpy.array\n",
    "        Indices of test set\n",
    "        \n",
    "    Notes:\n",
    "    ------\n",
    "    1. Randomly selects solver_number solvers and instance_number instances from df\n",
    "    2. Ensures that all evaluations from one solver are either in train or test set\n",
    "    \"\"\"\n",
    "    rng = np.random.default_rng(random_state)\n",
    "    \n",
    "    if solver_number % n != 0:\n",
    "        raise ValueError(f\"solver_number ({solver_number}) must be divisible by n ({n})\")\n",
    "    \n",
    "    all_solver_ids = df['solver_id'].unique()\n",
    "    all_instance_ids = df['instance_id'].unique()\n",
    "    \n",
    "    if len(all_solver_ids) < solver_number:\n",
    "        raise ValueError(f\"Not enough solvers in df ({len(all_solver_ids)}) to select {solver_number}\")\n",
    "    \n",
    "    if len(all_instance_ids) < instance_number:\n",
    "        raise ValueError(f\"Not enough instances in df ({len(all_instance_ids)}) to select {instance_number}\")\n",
    "    \n",
    "    selected_solver_ids = rng.choice(all_solver_ids, size=solver_number, replace=False)\n",
    "    selected_instance_ids = rng.choice(all_instance_ids, size=instance_number, replace=False)\n",
    "    \n",
    "    subset_df = df[\n",
    "        df['solver_id'].isin(selected_solver_ids) & \n",
    "        df['instance_id'].isin(selected_instance_ids)\n",
    "    ]\n",
    "    \n",
    "    expected_rows = solver_number * instance_number\n",
    "    if len(subset_df) != expected_rows:\n",
    "        raise ValueError(f\"Incomplete data: Found {len(subset_df)} rows instead of expected {expected_rows}\")\n",
    "    \n",
    "    solvers_per_fold = solver_number // n\n",
    "    shuffled_solver_ids = rng.permutation(selected_solver_ids)\n",
    "    \n",
    "    for i in range(n):\n",
    "        test_solvers = shuffled_solver_ids[i * solvers_per_fold:(i + 1) * solvers_per_fold]\n",
    "        \n",
    "        test_idx = subset_df[subset_df['solver_id'].isin(test_solvers)].index.values\n",
    "        train_idx = subset_df[~subset_df['solver_id'].isin(test_solvers)].index.values\n",
    "        \n",
    "        total_samples = len(train_idx) + len(test_idx)\n",
    "        if total_samples != expected_rows:\n",
    "            raise ValueError(f\"Total samples ({total_samples}) doesn't match expected number ({expected_rows})\")\n",
    "        \n",
    "        yield train_idx, test_idx"
   ]
  },
  {
   "cell_type": "code",
   "execution_count": null,
   "metadata": {},
   "outputs": [],
   "source": [
    "for train_idx, test_idx in get_n_splits(\n",
    "    df,\n",
    "    n=2,\n",
    "    instance_number=10,\n",
    "    solver_number=50,\n",
    "    random_state=0,\n",
    "):\n",
    "    df_train = df.loc[train_idx]\n",
    "    X_train = df_train.drop(columns=[\"solver_id\", \"instance_id\", \"generator\", \"cost\", \"log_cost\"])\n",
    "    y_train = df_train[\"log_cost\"].clip(upper=np.log(1 + 1))\n",
    "\n",
    "    df_test = df.loc[test_idx]\n",
    "    X_test = df_test.drop(columns=[\"solver_id\", \"instance_id\", \"generator\", \"cost\", \"log_cost\"])\n",
    "    y_test = df_test[\"log_cost\"]\n",
    "\n",
    "    scaler = StandardScaler()\n",
    "    X_train = scaler.fit_transform(X_train)\n",
    "    X_test = scaler.transform(X_test)"
   ]
  },
  {
   "cell_type": "code",
   "execution_count": 32,
   "metadata": {},
   "outputs": [],
   "source": [
    "def evaluate_model_with_cross_validation(\n",
    "    df, \n",
    "    params, \n",
    "    n=5, \n",
    "    instance_number=10, \n",
    "    solver_number=1000, \n",
    "    random_state=0,\n",
    "):\n",
    "    result = {\"rmse_values\": [], \"cc_values\": [], \"r2_values\": []}\n",
    "    all_y_test = []\n",
    "    all_y_pred = []\n",
    "    num_boost_round = params[\"num_boost_round\"]\n",
    "    del params[\"num_boost_round\"]\n",
    "    \n",
    "    for train_idx, test_idx in get_n_splits(\n",
    "        df,\n",
    "        n=n,\n",
    "        instance_number=instance_number,\n",
    "        solver_number=solver_number,\n",
    "        random_state=random_state,\n",
    "    ):\n",
    "        df_train = df.loc[train_idx]\n",
    "        X_train = df_train.drop(columns=[\"solver_id\", \"instance_id\", \"generator\", \"cost\", \"log_cost\"])\n",
    "        y_train = df_train[\"log_cost\"].clip(upper=np.log(1 + 1))\n",
    "\n",
    "        df_test = df.loc[test_idx]\n",
    "        X_test = df_test.drop(columns=[\"solver_id\", \"instance_id\", \"generator\", \"cost\", \"log_cost\"])\n",
    "        y_test = df_test[\"log_cost\"]\n",
    "\n",
    "        scaler = StandardScaler()\n",
    "        X_train = scaler.fit_transform(X_train)\n",
    "        X_test = scaler.transform(X_test)\n",
    "\n",
    "        dtrain = xgb.DMatrix(X_train)\n",
    "        dtest = xgb.DMatrix(X_test)\n",
    "\n",
    "        y_lower_bound = y_train\n",
    "        y_upper_bound = np.where(y_train == np.log(1 + 1), np.inf, y_train)\n",
    "\n",
    "        dtrain.set_float_info('label_lower_bound', y_lower_bound)\n",
    "        dtrain.set_float_info('label_upper_bound', y_upper_bound)\n",
    "        dtrain.set_label(y_lower_bound)\n",
    "\n",
    "        bst = xgb.train(params, dtrain, num_boost_round=num_boost_round, evals=[(dtrain, 'train')], verbose_eval=False)\n",
    "\n",
    "        y_pred = bst.predict(dtest)\n",
    "        all_y_test.append(y_test.values)\n",
    "        all_y_pred.append(y_pred)\n",
    "\n",
    "        rmse = np.sqrt(mean_squared_error(y_test, y_pred))\n",
    "        if np.abs(np.std(y_test)) < 1e-3 or np.abs(np.std(y_pred)) < 1e-3:\n",
    "            cc = np.nan\n",
    "        else:\n",
    "            cc, _ = pearsonr(y_test, y_pred)\n",
    "        r2 = r2_score(y_test, y_pred)\n",
    "\n",
    "        result[\"rmse_values\"].append(rmse)\n",
    "        result[\"cc_values\"].append(cc)\n",
    "        result[\"r2_values\"].append(r2)\n",
    "\n",
    "    result[\"rmse\"] = np.mean(result[\"rmse_values\"])\n",
    "    result[\"cc\"] = np.mean(result[\"cc_values\"])\n",
    "    result[\"r2\"] = np.mean(result[\"r2_values\"])\n",
    "    result[\"y_test\"] = np.concatenate(all_y_test)\n",
    "    result[\"y_pred\"] = np.concatenate(all_y_pred)\n",
    "\n",
    "    return result"
   ]
  },
  {
   "cell_type": "code",
   "execution_count": 33,
   "metadata": {},
   "outputs": [],
   "source": [
    "def optimize_hyperparameters(\n",
    "    configspace,\n",
    "    df,\n",
    "    n_trials=30,\n",
    "    n=3,\n",
    "    instance_number=10,\n",
    "    solver_number=300,\n",
    "    random_state=0,\n",
    "):\n",
    "    def train(config: Configuration, seed) -> float:            \n",
    "        result = evaluate_model_with_cross_validation(\n",
    "            df,\n",
    "            dict(config),\n",
    "            n=n,\n",
    "            instance_number=instance_number,\n",
    "            solver_number=solver_number,\n",
    "            random_state=random_state,\n",
    "        )\n",
    "        return result[\"rmse\"]\n",
    "\n",
    "    scenario = Scenario(configspace, deterministic=True, n_trials=n_trials, seed=random_state)\n",
    "    smac = HyperparameterOptimizationFacade(scenario, train, overwrite=True)\n",
    "    return smac.optimize()"
   ]
  },
  {
   "cell_type": "code",
   "execution_count": 38,
   "metadata": {},
   "outputs": [],
   "source": [
    "for train_idx, test_idx in get_n_splits(\n",
    "    df,\n",
    "    n=2,\n",
    "    instance_number=10,\n",
    "    solver_number=50,\n",
    "    random_state=0,\n",
    "):\n",
    "    df_train = df.loc[train_idx]\n",
    "    X_train = df_train.drop(columns=[\"solver_id\", \"instance_id\", \"generator\", \"cost\", \"log_cost\"])\n",
    "    y_train = df_train[\"log_cost\"].clip(upper=np.log(1 + 1))\n",
    "\n",
    "    df_test = df.loc[test_idx]\n",
    "    X_test = df_test.drop(columns=[\"solver_id\", \"instance_id\", \"generator\", \"cost\", \"log_cost\"])\n",
    "    y_test = df_test[\"log_cost\"]\n",
    "\n",
    "    scaler = StandardScaler()\n",
    "    X_train = scaler.fit_transform(X_train)\n",
    "    X_test = scaler.transform(X_test)"
   ]
  },
  {
   "cell_type": "code",
   "execution_count": null,
   "metadata": {},
   "outputs": [
    {
     "data": {
      "text/plain": [
       "array([1, 1, 1, 1, 1, 1, 1, 1, 1, 1, 1, 1, 1, 1, 1, 1, 1, 1, 1, 1, 1, 1,\n",
       "       1, 1, 1, 1, 1, 1, 1, 1, 1, 1, 0, 1, 0, 1, 1, 1, 0, 1, 1, 1, 1, 0,\n",
       "       1, 1, 1, 1, 1, 1, 1, 1, 0, 1, 1, 0, 1, 1, 1, 1, 1, 1, 1, 1, 1, 0,\n",
       "       1, 1, 1, 1, 1, 1, 1, 1, 1, 0, 0, 0, 1, 0, 0, 0, 0, 0, 0, 0, 0, 0,\n",
       "       0, 1, 0, 1, 0, 0, 1, 1, 0, 1, 1, 1, 1, 1, 1, 1, 1, 0, 0, 0, 0, 0,\n",
       "       1, 1, 0, 0, 1, 0, 1, 0, 0, 1, 1, 0, 1, 1, 1, 1, 1, 1, 1, 0, 0, 0,\n",
       "       0, 0, 0, 0, 0, 0, 0, 1, 0, 1, 0, 0, 1, 1, 0, 1, 1, 1, 1, 1, 1, 1,\n",
       "       1, 1, 1, 1, 1, 1, 1, 1, 1, 1, 1, 1, 1, 1, 1, 1, 1, 1, 1, 1, 1, 1,\n",
       "       1, 1, 0, 0, 0, 0, 0, 0, 0, 0, 0, 0, 0, 1, 0, 1, 1, 0, 1, 0, 1, 1,\n",
       "       1, 1, 1, 1, 0, 0, 0, 1, 0, 1, 1, 0, 1, 1, 1, 0, 1, 0, 1, 1, 0, 1,\n",
       "       1, 1, 1, 1, 1, 1, 1, 1, 1, 0, 0, 1, 1, 0, 0, 1, 0, 1, 1, 1, 0, 1,\n",
       "       1, 0, 1, 0, 1, 1, 1, 1])"
      ]
     },
     "execution_count": 41,
     "metadata": {},
     "output_type": "execute_result"
    }
   ],
   "source": []
  },
  {
   "cell_type": "code",
   "execution_count": 42,
   "metadata": {},
   "outputs": [
    {
     "data": {
      "text/plain": [
       "{'colsample_bytree': 0.7744067519637,\n",
       " 'eval_metric': 'cox-nloglik',\n",
       " 'gamma': 3.2294705653333,\n",
       " 'learning_rate': 0.1477317633429,\n",
       " 'max_depth': 6,\n",
       " 'min_child_weight': 1,\n",
       " 'n_estimators': 100,\n",
       " 'objective': 'survival:cox',\n",
       " 'reg_alpha': 0.0701321977995,\n",
       " 'reg_lambda': 6.0072494759062,\n",
       " 'seed': 0,\n",
       " 'subsample': 0.7280751661083}"
      ]
     },
     "execution_count": 42,
     "metadata": {},
     "output_type": "execute_result"
    }
   ],
   "source": [
    "xgb_configspace = ConfigurationSpace(\n",
    "    seed=0,\n",
    "    space=[\n",
    "        Constant(name=\"objective\", value=\"survival:cox\"),\n",
    "        Constant(name=\"eval_metric\", value=\"cox-nloglik\"),\n",
    "        Constant(name=\"n_estimators\", value=100),\n",
    "        Integer(name=\"max_depth\", bounds=(2, 10), default=6),\n",
    "        Float(name=\"learning_rate\", bounds=(0.01, 0.3), default=0.1, log=True),\n",
    "        Float(name=\"subsample\", bounds=(0.5, 1.0), default=1.0),\n",
    "        Float(name=\"colsample_bytree\", bounds=(0.5, 1.0), default=1.0),\n",
    "        Integer(name=\"min_child_weight\", bounds=(1, 10), default=1),\n",
    "        Float(name=\"gamma\", bounds=(0, 5), default=0),\n",
    "        Float(name=\"reg_lambda\", bounds=(1e-3, 10.0), default=1e-3, log=True),\n",
    "        Float(name=\"reg_alpha\", bounds=(1e-3, 10.0), default=1e-3, log=True),\n",
    "        Constant(name=\"seed\", value=0),\n",
    "    ],\n",
    ")\n",
    "params = dict(xgb_configspace.sample_configuration())\n",
    "params"
   ]
  },
  {
   "cell_type": "markdown",
   "metadata": {},
   "source": [
    "## Hyper-parameter optimization"
   ]
  },
  {
   "cell_type": "code",
   "execution_count": 34,
   "metadata": {},
   "outputs": [],
   "source": [
    "N_TRIALS = 50\n",
    "N = 2\n",
    "INSTANCE_NUMBER = 10\n",
    "SOLVER_NUMBER = 300\n",
    "RANDOM_STATE = 0"
   ]
  },
  {
   "cell_type": "markdown",
   "metadata": {},
   "source": [
    "### XGBoost"
   ]
  },
  {
   "cell_type": "code",
   "execution_count": null,
   "metadata": {},
   "outputs": [
    {
     "name": "stdout",
     "output_type": "stream",
     "text": [
      "[INFO][abstract_initial_design.py:95] Reducing the number of initial configurations from 130 to 12 (max_ratio == 0.25).\n",
      "[INFO][abstract_initial_design.py:147] Using 12 initial design configurations and 0 additional configurations.\n",
      "[INFO][abstract_intensifier.py:306] Using only one seed for deterministic scenario.\n",
      "[INFO][abstract_intensifier.py:516] Added config 4d6229 as new incumbent because there are no incumbents yet.\n",
      "[INFO][smbo.py:320] Finished 50 trials.\n",
      "[INFO][smbo.py:328] Configuration budget is exhausted:\n",
      "[INFO][smbo.py:329] --- Remaining wallclock time: inf\n",
      "[INFO][smbo.py:330] --- Remaining cpu time: inf\n",
      "[INFO][smbo.py:331] --- Remaining trials: 0\n"
     ]
    },
    {
     "data": {
      "text/plain": [
       "Configuration(values={\n",
       "  'colsample_bytree': 0.6334392605349,\n",
       "  'eval_metric': 'cox-nloglik',\n",
       "  'gamma': 3.1028234772384,\n",
       "  'learning_rate': 0.0144145861178,\n",
       "  'max_depth': 4,\n",
       "  'min_child_weight': 9,\n",
       "  'n_estimators': 100,\n",
       "  'num_boost_round': 17,\n",
       "  'objective': 'survival:cox',\n",
       "  'reg_alpha': 6.9167496732409,\n",
       "  'reg_lambda': 9.7078357604554,\n",
       "  'seed': 0,\n",
       "  'subsample': 0.8860676749609,\n",
       "})"
      ]
     },
     "execution_count": 35,
     "metadata": {},
     "output_type": "execute_result"
    }
   ],
   "source": [
    "xgb_configspace = ConfigurationSpace(\n",
    "    seed=0,\n",
    "    space=[\n",
    "        Constant(name=\"objective\", value=\"survival:cox\"),\n",
    "        Constant(name=\"eval_metric\", value=\"cox-nloglik\"),\n",
    "        Constant(name=\"n_estimators\", value=100),\n",
    "        Integer(name=\"num_boost_round\", bounds=(1, 300), default=100, log=True),\n",
    "        Integer(name=\"max_depth\", bounds=(2, 10), default=6),\n",
    "        Float(name=\"learning_rate\", bounds=(0.01, 0.3), default=0.1, log=True),\n",
    "        Float(name=\"subsample\", bounds=(0.5, 1.0), default=1.0),\n",
    "        Float(name=\"colsample_bytree\", bounds=(0.5, 1.0), default=1.0),\n",
    "        Integer(name=\"min_child_weight\", bounds=(1, 10), default=1),\n",
    "        Float(name=\"gamma\", bounds=(0, 5), default=0),\n",
    "        Float(name=\"reg_lambda\", bounds=(1e-3, 10.0), default=1e-3, log=True),\n",
    "        Float(name=\"reg_alpha\", bounds=(1e-3, 10.0), default=1e-3, log=True),\n",
    "        Constant(name=\"seed\", value=RANDOM_STATE),\n",
    "    ],\n",
    ")\n",
    "\n",
    "xgb_incumbent = optimize_hyperparameters(\n",
    "    configspace=xgb_configspace,\n",
    "    df=df,\n",
    "    n_trials=N_TRIALS,\n",
    "    n=N,\n",
    "    instance_number=INSTANCE_NUMBER,\n",
    "    solver_number=SOLVER_NUMBER,\n",
    "    random_state=RANDOM_STATE,\n",
    ")\n",
    "xgb_incumbent"
   ]
  },
  {
   "cell_type": "markdown",
   "metadata": {},
   "source": [
    "## Visual Comparison - total"
   ]
  },
  {
   "cell_type": "code",
   "execution_count": 36,
   "metadata": {},
   "outputs": [],
   "source": [
    "result = evaluate_model_with_cross_validation(\n",
    "    df,\n",
    "    params=dict(xgb_incumbent),\n",
    "    n=5,\n",
    "    instance_number=10,\n",
    "    solver_number=300,\n",
    "    random_state=0,\n",
    ")"
   ]
  },
  {
   "cell_type": "code",
   "execution_count": 37,
   "metadata": {},
   "outputs": [
    {
     "data": {
      "image/png": "[encoded data removed]",
      "text/plain": [
       "<Figure size 400x400 with 1 Axes>"
      ]
     },
     "metadata": {},
     "output_type": "display_data"
    }
   ],
   "source": [
    "fig, ax = plt.subplots(nrows=1, ncols=1, figsize=(4, 4))\n",
    "\n",
    "sc = ax.scatter(\n",
    "    np.exp(result[\"y_test\"]) - 1,\n",
    "    np.exp(result[\"y_pred\"]) - 1,\n",
    "    alpha=0.5,\n",
    "    edgecolors=\"k\",\n",
    "    lw=0.2,\n",
    "    s=3,\n",
    ")\n",
    "ax.set_xscale(\"log\")\n",
    "ax.set_yscale(\"log\")\n",
    "\n",
    "ax.set_xlim(0.01, 320)\n",
    "ax.set_ylim(0.01, 320)\n",
    "ax.plot([0.01, 300], [0.01, 300], \"k--\", alpha=0.75, zorder=0)\n",
    "ax.set_title(f'XGBoost + AFT (RMSE={result[\"rmse\"]:.2f})')\n",
    "ax.axhline(y=1, color='red', linestyle='--')\n",
    "\n",
    "ax.set_ylabel(\"Predicted Runtime\")\n",
    "ax.set_xlabel(\"Actual Runtime\")\n",
    "plt.savefig(\"xgboost_aft.png\", dpi=300, bbox_inches=\"tight\")\n",
    "plt.show()"
   ]
  },
  {
   "cell_type": "code",
   "execution_count": null,
   "metadata": {},
   "outputs": [],
   "source": []
  }
 ],
 "metadata": {
  "kernelspec": {
   "display_name": "SMAC",
   "language": "python",
   "name": "python3"
  },
  "language_info": {
   "codemirror_mode": {
    "name": "ipython",
    "version": 3
   },
   "file_extension": ".py",
   "mimetype": "text/x-python",
   "name": "python",
   "nbconvert_exporter": "python",
   "pygments_lexer": "ipython3",
   "version": "3.10.15"
  }
 },
 "nbformat": 4,
 "nbformat_minor": 2
}
