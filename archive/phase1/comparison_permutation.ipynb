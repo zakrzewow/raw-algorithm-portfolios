{
 "cells": [
  {
   "cell_type": "code",
   "execution_count": null,
   "metadata": {},
   "outputs": [],
   "source": [
    "import matplotlib.pyplot as plt\n",
    "import numpy as np\n",
    "import pandas as pd\n",
    "from tqdm.auto import tqdm\n",
    "\n",
    "from src.configspace import (\n",
    "    COX_PH_CONFIGSPACE,\n",
    "    GB_COX_CONFIGSPACE,\n",
    "    GPR_CONFIGSPACE,\n",
    "    POLY_RIDGE_CONFIGSPACE,\n",
    "    RANDOM_FOREST_CONFIGSPACE,\n",
    "    RANDOM_SURVIVAL_FOREST_CONFIGSPACE,\n",
    "    RIDGE_CONFIGSPACE,\n",
    "    SCHMEE_HAHN_QRF_CONFIGSPACE,\n",
    "    SVR_CONFIGSPACE,\n",
    "    TOBIT_NN_CONFIGSPACE,\n",
    "    XGB_AFT_CONFIGSPACE,\n",
    "    XGB_CONFIGSPACE,\n",
    ")\n",
    "from src.constant import (\n",
    "    HO,\n",
    "    PROCESSED_DATA_DIR,\n",
    "    RANDOM_STATE_LIST,\n",
    "    RESULTS_PERMUTATION_DIR,\n",
    "    SOLVER_NUMBER_LIST,\n",
    ")\n",
    "from src.evaluation import evaluate_model_with_cross_validation\n",
    "from src.hyperparameter_optimization import optimize_hyperparameters\n",
    "from src.model import (\n",
    "    SVR,\n",
    "    CoxPHSurvivalAnalysis,\n",
    "    GPRWithRBF,\n",
    "    GradientBoostingSurvivalAnalysis,\n",
    "    PolynomialRidge,\n",
    "    RandomForestRegressor,\n",
    "    RandomSurvivalForest,\n",
    "    Ridge,\n",
    "    SchmeeHahnQRF,\n",
    "    TobitModel,\n",
    "    XGBRegressor,\n",
    "    XGBRegressorAFT,\n",
    ")\n",
    "from src.results import plot_line, plot_scatter, wilcoxon_df\n",
    "from src.split import get_n_splits\n",
    "from src.wrapper import (\n",
    "    ScikitLearnWrapper,\n",
    "    SkipCutOffScikitLearnWrapper,\n",
    "    StandardScaledLogTransformedWrapper,\n",
    "    SurvivalFunctionWrapper,\n",
    "    XGBwrapper,\n",
    ")"
   ]
  },
  {
   "cell_type": "code",
   "execution_count": null,
   "metadata": {},
   "outputs": [],
   "source": [
    "evaluations_df = pd.read_parquet(PROCESSED_DATA_DIR / \"evaluations.parquet\")\n",
    "solvers_df = pd.read_parquet(PROCESSED_DATA_DIR / \"solvers.parquet\")\n",
    "instances_df = pd.read_parquet(PROCESSED_DATA_DIR / \"instances.parquet\")\n",
    "\n",
    "df = pd.merge(evaluations_df, solvers_df, left_on=\"solver_id\", right_on=\"id\").drop(columns=[\"id\"])\n",
    "df = pd.merge(df, instances_df, left_on=\"instance_id\", right_on=\"id\").drop(columns=[\"id\"])\n",
    "df"
   ]
  },
  {
   "cell_type": "code",
   "execution_count": null,
   "metadata": {},
   "outputs": [],
   "source": [
    "PERMUATION_LOGNORMAL_MEAN_SIGMA = (0, 1)"
   ]
  },
  {
   "cell_type": "code",
   "execution_count": null,
   "metadata": {},
   "outputs": [],
   "source": [
    "SPLITS = get_n_splits(\n",
    "    df=df,\n",
    "    n=HO.N,\n",
    "    instance_number=HO.INSTANCE_NUMBER,\n",
    "    solver_number=HO.SOLVER_NUMBER,\n",
    "    random_state=HO.RANDOM_STATE,\n",
    ")"
   ]
  },
  {
   "cell_type": "markdown",
   "metadata": {},
   "source": [
    "### Ridge"
   ]
  },
  {
   "cell_type": "code",
   "execution_count": null,
   "metadata": {},
   "outputs": [],
   "source": [
    "ridge_incumbent = optimize_hyperparameters(\n",
    "    df=df,\n",
    "    model_cls=Ridge,\n",
    "    wrapper_cls=ScikitLearnWrapper,\n",
    "    configspace=RIDGE_CONFIGSPACE,\n",
    "    splits=SPLITS,\n",
    "    permuation_lognormal_mean_sigma=PERMUATION_LOGNORMAL_MEAN_SIGMA,\n",
    "    random_state=HO.RANDOM_STATE,\n",
    "    n_trials=HO.N_TRIALS,\n",
    "    filepath=RESULTS_PERMUTATION_DIR / \"HO\" / \"ridge_incumbent.pkl\",\n",
    ")\n",
    "\n",
    "ridge_incumbent_skip_cutoff = optimize_hyperparameters(\n",
    "    df=df,\n",
    "    model_cls=Ridge,\n",
    "    wrapper_cls=SkipCutOffScikitLearnWrapper,\n",
    "    configspace=RIDGE_CONFIGSPACE,\n",
    "    splits=SPLITS,\n",
    "    permuation_lognormal_mean_sigma=PERMUATION_LOGNORMAL_MEAN_SIGMA,\n",
    "    random_state=HO.RANDOM_STATE,\n",
    "    n_trials=HO.N_TRIALS,\n",
    "    filepath=RESULTS_PERMUTATION_DIR / \"HO\" / \"ridge_incumbent_skip_cutoff.pkl\",\n",
    ")"
   ]
  },
  {
   "cell_type": "markdown",
   "metadata": {},
   "source": [
    "### PolynomialRidge"
   ]
  },
  {
   "cell_type": "code",
   "execution_count": null,
   "metadata": {},
   "outputs": [],
   "source": [
    "poly_ridge_incumbent = optimize_hyperparameters(\n",
    "    df=df,\n",
    "    model_cls=PolynomialRidge,\n",
    "    wrapper_cls=ScikitLearnWrapper,\n",
    "    configspace=POLY_RIDGE_CONFIGSPACE,\n",
    "    splits=SPLITS,\n",
    "    permuation_lognormal_mean_sigma=PERMUATION_LOGNORMAL_MEAN_SIGMA,\n",
    "    random_state=HO.RANDOM_STATE,\n",
    "    n_trials=HO.N_TRIALS,\n",
    "    filepath=RESULTS_PERMUTATION_DIR / \"HO\" / \"poly_ridge_incumbent.pkl\",\n",
    ")\n",
    "\n",
    "poly_ridge_incumbent_skip_cutoff = optimize_hyperparameters(\n",
    "    df=df,\n",
    "    model_cls=PolynomialRidge,\n",
    "    wrapper_cls=SkipCutOffScikitLearnWrapper,\n",
    "    configspace=POLY_RIDGE_CONFIGSPACE,\n",
    "    splits=SPLITS,\n",
    "    permuation_lognormal_mean_sigma=PERMUATION_LOGNORMAL_MEAN_SIGMA,\n",
    "    random_state=HO.RANDOM_STATE,\n",
    "    n_trials=HO.N_TRIALS,\n",
    "    filepath=RESULTS_PERMUTATION_DIR / \"HO\" / \"poly_ridge_incumbent_skip_cutoff.pkl\",\n",
    ")"
   ]
  },
  {
   "cell_type": "markdown",
   "metadata": {},
   "source": [
    "### RandomForestRegressor"
   ]
  },
  {
   "cell_type": "code",
   "execution_count": null,
   "metadata": {},
   "outputs": [],
   "source": [
    "rf_incumbent = optimize_hyperparameters(\n",
    "    df=df,\n",
    "    model_cls=RandomForestRegressor,\n",
    "    wrapper_cls=ScikitLearnWrapper,\n",
    "    configspace=RANDOM_FOREST_CONFIGSPACE,\n",
    "    splits=SPLITS,\n",
    "    permuation_lognormal_mean_sigma=PERMUATION_LOGNORMAL_MEAN_SIGMA,\n",
    "    random_state=HO.RANDOM_STATE,\n",
    "    n_trials=HO.N_TRIALS,\n",
    "    filepath=RESULTS_PERMUTATION_DIR / \"HO\" / \"rf_incumbent.pkl\",\n",
    ")\n",
    "\n",
    "rf_incumbent_skip_cutoff = optimize_hyperparameters(\n",
    "    df=df,\n",
    "    model_cls=RandomForestRegressor,\n",
    "    wrapper_cls=SkipCutOffScikitLearnWrapper,\n",
    "    configspace=RANDOM_FOREST_CONFIGSPACE,\n",
    "    splits=SPLITS,\n",
    "    permuation_lognormal_mean_sigma=PERMUATION_LOGNORMAL_MEAN_SIGMA,\n",
    "    random_state=HO.RANDOM_STATE,\n",
    "    n_trials=HO.N_TRIALS,\n",
    "    filepath=RESULTS_PERMUTATION_DIR / \"HO\" / \"rf_incumbent_skip_cutoff.pkl\",\n",
    ")"
   ]
  },
  {
   "cell_type": "markdown",
   "metadata": {},
   "source": [
    "### XGBRegressor"
   ]
  },
  {
   "cell_type": "code",
   "execution_count": null,
   "metadata": {},
   "outputs": [],
   "source": [
    "xgb_incumbent = optimize_hyperparameters(\n",
    "    df=df,\n",
    "    model_cls=XGBRegressor,\n",
    "    wrapper_cls=ScikitLearnWrapper,\n",
    "    configspace=XGB_CONFIGSPACE,\n",
    "    splits=SPLITS,\n",
    "    permuation_lognormal_mean_sigma=PERMUATION_LOGNORMAL_MEAN_SIGMA,\n",
    "    random_state=HO.RANDOM_STATE,\n",
    "    n_trials=HO.N_TRIALS,\n",
    "    filepath=RESULTS_PERMUTATION_DIR / \"HO\" / \"xgb_incumbent.pkl\",\n",
    ")\n",
    "\n",
    "xgb_incumbent_skip_cutoff = optimize_hyperparameters(\n",
    "    df=df,\n",
    "    model_cls=XGBRegressor,\n",
    "    wrapper_cls=SkipCutOffScikitLearnWrapper,\n",
    "    configspace=XGB_CONFIGSPACE,\n",
    "    splits=SPLITS,\n",
    "    permuation_lognormal_mean_sigma=PERMUATION_LOGNORMAL_MEAN_SIGMA,\n",
    "    random_state=HO.RANDOM_STATE,\n",
    "    n_trials=HO.N_TRIALS,\n",
    "    filepath=RESULTS_PERMUTATION_DIR / \"HO\" / \"xgb_incumbent_skip_cutoff.pkl\",\n",
    ")"
   ]
  },
  {
   "cell_type": "markdown",
   "metadata": {},
   "source": [
    "### SVR"
   ]
  },
  {
   "cell_type": "code",
   "execution_count": null,
   "metadata": {},
   "outputs": [],
   "source": [
    "svr_incumbent = optimize_hyperparameters(\n",
    "    df=df,\n",
    "    model_cls=SVR,\n",
    "    wrapper_cls=ScikitLearnWrapper,\n",
    "    configspace=SVR_CONFIGSPACE,\n",
    "    splits=SPLITS,\n",
    "    permuation_lognormal_mean_sigma=PERMUATION_LOGNORMAL_MEAN_SIGMA,\n",
    "    random_state=HO.RANDOM_STATE,\n",
    "    n_trials=HO.N_TRIALS,\n",
    "    filepath=RESULTS_PERMUTATION_DIR / \"HO\" / \"svr_incumbent.pkl\",\n",
    ")\n",
    "\n",
    "svr_incumbent_skip_cutoff = optimize_hyperparameters(\n",
    "    df=df,\n",
    "    model_cls=SVR,\n",
    "    wrapper_cls=SkipCutOffScikitLearnWrapper,\n",
    "    configspace=SVR_CONFIGSPACE,\n",
    "    splits=SPLITS,\n",
    "    permuation_lognormal_mean_sigma=PERMUATION_LOGNORMAL_MEAN_SIGMA,\n",
    "    random_state=HO.RANDOM_STATE,\n",
    "    n_trials=HO.N_TRIALS,\n",
    "    filepath=RESULTS_PERMUTATION_DIR / \"HO\" / \"svr_incumbent_skip_cutoff.pkl\",\n",
    ")"
   ]
  },
  {
   "cell_type": "markdown",
   "metadata": {},
   "source": [
    "### GPRWithRBF"
   ]
  },
  {
   "cell_type": "code",
   "execution_count": null,
   "metadata": {},
   "outputs": [],
   "source": [
    "gpr_incumbent = optimize_hyperparameters(\n",
    "    df=df,\n",
    "    model_cls=GPRWithRBF,\n",
    "    wrapper_cls=ScikitLearnWrapper,\n",
    "    configspace=GPR_CONFIGSPACE,\n",
    "    splits=SPLITS,\n",
    "    permuation_lognormal_mean_sigma=PERMUATION_LOGNORMAL_MEAN_SIGMA,\n",
    "    random_state=HO.RANDOM_STATE,\n",
    "    n_trials=HO.N_TRIALS,\n",
    "    filepath=RESULTS_PERMUTATION_DIR / \"HO\" / \"gpr_incumbent.pkl\",\n",
    ")\n",
    "\n",
    "gpr_incumbent_skip_cutoff = optimize_hyperparameters(\n",
    "    df=df,\n",
    "    model_cls=GPRWithRBF,\n",
    "    wrapper_cls=SkipCutOffScikitLearnWrapper,\n",
    "    configspace=GPR_CONFIGSPACE,\n",
    "    splits=SPLITS,\n",
    "    permuation_lognormal_mean_sigma=PERMUATION_LOGNORMAL_MEAN_SIGMA,\n",
    "    random_state=HO.RANDOM_STATE,\n",
    "    n_trials=HO.N_TRIALS,\n",
    "    filepath=RESULTS_PERMUTATION_DIR / \"HO\" / \"gpr_incumbent_skip_cutoff.pkl\",\n",
    ")"
   ]
  },
  {
   "cell_type": "markdown",
   "metadata": {},
   "source": [
    "### CoxPHSurvivalAnalysis"
   ]
  },
  {
   "cell_type": "code",
   "execution_count": null,
   "metadata": {},
   "outputs": [],
   "source": [
    "coxph_incumbent = optimize_hyperparameters(\n",
    "    df=df,\n",
    "    model_cls=CoxPHSurvivalAnalysis,\n",
    "    wrapper_cls=SurvivalFunctionWrapper,\n",
    "    configspace=COX_PH_CONFIGSPACE,\n",
    "    splits=SPLITS,\n",
    "    permuation_lognormal_mean_sigma=PERMUATION_LOGNORMAL_MEAN_SIGMA,\n",
    "    random_state=HO.RANDOM_STATE,\n",
    "    n_trials=HO.N_TRIALS,\n",
    "    filepath=RESULTS_PERMUTATION_DIR / \"HO\" / \"coxph_incumbent.pkl\",\n",
    ")\n",
    "coxph_incumbent"
   ]
  },
  {
   "cell_type": "markdown",
   "metadata": {},
   "source": [
    "### RandomSurvivalForest"
   ]
  },
  {
   "cell_type": "code",
   "execution_count": null,
   "metadata": {},
   "outputs": [],
   "source": [
    "rsf_incumbent = optimize_hyperparameters(\n",
    "    df=df,\n",
    "    model_cls=RandomSurvivalForest,\n",
    "    wrapper_cls=SurvivalFunctionWrapper,\n",
    "    configspace=RANDOM_SURVIVAL_FOREST_CONFIGSPACE,\n",
    "    splits=SPLITS,\n",
    "    permuation_lognormal_mean_sigma=PERMUATION_LOGNORMAL_MEAN_SIGMA,\n",
    "    random_state=HO.RANDOM_STATE,\n",
    "    n_trials=HO.N_TRIALS,\n",
    "    filepath=RESULTS_PERMUTATION_DIR / \"HO\" / \"rsf_incumbent.pkl\",\n",
    ")\n",
    "rsf_incumbent"
   ]
  },
  {
   "cell_type": "markdown",
   "metadata": {},
   "source": [
    "### GradientBoostingSurvivalAnalysis"
   ]
  },
  {
   "cell_type": "code",
   "execution_count": null,
   "metadata": {},
   "outputs": [],
   "source": [
    "gb_cox_incumbent = optimize_hyperparameters(\n",
    "    df=df,\n",
    "    model_cls=GradientBoostingSurvivalAnalysis,\n",
    "    wrapper_cls=SurvivalFunctionWrapper,\n",
    "    configspace=GB_COX_CONFIGSPACE,\n",
    "    splits=SPLITS,\n",
    "    permuation_lognormal_mean_sigma=PERMUATION_LOGNORMAL_MEAN_SIGMA,\n",
    "    random_state=HO.RANDOM_STATE,\n",
    "    n_trials=HO.N_TRIALS,\n",
    "    filepath=RESULTS_PERMUTATION_DIR / \"HO\" / \"gb_cox_incumbent.pkl\",\n",
    ")\n",
    "gb_cox_incumbent"
   ]
  },
  {
   "cell_type": "markdown",
   "metadata": {},
   "source": [
    "### XGBRegressorAFT"
   ]
  },
  {
   "cell_type": "code",
   "execution_count": null,
   "metadata": {},
   "outputs": [],
   "source": [
    "xgb_aft_incumbent = optimize_hyperparameters(\n",
    "    df=df,\n",
    "    model_cls=XGBRegressorAFT,\n",
    "    wrapper_cls=XGBwrapper,\n",
    "    configspace=XGB_AFT_CONFIGSPACE,\n",
    "    splits=SPLITS,\n",
    "    permuation_lognormal_mean_sigma=PERMUATION_LOGNORMAL_MEAN_SIGMA,\n",
    "    random_state=HO.RANDOM_STATE,\n",
    "    n_trials=HO.N_TRIALS,\n",
    "    filepath=RESULTS_PERMUTATION_DIR / \"HO\" / \"xgb_aft_incumbent.pkl\",\n",
    ")\n",
    "xgb_aft_incumbent"
   ]
  },
  {
   "cell_type": "markdown",
   "metadata": {},
   "source": [
    "### SchmeeHahnQRF"
   ]
  },
  {
   "cell_type": "code",
   "execution_count": null,
   "metadata": {},
   "outputs": [],
   "source": [
    "sh_qrf_incumbent = optimize_hyperparameters(\n",
    "    df=df,\n",
    "    model_cls=SchmeeHahnQRF,\n",
    "    wrapper_cls=StandardScaledLogTransformedWrapper,\n",
    "    configspace=SCHMEE_HAHN_QRF_CONFIGSPACE,\n",
    "    splits=SPLITS,\n",
    "    permuation_lognormal_mean_sigma=PERMUATION_LOGNORMAL_MEAN_SIGMA,\n",
    "    random_state=HO.RANDOM_STATE,\n",
    "    n_trials=HO.N_TRIALS,\n",
    "    filepath=RESULTS_PERMUTATION_DIR / \"HO\" / \"sh_qrf_incumbent.pkl\",\n",
    ")\n",
    "sh_qrf_incumbent"
   ]
  },
  {
   "cell_type": "markdown",
   "metadata": {},
   "source": [
    "### TobitModel"
   ]
  },
  {
   "cell_type": "code",
   "execution_count": null,
   "metadata": {},
   "outputs": [],
   "source": [
    "tobit_incumbent = optimize_hyperparameters(\n",
    "    df=df,\n",
    "    model_cls=TobitModel,\n",
    "    wrapper_cls=StandardScaledLogTransformedWrapper,\n",
    "    configspace=TOBIT_NN_CONFIGSPACE,\n",
    "    splits=SPLITS,\n",
    "    permuation_lognormal_mean_sigma=PERMUATION_LOGNORMAL_MEAN_SIGMA,\n",
    "    random_state=HO.RANDOM_STATE,\n",
    "    n_trials=HO.N_TRIALS,\n",
    "    filepath=RESULTS_PERMUTATION_DIR / \"HO\" / \"tobit_incumbent.pkl\",\n",
    ")\n",
    "tobit_incumbent"
   ]
  },
  {
   "cell_type": "markdown",
   "metadata": {},
   "source": [
    "## Comparison"
   ]
  },
  {
   "cell_type": "code",
   "execution_count": null,
   "metadata": {},
   "outputs": [],
   "source": [
    "model_info_list = [\n",
    "    # include cut-off\n",
    "    {\n",
    "        \"wrapper\": ScikitLearnWrapper(**ridge_incumbent),\n",
    "        \"name\": \"Ridge Regression\"\n",
    "    },\n",
    "    {\n",
    "        \"wrapper\": ScikitLearnWrapper(**poly_ridge_incumbent),\n",
    "        \"name\": \"Polynomial Regression\"\n",
    "    },\n",
    "    {\n",
    "        \"wrapper\": ScikitLearnWrapper(**svr_incumbent),\n",
    "        \"name\": \"Support Vector Regression\"\n",
    "    },\n",
    "    {\n",
    "        \"wrapper\": ScikitLearnWrapper(**gpr_incumbent),\n",
    "        \"name\": \"Gaussian Process Regression\"\n",
    "    },\n",
    "    {\n",
    "        \"wrapper\": ScikitLearnWrapper(**rf_incumbent),\n",
    "        \"name\": \"Random Forest\"\n",
    "    },\n",
    "    {\n",
    "        \"wrapper\": ScikitLearnWrapper(**xgb_incumbent),\n",
    "        \"name\": \"XGBoost\"\n",
    "    },\n",
    "    # skip cut-off\n",
    "    {\n",
    "        \"wrapper\": SkipCutOffScikitLearnWrapper(**ridge_incumbent_skip_cutoff),\n",
    "        \"name\": \"Ridge Regression (skip cut-off)\"\n",
    "    },\n",
    "    {\n",
    "        \"wrapper\": SkipCutOffScikitLearnWrapper(**poly_ridge_incumbent_skip_cutoff),\n",
    "        \"name\": \"Polynomial Regression (skip cut-off)\"\n",
    "    },\n",
    "    {\n",
    "        \"wrapper\": SkipCutOffScikitLearnWrapper(**svr_incumbent_skip_cutoff),\n",
    "        \"name\": \"Support Vector Regression (skip cut-off)\"\n",
    "    },\n",
    "    {\n",
    "        \"wrapper\": SkipCutOffScikitLearnWrapper(**gpr_incumbent_skip_cutoff),\n",
    "        \"name\": \"Gaussian Process Regression (skip cut-off)\"\n",
    "    },\n",
    "    {\n",
    "        \"wrapper\": SkipCutOffScikitLearnWrapper(**rf_incumbent_skip_cutoff),\n",
    "        \"name\": \"Random Forest (skip cut-off)\"\n",
    "    },\n",
    "    {\n",
    "        \"wrapper\": SkipCutOffScikitLearnWrapper(**xgb_incumbent_skip_cutoff),\n",
    "        \"name\": \"XGBoost (skip cut-off)\"\n",
    "    },\n",
    "    # survival models\n",
    "    {\n",
    "        \"wrapper\": SurvivalFunctionWrapper(**coxph_incumbent),\n",
    "        \"name\": \"Cox PH\"\n",
    "    },\n",
    "    {\n",
    "        \"wrapper\": SurvivalFunctionWrapper(**rsf_incumbent),\n",
    "        \"name\": \"Random Survival Forest\"\n",
    "    },\n",
    "    {\n",
    "        \"wrapper\": SurvivalFunctionWrapper(**gb_cox_incumbent),\n",
    "        \"name\": \"Gradient Boosting Cox\"\n",
    "    },\n",
    "    {\n",
    "        \"wrapper\": XGBwrapper(**xgb_aft_incumbent),\n",
    "        \"name\": \"XGBoost AFT\"\n",
    "    },\n",
    "    {\n",
    "        \"wrapper\": StandardScaledLogTransformedWrapper(**sh_qrf_incumbent),\n",
    "        \"name\": \"S&H QRF\"\n",
    "    },\n",
    "    {\n",
    "        \"wrapper\": StandardScaledLogTransformedWrapper(**tobit_incumbent),\n",
    "        \"name\": \"NN Tobit\"\n",
    "    },\n",
    "]\n",
    " \n",
    "# total_iterations = len(RANDOM_STATE_LIST) * len(SOLVER_NUMBER_LIST) * len(model_info_list)\n",
    "# pbar = tqdm(total=total_iterations, desc=\"Evaluating models\")\n",
    "\n",
    "# records = []\n",
    "\n",
    "# for random_state in RANDOM_STATE_LIST:\n",
    "#     for solver_number in SOLVER_NUMBER_LIST:\n",
    "#         pbar.set_description(f\"RS={random_state}, Solvers={solver_number}\")\n",
    "#         splits = get_n_splits(\n",
    "#             df,\n",
    "#             n=5,\n",
    "#             instance_number=10,\n",
    "#             solver_number=solver_number,\n",
    "#             random_state=random_state,\n",
    "#         )\n",
    "#         for model_info in model_info_list:\n",
    "#             pbar.set_postfix(model=model_info[\"name\"])\n",
    "\n",
    "#             result = evaluate_model_with_cross_validation(\n",
    "#                 df,\n",
    "#                 wrapper=model_info[\"wrapper\"],\n",
    "#                 splits=splits,\n",
    "#                 random_state=random_state,\n",
    "#                 permuation_lognormal_mean_sigma=PERMUATION_LOGNORMAL_MEAN_SIGMA,\n",
    "#             )\n",
    "#             result[\"random_state\"] = random_state\n",
    "#             result[\"solver_number\"] = solver_number\n",
    "#             result[\"name\"] = model_info[\"name\"]\n",
    "#             records.append(result)\n",
    "#             pbar.update(1)\n",
    "\n",
    "# pbar.close()\n",
    "# result_df = pd.DataFrame(records)\n",
    "# result_df.to_pickle(RESULTS_PERMUTATION_DIR / \"results.gzip\", compression=\"gzip\")\n",
    "\n",
    "result_df = pd.read_pickle(RESULTS_PERMUTATION_DIR / \"results.gzip\", compression=\"gzip\")"
   ]
  },
  {
   "cell_type": "code",
   "execution_count": null,
   "metadata": {},
   "outputs": [],
   "source": [
    "plot_df = result_df.loc[(result_df[\"random_state\"] == 1) & (result_df[\"solver_number\"] == 300)].iloc[:6].reset_index(drop=True)\n",
    "\n",
    "fig, axs = plot_scatter(plot_df)\n",
    "# plt.savefig(\"fig.png\", dpi=300, bbox_inches=\"tight\")\n",
    "plt.show()"
   ]
  },
  {
   "cell_type": "code",
   "execution_count": null,
   "metadata": {},
   "outputs": [],
   "source": [
    "plot_df = result_df.loc[(result_df[\"random_state\"] == 1) & (result_df[\"solver_number\"] == 300)].iloc[6:12].reset_index(drop=True)\n",
    "\n",
    "fig, axs = plot_scatter(plot_df)\n",
    "# plt.savefig(\"fig.png\", dpi=300, bbox_inches=\"tight\")\n",
    "plt.show()"
   ]
  },
  {
   "cell_type": "code",
   "execution_count": null,
   "metadata": {},
   "outputs": [],
   "source": [
    "plot_df = result_df.loc[(result_df[\"random_state\"] == 1) & (result_df[\"solver_number\"] == 300)].iloc[12:].reset_index(drop=True)\n",
    "\n",
    "fig, axs = plot_scatter(plot_df)\n",
    "# plt.savefig(\"fig.png\", dpi=300, bbox_inches=\"tight\")\n",
    "plt.show()"
   ]
  },
  {
   "cell_type": "code",
   "execution_count": null,
   "metadata": {},
   "outputs": [],
   "source": [
    "fig, ax = plot_line(\n",
    "    result_df.loc[\n",
    "        result_df[\"name\"].isin(\n",
    "            [\n",
    "                \"Cox PH\",\n",
    "                \"Random Survival Forest\",\n",
    "                \"Gradient Boosting Cox\",\n",
    "                \"XGBoost AFT\",\n",
    "                \"S&H QRF\",\n",
    "                \"NN Tobit\",\n",
    "            ]\n",
    "        )\n",
    "    ]\n",
    ")\n",
    "\n",
    "plt.savefig(\"fig.png\", dpi=300, bbox_inches=\"tight\")\n",
    "plt.show()"
   ]
  },
  {
   "cell_type": "code",
   "execution_count": null,
   "metadata": {},
   "outputs": [],
   "source": [
    "styled_result = wilcoxon_df(result_df, model_info_list)\n",
    "styled_result"
   ]
  }
 ],
 "metadata": {
  "kernelspec": {
   "display_name": "SMAC",
   "language": "python",
   "name": "python3"
  },
  "language_info": {
   "codemirror_mode": {
    "name": "ipython",
    "version": 3
   },
   "file_extension": ".py",
   "mimetype": "text/x-python",
   "name": "python",
   "nbconvert_exporter": "python",
   "pygments_lexer": "ipython3",
   "version": "3.10.15"
  }
 },
 "nbformat": 4,
 "nbformat_minor": 2
}
