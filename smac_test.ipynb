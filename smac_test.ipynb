{
 "cells": [
  {
   "cell_type": "code",
   "execution_count": 15,
   "metadata": {},
   "outputs": [],
   "source": [
    "from ConfigSpace import Configuration, ConfigurationSpace\n",
    "\n",
    "import numpy as np\n",
    "from smac import HyperparameterOptimizationFacade, Scenario\n",
    "from sklearn import datasets\n",
    "from sklearn.svm import SVC\n",
    "from sklearn.model_selection import cross_val_score\n",
    "\n",
    "iris = datasets.load_iris()\n"
   ]
  },
  {
   "cell_type": "code",
   "execution_count": 16,
   "metadata": {},
   "outputs": [
    {
     "name": "stdout",
     "output_type": "stream",
     "text": [
      "[INFO][abstract_initial_design.py:147] Using 10 initial design configurations and 0 additional configurations.\n"
     ]
    }
   ],
   "source": [
    "def train(config: Configuration, seed: int = 0) -> float:\n",
    "    classifier = SVC(C=config[\"C\"], random_state=seed)\n",
    "    scores = cross_val_score(classifier, iris.data, iris.target, cv=5)\n",
    "    return 1 - np.mean(scores)\n",
    "\n",
    "\n",
    "configspace = ConfigurationSpace({\"C\": (0.100, 1000.0)})\n",
    "\n",
    "# Scenario object specifying the optimization environment\n",
    "scenario = Scenario(configspace, deterministic=True, n_trials=300)\n",
    "\n",
    "# Use SMAC to find the best configuration/hyperparameters\n",
    "smac = HyperparameterOptimizationFacade(scenario, train)"
   ]
  },
  {
   "cell_type": "code",
   "execution_count": 17,
   "metadata": {},
   "outputs": [
    {
     "name": "stdout",
     "output_type": "stream",
     "text": [
      "[INFO][abstract_intensifier.py:306] Using only one seed for deterministic scenario.\n",
      "[INFO][abstract_intensifier.py:516] Added config 7707e1 as new incumbent because there are no incumbents yet.\n",
      "[INFO][abstract_intensifier.py:595] Added config a3ff11 and rejected config 7707e1 as incumbent because it is not better than the incumbents on 1 instances:\n",
      "[INFO][abstract_intensifier.py:595] Added config 5755d7 and rejected config a3ff11 as incumbent because it is not better than the incumbents on 1 instances:\n",
      "[INFO][abstract_intensifier.py:595] Added config db9b45 and rejected config 5755d7 as incumbent because it is not better than the incumbents on 1 instances:\n",
      "[INFO][smbo.py:320] Finished 50 trials.\n",
      "[INFO][smbo.py:320] Finished 100 trials.\n",
      "[INFO][smbo.py:320] Finished 150 trials.\n",
      "[INFO][smbo.py:320] Finished 200 trials.\n",
      "[INFO][smbo.py:320] Finished 250 trials.\n",
      "[INFO][smbo.py:320] Finished 300 trials.\n",
      "[INFO][smbo.py:328] Configuration budget is exhausted:\n",
      "[INFO][smbo.py:329] --- Remaining wallclock time: inf\n",
      "[INFO][smbo.py:330] --- Remaining cpu time: inf\n",
      "[INFO][smbo.py:331] --- Remaining trials: 0\n"
     ]
    }
   ],
   "source": [
    "incumbent = smac.optimize()"
   ]
  },
  {
   "cell_type": "code",
   "execution_count": 19,
   "metadata": {},
   "outputs": [
    {
     "data": {
      "text/plain": [
       "Configuration(values={\n",
       "  'C': 7.8889654918543,\n",
       "})"
      ]
     },
     "execution_count": 19,
     "metadata": {},
     "output_type": "execute_result"
    }
   ],
   "source": [
    "incumbent"
   ]
  }
 ],
 "metadata": {
  "kernelspec": {
   "display_name": "SMAC",
   "language": "python",
   "name": "python3"
  },
  "language_info": {
   "codemirror_mode": {
    "name": "ipython",
    "version": 3
   },
   "file_extension": ".py",
   "mimetype": "text/x-python",
   "name": "python",
   "nbconvert_exporter": "python",
   "pygments_lexer": "ipython3",
   "version": "3.10.15"
  }
 },
 "nbformat": 4,
 "nbformat_minor": 2
}
