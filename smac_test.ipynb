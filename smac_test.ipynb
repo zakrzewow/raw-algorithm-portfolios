{
 "cells": [
  {
   "cell_type": "code",
   "execution_count": 1,
   "metadata": {},
   "outputs": [],
   "source": [
    "import datetime as dt\n",
    "import os\n",
    "import subprocess\n",
    "from abc import ABC, abstractmethod\n",
    "from typing import Tuple\n",
    "import multiprocessing\n",
    "import numpy as np\n",
    "from ConfigSpace import (\n",
    "    Categorical,\n",
    "    Configuration,\n",
    "    ConfigurationSpace,\n",
    "    Float,\n",
    "    GreaterThanCondition,\n",
    "    Integer,\n",
    ")\n",
    "from smac import AlgorithmConfigurationFacade, Scenario\n",
    "from smac.runhistory.dataclasses import TrialValue\n",
    "\n",
    "from copy import deepcopy\n",
    "from main import *"
   ]
  },
  {
   "cell_type": "code",
   "execution_count": 2,
   "metadata": {},
   "outputs": [],
   "source": [
    "portfolio = TSP_GlobalPortfolio(size=2, configspace=LKH_CONFIGURATION_SPACE)\n",
    "training_instances = [\n",
    "    TSP_Instance(\"1.tsp\", 20887545.00),\n",
    "    TSP_Instance(\"2.tsp\", 21134211.00),\n",
    "    TSP_Instance(\"3.tsp\", 21196547.00),\n",
    "    TSP_Instance(\"4.tsp\", 21428037.00),\n",
    "    TSP_Instance(\"5.tsp\", 11020488.00),\n",
    "]\n",
    "\n",
    "smac_configuration_space = ConfigurationSpace()\n",
    "for idx, solver in enumerate(portfolio.solvers):\n",
    "    for k, v in solver.config.config_space.items():\n",
    "        v = deepcopy(v)\n",
    "        v.name = f\"{idx}__{v.name}\"\n",
    "        smac_configuration_space.add(v)"
   ]
  },
  {
   "cell_type": "code",
   "execution_count": 3,
   "metadata": {},
   "outputs": [
    {
     "name": "stdout",
     "output_type": "stream",
     "text": [
      "[INFO][abstract_initial_design.py:95] Reducing the number of initial configurations from 460 to 25 (max_ratio == 0.25).\n",
      "[INFO][abstract_initial_design.py:147] Using 1 initial design configurations and 0 additional configurations.\n",
      "[2024-11-03 23:44:57.519065] Evaluating 5 instances\n",
      "Cost: 1.6740000000000002, Time: 16.82\n",
      "[INFO][abstract_intensifier.py:516] Added config 9c5d7a as new incumbent because there are no incumbents yet.\n",
      "[2024-11-03 23:45:04.950013] Evaluating 5 instances\n",
      "Cost: 1.6599999999999997, Time: 16.68\n",
      "[2024-11-03 23:45:14.253644] Evaluating 5 instances\n",
      "Cost: 100.0, Time: 100.0\n",
      "[2024-11-03 23:46:27.426227] Evaluating 5 instances\n",
      "Cost: 100.0, Time: 100.0\n"
     ]
    }
   ],
   "source": [
    "scenario = Scenario(smac_configuration_space, deterministic=False)\n",
    "\n",
    "smac = AlgorithmConfigurationFacade(\n",
    "    scenario,\n",
    "    lambda seed: None,\n",
    "    overwrite=True,\n",
    ")\n",
    "\n",
    "for _ in range(4):\n",
    "    info = smac.ask()\n",
    "\n",
    "    for k, v in info.config.items():\n",
    "        idx = int(k.split(\"__\")[0])\n",
    "        key = k.split(\"__\")[1]\n",
    "        portfolio.solvers[idx].config[key] = v\n",
    "    cost, time = portfolio.evaluate(training_instances)\n",
    "    value = TrialValue(cost=cost, time=time)\n",
    "    print(f\"Cost: {cost}, Time: {value.time}\")\n",
    "    smac.tell(info, value)"
   ]
  },
  {
   "cell_type": "code",
   "execution_count": 5,
   "metadata": {},
   "outputs": [
    {
     "name": "stdout",
     "output_type": "stream",
     "text": [
      "[2024-11-03 23:47:59.041366] Evaluating 5 instances\n"
     ]
    },
    {
     "data": {
      "text/plain": [
       "(1.652, 16.55)"
      ]
     },
     "execution_count": 5,
     "metadata": {},
     "output_type": "execute_result"
    }
   ],
   "source": [
    "for k, v in smac.intensifier.get_incumbent().items():\n",
    "    idx = int(k.split(\"__\")[0])\n",
    "    key = k.split(\"__\")[1]\n",
    "    portfolio.solvers[idx].config[key] = v\n",
    "cost, time = portfolio.evaluate(training_instances)\n",
    "cost, time"
   ]
  },
  {
   "cell_type": "code",
   "execution_count": 13,
   "metadata": {},
   "outputs": [
    {
     "name": "stdout",
     "output_type": "stream",
     "text": [
      "[<main.TSP_Solver object at 0x000001CFC8EAD750>][16768][2024-11-03 23:48:46.468793] Solving instance 4.tsp\n",
      "PARAMETER_FILE = config_16768.par\n",
      "PROBLEM_FILE = 4.tsp\n",
      "Successes/Runs = 1/1\n",
      "Cost.min = 21428037, Cost.avg = 21428037.00, Cost.max = 21428037\n",
      "Gap.min = 0.0000%, Gap.avg = 0.0000%, Gap.max = 0.0000%\n",
      "Trials.min = 539, Trials.avg = 539.0, Trials.max = 539\n",
      "Time.min = 2.28 sec., Time.avg = 2.28 sec., Time.max = 2.28 sec.\n",
      "Time.total = 2.85 sec.\n",
      "Press any key to continue . . . \n"
     ]
    },
    {
     "data": {
      "text/plain": [
       "(2.85, 2.85)"
      ]
     },
     "execution_count": 13,
     "metadata": {},
     "output_type": "execute_result"
    }
   ],
   "source": [
    "portfolio.solvers[0].solve(training_instances[3])"
   ]
  }
 ],
 "metadata": {
  "kernelspec": {
   "display_name": "SMAC",
   "language": "python",
   "name": "python3"
  },
  "language_info": {
   "codemirror_mode": {
    "name": "ipython",
    "version": 3
   },
   "file_extension": ".py",
   "mimetype": "text/x-python",
   "name": "python",
   "nbconvert_exporter": "python",
   "pygments_lexer": "ipython3",
   "version": "3.10.15"
  }
 },
 "nbformat": 4,
 "nbformat_minor": 2
}
