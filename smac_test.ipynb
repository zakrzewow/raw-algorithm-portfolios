{
 "cells": [
  {
   "cell_type": "code",
   "execution_count": 1,
   "metadata": {},
   "outputs": [],
   "source": [
    "import logging\n",
    "import os\n",
    "import numpy as np\n",
    "import pandas as pd\n",
    "\n",
    "from src.configuration_space.LKH import CONFIGURATION_SPACE\n",
    "from src.constant import DATA_DIR, MAX_WORKERS, TEMP_DIR\n",
    "from src.experiment.GlobalExperiment import GlobalExperiment\n",
    "from src.experiment.ParhydraExperiment import ParhydraExperiment\n",
    "from src.experiment.PcitExperiment import PcitExperiment, _Clustering\n",
    "from src.instance.TSP_Instance import TSP_Instance, TSP_InstanceSet\n",
    "from src.portfolio import Portfolio\n",
    "from src.solver.TSP_LKH_Solver import TSP_LKH_Solver\n",
    "pd.options.display.max_columns = 999"
   ]
  },
  {
   "cell_type": "code",
   "execution_count": 2,
   "metadata": {},
   "outputs": [],
   "source": [
    "train_instances, test_instances = TSP_InstanceSet.train_test_from_index_file(\n",
    "    filepath=DATA_DIR / \"TSP\" / \"CEPS_benchmark\" / \"index.json\",\n",
    "    train_size=10,\n",
    "    seed=0,\n",
    ")"
   ]
  },
  {
   "cell_type": "code",
   "execution_count": null,
   "metadata": {},
   "outputs": [],
   "source": [
    "# t_c = 30\n",
    "# t_v = 30\n",
    "# K = 2\n",
    "# n = 2\n",
    "# solver_class = TSP_LKH_Solver\n",
    "# instance_class= TSP_Instance\n",
    "\n",
    "# experiment = GlobalExperiment(\n",
    "#     t_c=t_c,\n",
    "#     t_v=t_v,\n",
    "#     K=K,\n",
    "#     n=n,\n",
    "#     solver_class=solver_class,\n",
    "#     instance_class=instance_class,\n",
    "# )\n",
    "\n",
    "# best_portfolio = experiment.construct_portfolio(train_instances)"
   ]
  },
  {
   "cell_type": "code",
   "execution_count": null,
   "metadata": {},
   "outputs": [],
   "source": [
    "# t_c = 30\n",
    "# t_v = 30\n",
    "# K = 2\n",
    "# n = 3\n",
    "# solver_class = TSP_LKH_Solver\n",
    "# instance_class= TSP_Instance\n",
    "\n",
    "# experiment = ParhydraExperiment(\n",
    "#     t_c=t_c,\n",
    "#     t_v=t_v,\n",
    "#     K=K,\n",
    "#     n=n,\n",
    "#     solver_class=solver_class,\n",
    "#     instance_class=instance_class,\n",
    "# )\n",
    "\n",
    "# best_portfolio = experiment.construct_portfolio(train_instances)"
   ]
  },
  {
   "cell_type": "code",
   "execution_count": null,
   "metadata": {},
   "outputs": [
    {
     "name": "stderr",
     "output_type": "stream",
     "text": [
      "[2024-11-17 16:19:59] INFO      [PCIT] Start!\n",
      "[2024-11-17 16:19:59] INFO      Attempt 1/2\n",
      "[2024-11-17 16:19:59] INFO      Phase 1/2\n",
      "[2024-11-17 16:19:59] INFO      Clustering: {'data/TSP/CEPS_benchmark/cluster_netgen/40.tsp': 0, 'data/TSP/CEPS_benchmark/grid/04.tsp': 1, 'data/TSP/CEPS_benchmark/grid/33.tsp': 0, 'data/TSP/CEPS_benchmark/rotation/45.tsp': 1, 'data/TSP/CEPS_benchmark/uniform_portgen/11.tsp': 0, 'data/TSP/CEPS_benchmark/cluster/15.tsp': 1, 'data/TSP/CEPS_benchmark/implosion/16.tsp': 0, 'data/TSP/CEPS_benchmark/uniform_portgen/39.tsp': 1, 'data/TSP/CEPS_benchmark/expansion/09.tsp': 1, 'data/TSP/CEPS_benchmark/expansion/03.tsp': 0}\n",
      "[2024-11-17 16:19:59] DEBUG     =================================  Portfolio  ==================================\n",
      "[2024-11-17 16:19:59] DEBUG     2220588739511820280 --> ASCENT_CANDIDATES=52;BACKBONE_TRIALS=1;BACKTRACKING=YES;CANDIDATE_SET_TYPE=ALPHA;EXTRA_CANDIDATES=7;EXTRA_CANDIDATE_SET_TYPE=QUADRANT;GAIN23=NO;GAIN_CRITERION=YES;INITIAL_STEP_SIZE=1;INITIAL_TOUR_ALGORITHM=QUICK-BORUVKA;INITIAL_TOUR_FRACTION=0.5820197920751;KICKS=3;KICK_TYPE=0;MAX_BREADTH=954863081;MAX_CANDIDATES=10;MOVE_TYPE=3;PATCHING_A=3;PATCHING_C=1;POPULATION_SIZE=8;RESTRICTED_SEARCH=YES;SUBGRADIENT=YES;SUBSEQUENT_MOVE_TYPE=6;SUBSEQUENT_PATCHING=NO\n",
      "[2024-11-17 16:19:59] DEBUG     2051815471081033189 --> ASCENT_CANDIDATES=45;BACKBONE_TRIALS=0;BACKTRACKING=YES;CANDIDATE_SET_TYPE=DELAUNAY;EXTRA_CANDIDATES=10;EXTRA_CANDIDATE_SET_TYPE=QUADRANT;GAIN23=YES;GAIN_CRITERION=YES;INITIAL_STEP_SIZE=3;INITIAL_TOUR_ALGORITHM=SIERPINSKI;INITIAL_TOUR_FRACTION=0.8423420796677;KICKS=3;KICK_TYPE=5;MAX_BREADTH=1010150627;MAX_CANDIDATES=9;MOVE_TYPE=6;PATCHING_A=3;PATCHING_C=1;POPULATION_SIZE=26;RESTRICTED_SEARCH=YES;SUBGRADIENT=NO;SUBSEQUENT_MOVE_TYPE=4;SUBSEQUENT_PATCHING=NO\n",
      "[2024-11-17 16:19:59] DEBUG     ================================================================================\n",
      "[2024-11-17 16:19:59] INFO      Solver 1/2\n",
      "[2024-11-17 16:19:59] DEBUG     SMAC configuration, time: [50.]\n",
      "[2024-11-17 16:19:59] DEBUG     SMAC iteration 1, configuration: {'0__ASCENT_CANDIDATES': 52, '0__BACKBONE_TRIALS': 1, '0__BACKTRACKING': 'YES', '0__CANDIDATE_SET_TYPE': 'ALPHA', '0__EXTRA_CANDIDATES': 7, '0__EXTRA_CANDIDATE_SET_TYPE': 'QUADRANT', '0__GAIN23': 'NO', '0__GAIN_CRITERION': 'YES', '0__INITIAL_STEP_SIZE': 1, '0__INITIAL_TOUR_ALGORITHM': 'QUICK-BORUVKA', '0__INITIAL_TOUR_FRACTION': 0.5820197920751, '0__KICKS': 3, '0__KICK_TYPE': 0, '0__MAX_BREADTH': 954863081, '0__MAX_CANDIDATES': 10, '0__MOVE_TYPE': 3, '0__PATCHING_A': 3, '0__PATCHING_C': 1, '0__POPULATION_SIZE': 8, '0__RESTRICTED_SEARCH': 'YES', '0__SUBGRADIENT': 'YES', '0__SUBSEQUENT_MOVE_TYPE': 6, '0__SUBSEQUENT_PATCHING': 'NO'}\n",
      "[2024-11-17 16:19:59] DEBUG     executor start\n"
     ]
    }
   ],
   "source": [
    "t_c = 100\n",
    "t_v = 100\n",
    "K = 2\n",
    "n = 2\n",
    "max_iter = 2\n",
    "solver_class = TSP_LKH_Solver\n",
    "instance_class = TSP_Instance\n",
    "\n",
    "experiment = PcitExperiment(\n",
    "    t_c=t_c,\n",
    "    t_v=t_v,\n",
    "    K=K,\n",
    "    n=n,\n",
    "    max_iter=max_iter,\n",
    "    solver_class=solver_class,\n",
    "    instance_class=instance_class,\n",
    ")\n",
    "\n",
    "best_portfolio = experiment.construct_portfolio(train_instances)"
   ]
  },
  {
   "cell_type": "code",
   "execution_count": null,
   "metadata": {},
   "outputs": [],
   "source": [
    "# remaining_time = np.ones(shape=(K, )) * np.inf\n",
    "# best_portfolio.evaluate(test_instances, remaining_time, \"test\")"
   ]
  },
  {
   "cell_type": "code",
   "execution_count": null,
   "metadata": {},
   "outputs": [],
   "source": [
    "from src.database import db_connect\n",
    "conn = db_connect()"
   ]
  },
  {
   "cell_type": "code",
   "execution_count": null,
   "metadata": {},
   "outputs": [],
   "source": [
    "import sqlite3\n",
    "# conn = sqlite3.connect(\"_archive/3/PARHYDRA.db\")\n",
    "conn = sqlite3.connect(\"database/2024_11_16_23_14_00.db\")"
   ]
  },
  {
   "cell_type": "code",
   "execution_count": null,
   "metadata": {},
   "outputs": [],
   "source": [
    "df_solvers = pd.read_sql_query(\"SELECT * FROM solvers\", conn)\n",
    "df_solvers"
   ]
  },
  {
   "cell_type": "code",
   "execution_count": null,
   "metadata": {},
   "outputs": [],
   "source": [
    "df_instances = pd.read_sql_query(\"SELECT * FROM instances\", conn)\n",
    "df_instances"
   ]
  },
  {
   "cell_type": "code",
   "execution_count": null,
   "metadata": {},
   "outputs": [],
   "source": [
    "df = pd.read_sql_query(\"SELECT * FROM results\", conn)\n",
    "# df.to_excel(\"tmp.xlsx\")\n",
    "df"
   ]
  },
  {
   "cell_type": "code",
   "execution_count": null,
   "metadata": {},
   "outputs": [],
   "source": [
    "df.loc[df[\"solver_id\"] == 1333412370196243425]"
   ]
  },
  {
   "cell_type": "code",
   "execution_count": null,
   "metadata": {},
   "outputs": [],
   "source": [
    "574052600841816340"
   ]
  },
  {
   "cell_type": "code",
   "execution_count": null,
   "metadata": {},
   "outputs": [],
   "source": [
    "df.loc[df[\"comment\"] == \"configuration\"]"
   ]
  },
  {
   "cell_type": "code",
   "execution_count": null,
   "metadata": {},
   "outputs": [],
   "source": [
    "_ = df.loc[df[\"comment\"] == \"test\"].pivot_table(index=\"instance_id\", columns=\"solver_id\", values=\"cost\")\n",
    "_[\"best\"] = np.argmin(_.values, axis=1)\n",
    "_[\"min\"] = _.iloc[:, :-1].min(axis=1)\n",
    "_"
   ]
  },
  {
   "cell_type": "code",
   "execution_count": null,
   "metadata": {},
   "outputs": [],
   "source": [
    "_[\"min\"].describe()"
   ]
  },
  {
   "cell_type": "code",
   "execution_count": null,
   "metadata": {},
   "outputs": [],
   "source": [
    "(_[\"min\"] > 90).value_counts()"
   ]
  },
  {
   "cell_type": "code",
   "execution_count": null,
   "metadata": {},
   "outputs": [],
   "source": [
    "_.loc[lambda x: x[\"min\"] < 90, \"best\"].value_counts()"
   ]
  },
  {
   "cell_type": "code",
   "execution_count": null,
   "metadata": {},
   "outputs": [],
   "source": [
    "_.sort_values(by=\"min\")"
   ]
  },
  {
   "cell_type": "code",
   "execution_count": null,
   "metadata": {},
   "outputs": [],
   "source": [
    "# config = df_solvers.loc[df_solvers[\"id\"] == \"OJQGNYe__-omEPLuUJkSzOuFdCnYPLzZd99VQqxW2gM=\"].drop(columns=[\"id\"]).iloc[0].to_dict()\n",
    "# config = Configuration(configuration_space=CONFIGURATION_SPACE, values=config)\n",
    "# solver = TSP_LKH_Solver(config=config)\n",
    "\n",
    "# instance = TSP_Instance(filepath=\"data/TSP/CEPS_benchmark/cluster_netgen/18.tsp\", optimum=10555222.0)\n",
    "\n",
    "# solver.solve(instance)"
   ]
  },
  {
   "cell_type": "code",
   "execution_count": null,
   "metadata": {},
   "outputs": [],
   "source": [
    "# import json\n",
    "# with open(DATA_DIR / \"TSP\" / \"index.json\") as f:\n",
    "#     index = json.load(f)\n",
    "\n",
    "# new_index = {}\n",
    "\n",
    "# for k, v in index.items():\n",
    "#     path = k.split(\"/\")\n",
    "#     file = path[-1]\n",
    "#     file_no_ext = file.split(\".\")[0]\n",
    "#     if \"_\" in file_no_ext:\n",
    "#         a, b = file_no_ext.split(\"_\")\n",
    "#         n = str((int(a) - 4) * 10 + int(b)).zfill(2)\n",
    "#         new_file = f\"{n}.tsp\"\n",
    "#     else:\n",
    "#         file_no_ext = str(int(file_no_ext)).zfill(2)\n",
    "#         new_file = f\"{file_no_ext}.tsp\"\n",
    "#     new_path = path[:-1] + [new_file]\n",
    "#     new_k = \"/\".join(new_path)\n",
    "#     new_index[new_k] = float(v)\n",
    "\n",
    "#     path1 = DATA_DIR / k;\n",
    "#     path2 = DATA_DIR / new_k;\n",
    "#     path1.rename(path2)\n",
    "\n",
    "# new_index = {k: new_index[k] for k in sorted(new_index.keys())}\n",
    "\n",
    "# with open(DATA_DIR / \"TSP\" / \"index.json\", \"w\") as f:\n",
    "#     json.dump(new_index, f, indent=4)\n",
    "\n",
    "# new_index"
   ]
  }
 ],
 "metadata": {
  "kernelspec": {
   "display_name": "SMAC",
   "language": "python",
   "name": "python3"
  },
  "language_info": {
   "codemirror_mode": {
    "name": "ipython",
    "version": 3
   },
   "file_extension": ".py",
   "mimetype": "text/x-python",
   "name": "python",
   "nbconvert_exporter": "python",
   "pygments_lexer": "ipython3",
   "version": "3.10.15"
  }
 },
 "nbformat": 4,
 "nbformat_minor": 2
}
