{
 "cells": [
  {
   "cell_type": "code",
   "execution_count": 1,
   "metadata": {},
   "outputs": [],
   "source": [
    "import logging\n",
    "import os\n",
    "import tempfile\n",
    "from abc import ABC, abstractmethod\n",
    "from copy import deepcopy\n",
    "from pathlib import Path\n",
    "from typing import Type\n",
    "\n",
    "import numpy as np\n",
    "from ConfigSpace import Configuration, ConfigurationSpace\n",
    "from smac import AlgorithmConfigurationFacade, Scenario\n",
    "from smac.runhistory.dataclasses import TrialValue\n",
    "\n",
    "from src.constant import DATA_DIR, TEMP_DIR\n",
    "from src.experiment.GlobalExperiment import GlobalExperiment\n",
    "from src.experiment.ParhydraExperiment import ParhydraExperiment\n",
    "from src.instance.TSP_Instance import TSP_Instance, TSP_InstanceSet\n",
    "from src.main import *\n",
    "from src.portfolio import Portfolio\n",
    "from src.solver.TSP_LKH_Solver import TSP_LKH_Solver"
   ]
  },
  {
   "cell_type": "code",
   "execution_count": 2,
   "metadata": {},
   "outputs": [],
   "source": [
    "train_instances, test_instances = TSP_InstanceSet.train_test_from_index_file(\n",
    "    filepath=DATA_DIR / \"TSP\" / \"CEPS_benchmark\" / \"index.json\",\n",
    "    train_size=5,\n",
    "    seed=0,\n",
    ")"
   ]
  },
  {
   "cell_type": "code",
   "execution_count": 3,
   "metadata": {},
   "outputs": [
    {
     "name": "stderr",
     "output_type": "stream",
     "text": [
      "[2024-11-11 10:49:19] INFO      [PARHYDRA] Start!\n",
      "[2024-11-11 10:49:19] INFO      Solver 1/2\n",
      "[2024-11-11 10:49:19] INFO      Attempt 1/2\n",
      "[2024-11-11 10:49:19] DEBUG     SMAC configuration, time: [100.]\n",
      "[2024-11-11 10:49:31] DEBUG     SMAC iteration 1, cost: 41.15, configuration time: [74.25]\n",
      "[2024-11-11 10:49:42] DEBUG     SMAC iteration 2, cost: 41.12, configuration time: [48.67]\n"
     ]
    },
    {
     "ename": "KeyboardInterrupt",
     "evalue": "",
     "output_type": "error",
     "traceback": [
      "\u001b[1;31m---------------------------------------------------------------------------\u001b[0m",
      "\u001b[1;31mKeyboardInterrupt\u001b[0m                         Traceback (most recent call last)",
      "Cell \u001b[1;32mIn[3], line 15\u001b[0m\n\u001b[0;32m      5\u001b[0m solver_class \u001b[38;5;241m=\u001b[39m TSP_LKH_Solver\n\u001b[0;32m      7\u001b[0m experiment \u001b[38;5;241m=\u001b[39m ParhydraExperiment(\n\u001b[0;32m      8\u001b[0m     t_c\u001b[38;5;241m=\u001b[39mt_c,\n\u001b[0;32m      9\u001b[0m     t_v\u001b[38;5;241m=\u001b[39mt_v,\n\u001b[1;32m   (...)\u001b[0m\n\u001b[0;32m     12\u001b[0m     solver_class\u001b[38;5;241m=\u001b[39msolver_class,\n\u001b[0;32m     13\u001b[0m )\n\u001b[1;32m---> 15\u001b[0m \u001b[43mexperiment\u001b[49m\u001b[38;5;241;43m.\u001b[39;49m\u001b[43mconstruct_portfolio\u001b[49m\u001b[43m(\u001b[49m\u001b[43mtrain_instances\u001b[49m\u001b[43m)\u001b[49m\n",
      "File \u001b[1;32mc:\\Users\\zakrz\\Documents\\DataScience\\praca magisterska\\raw-algorithm-portfolios\\src\\experiment\\ParhydraExperiment.py:39\u001b[0m, in \u001b[0;36mParhydraExperiment.construct_portfolio\u001b[1;34m(self, training_instances)\u001b[0m\n\u001b[0;32m     36\u001b[0m portfolio \u001b[38;5;241m=\u001b[39m Portfolio\u001b[38;5;241m.\u001b[39mfrom_solver_list(iteration_solvers)\n\u001b[0;32m     37\u001b[0m configuration_space \u001b[38;5;241m=\u001b[39m portfolio\u001b[38;5;241m.\u001b[39mget_configuration_space(i\u001b[38;5;241m=\u001b[39mi)\n\u001b[1;32m---> 39\u001b[0m cost \u001b[38;5;241m=\u001b[39m \u001b[38;5;28;43mself\u001b[39;49m\u001b[38;5;241;43m.\u001b[39;49m\u001b[43m_configure_and_validate\u001b[49m\u001b[43m(\u001b[49m\n\u001b[0;32m     40\u001b[0m \u001b[43m    \u001b[49m\u001b[43mportfolio\u001b[49m\u001b[43m,\u001b[49m\n\u001b[0;32m     41\u001b[0m \u001b[43m    \u001b[49m\u001b[43mtraining_instances\u001b[49m\u001b[43m,\u001b[49m\n\u001b[0;32m     42\u001b[0m \u001b[43m    \u001b[49m\u001b[43mconfiguration_space\u001b[49m\u001b[43m,\u001b[49m\n\u001b[0;32m     43\u001b[0m \u001b[43m\u001b[49m\u001b[43m)\u001b[49m\n\u001b[0;32m     45\u001b[0m logger\u001b[38;5;241m.\u001b[39minfo(\u001b[38;5;124mf\u001b[39m\u001b[38;5;124m\"\u001b[39m\u001b[38;5;124mAttempt \u001b[39m\u001b[38;5;132;01m{\u001b[39;00m_\u001b[38;5;250m \u001b[39m\u001b[38;5;241m+\u001b[39m\u001b[38;5;250m \u001b[39m\u001b[38;5;241m1\u001b[39m\u001b[38;5;132;01m}\u001b[39;00m\u001b[38;5;124m/\u001b[39m\u001b[38;5;132;01m{\u001b[39;00m\u001b[38;5;28mself\u001b[39m\u001b[38;5;241m.\u001b[39mn\u001b[38;5;132;01m}\u001b[39;00m\u001b[38;5;124m: cost = \u001b[39m\u001b[38;5;132;01m{\u001b[39;00mcost\u001b[38;5;132;01m:\u001b[39;00m\u001b[38;5;124m.2f\u001b[39m\u001b[38;5;132;01m}\u001b[39;00m\u001b[38;5;124m\"\u001b[39m)\n\u001b[0;32m     46\u001b[0m \u001b[38;5;28;01mif\u001b[39;00m cost \u001b[38;5;241m<\u001b[39m best_cost:\n",
      "File \u001b[1;32mc:\\Users\\zakrz\\Documents\\DataScience\\praca magisterska\\raw-algorithm-portfolios\\src\\experiment\\__init__.py:47\u001b[0m, in \u001b[0;36mExperiment._configure_and_validate\u001b[1;34m(self, portfolio, training_instances, configuration_space)\u001b[0m\n\u001b[0;32m     41\u001b[0m \u001b[38;5;28;01mdef\u001b[39;00m \u001b[38;5;21m_configure_and_validate\u001b[39m(\n\u001b[0;32m     42\u001b[0m     \u001b[38;5;28mself\u001b[39m,\n\u001b[0;32m     43\u001b[0m     portfolio: Portfolio,\n\u001b[0;32m     44\u001b[0m     training_instances: InstanceSet,\n\u001b[0;32m     45\u001b[0m     configuration_space: ConfigurationSpace,\n\u001b[0;32m     46\u001b[0m ) \u001b[38;5;241m-\u001b[39m\u001b[38;5;241m>\u001b[39m \u001b[38;5;28mfloat\u001b[39m:\n\u001b[1;32m---> 47\u001b[0m     incumbent \u001b[38;5;241m=\u001b[39m \u001b[38;5;28;43mself\u001b[39;49m\u001b[38;5;241;43m.\u001b[39;49m\u001b[43m_configure_wtih_smac\u001b[49m\u001b[43m(\u001b[49m\n\u001b[0;32m     48\u001b[0m \u001b[43m        \u001b[49m\u001b[43mportfolio\u001b[49m\u001b[43m,\u001b[49m\n\u001b[0;32m     49\u001b[0m \u001b[43m        \u001b[49m\u001b[43mtraining_instances\u001b[49m\u001b[43m,\u001b[49m\n\u001b[0;32m     50\u001b[0m \u001b[43m        \u001b[49m\u001b[43mconfiguration_space\u001b[49m\u001b[43m,\u001b[49m\n\u001b[0;32m     51\u001b[0m \u001b[43m    \u001b[49m\u001b[43m)\u001b[49m\n\u001b[0;32m     52\u001b[0m     portfolio\u001b[38;5;241m.\u001b[39mupdate_config(incumbent)\n\u001b[0;32m     53\u001b[0m     cost \u001b[38;5;241m=\u001b[39m \u001b[38;5;28mself\u001b[39m\u001b[38;5;241m.\u001b[39m_validate(portfolio, training_instances)\n",
      "File \u001b[1;32mc:\\Users\\zakrz\\Documents\\DataScience\\praca magisterska\\raw-algorithm-portfolios\\src\\experiment\\__init__.py:69\u001b[0m, in \u001b[0;36mExperiment._configure_wtih_smac\u001b[1;34m(self, portfolio, training_instances, configuration_space)\u001b[0m\n\u001b[0;32m     67\u001b[0m trial_info \u001b[38;5;241m=\u001b[39m smac\u001b[38;5;241m.\u001b[39mask()\n\u001b[0;32m     68\u001b[0m portfolio\u001b[38;5;241m.\u001b[39mupdate_config(trial_info\u001b[38;5;241m.\u001b[39mconfig)\n\u001b[1;32m---> 69\u001b[0m cost \u001b[38;5;241m=\u001b[39m \u001b[43mportfolio\u001b[49m\u001b[38;5;241;43m.\u001b[39;49m\u001b[43mevaluate\u001b[49m\u001b[43m(\u001b[49m\u001b[43mtraining_instances\u001b[49m\u001b[43m,\u001b[49m\u001b[43m \u001b[49m\u001b[43mconfiguration_time\u001b[49m\u001b[43m)\u001b[49m\n\u001b[0;32m     70\u001b[0m logger\u001b[38;5;241m.\u001b[39mdebug(\n\u001b[0;32m     71\u001b[0m     \u001b[38;5;124mf\u001b[39m\u001b[38;5;124m\"\u001b[39m\u001b[38;5;124mSMAC iteration \u001b[39m\u001b[38;5;132;01m{\u001b[39;00miteration\u001b[38;5;132;01m}\u001b[39;00m\u001b[38;5;124m, cost: \u001b[39m\u001b[38;5;132;01m{\u001b[39;00mcost\u001b[38;5;132;01m:\u001b[39;00m\u001b[38;5;124m.2f\u001b[39m\u001b[38;5;132;01m}\u001b[39;00m\u001b[38;5;124m, configuration time: \u001b[39m\u001b[38;5;132;01m{\u001b[39;00mconfiguration_time\u001b[38;5;132;01m}\u001b[39;00m\u001b[38;5;124m\"\u001b[39m\n\u001b[0;32m     72\u001b[0m )\n\u001b[0;32m     73\u001b[0m trial_value \u001b[38;5;241m=\u001b[39m TrialValue(cost\u001b[38;5;241m=\u001b[39mcost)\n",
      "File \u001b[1;32mc:\\Users\\zakrz\\Documents\\DataScience\\praca magisterska\\raw-algorithm-portfolios\\src\\portfolio\\__init__.py:73\u001b[0m, in \u001b[0;36mPortfolio.evaluate\u001b[1;34m(self, instances, remaining_time)\u001b[0m\n\u001b[0;32m     71\u001b[0m     future\u001b[38;5;241m.\u001b[39mcancel()\n\u001b[0;32m     72\u001b[0m \u001b[38;5;28;01melse\u001b[39;00m:\n\u001b[1;32m---> 73\u001b[0m     cost, time \u001b[38;5;241m=\u001b[39m \u001b[43mfuture\u001b[49m\u001b[38;5;241;43m.\u001b[39;49m\u001b[43mresult\u001b[49m\u001b[43m(\u001b[49m\u001b[43m)\u001b[49m\n\u001b[0;32m     74\u001b[0m     remaining_time[j] \u001b[38;5;241m-\u001b[39m\u001b[38;5;241m=\u001b[39m time\n\u001b[0;32m     75\u001b[0m     costs[i, j] \u001b[38;5;241m=\u001b[39m cost\n",
      "File \u001b[1;32mc:\\Users\\zakrz\\miniconda3\\envs\\SMAC\\lib\\concurrent\\futures\\_base.py:453\u001b[0m, in \u001b[0;36mFuture.result\u001b[1;34m(self, timeout)\u001b[0m\n\u001b[0;32m    450\u001b[0m \u001b[38;5;28;01melif\u001b[39;00m \u001b[38;5;28mself\u001b[39m\u001b[38;5;241m.\u001b[39m_state \u001b[38;5;241m==\u001b[39m FINISHED:\n\u001b[0;32m    451\u001b[0m     \u001b[38;5;28;01mreturn\u001b[39;00m \u001b[38;5;28mself\u001b[39m\u001b[38;5;241m.\u001b[39m__get_result()\n\u001b[1;32m--> 453\u001b[0m \u001b[38;5;28;43mself\u001b[39;49m\u001b[38;5;241;43m.\u001b[39;49m\u001b[43m_condition\u001b[49m\u001b[38;5;241;43m.\u001b[39;49m\u001b[43mwait\u001b[49m\u001b[43m(\u001b[49m\u001b[43mtimeout\u001b[49m\u001b[43m)\u001b[49m\n\u001b[0;32m    455\u001b[0m \u001b[38;5;28;01mif\u001b[39;00m \u001b[38;5;28mself\u001b[39m\u001b[38;5;241m.\u001b[39m_state \u001b[38;5;129;01min\u001b[39;00m [CANCELLED, CANCELLED_AND_NOTIFIED]:\n\u001b[0;32m    456\u001b[0m     \u001b[38;5;28;01mraise\u001b[39;00m CancelledError()\n",
      "File \u001b[1;32mc:\\Users\\zakrz\\miniconda3\\envs\\SMAC\\lib\\threading.py:320\u001b[0m, in \u001b[0;36mCondition.wait\u001b[1;34m(self, timeout)\u001b[0m\n\u001b[0;32m    318\u001b[0m \u001b[38;5;28;01mtry\u001b[39;00m:    \u001b[38;5;66;03m# restore state no matter what (e.g., KeyboardInterrupt)\u001b[39;00m\n\u001b[0;32m    319\u001b[0m     \u001b[38;5;28;01mif\u001b[39;00m timeout \u001b[38;5;129;01mis\u001b[39;00m \u001b[38;5;28;01mNone\u001b[39;00m:\n\u001b[1;32m--> 320\u001b[0m         \u001b[43mwaiter\u001b[49m\u001b[38;5;241;43m.\u001b[39;49m\u001b[43macquire\u001b[49m\u001b[43m(\u001b[49m\u001b[43m)\u001b[49m\n\u001b[0;32m    321\u001b[0m         gotit \u001b[38;5;241m=\u001b[39m \u001b[38;5;28;01mTrue\u001b[39;00m\n\u001b[0;32m    322\u001b[0m     \u001b[38;5;28;01melse\u001b[39;00m:\n",
      "\u001b[1;31mKeyboardInterrupt\u001b[0m: "
     ]
    }
   ],
   "source": [
    "t_c = 100\n",
    "t_v = 100\n",
    "K = 2\n",
    "n = 2\n",
    "solver_class = TSP_LKH_Solver\n",
    "\n",
    "experiment = ParhydraExperiment(\n",
    "    t_c=t_c,\n",
    "    t_v=t_v,\n",
    "    K=K,\n",
    "    n=n,\n",
    "    solver_class=solver_class,\n",
    ")\n",
    "\n",
    "experiment.construct_portfolio(train_instances)"
   ]
  },
  {
   "cell_type": "code",
   "execution_count": null,
   "metadata": {},
   "outputs": [],
   "source": [
    "t_c = 100\n",
    "t_v = 100\n",
    "K = 2\n",
    "n = 2\n",
    "solver_class = TSP_LKH_Solver\n",
    "\n",
    "experiment = GlobalExperiment(\n",
    "    t_c=t_c,\n",
    "    t_v=t_v,\n",
    "    K=K,\n",
    "    n=n,\n",
    "    solver_class=solver_class,\n",
    ")\n",
    "\n",
    "experiment.construct_portfolio(train_instances)"
   ]
  },
  {
   "cell_type": "code",
   "execution_count": null,
   "metadata": {},
   "outputs": [],
   "source": [
    "# import json\n",
    "# with open(DATA_DIR / \"TSP\" / \"index.json\") as f:\n",
    "#     index = json.load(f)\n",
    "\n",
    "# new_index = {}\n",
    "\n",
    "# for k, v in index.items():\n",
    "#     path = k.split(\"/\")\n",
    "#     file = path[-1]\n",
    "#     file_no_ext = file.split(\".\")[0]\n",
    "#     if \"_\" in file_no_ext:\n",
    "#         a, b = file_no_ext.split(\"_\")\n",
    "#         n = str((int(a) - 4) * 10 + int(b)).zfill(2)\n",
    "#         new_file = f\"{n}.tsp\"\n",
    "#     else:\n",
    "#         file_no_ext = str(int(file_no_ext)).zfill(2)\n",
    "#         new_file = f\"{file_no_ext}.tsp\"\n",
    "#     new_path = path[:-1] + [new_file]\n",
    "#     new_k = \"/\".join(new_path)\n",
    "#     new_index[new_k] = float(v)\n",
    "\n",
    "#     path1 = DATA_DIR / k;\n",
    "#     path2 = DATA_DIR / new_k;\n",
    "#     path1.rename(path2)\n",
    "\n",
    "# new_index = {k: new_index[k] for k in sorted(new_index.keys())}\n",
    "\n",
    "# with open(DATA_DIR / \"TSP\" / \"index.json\", \"w\") as f:\n",
    "#     json.dump(new_index, f, indent=4)\n",
    "\n",
    "# new_index"
   ]
  }
 ],
 "metadata": {
  "kernelspec": {
   "display_name": "SMAC",
   "language": "python",
   "name": "python3"
  },
  "language_info": {
   "codemirror_mode": {
    "name": "ipython",
    "version": 3
   },
   "file_extension": ".py",
   "mimetype": "text/x-python",
   "name": "python",
   "nbconvert_exporter": "python",
   "pygments_lexer": "ipython3",
   "version": "3.10.15"
  }
 },
 "nbformat": 4,
 "nbformat_minor": 2
}
