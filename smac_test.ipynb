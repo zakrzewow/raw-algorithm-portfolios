{
 "cells": [
  {
   "cell_type": "code",
   "execution_count": 1,
   "metadata": {},
   "outputs": [],
   "source": [
    "from ConfigSpace import (\n",
    "    ConfigurationSpace, Configuration\n",
    ")\n",
    "from smac import AlgorithmConfigurationFacade, Scenario\n",
    "from smac.runhistory.dataclasses import TrialValue\n",
    "\n",
    "from src.main import *\n",
    "from copy import deepcopy\n",
    "import tempfile\n",
    "from pathlib import Path\n",
    "\n",
    "from src.portfolio import Portfolio\n",
    "from src.instance.TSP_Instance import TSP_Instance\n",
    "from src.solver.TSP_Solver import TSP_Solver\n",
    "from src.configuration_space.LKH import CONFIGURATION_SPACE\n",
    "from src.constant import TEMP_DIR"
   ]
  },
  {
   "cell_type": "code",
   "execution_count": 2,
   "metadata": {},
   "outputs": [],
   "source": [
    "portfolio = Portfolio(size=2, solver_class=TSP_Solver,  configspace=CONFIGURATION_SPACE)\n",
    "training_instances = [\n",
    "    TSP_Instance(\"1.tsp\", 20887545.00),\n",
    "    TSP_Instance(\"2.tsp\", 21134211.00),\n",
    "    TSP_Instance(\"3.tsp\", 21196547.00),\n",
    "    TSP_Instance(\"4.tsp\", 21428037.00),\n",
    "    TSP_Instance(\"5.tsp\", 11020488.00),\n",
    "]\n",
    "\n",
    "smac_configuration_space = ConfigurationSpace()\n",
    "for idx, solver in enumerate(portfolio.solvers):\n",
    "    for k, v in solver.config.config_space.items():\n",
    "        v = deepcopy(v)\n",
    "        v.name = f\"{idx}__{v.name}\"\n",
    "        smac_configuration_space.add(v)"
   ]
  },
  {
   "cell_type": "code",
   "execution_count": 3,
   "metadata": {},
   "outputs": [
    {
     "name": "stdout",
     "output_type": "stream",
     "text": [
      "[INFO][abstract_initial_design.py:95] Reducing the number of initial configurations from 460 to 25 (max_ratio == 0.25).\n"
     ]
    },
    {
     "name": "stdout",
     "output_type": "stream",
     "text": [
      "[INFO][abstract_initial_design.py:147] Using 1 initial design configurations and 0 additional configurations.\n",
      "[INFO][abstract_intensifier.py:516] Added config 9c5d7a as new incumbent because there are no incumbents yet.\n"
     ]
    }
   ],
   "source": [
    "t_c = 100\n",
    "temp_dir = tempfile.TemporaryDirectory(dir=TEMP_DIR)\n",
    "output_directory = Path(temp_dir.name)\n",
    "\n",
    "scenario = Scenario(\n",
    "    configspace=smac_configuration_space, \n",
    "    output_directory=output_directory,\n",
    ")\n",
    "\n",
    "smac = AlgorithmConfigurationFacade(\n",
    "    scenario,\n",
    "    lambda seed: None,\n",
    "    overwrite=True,\n",
    ")\n",
    "\n",
    "while t_c > 0:\n",
    "    trial_info = smac.ask()\n",
    "    portfolio.update_config(trial_info.config)\n",
    "    cost, time = portfolio.evaluate(training_instances)\n",
    "    trial_value = TrialValue(cost=cost, time=time)\n",
    "    smac.tell(trial_info, trial_value)\n",
    "    t_c -= time\n",
    "\n",
    "temp_dir.cleanup()\n"
   ]
  },
  {
   "cell_type": "code",
   "execution_count": null,
   "metadata": {},
   "outputs": [
    {
     "data": {
      "text/plain": [
       "-41.040000000000006"
      ]
     },
     "execution_count": 6,
     "metadata": {},
     "output_type": "execute_result"
    }
   ],
   "source": [
    "trial_info.config"
   ]
  },
  {
   "cell_type": "code",
   "execution_count": 11,
   "metadata": {},
   "outputs": [
    {
     "data": {
      "text/plain": [
       "Configuration(values={\n",
       "  '0__ASCENT_CANDIDATES': 50,\n",
       "  '0__BACKBONE_TRIALS': 0,\n",
       "  '0__BACKTRACKING': 'NO',\n",
       "  '0__CANDIDATE_SET_TYPE': 'ALPHA',\n",
       "  '0__EXTRA_CANDIDATES': 0,\n",
       "  '0__EXTRA_CANDIDATE_SET_TYPE': 'QUADRANT',\n",
       "  '0__GAIN23': 'YES',\n",
       "  '0__GAIN_CRITERION': 'YES',\n",
       "  '0__INITIAL_STEP_SIZE': 1,\n",
       "  '0__INITIAL_TOUR_ALGORITHM': 'WALK',\n",
       "  '0__INITIAL_TOUR_FRACTION': 1.0,\n",
       "  '0__KICKS': 1,\n",
       "  '0__KICK_TYPE': 0,\n",
       "  '0__MAX_BREADTH': 2147483647,\n",
       "  '0__MAX_CANDIDATES': 5,\n",
       "  '0__MOVE_TYPE': 5,\n",
       "  '0__PATCHING_A': 1,\n",
       "  '0__PATCHING_C': 0,\n",
       "  '0__POPULATION_SIZE': 50,\n",
       "  '0__RESTRICTED_SEARCH': 'YES',\n",
       "  '0__SUBGRADIENT': 'YES',\n",
       "  '0__SUBSEQUENT_MOVE_TYPE': 0,\n",
       "  '0__SUBSEQUENT_PATCHING': 'YES',\n",
       "  '1__ASCENT_CANDIDATES': 50,\n",
       "  '1__BACKBONE_TRIALS': 0,\n",
       "  '1__BACKTRACKING': 'NO',\n",
       "  '1__CANDIDATE_SET_TYPE': 'ALPHA',\n",
       "  '1__EXTRA_CANDIDATES': 0,\n",
       "  '1__EXTRA_CANDIDATE_SET_TYPE': 'QUADRANT',\n",
       "  '1__GAIN23': 'YES',\n",
       "  '1__GAIN_CRITERION': 'YES',\n",
       "  '1__INITIAL_STEP_SIZE': 1,\n",
       "  '1__INITIAL_TOUR_ALGORITHM': 'WALK',\n",
       "  '1__INITIAL_TOUR_FRACTION': 1.0,\n",
       "  '1__KICKS': 1,\n",
       "  '1__KICK_TYPE': 0,\n",
       "  '1__MAX_BREADTH': 2147483647,\n",
       "  '1__MAX_CANDIDATES': 5,\n",
       "  '1__MOVE_TYPE': 5,\n",
       "  '1__PATCHING_A': 1,\n",
       "  '1__PATCHING_C': 0,\n",
       "  '1__POPULATION_SIZE': 50,\n",
       "  '1__RESTRICTED_SEARCH': 'YES',\n",
       "  '1__SUBGRADIENT': 'YES',\n",
       "  '1__SUBSEQUENT_MOVE_TYPE': 0,\n",
       "  '1__SUBSEQUENT_PATCHING': 'YES',\n",
       "})"
      ]
     },
     "execution_count": 11,
     "metadata": {},
     "output_type": "execute_result"
    }
   ],
   "source": [
    "smac.intensifier.get_incumbent()"
   ]
  },
  {
   "cell_type": "code",
   "execution_count": 5,
   "metadata": {},
   "outputs": [
    {
     "data": {
      "text/plain": [
       "(1.6640000000000001, 16.66)"
      ]
     },
     "execution_count": 5,
     "metadata": {},
     "output_type": "execute_result"
    }
   ],
   "source": [
    "for k, v in smac.intensifier.get_incumbent().items():\n",
    "    idx = int(k.split(\"__\")[0])\n",
    "    key = k.split(\"__\")[1]\n",
    "    portfolio.solvers[idx].config[key] = v\n",
    "cost, time = portfolio.evaluate(training_instances)\n",
    "cost, time"
   ]
  },
  {
   "cell_type": "code",
   "execution_count": 13,
   "metadata": {},
   "outputs": [
    {
     "name": "stdout",
     "output_type": "stream",
     "text": [
      "[<main.TSP_Solver object at 0x000001CFC8EAD750>][16768][2024-11-03 23:48:46.468793] Solving instance 4.tsp\n",
      "PARAMETER_FILE = config_16768.par\n",
      "PROBLEM_FILE = 4.tsp\n",
      "Successes/Runs = 1/1\n",
      "Cost.min = 21428037, Cost.avg = 21428037.00, Cost.max = 21428037\n",
      "Gap.min = 0.0000%, Gap.avg = 0.0000%, Gap.max = 0.0000%\n",
      "Trials.min = 539, Trials.avg = 539.0, Trials.max = 539\n",
      "Time.min = 2.28 sec., Time.avg = 2.28 sec., Time.max = 2.28 sec.\n",
      "Time.total = 2.85 sec.\n",
      "Press any key to continue . . . \n"
     ]
    },
    {
     "data": {
      "text/plain": [
       "(2.85, 2.85)"
      ]
     },
     "execution_count": 13,
     "metadata": {},
     "output_type": "execute_result"
    }
   ],
   "source": [
    "portfolio.solvers[0].solve(training_instances[3])"
   ]
  }
 ],
 "metadata": {
  "kernelspec": {
   "display_name": "SMAC",
   "language": "python",
   "name": "python3"
  },
  "language_info": {
   "codemirror_mode": {
    "name": "ipython",
    "version": 3
   },
   "file_extension": ".py",
   "mimetype": "text/x-python",
   "name": "python",
   "nbconvert_exporter": "python",
   "pygments_lexer": "ipython3",
   "version": "3.10.15"
  }
 },
 "nbformat": 4,
 "nbformat_minor": 2
}
