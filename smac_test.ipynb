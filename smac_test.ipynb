{
 "cells": [
  {
   "cell_type": "code",
   "execution_count": 1,
   "metadata": {},
   "outputs": [],
   "source": [
    "import subprocess\n",
    "from abc import ABC, abstractmethod\n",
    "\n",
    "import numpy as np\n",
    "from ConfigSpace import (\n",
    "    Categorical,\n",
    "    Configuration,\n",
    "    ConfigurationSpace,\n",
    "    Float,\n",
    "    GreaterThanCondition,\n",
    "    Integer,\n",
    ")\n",
    "from smac import HyperparameterOptimizationFacade, Scenario"
   ]
  },
  {
   "cell_type": "code",
   "execution_count": 4,
   "metadata": {},
   "outputs": [],
   "source": [
    "cs = ConfigurationSpace(\n",
    "    seed=0,\n",
    "    space=[\n",
    "        Integer(\"ASCENT_CANDIDATES\", (40, 60), default=50),\n",
    "        Integer(\"BACKBONE_TRIALS\", (0, 1), default=0),\n",
    "        Categorical(\"BACKTRACKING\", [\"YES\", \"NO\"], default=\"NO\"),\n",
    "        Categorical(\"CANDIDATE_SET_TYPE\", [\"ALPHA\", \"DELAUNAY\", \"NEAREST-NEIGHBOR\", \"QUADRANT\"], default=\"ALPHA\"),\n",
    "        Integer(\"EXTRA_CANDIDATES\", (0, 10), default=0),\n",
    "        Categorical(\"EXTRA_CANDIDATE_SET_TYPE\", [\"NEAREST-NEIGHBOR\", \"QUADRANT\"], default=\"QUADRANT\"),\n",
    "        Categorical(\"GAIN23\", [\"YES\", \"NO\"], default=\"YES\"),\n",
    "        Categorical(\"GAIN_CRITERION\", [\"YES\", \"NO\"], default=\"YES\"),\n",
    "        Integer(\"INITIAL_STEP_SIZE\", (1, 5), default=1),\n",
    "        Categorical(\"INITIAL_TOUR_ALGORITHM\", [\"BORUVKA\", \"GREEDY\", \"NEAREST-NEIGHBOR\", \"QUICK-BORUVKA\", \"SIERPINSKI\", \"WALK\"], default=\"WALK\"),\n",
    "        Float(\"INITIAL_TOUR_FRACTION\", (0, 1), default=1),\n",
    "        Integer(\"KICKS\", (0, 5), default=1),\n",
    "        Categorical(\"KICK_TYPE\", [0, 4, 5], default=0),\n",
    "        Integer(\"MAX_BREADTH\", (1, 2147483647), default=2147483647),\n",
    "        Integer(\"MAX_CANDIDATES\", (1, 10), default=5),\n",
    "        Integer(\"MOVE_TYPE\", (2, 6), default=5),\n",
    "        Integer(\"PATCHING_A\", (0, 5), default=1),\n",
    "        Integer(\"PATCHING_C\", (0, 5), default=0),\n",
    "        Integer(\"POPULATION_SIZE\", (2, 100), default=50),\n",
    "        Categorical(\"RESTRICTED_SEARCH\", [\"YES\", \"NO\"], default=\"YES\"),\n",
    "        Categorical(\"RUNS\", [10000], default=10000),\n",
    "        Categorical(\"SUBGRADIENT\", [\"YES\", \"NO\"], default=\"YES\"),\n",
    "        Categorical(\"SUBSEQUENT_MOVE_TYPE\", [0, 2, 3, 4, 5, 6], default=0),\n",
    "        Categorical(\"SUBSEQUENT_PATCHING\", [\"YES\", \"NO\"], default=\"YES\"),\n",
    "    ],\n",
    ")\n",
    "cs.add(GreaterThanCondition(cs[\"EXTRA_CANDIDATE_SET_TYPE\"], cs[\"EXTRA_CANDIDATES\"], 0))\n",
    "\n",
    "class Solver(ABC):\n",
    "    def __init__(self, config: Configuration):\n",
    "        self.config = config\n",
    "\n",
    "class Instance(ABC):\n",
    "    pass\n",
    "\n",
    "class TSP_Instance(Instance):\n",
    "    def __init__(self, filepath: str):\n",
    "        self.filepath = filepath\n",
    "\n",
    "class TSP_Solver(Solver):\n",
    "    def __init__(self, config: Configuration):\n",
    "        super().__init__(config)\n",
    "        self.filepath = None\n",
    "\n",
    "    def _to_file(self, filepath):\n",
    "        self.filepath = filepath\n",
    "        with open(filepath, 'w') as f:\n",
    "            f.write(f\"PROBLEM_FILE = problem.tsp\\n\")\n",
    "            f.write(f\"TRACE_LEVEL = 0\\n\")\n",
    "            f.write(f\"TOTAL_TIME_LIMIT = 100\\n\")\n",
    "            for k, v in self.config.items():\n",
    "                f.write(f\"{k} = {v}\\n\")\n",
    "\n",
    "tsp_solver = TSP_Solver(cs.sample_configuration())\n",
    "tsp_solver._to_file('config.par')"
   ]
  },
  {
   "cell_type": "code",
   "execution_count": null,
   "metadata": {},
   "outputs": [],
   "source": [
    "open()"
   ]
  },
  {
   "cell_type": "code",
   "execution_count": 7,
   "metadata": {},
   "outputs": [
    {
     "data": {
      "text/plain": [
       "ItemsView(Configuration(values={\n",
       "  'ASCENT_CANDIDATES': 56,\n",
       "  'BACKBONE_TRIALS': 1,\n",
       "  'BACKTRACKING': 'NO',\n",
       "  'CANDIDATE_SET_TYPE': 'ALPHA',\n",
       "  'EXTRA_CANDIDATES': 1,\n",
       "  'GAIN23': 'NO',\n",
       "  'GAIN_CRITERION': 'YES',\n",
       "  'INITIAL_STEP_SIZE': 3,\n",
       "  'INITIAL_TOUR_ALGORITHM': 'BORUVKA',\n",
       "  'INITIAL_TOUR_FRACTION': 0.2148807367506,\n",
       "  'KICKS': 2,\n",
       "  'KICK_TYPE': 4,\n",
       "  'MAX_BREADTH': 2096185782,\n",
       "  'MAX_CANDIDATES': 3,\n",
       "  'MOVE_TYPE': 2,\n",
       "  'PATCHING_A': 3,\n",
       "  'PATCHING_C': 4,\n",
       "  'POPULATION_SIZE': 9,\n",
       "  'RESTRICTED_SEARCH': 'YES',\n",
       "  'RUNS': 10000,\n",
       "  'SUBGRADIENT': 'YES',\n",
       "  'SUBSEQUENT_MOVE_TYPE': 0,\n",
       "  'SUBSEQUENT_PATCHING': 'YES',\n",
       "  'EXTRA_CANDIDATE_SET_TYPE': 'NEAREST-NEIGHBOR',\n",
       "}))"
      ]
     },
     "execution_count": 7,
     "metadata": {},
     "output_type": "execute_result"
    }
   ],
   "source": [
    "cs.sample_configuration().items()"
   ]
  },
  {
   "cell_type": "code",
   "execution_count": 2,
   "metadata": {},
   "outputs": [
    {
     "name": "stdout",
     "output_type": "stream",
     "text": [
      "[INFO][abstract_initial_design.py:147] Using 10 initial design configurations and 0 additional configurations.\n"
     ]
    }
   ],
   "source": [
    "def train(config: Configuration, seed: int = 0) -> float:\n",
    "    classifier = SVC(C=config[\"C\"], random_state=seed)\n",
    "    scores = cross_val_score(classifier, iris.data, iris.target, cv=5)\n",
    "    return 1 - np.mean(scores)\n",
    "\n",
    "\n",
    "configspace = ConfigurationSpace({\"C\": (0.100, 1000.0)})\n",
    "\n",
    "# Scenario object specifying the optimization environment\n",
    "scenario = Scenario(configspace, deterministic=True, n_trials=300)\n",
    "\n",
    "# Use SMAC to find the best configuration/hyperparameters\n",
    "smac = HyperparameterOptimizationFacade(scenario, train)"
   ]
  },
  {
   "cell_type": "code",
   "execution_count": 4,
   "metadata": {},
   "outputs": [],
   "source": [
    "c = configspace.sample_configuration()"
   ]
  },
  {
   "cell_type": "code",
   "execution_count": 9,
   "metadata": {},
   "outputs": [
    {
     "data": {
      "text/plain": [
       "{'C': 645.9295236553495}"
      ]
     },
     "execution_count": 9,
     "metadata": {},
     "output_type": "execute_result"
    }
   ],
   "source": [
    "dict(c)"
   ]
  },
  {
   "cell_type": "code",
   "execution_count": 3,
   "metadata": {},
   "outputs": [
    {
     "name": "stdout",
     "output_type": "stream",
     "text": [
      "[INFO][abstract_intensifier.py:306] Using only one seed for deterministic scenario.\n",
      "[INFO][abstract_intensifier.py:516] Added config 7707e1 as new incumbent because there are no incumbents yet.\n",
      "[INFO][abstract_intensifier.py:595] Added config a3ff11 and rejected config 7707e1 as incumbent because it is not better than the incumbents on 1 instances:\n",
      "[INFO][abstract_intensifier.py:595] Added config 5755d7 and rejected config a3ff11 as incumbent because it is not better than the incumbents on 1 instances:\n",
      "[INFO][abstract_intensifier.py:595] Added config db9b45 and rejected config 5755d7 as incumbent because it is not better than the incumbents on 1 instances:\n",
      "[INFO][smbo.py:320] Finished 50 trials.\n",
      "[INFO][smbo.py:320] Finished 100 trials.\n",
      "[INFO][smbo.py:320] Finished 150 trials.\n",
      "[INFO][smbo.py:320] Finished 200 trials.\n",
      "[INFO][smbo.py:320] Finished 250 trials.\n",
      "[INFO][smbo.py:320] Finished 300 trials.\n",
      "[INFO][smbo.py:328] Configuration budget is exhausted:\n",
      "[INFO][smbo.py:329] --- Remaining wallclock time: inf\n",
      "[INFO][smbo.py:330] --- Remaining cpu time: inf\n",
      "[INFO][smbo.py:331] --- Remaining trials: 0\n"
     ]
    }
   ],
   "source": [
    "incumbent = smac.optimize()"
   ]
  },
  {
   "cell_type": "code",
   "execution_count": 4,
   "metadata": {},
   "outputs": [
    {
     "data": {
      "text/plain": [
       "Configuration(values={\n",
       "  'C': 7.8889654918543,\n",
       "})"
      ]
     },
     "execution_count": 4,
     "metadata": {},
     "output_type": "execute_result"
    }
   ],
   "source": [
    "incumbent"
   ]
  },
  {
   "cell_type": "code",
   "execution_count": 8,
   "metadata": {},
   "outputs": [
    {
     "data": {
      "text/plain": [
       "5.95"
      ]
     },
     "execution_count": 8,
     "metadata": {},
     "output_type": "execute_result"
    }
   ],
   "source": [
    "# run program LKH-2.0.10\\LKH-2.exe with an argument config.par as a subprocess and capture the output, where there is a line \"Time.total = 7.09 sec.\" with the time in seconds, return the time\n",
    "\n",
    "result = subprocess.run(['LKH-2.0.10\\LKH-2.exe', 'config.par'], \n",
    "                       capture_output=True, \n",
    "                       text=True,\n",
    "                       stdin=subprocess.DEVNULL)\n",
    "\n",
    "for line in result.stdout.splitlines():\n",
    "    if \"Time.total\" in line:\n",
    "        time = float(line.split()[-2])\n",
    "        break\n",
    "\n",
    "time\n"
   ]
  },
  {
   "cell_type": "code",
   "execution_count": 9,
   "metadata": {},
   "outputs": [
    {
     "name": "stdout",
     "output_type": "stream",
     "text": [
      "PARAMETER_FILE = config.par\n",
      "PROBLEM_FILE = CEPS/instance_set/mutator_TSP/cluster/1.tsp\n",
      "Successes/Runs = 0/1\n",
      "Cost.min = 17206398, Cost.avg = 17206398.00, Cost.max = 17206398\n",
      "Gap.min = 0.0000%, Gap.avg = 0.0000%, Gap.max = 0.0000%\n",
      "Trials.min = 800, Trials.avg = 800.0, Trials.max = 800\n",
      "Time.min = 5.27 sec., Time.avg = 5.27 sec., Time.max = 5.27 sec.\n",
      "Time.total = 5.95 sec.\n",
      "Press any key to continue . . . \n",
      "\n"
     ]
    }
   ],
   "source": [
    "print(result.stdout)\n"
   ]
  },
  {
   "cell_type": "code",
   "execution_count": 4,
   "metadata": {},
   "outputs": [
    {
     "name": "stdout",
     "output_type": "stream",
     "text": [
      "[INFO][abstract_initial_design.py:95] Reducing the number of initial configurations from 20 to 1 (max_ratio == 0.25).\n",
      "[INFO][abstract_initial_design.py:147] Using 1 initial design configurations and 0 additional configurations.\n",
      "Cost: 7.28, Time: 0.5\n",
      "[INFO][abstract_intensifier.py:516] Added config a7da4c as new incumbent because there are no incumbents yet.\n",
      "Cost: 8.69, Time: 0.5\n",
      "Cost: 8.72, Time: 0.5\n",
      "[INFO][abstract_intensifier.py:595] Added config b4d80f and rejected config a7da4c as incumbent because it is not better than the incumbents on 1 instances:\n",
      "[INFO][smbo.py:328] Configuration budget is exhausted:\n",
      "[INFO][smbo.py:329] --- Remaining wallclock time: inf\n",
      "[INFO][smbo.py:330] --- Remaining cpu time: inf\n",
      "[INFO][smbo.py:331] --- Remaining trials: -1\n",
      "Default cost: 8.75\n",
      "Incumbent cost: 6.33\n"
     ]
    }
   ],
   "source": [
    "from ConfigSpace import Configuration, ConfigurationSpace, Float, Integer\n",
    "\n",
    "from smac import HyperparameterOptimizationFacade, Scenario\n",
    "from smac.runhistory.dataclasses import TrialValue\n",
    "\n",
    "class TSP:\n",
    "    @property\n",
    "    def configspace(self) -> ConfigurationSpace:\n",
    "        cs = ConfigurationSpace(seed=0)\n",
    "        patching_c = Integer(\"patching_c\", (1, 5), default=2)\n",
    "        patching_a = Integer(\"patching_a\", (1, 5), default=2)\n",
    "        cs.add([patching_c, patching_a])\n",
    "\n",
    "        return cs\n",
    "\n",
    "    def train(self, config: Configuration, seed: int = 0) -> float:\n",
    "        patching_c = config[\"patching_c\"]\n",
    "        patching_a = config[\"patching_a\"]\n",
    "        with open('config.par', 'w') as f:\n",
    "            f.write(f\"\"\"PROBLEM_FILE = CEPS/instance_set/mutator_TSP/cluster/0.tsp\n",
    "        MOVE_TYPE = 5\n",
    "        PATCHING_C = {patching_c}\n",
    "        PATCHING_A = {patching_a}\n",
    "        RUNS = 1\n",
    "        OUTPUT_TOUR_FILE = best\n",
    "        TOTAL_TIME_LIMIT = 100\n",
    "        TRACE_LEVEL = 0\"\"\")\n",
    "\n",
    "        result = subprocess.run(['LKH-2.0.10\\LKH-2.exe', 'config.par'], \n",
    "                            capture_output=True, \n",
    "                            text=True,\n",
    "                            stdin=subprocess.DEVNULL)\n",
    "\n",
    "        for line in result.stdout.splitlines():\n",
    "            if \"Time.total\" in line:\n",
    "                time = float(line.split()[-2])\n",
    "                break\n",
    "        return time\n",
    "\n",
    "\n",
    "model = TSP()\n",
    "scenario = Scenario(model.configspace, deterministic=False, n_trials=3)\n",
    "\n",
    "intensifier = HyperparameterOptimizationFacade.get_intensifier(\n",
    "    scenario,\n",
    "    max_config_calls=1,  # We basically use one seed per config only\n",
    ")\n",
    "\n",
    "smac = HyperparameterOptimizationFacade(\n",
    "    scenario,\n",
    "    model.train,\n",
    "    intensifier=intensifier,\n",
    "    overwrite=True,\n",
    ")\n",
    "\n",
    "for _ in range(3):\n",
    "    info = smac.ask()\n",
    "    assert info.seed is not None\n",
    "\n",
    "    cost = model.train(info.config, seed=info.seed)\n",
    "    value = TrialValue(cost=cost, time=0.5)\n",
    "    print(f\"Cost: {cost}, Time: {value.time}\")\n",
    "    smac.tell(info, value)\n",
    "\n",
    "# After calling ask+tell, we can still optimize\n",
    "# Note: SMAC will optimize the next 90 trials because 10 trials already have been evaluated\n",
    "incumbent = smac.optimize()\n",
    "\n",
    "# Get cost of default configuration\n",
    "default_cost = smac.validate(model.configspace.get_default_configuration())\n",
    "print(f\"Default cost: {default_cost}\")\n",
    "\n",
    "# Let's calculate the cost of the incumbent\n",
    "incumbent_cost = smac.validate(incumbent)\n",
    "print(f\"Incumbent cost: {incumbent_cost}\")"
   ]
  }
 ],
 "metadata": {
  "kernelspec": {
   "display_name": "SMAC",
   "language": "python",
   "name": "python3"
  },
  "language_info": {
   "codemirror_mode": {
    "name": "ipython",
    "version": 3
   },
   "file_extension": ".py",
   "mimetype": "text/x-python",
   "name": "python",
   "nbconvert_exporter": "python",
   "pygments_lexer": "ipython3",
   "version": "3.10.15"
  }
 },
 "nbformat": 4,
 "nbformat_minor": 2
}
