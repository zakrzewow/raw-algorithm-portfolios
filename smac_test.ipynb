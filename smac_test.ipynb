{
 "cells": [
  {
   "cell_type": "code",
   "execution_count": 1,
   "metadata": {},
   "outputs": [],
   "source": [
    "import tempfile\n",
    "from abc import ABC, abstractmethod\n",
    "from copy import deepcopy\n",
    "from pathlib import Path\n",
    "from typing import Type\n",
    "\n",
    "import numpy as np\n",
    "from ConfigSpace import Configuration, ConfigurationSpace\n",
    "from smac import AlgorithmConfigurationFacade, Scenario\n",
    "from smac.runhistory.dataclasses import TrialValue\n",
    "\n",
    "from src.constant import TEMP_DIR\n",
    "from src.instance.TSP_Instance import TSP_Instance\n",
    "from src.main import *\n",
    "from src.portfolio import Portfolio\n",
    "from src.solver.TSP_LKH_Solver import TSP_LKH_Solver\n",
    "import logging\n",
    "from src.experiment.GlobalExperiment import GlobalExperiment\n",
    "from src.experiment.ParhydraExperiment import ParhydraExperiment"
   ]
  },
  {
   "cell_type": "code",
   "execution_count": 2,
   "metadata": {},
   "outputs": [
    {
     "name": "stderr",
     "output_type": "stream",
     "text": [
      "[2024-11-10 19:37:07] INFO      [PARHYDRA] Start!\n",
      "[2024-11-10 19:37:07] INFO      Solver 1/2\n",
      "[2024-11-10 19:37:07] INFO      Attempt 1/2\n",
      "[2024-11-10 19:37:07] DEBUG     SMAC configuration, time: [100.]\n",
      "[2024-11-10 19:37:12] DEBUG     SMAC iteration 1, cost: 1.68, configuration time: [91.62]\n",
      "[2024-11-10 19:37:16] DEBUG     SMAC iteration 2, cost: 1.72, configuration time: [83.03]\n",
      "[2024-11-10 19:37:28] DEBUG     SMAC iteration 3, cost: 80.28, configuration time: [41.64]\n",
      "[2024-11-10 19:37:40] DEBUG     SMAC iteration 4, cost: 80.27, configuration time: [0.27]\n",
      "[2024-11-10 19:37:44] DEBUG     SMAC iteration 5, cost: 80.22, configuration time: [-0.84]\n",
      "[2024-11-10 19:37:44] DEBUG     Validation, time: [100.]\n",
      "[2024-11-10 19:37:48] DEBUG     Validation cost: 1.78, remaining validation time: [91.1]\n",
      "[2024-11-10 19:37:48] INFO      Attempt 1/2: cost = 1.78\n",
      "[2024-11-10 19:37:48] INFO      New best solver found!\n",
      "[2024-11-10 19:37:48] INFO      Attempt 2/2\n",
      "[2024-11-10 19:37:48] DEBUG     SMAC configuration, time: [100.]\n",
      "[2024-11-10 19:37:53] DEBUG     SMAC iteration 1, cost: 1.91, configuration time: [90.46]\n",
      "[2024-11-10 19:37:57] DEBUG     SMAC iteration 2, cost: 1.89, configuration time: [81.03]\n",
      "[2024-11-10 19:38:10] DEBUG     SMAC iteration 3, cost: 80.31, configuration time: [39.49]\n",
      "[2024-11-10 19:38:22] DEBUG     SMAC iteration 4, cost: 80.33, configuration time: [-2.14]\n",
      "[2024-11-10 19:38:22] DEBUG     Validation, time: [100.]\n",
      "[2024-11-10 19:38:26] DEBUG     Validation cost: 1.83, remaining validation time: [90.85]\n",
      "[2024-11-10 19:38:26] INFO      Attempt 2/2: cost = 1.83\n",
      "[2024-11-10 19:38:26] INFO      Solver 2/2\n",
      "[2024-11-10 19:38:26] INFO      Attempt 1/2\n",
      "[2024-11-10 19:38:26] DEBUG     SMAC configuration, time: [100. 100.]\n",
      "[2024-11-10 19:38:46] DEBUG     SMAC iteration 1, cost: 1.92, configuration time: [50.  90.4]\n",
      "[2024-11-10 19:39:05] DEBUG     SMAC iteration 2, cost: 1.79, configuration time: [ 0.   81.47]\n",
      "[2024-11-10 19:39:18] DEBUG     SMAC iteration 3, cost: 80.27, configuration time: [ 0.   40.11]\n",
      "[2024-11-10 19:39:29] DEBUG     SMAC iteration 4, cost: 80.34, configuration time: [ 0.   -1.57]\n",
      "[2024-11-10 19:39:29] DEBUG     Validation, time: [100. 100.]\n",
      "[2024-11-10 19:39:49] DEBUG     Validation cost: 1.94, remaining validation time: [50.   90.29]\n",
      "[2024-11-10 19:39:49] INFO      Attempt 1/2: cost = 1.94\n",
      "[2024-11-10 19:39:49] INFO      New best solver found!\n",
      "[2024-11-10 19:39:49] INFO      Attempt 2/2\n",
      "[2024-11-10 19:39:49] DEBUG     SMAC configuration, time: [100. 100.]\n",
      "[2024-11-10 19:40:09] DEBUG     SMAC iteration 1, cost: 1.79, configuration time: [50.   91.06]\n",
      "[2024-11-10 19:40:28] DEBUG     SMAC iteration 2, cost: 1.78, configuration time: [ 0.   82.15]\n",
      "[2024-11-10 19:40:41] DEBUG     SMAC iteration 3, cost: 80.28, configuration time: [ 0.   40.75]\n",
      "[2024-11-10 19:40:52] DEBUG     SMAC iteration 4, cost: 80.33, configuration time: [ 0.   -0.92]\n",
      "[2024-11-10 19:40:52] DEBUG     Validation, time: [100. 100.]\n",
      "[2024-11-10 19:41:12] DEBUG     Validation cost: 1.94, remaining validation time: [50.   90.29]\n",
      "[2024-11-10 19:41:12] INFO      Attempt 2/2: cost = 1.94\n"
     ]
    },
    {
     "data": {
      "text/plain": [
       "<src.portfolio.Portfolio at 0x227fdbd8130>"
      ]
     },
     "execution_count": 2,
     "metadata": {},
     "output_type": "execute_result"
    }
   ],
   "source": [
    "t_c = 100\n",
    "t_v = 100\n",
    "K = 2\n",
    "n = 2\n",
    "solver_class = TSP_LKH_Solver\n",
    "\n",
    "experiment = ParhydraExperiment(\n",
    "    t_c=t_c,\n",
    "    t_v=t_v,\n",
    "    K=K,\n",
    "    n=n,\n",
    "    solver_class=solver_class,\n",
    ")\n",
    "\n",
    "training_instances = [\n",
    "    TSP_Instance(\"1.tsp\", 20887545.00),\n",
    "    TSP_Instance(\"2.tsp\", 21134211.00),\n",
    "    TSP_Instance(\"3.tsp\", 21196547.00),\n",
    "    TSP_Instance(\"4.tsp\", 21428037.00),\n",
    "    TSP_Instance(\"5.tsp\", 11020488.00),\n",
    "]\n",
    "experiment.construct_portfolio(training_instances)"
   ]
  },
  {
   "cell_type": "code",
   "execution_count": 2,
   "metadata": {},
   "outputs": [
    {
     "name": "stderr",
     "output_type": "stream",
     "text": [
      "[2024-11-10 19:24:38] INFO      [GLOBAL] Start!\n",
      "[2024-11-10 19:24:38] INFO      Attempt 1/2\n",
      "[2024-11-10 19:24:38] DEBUG     SMAC configuration, time: [100. 100.]\n",
      "[2024-11-10 19:24:44] DEBUG     SMAC iteration 1, cost: 1.68, configuration time: [91.45 91.53]\n",
      "[2024-11-10 19:24:49] DEBUG     SMAC iteration 2, cost: 1.70, configuration time: [82.73 82.96]\n",
      "[2024-11-10 19:25:58] DEBUG     SMAC iteration 3, cost: 100.00, configuration time: [32.73 32.96]\n",
      "[2024-11-10 19:27:02] DEBUG     SMAC iteration 4, cost: 100.00, configuration time: [-7.27 -7.04]\n",
      "[2024-11-10 19:27:02] DEBUG     Validation, time: [100. 100.]\n",
      "[2024-11-10 19:27:07] DEBUG     Validation cost: 1.64, remaining validation time: [91.66 91.82]\n",
      "[2024-11-10 19:27:07] INFO      Attempt 1/2: cost = 1.64\n",
      "[2024-11-10 19:27:07] INFO      New best portfolio found!\n",
      "[2024-11-10 19:27:07] INFO      Attempt 2/2\n",
      "[2024-11-10 19:27:07] DEBUG     SMAC configuration, time: [100. 100.]\n",
      "[2024-11-10 19:27:12] DEBUG     SMAC iteration 1, cost: 1.63, configuration time: [91.7 91.8]\n",
      "[2024-11-10 19:27:17] DEBUG     SMAC iteration 2, cost: 1.64, configuration time: [83.34 83.62]\n",
      "[2024-11-10 19:28:25] DEBUG     SMAC iteration 3, cost: 100.00, configuration time: [33.34 33.62]\n",
      "[2024-11-10 19:29:31] DEBUG     SMAC iteration 4, cost: 100.00, configuration time: [-6.66 -6.38]\n",
      "[2024-11-10 19:29:31] DEBUG     Validation, time: [100. 100.]\n",
      "[2024-11-10 19:29:36] DEBUG     Validation cost: 1.65, remaining validation time: [91.73 91.63]\n",
      "[2024-11-10 19:29:36] INFO      Attempt 2/2: cost = 1.65\n"
     ]
    },
    {
     "data": {
      "text/plain": [
       "<src.portfolio.Portfolio at 0x176906861a0>"
      ]
     },
     "execution_count": 2,
     "metadata": {},
     "output_type": "execute_result"
    }
   ],
   "source": [
    "t_c = 100\n",
    "t_v = 100\n",
    "K = 2\n",
    "n = 2\n",
    "solver_class = TSP_LKH_Solver\n",
    "\n",
    "experiment = GlobalExperiment(\n",
    "    t_c=t_c,\n",
    "    t_v=t_v,\n",
    "    K=K,\n",
    "    n=n,\n",
    "    solver_class=solver_class,\n",
    ")\n",
    "\n",
    "training_instances = [\n",
    "    TSP_Instance(\"1.tsp\", 20887545.00),\n",
    "    TSP_Instance(\"2.tsp\", 21134211.00),\n",
    "    TSP_Instance(\"3.tsp\", 21196547.00),\n",
    "    TSP_Instance(\"4.tsp\", 21428037.00),\n",
    "    TSP_Instance(\"5.tsp\", 11020488.00),\n",
    "]\n",
    "experiment.construct_portfolio(training_instances)"
   ]
  }
 ],
 "metadata": {
  "kernelspec": {
   "display_name": "SMAC",
   "language": "python",
   "name": "python3"
  },
  "language_info": {
   "codemirror_mode": {
    "name": "ipython",
    "version": 3
   },
   "file_extension": ".py",
   "mimetype": "text/x-python",
   "name": "python",
   "nbconvert_exporter": "python",
   "pygments_lexer": "ipython3",
   "version": "3.10.15"
  }
 },
 "nbformat": 4,
 "nbformat_minor": 2
}
