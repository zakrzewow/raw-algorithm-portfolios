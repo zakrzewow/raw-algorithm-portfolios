{
 "cells": [
  {
   "cell_type": "code",
   "execution_count": 1,
   "metadata": {},
   "outputs": [],
   "source": [
    "import logging\n",
    "import os\n",
    "import numpy as np\n",
    "import pandas as pd\n",
    "\n",
    "from src.configuration_space.LKH import CONFIGURATION_SPACE\n",
    "from src.constant import DATA_DIR, MAX_WORKERS, TEMP_DIR\n",
    "from src.experiment.GlobalExperiment import GlobalExperiment\n",
    "from src.experiment.ParhydraExperiment import ParhydraExperiment\n",
    "from src.experiment.PcitExperiment import PcitExperiment, _Clustering\n",
    "from src.instance.TSP_Instance import TSP_Instance, TSP_InstanceSet\n",
    "from src.portfolio import Portfolio\n",
    "from src.solver.TSP_LKH_Solver import TSP_LKH_Solver\n",
    "pd.options.display.max_columns = 999"
   ]
  },
  {
   "cell_type": "code",
   "execution_count": 2,
   "metadata": {},
   "outputs": [],
   "source": [
    "train_instances, test_instances = TSP_InstanceSet.train_test_from_index_file(\n",
    "    filepath=DATA_DIR / \"TSP\" / \"CEPS_benchmark\" / \"index.json\",\n",
    "    train_size=10,\n",
    "    seed=0,\n",
    ")"
   ]
  },
  {
   "cell_type": "code",
   "execution_count": null,
   "metadata": {},
   "outputs": [],
   "source": [
    "# t_c = 30\n",
    "# t_v = 30\n",
    "# K = 2\n",
    "# n = 2\n",
    "# solver_class = TSP_LKH_Solver\n",
    "# instance_class= TSP_Instance\n",
    "\n",
    "# experiment = GlobalExperiment(\n",
    "#     t_c=t_c,\n",
    "#     t_v=t_v,\n",
    "#     K=K,\n",
    "#     n=n,\n",
    "#     solver_class=solver_class,\n",
    "#     instance_class=instance_class,\n",
    "# )\n",
    "\n",
    "# best_portfolio = experiment.construct_portfolio(train_instances)"
   ]
  },
  {
   "cell_type": "code",
   "execution_count": null,
   "metadata": {},
   "outputs": [],
   "source": [
    "# t_c = 30\n",
    "# t_v = 30\n",
    "# K = 2\n",
    "# n = 3\n",
    "# solver_class = TSP_LKH_Solver\n",
    "# instance_class= TSP_Instance\n",
    "\n",
    "# experiment = ParhydraExperiment(\n",
    "#     t_c=t_c,\n",
    "#     t_v=t_v,\n",
    "#     K=K,\n",
    "#     n=n,\n",
    "#     solver_class=solver_class,\n",
    "#     instance_class=instance_class,\n",
    "# )\n",
    "\n",
    "# best_portfolio = experiment.construct_portfolio(train_instances)"
   ]
  },
  {
   "cell_type": "code",
   "execution_count": 3,
   "metadata": {},
   "outputs": [
    {
     "name": "stderr",
     "output_type": "stream",
     "text": [
      "[2024-11-17 16:19:59] INFO      [PCIT] Start!\n",
      "[2024-11-17 16:19:59] INFO      Attempt 1/2\n",
      "[2024-11-17 16:19:59] INFO      Phase 1/2\n",
      "[2024-11-17 16:19:59] INFO      Clustering: {'data/TSP/CEPS_benchmark/cluster_netgen/40.tsp': 0, 'data/TSP/CEPS_benchmark/grid/04.tsp': 1, 'data/TSP/CEPS_benchmark/grid/33.tsp': 0, 'data/TSP/CEPS_benchmark/rotation/45.tsp': 1, 'data/TSP/CEPS_benchmark/uniform_portgen/11.tsp': 0, 'data/TSP/CEPS_benchmark/cluster/15.tsp': 1, 'data/TSP/CEPS_benchmark/implosion/16.tsp': 0, 'data/TSP/CEPS_benchmark/uniform_portgen/39.tsp': 1, 'data/TSP/CEPS_benchmark/expansion/09.tsp': 1, 'data/TSP/CEPS_benchmark/expansion/03.tsp': 0}\n",
      "[2024-11-17 16:19:59] DEBUG     =================================  Portfolio  ==================================\n",
      "[2024-11-17 16:19:59] DEBUG     2220588739511820280 --> ASCENT_CANDIDATES=52;BACKBONE_TRIALS=1;BACKTRACKING=YES;CANDIDATE_SET_TYPE=ALPHA;EXTRA_CANDIDATES=7;EXTRA_CANDIDATE_SET_TYPE=QUADRANT;GAIN23=NO;GAIN_CRITERION=YES;INITIAL_STEP_SIZE=1;INITIAL_TOUR_ALGORITHM=QUICK-BORUVKA;INITIAL_TOUR_FRACTION=0.5820197920751;KICKS=3;KICK_TYPE=0;MAX_BREADTH=954863081;MAX_CANDIDATES=10;MOVE_TYPE=3;PATCHING_A=3;PATCHING_C=1;POPULATION_SIZE=8;RESTRICTED_SEARCH=YES;SUBGRADIENT=YES;SUBSEQUENT_MOVE_TYPE=6;SUBSEQUENT_PATCHING=NO\n",
      "[2024-11-17 16:19:59] DEBUG     2051815471081033189 --> ASCENT_CANDIDATES=45;BACKBONE_TRIALS=0;BACKTRACKING=YES;CANDIDATE_SET_TYPE=DELAUNAY;EXTRA_CANDIDATES=10;EXTRA_CANDIDATE_SET_TYPE=QUADRANT;GAIN23=YES;GAIN_CRITERION=YES;INITIAL_STEP_SIZE=3;INITIAL_TOUR_ALGORITHM=SIERPINSKI;INITIAL_TOUR_FRACTION=0.8423420796677;KICKS=3;KICK_TYPE=5;MAX_BREADTH=1010150627;MAX_CANDIDATES=9;MOVE_TYPE=6;PATCHING_A=3;PATCHING_C=1;POPULATION_SIZE=26;RESTRICTED_SEARCH=YES;SUBGRADIENT=NO;SUBSEQUENT_MOVE_TYPE=4;SUBSEQUENT_PATCHING=NO\n",
      "[2024-11-17 16:19:59] DEBUG     ================================================================================\n",
      "[2024-11-17 16:19:59] INFO      Solver 1/2\n",
      "[2024-11-17 16:19:59] DEBUG     SMAC configuration, time: [50.]\n",
      "[2024-11-17 16:19:59] DEBUG     SMAC iteration 1, configuration: {'0__ASCENT_CANDIDATES': 52, '0__BACKBONE_TRIALS': 1, '0__BACKTRACKING': 'YES', '0__CANDIDATE_SET_TYPE': 'ALPHA', '0__EXTRA_CANDIDATES': 7, '0__EXTRA_CANDIDATE_SET_TYPE': 'QUADRANT', '0__GAIN23': 'NO', '0__GAIN_CRITERION': 'YES', '0__INITIAL_STEP_SIZE': 1, '0__INITIAL_TOUR_ALGORITHM': 'QUICK-BORUVKA', '0__INITIAL_TOUR_FRACTION': 0.5820197920751, '0__KICKS': 3, '0__KICK_TYPE': 0, '0__MAX_BREADTH': 954863081, '0__MAX_CANDIDATES': 10, '0__MOVE_TYPE': 3, '0__PATCHING_A': 3, '0__PATCHING_C': 1, '0__POPULATION_SIZE': 8, '0__RESTRICTED_SEARCH': 'YES', '0__SUBGRADIENT': 'YES', '0__SUBSEQUENT_MOVE_TYPE': 6, '0__SUBSEQUENT_PATCHING': 'NO'}\n",
      "[2024-11-17 16:19:59] DEBUG     executor start\n",
      "[2024-11-17 16:20:07] DEBUG     data/TSP/CEPS_benchmark/cluster_netgen/40.tsp features calculated\n",
      "[2024-11-17 16:20:07] DEBUG     data/TSP/CEPS_benchmark/grid/33.tsp features calculated\n",
      "[2024-11-17 16:20:07] DEBUG     data/TSP/CEPS_benchmark/uniform_portgen/11.tsp features calculated\n",
      "[2024-11-17 16:20:07] DEBUG     data/TSP/CEPS_benchmark/implosion/16.tsp features calculated\n",
      "[2024-11-17 16:20:07] DEBUG     data/TSP/CEPS_benchmark/expansion/03.tsp features calculated\n",
      "[2024-11-17 16:20:07] DEBUG     (0, 0) fn submitted\n",
      "[2024-11-17 16:20:07] DEBUG     (1, 0) fn submitted\n",
      "[2024-11-17 16:20:07] DEBUG     (2, 0) fn submitted\n",
      "[2024-11-17 16:20:07] DEBUG     (3, 0) fn submitted\n",
      "[2024-11-17 16:20:07] DEBUG     (4, 0) fn submitted\n",
      "[2024-11-17 16:20:07] DEBUG     (0, 0) result\n",
      "[2024-11-17 16:20:20] DEBUG     (0, 0) result inserted\n",
      "[2024-11-17 16:20:20] DEBUG     (1, 0) result\n",
      "[2024-11-17 16:20:20] DEBUG     (1, 0) result inserted\n",
      "[2024-11-17 16:20:20] DEBUG     (2, 0) result\n",
      "[2024-11-17 16:20:20] DEBUG     (2, 0) result inserted\n",
      "[2024-11-17 16:20:20] DEBUG     (3, 0) result\n",
      "[2024-11-17 16:20:20] DEBUG     (3, 0) result inserted\n",
      "[2024-11-17 16:20:20] DEBUG     (4, 0) result\n",
      "[2024-11-17 16:20:20] DEBUG     (4, 0) result inserted\n",
      "[2024-11-17 16:20:20] DEBUG     executor shutdown\n",
      "[2024-11-17 16:20:20] DEBUG     SMAC iteration 1, cost: 100.00, configuration time: [0.]\n",
      "[2024-11-17 16:20:20] INFO      Solver 2/2\n",
      "[2024-11-17 16:20:20] DEBUG     SMAC configuration, time: [50.]\n",
      "[2024-11-17 16:20:20] DEBUG     SMAC iteration 1, configuration: {'0__ASCENT_CANDIDATES': 45, '0__BACKBONE_TRIALS': 0, '0__BACKTRACKING': 'YES', '0__CANDIDATE_SET_TYPE': 'DELAUNAY', '0__EXTRA_CANDIDATES': 10, '0__EXTRA_CANDIDATE_SET_TYPE': 'QUADRANT', '0__GAIN23': 'YES', '0__GAIN_CRITERION': 'YES', '0__INITIAL_STEP_SIZE': 3, '0__INITIAL_TOUR_ALGORITHM': 'SIERPINSKI', '0__INITIAL_TOUR_FRACTION': 0.8423420796677, '0__KICKS': 3, '0__KICK_TYPE': 5, '0__MAX_BREADTH': 1010150627, '0__MAX_CANDIDATES': 9, '0__MOVE_TYPE': 6, '0__PATCHING_A': 3, '0__PATCHING_C': 1, '0__POPULATION_SIZE': 26, '0__RESTRICTED_SEARCH': 'YES', '0__SUBGRADIENT': 'NO', '0__SUBSEQUENT_MOVE_TYPE': 4, '0__SUBSEQUENT_PATCHING': 'NO'}\n",
      "[2024-11-17 16:20:20] DEBUG     executor start\n",
      "[2024-11-17 16:20:29] DEBUG     data/TSP/CEPS_benchmark/grid/04.tsp features calculated\n",
      "[2024-11-17 16:20:29] DEBUG     data/TSP/CEPS_benchmark/rotation/45.tsp features calculated\n",
      "[2024-11-17 16:20:29] DEBUG     data/TSP/CEPS_benchmark/cluster/15.tsp features calculated\n",
      "[2024-11-17 16:20:29] DEBUG     data/TSP/CEPS_benchmark/uniform_portgen/39.tsp features calculated\n",
      "[2024-11-17 16:20:29] DEBUG     data/TSP/CEPS_benchmark/expansion/09.tsp features calculated\n",
      "[2024-11-17 16:20:29] DEBUG     (0, 0) fn submitted\n",
      "[2024-11-17 16:20:29] DEBUG     (1, 0) fn submitted\n",
      "[2024-11-17 16:20:29] DEBUG     (2, 0) fn submitted\n",
      "[2024-11-17 16:20:29] DEBUG     (3, 0) fn submitted\n",
      "[2024-11-17 16:20:29] DEBUG     (4, 0) fn submitted\n",
      "[2024-11-17 16:20:29] DEBUG     (0, 0) result\n"
     ]
    },
    {
     "ename": "KeyboardInterrupt",
     "evalue": "",
     "output_type": "error",
     "traceback": [
      "\u001b[1;31m---------------------------------------------------------------------------\u001b[0m",
      "\u001b[1;31mKeyboardInterrupt\u001b[0m                         Traceback (most recent call last)",
      "Cell \u001b[1;32mIn[3], line 19\u001b[0m\n\u001b[0;32m      7\u001b[0m instance_class \u001b[38;5;241m=\u001b[39m TSP_Instance\n\u001b[0;32m      9\u001b[0m experiment \u001b[38;5;241m=\u001b[39m PcitExperiment(\n\u001b[0;32m     10\u001b[0m     t_c\u001b[38;5;241m=\u001b[39mt_c,\n\u001b[0;32m     11\u001b[0m     t_v\u001b[38;5;241m=\u001b[39mt_v,\n\u001b[1;32m   (...)\u001b[0m\n\u001b[0;32m     16\u001b[0m     instance_class\u001b[38;5;241m=\u001b[39minstance_class,\n\u001b[0;32m     17\u001b[0m )\n\u001b[1;32m---> 19\u001b[0m best_portfolio \u001b[38;5;241m=\u001b[39m \u001b[43mexperiment\u001b[49m\u001b[38;5;241;43m.\u001b[39;49m\u001b[43mconstruct_portfolio\u001b[49m\u001b[43m(\u001b[49m\u001b[43mtrain_instances\u001b[49m\u001b[43m)\u001b[49m\n",
      "File \u001b[1;32mc:\\Users\\zakrz\\Documents\\DataScience\\praca magisterska\\raw-algorithm-portfolios\\src\\experiment\\PcitExperiment.py:123\u001b[0m, in \u001b[0;36mPcitExperiment.construct_portfolio\u001b[1;34m(self, train_instances)\u001b[0m\n\u001b[0;32m    121\u001b[0m config \u001b[38;5;241m=\u001b[39m {\u001b[38;5;124mf\u001b[39m\u001b[38;5;124m\"\u001b[39m\u001b[38;5;124m0__\u001b[39m\u001b[38;5;132;01m{\u001b[39;00mk\u001b[38;5;132;01m}\u001b[39;00m\u001b[38;5;124m\"\u001b[39m: v \u001b[38;5;28;01mfor\u001b[39;00m k, v \u001b[38;5;129;01min\u001b[39;00m solver\u001b[38;5;241m.\u001b[39mconfig\u001b[38;5;241m.\u001b[39mitems()}\n\u001b[0;32m    122\u001b[0m config \u001b[38;5;241m=\u001b[39m Configuration(configuration_space, values\u001b[38;5;241m=\u001b[39mconfig)\n\u001b[1;32m--> 123\u001b[0m incumbent \u001b[38;5;241m=\u001b[39m \u001b[38;5;28;43mself\u001b[39;49m\u001b[38;5;241;43m.\u001b[39;49m\u001b[43m_configure_wtih_smac\u001b[49m\u001b[43m(\u001b[49m\n\u001b[0;32m    124\u001b[0m \u001b[43m    \u001b[49m\u001b[43mtemp_portfolio\u001b[49m\u001b[43m,\u001b[49m\n\u001b[0;32m    125\u001b[0m \u001b[43m    \u001b[49m\u001b[43mtemp_instances\u001b[49m\u001b[43m,\u001b[49m\n\u001b[0;32m    126\u001b[0m \u001b[43m    \u001b[49m\u001b[43mconfiguration_space\u001b[49m\u001b[43m,\u001b[49m\n\u001b[0;32m    127\u001b[0m \u001b[43m    \u001b[49m\u001b[43mconfig\u001b[49m\u001b[43m,\u001b[49m\n\u001b[0;32m    128\u001b[0m \u001b[43m\u001b[49m\u001b[43m)\u001b[49m\n\u001b[0;32m    129\u001b[0m temp_portfolio\u001b[38;5;241m.\u001b[39mupdate_config(incumbent)\n\u001b[0;32m    130\u001b[0m portfolio[i] \u001b[38;5;241m=\u001b[39m temp_portfolio[\u001b[38;5;241m0\u001b[39m]\n",
      "File \u001b[1;32mc:\\Users\\zakrz\\Documents\\DataScience\\praca magisterska\\raw-algorithm-portfolios\\src\\experiment\\__init__.py:83\u001b[0m, in \u001b[0;36mExperiment._configure_wtih_smac\u001b[1;34m(self, portfolio, train_instances, configuration_space, initial_configuration)\u001b[0m\n\u001b[0;32m     79\u001b[0m portfolio\u001b[38;5;241m.\u001b[39mupdate_config(trial_info\u001b[38;5;241m.\u001b[39mconfig)\n\u001b[0;32m     80\u001b[0m logger\u001b[38;5;241m.\u001b[39mdebug(\n\u001b[0;32m     81\u001b[0m     \u001b[38;5;124mf\u001b[39m\u001b[38;5;124m\"\u001b[39m\u001b[38;5;124mSMAC iteration \u001b[39m\u001b[38;5;132;01m{\u001b[39;00miteration\u001b[38;5;132;01m}\u001b[39;00m\u001b[38;5;124m, configuration: \u001b[39m\u001b[38;5;132;01m{\u001b[39;00m\u001b[38;5;28mdict\u001b[39m(trial_info\u001b[38;5;241m.\u001b[39mconfig)\u001b[38;5;132;01m}\u001b[39;00m\u001b[38;5;124m\"\u001b[39m\n\u001b[0;32m     82\u001b[0m )\n\u001b[1;32m---> 83\u001b[0m cost \u001b[38;5;241m=\u001b[39m \u001b[43mportfolio\u001b[49m\u001b[38;5;241;43m.\u001b[39;49m\u001b[43mevaluate\u001b[49m\u001b[43m(\u001b[49m\n\u001b[0;32m     84\u001b[0m \u001b[43m    \u001b[49m\u001b[43mtrain_instances\u001b[49m\u001b[43m,\u001b[49m\n\u001b[0;32m     85\u001b[0m \u001b[43m    \u001b[49m\u001b[43mconfiguration_time\u001b[49m\u001b[43m,\u001b[49m\n\u001b[0;32m     86\u001b[0m \u001b[43m    \u001b[49m\u001b[38;5;124;43m\"\u001b[39;49m\u001b[38;5;124;43mconfiguration\u001b[39;49m\u001b[38;5;124;43m\"\u001b[39;49m\u001b[43m,\u001b[49m\n\u001b[0;32m     87\u001b[0m \u001b[43m    \u001b[49m\u001b[43mcalculate_instance_features\u001b[49m\u001b[38;5;241;43m=\u001b[39;49m\u001b[38;5;28;43mself\u001b[39;49m\u001b[38;5;241;43m.\u001b[39;49m\u001b[43mCALCULATE_INSTANCE_FEATURES\u001b[49m\u001b[43m,\u001b[49m\n\u001b[0;32m     88\u001b[0m \u001b[43m\u001b[49m\u001b[43m)\u001b[49m\n\u001b[0;32m     89\u001b[0m logger\u001b[38;5;241m.\u001b[39mdebug(\n\u001b[0;32m     90\u001b[0m     \u001b[38;5;124mf\u001b[39m\u001b[38;5;124m\"\u001b[39m\u001b[38;5;124mSMAC iteration \u001b[39m\u001b[38;5;132;01m{\u001b[39;00miteration\u001b[38;5;132;01m}\u001b[39;00m\u001b[38;5;124m, cost: \u001b[39m\u001b[38;5;132;01m{\u001b[39;00mcost\u001b[38;5;132;01m:\u001b[39;00m\u001b[38;5;124m.2f\u001b[39m\u001b[38;5;132;01m}\u001b[39;00m\u001b[38;5;124m, configuration time: \u001b[39m\u001b[38;5;132;01m{\u001b[39;00mconfiguration_time\u001b[38;5;132;01m}\u001b[39;00m\u001b[38;5;124m\"\u001b[39m\n\u001b[0;32m     91\u001b[0m )\n\u001b[0;32m     92\u001b[0m trial_value \u001b[38;5;241m=\u001b[39m TrialValue(cost\u001b[38;5;241m=\u001b[39mcost)\n",
      "File \u001b[1;32mc:\\Users\\zakrz\\Documents\\DataScience\\praca magisterska\\raw-algorithm-portfolios\\src\\portfolio\\__init__.py:136\u001b[0m, in \u001b[0;36mPortfolio.evaluate\u001b[1;34m(self, instances, remaining_time, comment, calculate_instance_features)\u001b[0m\n\u001b[0;32m    134\u001b[0m logger\u001b[38;5;241m.\u001b[39mdebug(\u001b[38;5;124mf\u001b[39m\u001b[38;5;124m\"\u001b[39m\u001b[38;5;124m(\u001b[39m\u001b[38;5;132;01m{\u001b[39;00mi\u001b[38;5;132;01m}\u001b[39;00m\u001b[38;5;124m, \u001b[39m\u001b[38;5;132;01m{\u001b[39;00mj\u001b[38;5;132;01m}\u001b[39;00m\u001b[38;5;124m) result\u001b[39m\u001b[38;5;124m\"\u001b[39m)\n\u001b[0;32m    135\u001b[0m \u001b[38;5;28;01mtry\u001b[39;00m:\n\u001b[1;32m--> 136\u001b[0m     cost, time \u001b[38;5;241m=\u001b[39m \u001b[43mfuture\u001b[49m\u001b[38;5;241;43m.\u001b[39;49m\u001b[43mresult\u001b[49m\u001b[43m(\u001b[49m\u001b[43mtimeout\u001b[49m\u001b[38;5;241;43m=\u001b[39;49m\u001b[38;5;241;43m13\u001b[39;49m\u001b[43m)\u001b[49m\n\u001b[0;32m    137\u001b[0m \u001b[38;5;28;01mexcept\u001b[39;00m concurrent\u001b[38;5;241m.\u001b[39mfutures\u001b[38;5;241m.\u001b[39mTimeoutError:\n\u001b[0;32m    138\u001b[0m     future\u001b[38;5;241m.\u001b[39mcancel()\n",
      "File \u001b[1;32mc:\\Users\\zakrz\\miniconda3\\envs\\SMAC\\lib\\concurrent\\futures\\_base.py:453\u001b[0m, in \u001b[0;36mFuture.result\u001b[1;34m(self, timeout)\u001b[0m\n\u001b[0;32m    450\u001b[0m \u001b[38;5;28;01melif\u001b[39;00m \u001b[38;5;28mself\u001b[39m\u001b[38;5;241m.\u001b[39m_state \u001b[38;5;241m==\u001b[39m FINISHED:\n\u001b[0;32m    451\u001b[0m     \u001b[38;5;28;01mreturn\u001b[39;00m \u001b[38;5;28mself\u001b[39m\u001b[38;5;241m.\u001b[39m__get_result()\n\u001b[1;32m--> 453\u001b[0m \u001b[38;5;28;43mself\u001b[39;49m\u001b[38;5;241;43m.\u001b[39;49m\u001b[43m_condition\u001b[49m\u001b[38;5;241;43m.\u001b[39;49m\u001b[43mwait\u001b[49m\u001b[43m(\u001b[49m\u001b[43mtimeout\u001b[49m\u001b[43m)\u001b[49m\n\u001b[0;32m    455\u001b[0m \u001b[38;5;28;01mif\u001b[39;00m \u001b[38;5;28mself\u001b[39m\u001b[38;5;241m.\u001b[39m_state \u001b[38;5;129;01min\u001b[39;00m [CANCELLED, CANCELLED_AND_NOTIFIED]:\n\u001b[0;32m    456\u001b[0m     \u001b[38;5;28;01mraise\u001b[39;00m CancelledError()\n",
      "File \u001b[1;32mc:\\Users\\zakrz\\miniconda3\\envs\\SMAC\\lib\\threading.py:324\u001b[0m, in \u001b[0;36mCondition.wait\u001b[1;34m(self, timeout)\u001b[0m\n\u001b[0;32m    322\u001b[0m \u001b[38;5;28;01melse\u001b[39;00m:\n\u001b[0;32m    323\u001b[0m     \u001b[38;5;28;01mif\u001b[39;00m timeout \u001b[38;5;241m>\u001b[39m \u001b[38;5;241m0\u001b[39m:\n\u001b[1;32m--> 324\u001b[0m         gotit \u001b[38;5;241m=\u001b[39m \u001b[43mwaiter\u001b[49m\u001b[38;5;241;43m.\u001b[39;49m\u001b[43macquire\u001b[49m\u001b[43m(\u001b[49m\u001b[38;5;28;43;01mTrue\u001b[39;49;00m\u001b[43m,\u001b[49m\u001b[43m \u001b[49m\u001b[43mtimeout\u001b[49m\u001b[43m)\u001b[49m\n\u001b[0;32m    325\u001b[0m     \u001b[38;5;28;01melse\u001b[39;00m:\n\u001b[0;32m    326\u001b[0m         gotit \u001b[38;5;241m=\u001b[39m waiter\u001b[38;5;241m.\u001b[39macquire(\u001b[38;5;28;01mFalse\u001b[39;00m)\n",
      "\u001b[1;31mKeyboardInterrupt\u001b[0m: "
     ]
    }
   ],
   "source": [
    "t_c = 100\n",
    "t_v = 100\n",
    "K = 2\n",
    "n = 2\n",
    "max_iter = 2\n",
    "solver_class = TSP_LKH_Solver\n",
    "instance_class = TSP_Instance\n",
    "\n",
    "experiment = PcitExperiment(\n",
    "    t_c=t_c,\n",
    "    t_v=t_v,\n",
    "    K=K,\n",
    "    n=n,\n",
    "    max_iter=max_iter,\n",
    "    solver_class=solver_class,\n",
    "    instance_class=instance_class,\n",
    ")\n",
    "\n",
    "best_portfolio = experiment.construct_portfolio(train_instances)"
   ]
  },
  {
   "cell_type": "code",
   "execution_count": null,
   "metadata": {},
   "outputs": [],
   "source": [
    "# remaining_time = np.ones(shape=(K, )) * np.inf\n",
    "# best_portfolio.evaluate(test_instances, remaining_time, \"test\")"
   ]
  },
  {
   "cell_type": "code",
   "execution_count": null,
   "metadata": {},
   "outputs": [],
   "source": [
    "from src.database import db_connect\n",
    "conn = db_connect()"
   ]
  },
  {
   "cell_type": "code",
   "execution_count": null,
   "metadata": {},
   "outputs": [],
   "source": [
    "import sqlite3\n",
    "# conn = sqlite3.connect(\"_archive/3/PARHYDRA.db\")\n",
    "conn = sqlite3.connect(\"database/2024_11_16_23_14_00.db\")"
   ]
  },
  {
   "cell_type": "code",
   "execution_count": null,
   "metadata": {},
   "outputs": [],
   "source": [
    "df_solvers = pd.read_sql_query(\"SELECT * FROM solvers\", conn)\n",
    "df_solvers"
   ]
  },
  {
   "cell_type": "code",
   "execution_count": null,
   "metadata": {},
   "outputs": [],
   "source": [
    "df_instances = pd.read_sql_query(\"SELECT * FROM instances\", conn)\n",
    "df_instances"
   ]
  },
  {
   "cell_type": "code",
   "execution_count": null,
   "metadata": {},
   "outputs": [],
   "source": [
    "df = pd.read_sql_query(\"SELECT * FROM results\", conn)\n",
    "# df.to_excel(\"tmp.xlsx\")\n",
    "df"
   ]
  },
  {
   "cell_type": "code",
   "execution_count": null,
   "metadata": {},
   "outputs": [],
   "source": [
    "df.loc[df[\"solver_id\"] == 1333412370196243425]"
   ]
  },
  {
   "cell_type": "code",
   "execution_count": null,
   "metadata": {},
   "outputs": [],
   "source": [
    "574052600841816340"
   ]
  },
  {
   "cell_type": "code",
   "execution_count": null,
   "metadata": {},
   "outputs": [],
   "source": [
    "df.loc[df[\"comment\"] == \"configuration\"]"
   ]
  },
  {
   "cell_type": "code",
   "execution_count": null,
   "metadata": {},
   "outputs": [],
   "source": [
    "_ = df.loc[df[\"comment\"] == \"test\"].pivot_table(index=\"instance_id\", columns=\"solver_id\", values=\"cost\")\n",
    "_[\"best\"] = np.argmin(_.values, axis=1)\n",
    "_[\"min\"] = _.iloc[:, :-1].min(axis=1)\n",
    "_"
   ]
  },
  {
   "cell_type": "code",
   "execution_count": null,
   "metadata": {},
   "outputs": [],
   "source": [
    "_[\"min\"].describe()"
   ]
  },
  {
   "cell_type": "code",
   "execution_count": null,
   "metadata": {},
   "outputs": [],
   "source": [
    "(_[\"min\"] > 90).value_counts()"
   ]
  },
  {
   "cell_type": "code",
   "execution_count": null,
   "metadata": {},
   "outputs": [],
   "source": [
    "_.loc[lambda x: x[\"min\"] < 90, \"best\"].value_counts()"
   ]
  },
  {
   "cell_type": "code",
   "execution_count": null,
   "metadata": {},
   "outputs": [],
   "source": [
    "_.sort_values(by=\"min\")"
   ]
  },
  {
   "cell_type": "code",
   "execution_count": null,
   "metadata": {},
   "outputs": [],
   "source": [
    "# config = df_solvers.loc[df_solvers[\"id\"] == \"OJQGNYe__-omEPLuUJkSzOuFdCnYPLzZd99VQqxW2gM=\"].drop(columns=[\"id\"]).iloc[0].to_dict()\n",
    "# config = Configuration(configuration_space=CONFIGURATION_SPACE, values=config)\n",
    "# solver = TSP_LKH_Solver(config=config)\n",
    "\n",
    "# instance = TSP_Instance(filepath=\"data/TSP/CEPS_benchmark/cluster_netgen/18.tsp\", optimum=10555222.0)\n",
    "\n",
    "# solver.solve(instance)"
   ]
  },
  {
   "cell_type": "code",
   "execution_count": null,
   "metadata": {},
   "outputs": [],
   "source": [
    "# import json\n",
    "# with open(DATA_DIR / \"TSP\" / \"index.json\") as f:\n",
    "#     index = json.load(f)\n",
    "\n",
    "# new_index = {}\n",
    "\n",
    "# for k, v in index.items():\n",
    "#     path = k.split(\"/\")\n",
    "#     file = path[-1]\n",
    "#     file_no_ext = file.split(\".\")[0]\n",
    "#     if \"_\" in file_no_ext:\n",
    "#         a, b = file_no_ext.split(\"_\")\n",
    "#         n = str((int(a) - 4) * 10 + int(b)).zfill(2)\n",
    "#         new_file = f\"{n}.tsp\"\n",
    "#     else:\n",
    "#         file_no_ext = str(int(file_no_ext)).zfill(2)\n",
    "#         new_file = f\"{file_no_ext}.tsp\"\n",
    "#     new_path = path[:-1] + [new_file]\n",
    "#     new_k = \"/\".join(new_path)\n",
    "#     new_index[new_k] = float(v)\n",
    "\n",
    "#     path1 = DATA_DIR / k;\n",
    "#     path2 = DATA_DIR / new_k;\n",
    "#     path1.rename(path2)\n",
    "\n",
    "# new_index = {k: new_index[k] for k in sorted(new_index.keys())}\n",
    "\n",
    "# with open(DATA_DIR / \"TSP\" / \"index.json\", \"w\") as f:\n",
    "#     json.dump(new_index, f, indent=4)\n",
    "\n",
    "# new_index"
   ]
  }
 ],
 "metadata": {
  "kernelspec": {
   "display_name": "SMAC",
   "language": "python",
   "name": "python3"
  },
  "language_info": {
   "codemirror_mode": {
    "name": "ipython",
    "version": 3
   },
   "file_extension": ".py",
   "mimetype": "text/x-python",
   "name": "python",
   "nbconvert_exporter": "python",
   "pygments_lexer": "ipython3",
   "version": "3.10.15"
  }
 },
 "nbformat": 4,
 "nbformat_minor": 2
}
