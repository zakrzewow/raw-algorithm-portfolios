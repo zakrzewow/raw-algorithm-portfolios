{
 "cells": [
  {
   "cell_type": "code",
   "execution_count": 1,
   "metadata": {},
   "outputs": [],
   "source": [
    "import numpy as np\n",
    "import pandas as pd\n",
    "\n",
    "from src.constant import DATA_DIR, MAIN_DIR\n",
    "from src.database import DB\n",
    "from src.database.queries import *\n",
    "from src.instance.InstanceList import InstanceList\n",
    "from src.instance.TSP_Instance import TSP_from_index_file\n",
    "from src.solver.TSP_LKH_Solver import TSP_LKH_Solver"
   ]
  },
  {
   "cell_type": "code",
   "execution_count": null,
   "metadata": {},
   "outputs": [
    {
     "data": {
      "image/png": "[encoded data removed]",
      "text/plain": [
       "<Figure size 640x480 with 1 Axes>"
      ]
     },
     "metadata": {},
     "output_type": "display_data"
    }
   ],
   "source": [
    "import matplotlib.pyplot as plt\n",
    "\n",
    "plt.rcParams[\"axes.grid\"] = True\n",
    "plt.rcParams[\"grid.alpha\"] = 0.2\n",
    "plt.rcParams[\"grid.color\"] = \"#cccccc\"\n",
    "plt.rcParams[\"axes.xmargin\"] = 0\n",
    "\n",
    "db_path = list((MAIN_DIR / \"_archive\" / \"experiments\" / \"2025-01-27\" / \"200\" / \"database\").glob(f\"run-plain-30-*.db\"))[0]\n",
    "db = DB(db_path)\n",
    "results = pd.read_sql_query(\"SELECT * FROM results\", db._conn)\n",
    "results.loc[\n",
    "    results[\"prefix\"].str.startswith(\"config\")\n",
    "    & results[\"cached\"].eq(0)\n",
    "    & results[\"surrogate\"].eq(0)\n",
    "    & results[\"cost\"].lt(TSP_LKH_Solver.MAX_COST),\n",
    "    \"time\",\n",
    "].plot.hist(bins=50)\n",
    "plt.xlim(0, 10)\n",
    "plt.title\n",
    "plt.show()"
   ]
  },
  {
   "cell_type": "code",
   "execution_count": 42,
   "metadata": {},
   "outputs": [
    {
     "data": {
      "text/plain": [
       "count    2996.000000\n",
       "mean        1.434296\n",
       "std         2.125055\n",
       "min         0.000000\n",
       "25%         0.130000\n",
       "50%         0.470000\n",
       "75%         1.637478\n",
       "max        12.038960\n",
       "Name: time, dtype: float64"
      ]
     },
     "execution_count": 42,
     "metadata": {},
     "output_type": "execute_result"
    }
   ],
   "source": [
    "results.loc[\n",
    "    results[\"prefix\"].str.startswith(\"config\")\n",
    "    & results[\"cached\"].eq(0)\n",
    "    & results[\"surrogate\"].eq(0)\n",
    "    & results[\"cost\"].lt(TSP_LKH_Solver.MAX_COST),\n",
    "    \"time\",\n",
    "].describe()"
   ]
  },
  {
   "cell_type": "code",
   "execution_count": 43,
   "metadata": {},
   "outputs": [
    {
     "data": {
      "text/plain": [
       "<Axes: ylabel='Frequency'>"
      ]
     },
     "execution_count": 43,
     "metadata": {},
     "output_type": "execute_result"
    },
    {
     "data": {
      "image/png": "[encoded data removed]",
      "text/plain": [
       "<Figure size 640x480 with 1 Axes>"
      ]
     },
     "metadata": {},
     "output_type": "display_data"
    }
   ],
   "source": [
    "db_path = list((MAIN_DIR / \"_archive\" / \"experiments\" / \"2025-01-27\" / \"600\" / \"database\").glob(f\"run-plain-30-*.db\"))[0]\n",
    "db = DB(db_path)\n",
    "results = pd.read_sql_query(\"SELECT * FROM results\", db._conn)\n",
    "results.loc[\n",
    "    results[\"prefix\"].str.startswith(\"config\")\n",
    "    & results[\"cached\"].eq(0)\n",
    "    & results[\"surrogate\"].eq(0)\n",
    "    & results[\"cost\"].lt(TSP_LKH_Solver.MAX_COST),\n",
    "    \"time\",\n",
    "].plot.hist(bins=50)"
   ]
  },
  {
   "cell_type": "code",
   "execution_count": 44,
   "metadata": {},
   "outputs": [
    {
     "data": {
      "text/plain": [
       "count    1404.000000\n",
       "mean        3.163501\n",
       "std         2.600401\n",
       "min         0.040000\n",
       "25%         1.000000\n",
       "50%         2.435000\n",
       "75%         4.850000\n",
       "max         9.870000\n",
       "Name: time, dtype: float64"
      ]
     },
     "execution_count": 44,
     "metadata": {},
     "output_type": "execute_result"
    }
   ],
   "source": [
    "results.loc[\n",
    "    results[\"prefix\"].str.startswith(\"config\")\n",
    "    & results[\"cached\"].eq(0)\n",
    "    & results[\"surrogate\"].eq(0)\n",
    "    & results[\"cost\"].lt(TSP_LKH_Solver.MAX_COST),\n",
    "    \"time\",\n",
    "].describe()"
   ]
  },
  {
   "cell_type": "code",
   "execution_count": 64,
   "metadata": {},
   "outputs": [
    {
     "name": "stdout",
     "output_type": "stream",
     "text": [
      "plain: 9.39 h\n",
      "sur25: 8.10 h\n",
      "sur50: 7.12 h\n",
      "sur75: 5.98 h\n"
     ]
    }
   ],
   "source": [
    "def agg_prefix(prefix):\n",
    "    times = {}\n",
    "    for idx, db_path in enumerate((MAIN_DIR / \"_archive\" / \"experiments\" / \"2025-01-27\" / \"600\" / \"database\").glob(f\"{prefix}-*.db\")):\n",
    "        db = DB(db_path)\n",
    "        results = pd.read_sql_query(\"SELECT * FROM results\", db._conn)\n",
    "        times[idx] = results.loc[\n",
    "            results[\"prefix\"].str.startswith(\"config\")\n",
    "            & results[\"cached\"].eq(0)\n",
    "            & results[\"surrogate\"].eq(0),\n",
    "            \"time\",\n",
    "        ].sum() / 3600\n",
    "    return np.round(pd.Series(times).mean(), 2)\n",
    "\n",
    "n = 30\n",
    "plain = agg_prefix(f\"run-plain-{n}\")\n",
    "sur25 = agg_prefix(f\"run-{n}-sur-25\")\n",
    "sur50 = agg_prefix(f\"run-{n}-sur-50\")\n",
    "sur75 = agg_prefix(f\"run-{n}-sur-75\")\n",
    "\n",
    "print(f\"plain: {plain:.2f} h\")\n",
    "print(f\"sur25: {sur25:.2f} h\")\n",
    "print(f\"sur50: {sur50:.2f} h\")\n",
    "print(f\"sur75: {sur75:.2f} h\")"
   ]
  },
  {
   "cell_type": "code",
   "execution_count": 46,
   "metadata": {},
   "outputs": [
    {
     "name": "stdout",
     "output_type": "stream",
     "text": [
      "plain: 1.22\n",
      "sur25: 1.25\n",
      "sur50: 1.28\n",
      "sur75: 1.29\n"
     ]
    }
   ],
   "source": [
    "# skip cutt-offs\n",
    "def agg_prefix(prefix):\n",
    "    times = {}\n",
    "    for idx, db_path in enumerate((MAIN_DIR / \"_archive\" / \"experiments\" / \"2025-01-27\" / \"200\" / \"database\").glob(f\"{prefix}-*.db\")):\n",
    "        db = DB(db_path)\n",
    "        results = pd.read_sql_query(\"SELECT * FROM results\", db._conn)\n",
    "        times[idx] = results.loc[\n",
    "            results[\"prefix\"].str.startswith(\"config\")\n",
    "            & results[\"cached\"].eq(0)\n",
    "            & results[\"surrogate\"].eq(0)\n",
    "            & results[\"cost\"].lt(TSP_LKH_Solver.MAX_COST),\n",
    "            \"time\",\n",
    "        ].mean()\n",
    "    return np.round(pd.Series(times).mean(), 2)\n",
    "\n",
    "n = 30\n",
    "plain = agg_prefix(f\"run-plain-{n}\")\n",
    "sur25 = agg_prefix(f\"run-{n}-sur-25\")\n",
    "sur50 = agg_prefix(f\"run-{n}-sur-50\")\n",
    "sur75 = agg_prefix(f\"run-{n}-sur-75\")\n",
    "\n",
    "print(f\"plain: {plain:.2f}\")\n",
    "print(f\"sur25: {sur25:.2f}\")\n",
    "print(f\"sur50: {sur50:.2f}\")\n",
    "print(f\"sur75: {sur75:.2f}\")"
   ]
  },
  {
   "cell_type": "code",
   "execution_count": 29,
   "metadata": {},
   "outputs": [
    {
     "name": "stdout",
     "output_type": "stream",
     "text": [
      "plain: 0.30\n",
      "sur25: 0.31\n",
      "sur50: 0.32\n",
      "sur75: 0.32\n"
     ]
    }
   ],
   "source": [
    "# % cutt-offs\n",
    "def agg_prefix(prefix):\n",
    "    times = {}\n",
    "    for idx, db_path in enumerate((MAIN_DIR / \"_archive\" / \"experiments\" / \"2025-01-27\" / \"200\" / \"database\").glob(f\"{prefix}-*.db\")):\n",
    "        db = DB(db_path)\n",
    "        results = pd.read_sql_query(\"SELECT * FROM results\", db._conn)\n",
    "        times[idx] = results.loc[\n",
    "            results[\"prefix\"].str.startswith(\"config\")\n",
    "            & results[\"cached\"].eq(0)\n",
    "            & results[\"surrogate\"].eq(0),\n",
    "            \"cost\"\n",
    "        ].eq(TSP_LKH_Solver.MAX_COST).mean()\n",
    "    return np.round(pd.Series(times).mean(), 2)\n",
    "\n",
    "n = 30\n",
    "plain = agg_prefix(f\"run-plain-{n}\")\n",
    "sur25 = agg_prefix(f\"run-{n}-sur-25\")\n",
    "sur50 = agg_prefix(f\"run-{n}-sur-50\")\n",
    "sur75 = agg_prefix(f\"run-{n}-sur-75\")\n",
    "\n",
    "print(f\"plain: {plain:.2f}\")\n",
    "print(f\"sur25: {sur25:.2f}\")\n",
    "print(f\"sur50: {sur50:.2f}\")\n",
    "print(f\"sur75: {sur75:.2f}\")"
   ]
  }
 ],
 "metadata": {
  "kernelspec": {
   "display_name": "SMAC",
   "language": "python",
   "name": "python3"
  },
  "language_info": {
   "codemirror_mode": {
    "name": "ipython",
    "version": 3
   },
   "file_extension": ".py",
   "mimetype": "text/x-python",
   "name": "python",
   "nbconvert_exporter": "python",
   "pygments_lexer": "ipython3",
   "version": "3.10.15"
  }
 },
 "nbformat": 4,
 "nbformat_minor": 2
}
