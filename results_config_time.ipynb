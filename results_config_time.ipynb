{
 "cells": [
  {
   "cell_type": "code",
   "execution_count": 1,
   "metadata": {},
   "outputs": [],
   "source": [
    "import numpy as np\n",
    "import pandas as pd\n",
    "\n",
    "from src.constant import DATA_DIR, MAIN_DIR\n",
    "from src.database import DB\n",
    "from src.database.queries import *\n",
    "from src.instance.InstanceList import InstanceList\n",
    "from src.instance.TSP_Instance import TSP_from_index_file\n",
    "from src.solver.TSP_LKH_Solver import TSP_LKH_Solver"
   ]
  },
  {
   "cell_type": "code",
   "execution_count": 2,
   "metadata": {},
   "outputs": [
    {
     "ename": "IndexError",
     "evalue": "list index out of range",
     "output_type": "error",
     "traceback": [
      "\u001b[1;31m---------------------------------------------------------------------------\u001b[0m",
      "\u001b[1;31mIndexError\u001b[0m                                Traceback (most recent call last)",
      "Cell \u001b[1;32mIn[2], line 8\u001b[0m\n\u001b[0;32m      5\u001b[0m plt\u001b[38;5;241m.\u001b[39mrcParams[\u001b[38;5;124m\"\u001b[39m\u001b[38;5;124mgrid.color\u001b[39m\u001b[38;5;124m\"\u001b[39m] \u001b[38;5;241m=\u001b[39m \u001b[38;5;124m\"\u001b[39m\u001b[38;5;124m#cccccc\u001b[39m\u001b[38;5;124m\"\u001b[39m\n\u001b[0;32m      6\u001b[0m plt\u001b[38;5;241m.\u001b[39mrcParams[\u001b[38;5;124m\"\u001b[39m\u001b[38;5;124maxes.xmargin\u001b[39m\u001b[38;5;124m\"\u001b[39m] \u001b[38;5;241m=\u001b[39m \u001b[38;5;241m0\u001b[39m\n\u001b[1;32m----> 8\u001b[0m db_path \u001b[38;5;241m=\u001b[39m \u001b[38;5;28;43mlist\u001b[39;49m\u001b[43m(\u001b[49m\u001b[43m(\u001b[49m\u001b[43mMAIN_DIR\u001b[49m\u001b[43m \u001b[49m\u001b[38;5;241;43m/\u001b[39;49m\u001b[43m \u001b[49m\u001b[38;5;124;43m\"\u001b[39;49m\u001b[38;5;124;43m_archive\u001b[39;49m\u001b[38;5;124;43m\"\u001b[39;49m\u001b[43m \u001b[49m\u001b[38;5;241;43m/\u001b[39;49m\u001b[43m \u001b[49m\u001b[38;5;124;43m\"\u001b[39;49m\u001b[38;5;124;43mexperiments\u001b[39;49m\u001b[38;5;124;43m\"\u001b[39;49m\u001b[43m \u001b[49m\u001b[38;5;241;43m/\u001b[39;49m\u001b[43m \u001b[49m\u001b[38;5;124;43m\"\u001b[39;49m\u001b[38;5;124;43m2025-01-27\u001b[39;49m\u001b[38;5;124;43m\"\u001b[39;49m\u001b[43m \u001b[49m\u001b[38;5;241;43m/\u001b[39;49m\u001b[43m \u001b[49m\u001b[38;5;124;43m\"\u001b[39;49m\u001b[38;5;124;43m200\u001b[39;49m\u001b[38;5;124;43m\"\u001b[39;49m\u001b[43m \u001b[49m\u001b[38;5;241;43m/\u001b[39;49m\u001b[43m \u001b[49m\u001b[38;5;124;43m\"\u001b[39;49m\u001b[38;5;124;43mdatabase\u001b[39;49m\u001b[38;5;124;43m\"\u001b[39;49m\u001b[43m)\u001b[49m\u001b[38;5;241;43m.\u001b[39;49m\u001b[43mglob\u001b[49m\u001b[43m(\u001b[49m\u001b[38;5;124;43mf\u001b[39;49m\u001b[38;5;124;43m\"\u001b[39;49m\u001b[38;5;124;43mrun-plain-30-*.db\u001b[39;49m\u001b[38;5;124;43m\"\u001b[39;49m\u001b[43m)\u001b[49m\u001b[43m)\u001b[49m\u001b[43m[\u001b[49m\u001b[38;5;241;43m1\u001b[39;49m\u001b[43m]\u001b[49m\n\u001b[0;32m      9\u001b[0m db \u001b[38;5;241m=\u001b[39m DB(db_path)\n\u001b[0;32m     10\u001b[0m results \u001b[38;5;241m=\u001b[39m pd\u001b[38;5;241m.\u001b[39mread_sql_query(\u001b[38;5;124m\"\u001b[39m\u001b[38;5;124mSELECT * FROM results\u001b[39m\u001b[38;5;124m\"\u001b[39m, db\u001b[38;5;241m.\u001b[39m_conn)\n",
      "\u001b[1;31mIndexError\u001b[0m: list index out of range"
     ]
    }
   ],
   "source": [
    "import matplotlib.pyplot as plt\n",
    "\n",
    "plt.rcParams[\"axes.grid\"] = True\n",
    "plt.rcParams[\"grid.alpha\"] = 0.2\n",
    "plt.rcParams[\"grid.color\"] = \"#cccccc\"\n",
    "plt.rcParams[\"axes.xmargin\"] = 0\n",
    "\n",
    "db_path = list((MAIN_DIR / \"_archive\" / \"experiments\" / \"2025-01-27\" / \"200\" / \"database\").glob(f\"run-plain-30-*.db\"))[1]\n",
    "db = DB(db_path)\n",
    "results = pd.read_sql_query(\"SELECT * FROM results\", db._conn)\n",
    "results.loc[\n",
    "    results[\"prefix\"].str.startswith(\"config\")\n",
    "    & results[\"cached\"].eq(0)\n",
    "    & results[\"surrogate\"].eq(0)\n",
    "    & results[\"cost\"].lt(TSP_LKH_Solver.MAX_COST),\n",
    "    \"time\",\n",
    "].plot.hist(bins=50)\n",
    "plt.xlim(0, 10)\n",
    "plt.title\n",
    "plt.show()"
   ]
  },
  {
   "cell_type": "code",
   "execution_count": 125,
   "metadata": {},
   "outputs": [
    {
     "data": {
      "text/plain": [
       "count    3267.000000\n",
       "mean        1.051145\n",
       "std         1.796130\n",
       "min         0.000000\n",
       "25%         0.060000\n",
       "50%         0.260000\n",
       "75%         1.090000\n",
       "max         9.920000\n",
       "Name: time, dtype: float64"
      ]
     },
     "execution_count": 125,
     "metadata": {},
     "output_type": "execute_result"
    }
   ],
   "source": [
    "results.loc[\n",
    "    results[\"prefix\"].str.startswith(\"config\")\n",
    "    & results[\"cached\"].eq(0)\n",
    "    & results[\"surrogate\"].eq(0)\n",
    "    & results[\"cost\"].lt(TSP_LKH_Solver.MAX_COST),\n",
    "    \"time\",\n",
    "].describe()"
   ]
  },
  {
   "cell_type": "code",
   "execution_count": 126,
   "metadata": {},
   "outputs": [
    {
     "data": {
      "text/plain": [
       "(0.274, 0.726)"
      ]
     },
     "execution_count": 126,
     "metadata": {},
     "output_type": "execute_result"
    }
   ],
   "source": [
    "(4500 - 3267) / 4500, 3267 / 4500"
   ]
  },
  {
   "cell_type": "code",
   "execution_count": 164,
   "metadata": {},
   "outputs": [
    {
     "data": {
      "text/plain": [
       "count    1836.000000\n",
       "mean        0.112002\n",
       "std         0.167162\n",
       "min         0.000000\n",
       "25%         0.040000\n",
       "50%         0.075000\n",
       "75%         0.160000\n",
       "max         5.805047\n",
       "Name: time, dtype: float64"
      ]
     },
     "execution_count": 164,
     "metadata": {},
     "output_type": "execute_result"
    }
   ],
   "source": [
    "results.loc[\n",
    "    results[\"prefix\"].str.startswith(\"config\")\n",
    "    & results[\"cached\"].eq(0)\n",
    "    & results[\"surrogate\"].eq(0)\n",
    "    & results[\"cost\"].lt(0.37),\n",
    "    \"time\",\n",
    "].describe()"
   ]
  },
  {
   "cell_type": "code",
   "execution_count": 169,
   "metadata": {},
   "outputs": [
    {
     "data": {
      "text/plain": [
       "0.33092104442384507"
      ]
     },
     "execution_count": 169,
     "metadata": {},
     "output_type": "execute_result"
    }
   ],
   "source": [
    "(results.loc[\n",
    "    results[\"prefix\"].str.startswith(\"config\")\n",
    "    & results[\"cached\"].eq(0)\n",
    "    & results[\"surrogate\"].eq(0)\n",
    "    & results[\"cost\"].lt(0.37),\n",
    "    \"time\",\n",
    "].sum() + (4500 - 1836) * 0.37) / 3600"
   ]
  },
  {
   "cell_type": "code",
   "execution_count": 170,
   "metadata": {},
   "outputs": [
    {
     "data": {
      "text/plain": [
       "0.037037037037037035"
      ]
     },
     "execution_count": 170,
     "metadata": {},
     "output_type": "execute_result"
    }
   ],
   "source": [
    "0.33 / 8.91"
   ]
  },
  {
   "cell_type": "code",
   "execution_count": 165,
   "metadata": {},
   "outputs": [
    {
     "data": {
      "text/plain": [
       "(0.592, 0.408)"
      ]
     },
     "execution_count": 165,
     "metadata": {},
     "output_type": "execute_result"
    }
   ],
   "source": [
    "(4500 - 1836) / 4500, 1836 / 4500"
   ]
  },
  {
   "cell_type": "code",
   "execution_count": 166,
   "metadata": {},
   "outputs": [
    {
     "data": {
      "text/plain": [
       "0.03819444444444445"
      ]
     },
     "execution_count": 166,
     "metadata": {},
     "output_type": "execute_result"
    }
   ],
   "source": [
    "0.11 / 2.88"
   ]
  },
  {
   "cell_type": "code",
   "execution_count": 163,
   "metadata": {},
   "outputs": [
    {
     "data": {
      "image/png": "[encoded data removed]",
      "text/plain": [
       "<Figure size 1000x300 with 1 Axes>"
      ]
     },
     "metadata": {},
     "output_type": "display_data"
    }
   ],
   "source": [
    "db_path = list((MAIN_DIR / \"_archive\" / \"experiments\" / \"2025-01-27\" / \"200\" / \"database\").glob(f\"run-plain-30-*.db\"))[1]\n",
    "db = DB(db_path)\n",
    "results = pd.read_sql_query(\"SELECT * FROM results\", db._conn)\n",
    "results.loc[\n",
    "    results[\"prefix\"].str.startswith(\"config\")\n",
    "    & results[\"cached\"].eq(0)\n",
    "    & results[\"surrogate\"].eq(0)\n",
    "    & results[\"cost\"].lt(TSP_LKH_Solver.MAX_COST),\n",
    "    \"time\",\n",
    "].plot.hist(bins=100, figsize=(10, 3))\n",
    "plt.xlim(0, 10)\n",
    "plt.axvline(0.37, color=\"red\")\n",
    "plt.text(0.40, 800, \"0.37\\nnew cut-off\", color=\"red\", fontsize=11, verticalalignment=\"bottom\")\n",
    "plt.suptitle(\"TSP solving time distribution (skipped cut-offs) - 200 cities\", y=1.)\n",
    "plt.savefig(\"tmp.png\", dpi=300, bbox_inches=\"tight\")\n",
    "plt.xlabel(\"Time (s)\")\n",
    "plt.show()"
   ]
  },
  {
   "cell_type": "code",
   "execution_count": 89,
   "metadata": {},
   "outputs": [
    {
     "data": {
      "text/plain": [
       "4.390004792473051"
      ]
     },
     "execution_count": 89,
     "metadata": {},
     "output_type": "execute_result"
    }
   ],
   "source": [
    "results.loc[\n",
    "    results[\"prefix\"].str.startswith(\"config\")\n",
    "    & results[\"cached\"].eq(0)\n",
    "    & results[\"surrogate\"].eq(0),\n",
    "    \"time\",\n",
    "].sum() / 3600"
   ]
  },
  {
   "cell_type": "code",
   "execution_count": 27,
   "metadata": {},
   "outputs": [
    {
     "data": {
      "text/plain": [
       "<Axes: ylabel='Frequency'>"
      ]
     },
     "execution_count": 27,
     "metadata": {},
     "output_type": "execute_result"
    },
    {
     "data": {
      "image/png": "[encoded data removed]",
      "text/plain": [
       "<Figure size 640x480 with 1 Axes>"
      ]
     },
     "metadata": {},
     "output_type": "display_data"
    }
   ],
   "source": [
    "db_path = list((MAIN_DIR / \"database\").glob(f\"run-plain-30-*.db\"))[1]\n",
    "db = DB(db_path)\n",
    "results = pd.read_sql_query(\"SELECT * FROM results\", db._conn)\n",
    "results.loc[\n",
    "    results[\"prefix\"].str.startswith(\"config\")\n",
    "    & results[\"cached\"].eq(0)\n",
    "    & results[\"surrogate\"].eq(0)\n",
    "    & results[\"cost\"].lt(11.1),\n",
    "    \"time\",\n",
    "].plot.hist(bins=20)"
   ]
  },
  {
   "cell_type": "code",
   "execution_count": 30,
   "metadata": {},
   "outputs": [
    {
     "data": {
      "text/html": [
       "<div>\n",
       "<style scoped>\n",
       "    .dataframe tbody tr th:only-of-type {\n",
       "        vertical-align: middle;\n",
       "    }\n",
       "\n",
       "    .dataframe tbody tr th {\n",
       "        vertical-align: top;\n",
       "    }\n",
       "\n",
       "    .dataframe thead th {\n",
       "        text-align: right;\n",
       "    }\n",
       "</style>\n",
       "<table border=\"1\" class=\"dataframe\">\n",
       "  <thead>\n",
       "    <tr style=\"text-align: right;\">\n",
       "      <th></th>\n",
       "      <th>id</th>\n",
       "      <th>filepath</th>\n",
       "      <th>optimum</th>\n",
       "    </tr>\n",
       "  </thead>\n",
       "  <tbody>\n",
       "    <tr>\n",
       "      <th>0</th>\n",
       "      <td>1578235657227061094</td>\n",
       "      <td>TSP/TRAIN/cluster_netgen/000.tsp</td>\n",
       "      <td>7355676.0</td>\n",
       "    </tr>\n",
       "    <tr>\n",
       "      <th>1</th>\n",
       "      <td>893621508674833164</td>\n",
       "      <td>TSP/TRAIN/cluster_netgen/001.tsp</td>\n",
       "      <td>7389529.0</td>\n",
       "    </tr>\n",
       "    <tr>\n",
       "      <th>2</th>\n",
       "      <td>73241404596093834</td>\n",
       "      <td>TSP/TRAIN/cluster_netgen/002.tsp</td>\n",
       "      <td>8103558.0</td>\n",
       "    </tr>\n",
       "    <tr>\n",
       "      <th>3</th>\n",
       "      <td>1896746357908744151</td>\n",
       "      <td>TSP/TRAIN/cluster_netgen/003.tsp</td>\n",
       "      <td>7511247.0</td>\n",
       "    </tr>\n",
       "    <tr>\n",
       "      <th>4</th>\n",
       "      <td>974667721789580017</td>\n",
       "      <td>TSP/TRAIN/cluster_netgen/004.tsp</td>\n",
       "      <td>7167661.0</td>\n",
       "    </tr>\n",
       "    <tr>\n",
       "      <th>...</th>\n",
       "      <td>...</td>\n",
       "      <td>...</td>\n",
       "      <td>...</td>\n",
       "    </tr>\n",
       "    <tr>\n",
       "      <th>75</th>\n",
       "      <td>990506385848230246</td>\n",
       "      <td>TSP/TEST/uniform_portgen/000.tsp</td>\n",
       "      <td>14922726.0</td>\n",
       "    </tr>\n",
       "    <tr>\n",
       "      <th>76</th>\n",
       "      <td>256395823103496539</td>\n",
       "      <td>TSP/TEST/uniform_portgen/001.tsp</td>\n",
       "      <td>14747599.0</td>\n",
       "    </tr>\n",
       "    <tr>\n",
       "      <th>77</th>\n",
       "      <td>1696517368339761942</td>\n",
       "      <td>TSP/TEST/uniform_portgen/002.tsp</td>\n",
       "      <td>14887528.0</td>\n",
       "    </tr>\n",
       "    <tr>\n",
       "      <th>78</th>\n",
       "      <td>1493023541108189632</td>\n",
       "      <td>TSP/TEST/uniform_portgen/003.tsp</td>\n",
       "      <td>14696320.0</td>\n",
       "    </tr>\n",
       "    <tr>\n",
       "      <th>79</th>\n",
       "      <td>352046607412198454</td>\n",
       "      <td>TSP/TEST/uniform_portgen/004.tsp</td>\n",
       "      <td>14936541.0</td>\n",
       "    </tr>\n",
       "  </tbody>\n",
       "</table>\n",
       "<p>80 rows × 3 columns</p>\n",
       "</div>"
      ],
      "text/plain": [
       "                     id                          filepath     optimum\n",
       "0   1578235657227061094  TSP/TRAIN/cluster_netgen/000.tsp   7355676.0\n",
       "1    893621508674833164  TSP/TRAIN/cluster_netgen/001.tsp   7389529.0\n",
       "2     73241404596093834  TSP/TRAIN/cluster_netgen/002.tsp   8103558.0\n",
       "3   1896746357908744151  TSP/TRAIN/cluster_netgen/003.tsp   7511247.0\n",
       "4    974667721789580017  TSP/TRAIN/cluster_netgen/004.tsp   7167661.0\n",
       "..                  ...                               ...         ...\n",
       "75   990506385848230246  TSP/TEST/uniform_portgen/000.tsp  14922726.0\n",
       "76   256395823103496539  TSP/TEST/uniform_portgen/001.tsp  14747599.0\n",
       "77  1696517368339761942  TSP/TEST/uniform_portgen/002.tsp  14887528.0\n",
       "78  1493023541108189632  TSP/TEST/uniform_portgen/003.tsp  14696320.0\n",
       "79   352046607412198454  TSP/TEST/uniform_portgen/004.tsp  14936541.0\n",
       "\n",
       "[80 rows x 3 columns]"
      ]
     },
     "execution_count": 30,
     "metadata": {},
     "output_type": "execute_result"
    }
   ],
   "source": [
    "_ = pd.read_sql_query(\"SELECT * FROM instances\", db._conn)\n",
    "_"
   ]
  },
  {
   "cell_type": "code",
   "execution_count": 24,
   "metadata": {},
   "outputs": [
    {
     "data": {
      "text/plain": [
       "count    1147.000000\n",
       "mean        0.455153\n",
       "std         0.282336\n",
       "min         0.020000\n",
       "25%         0.220000\n",
       "50%         0.400000\n",
       "75%         0.660000\n",
       "max         1.100000\n",
       "Name: time, dtype: float64"
      ]
     },
     "execution_count": 24,
     "metadata": {},
     "output_type": "execute_result"
    }
   ],
   "source": [
    "results.loc[\n",
    "    results[\"prefix\"].str.startswith(\"config\")\n",
    "    & results[\"cached\"].eq(0)\n",
    "    & results[\"surrogate\"].eq(0)\n",
    "    & results[\"cost\"].lt(11.1),\n",
    "    \"time\",\n",
    "].describe()"
   ]
  },
  {
   "cell_type": "code",
   "execution_count": 26,
   "metadata": {},
   "outputs": [
    {
     "data": {
      "text/plain": [
       "1.1788583333333333"
      ]
     },
     "execution_count": 26,
     "metadata": {},
     "output_type": "execute_result"
    }
   ],
   "source": [
    "results.loc[\n",
    "    results[\"prefix\"].str.startswith(\"config\")\n",
    "    & results[\"cached\"].eq(0)\n",
    "    & results[\"surrogate\"].eq(0),\n",
    "    \"time\",\n",
    "].sum() / 3600"
   ]
  },
  {
   "cell_type": "code",
   "execution_count": 159,
   "metadata": {},
   "outputs": [
    {
     "data": {
      "image/png": "[encoded data removed]",
      "text/plain": [
       "<Figure size 1000x300 with 2 Axes>"
      ]
     },
     "metadata": {},
     "output_type": "display_data"
    }
   ],
   "source": [
    "fig, (ax1, ax2) = plt.subplots(1, 2, figsize=(10, 3))\n",
    "\n",
    "db_path = list((MAIN_DIR / \"_archive\" / \"experiments\" / \"2025-01-27\" / \"200\" / \"database\").glob(f\"run-plain-30-*.db\"))[1]\n",
    "db = DB(db_path)\n",
    "results = pd.read_sql_query(\"SELECT * FROM results\", db._conn)\n",
    "_ = results.loc[\n",
    "    results[\"prefix\"].str.startswith(\"config\")\n",
    "    & results[\"cached\"].eq(0)\n",
    "    & results[\"surrogate\"].eq(0)\n",
    "    & results[\"cost\"].lt(TSP_LKH_Solver.MAX_COST),\n",
    "    \"time\",\n",
    "]\n",
    "_.plot.hist(bins=50, ax=ax1)\n",
    "ax1.axvline(_.mean(), color=\"red\", linestyle=\"--\")\n",
    "ax1.set_xlim(0, 10)\n",
    "ax1.set_ylim(0, 1600)\n",
    "ax1.set_title(\"200 cities\")\n",
    "ax1.set_xlabel(\"Time (s)\")\n",
    "\n",
    "db_path = list((MAIN_DIR / \"_archive\" / \"experiments\" / \"2025-01-27\" / \"600\" / \"database\").glob(f\"run-plain-30-*.db\"))[3]\n",
    "db = DB(db_path)\n",
    "results = pd.read_sql_query(\"SELECT * FROM results\", db._conn)\n",
    "_ = results.loc[\n",
    "    results[\"prefix\"].str.startswith(\"config\")\n",
    "    & results[\"cached\"].eq(0)\n",
    "    & results[\"surrogate\"].eq(0)\n",
    "    & results[\"cost\"].lt(TSP_LKH_Solver.MAX_COST),\n",
    "    \"time\",\n",
    "]\n",
    "_.plot.hist(bins=50)\n",
    "ax2.axvline(_.mean(), color=\"red\", linestyle=\"--\")\n",
    "ax2.set_xlim(0, 10)\n",
    "ax2.set_ylim(0, 1600)\n",
    "ax2.set_title(\"600 cities\")\n",
    "ax2.set_xlabel(\"Time (s)\")\n",
    "\n",
    "plt.suptitle(\"TSP solving time distribution (skipped cut-offs)\", y=1.09)\n",
    "plt.savefig(\"tmp.png\", dpi=300, bbox_inches=\"tight\")\n",
    "plt.show()"
   ]
  },
  {
   "cell_type": "code",
   "execution_count": 182,
   "metadata": {},
   "outputs": [
    {
     "data": {
      "image/png": "[encoded data removed]",
      "text/plain": [
       "<Figure size 640x480 with 1 Axes>"
      ]
     },
     "metadata": {},
     "output_type": "display_data"
    }
   ],
   "source": [
    "\n",
    "db_path = list((MAIN_DIR / \"database\").glob(f\"run-plain-30-979060.db\"))[0]\n",
    "db = DB(db_path)\n",
    "results = pd.read_sql_query(\"SELECT * FROM results\", db._conn)\n",
    "results.loc[\n",
    "    results[\"prefix\"].str.startswith(\"config\")\n",
    "    & results[\"cached\"].eq(0)\n",
    "    & results[\"surrogate\"].eq(0)\n",
    "    & results[\"cost\"].lt(3.7),\n",
    "    \"time\",\n",
    "].plot.hist(bins=20)\n",
    "plt.xlim(0, 0.37)\n",
    "plt.title\n",
    "plt.show()"
   ]
  },
  {
   "cell_type": "code",
   "execution_count": 185,
   "metadata": {},
   "outputs": [
    {
     "data": {
      "text/plain": [
       "count    440.000000\n",
       "mean       0.187886\n",
       "std        0.092166\n",
       "min        0.020000\n",
       "25%        0.110000\n",
       "50%        0.190000\n",
       "75%        0.260000\n",
       "max        0.360000\n",
       "Name: time, dtype: float64"
      ]
     },
     "execution_count": 185,
     "metadata": {},
     "output_type": "execute_result"
    }
   ],
   "source": [
    "results.loc[\n",
    "    results[\"prefix\"].str.startswith(\"config\")\n",
    "    & results[\"cached\"].eq(0)\n",
    "    & results[\"surrogate\"].eq(0)\n",
    "    & results[\"cost\"].lt(3.2),\n",
    "    \"time\",\n",
    "].describe()"
   ]
  },
  {
   "cell_type": "code",
   "execution_count": 191,
   "metadata": {},
   "outputs": [
    {
     "data": {
      "text/plain": [
       "4.195741666666667"
      ]
     },
     "execution_count": 191,
     "metadata": {},
     "output_type": "execute_result"
    }
   ],
   "source": [
    "(results.loc[\n",
    "    results[\"prefix\"].str.startswith(\"config\")\n",
    "    & results[\"cached\"].eq(0)\n",
    "    & results[\"surrogate\"].eq(0)\n",
    "    & results[\"cost\"].lt(3.7),\n",
    "    \"time\",\n",
    "].sum() + (4500 - 440) * 3.7) / 3600"
   ]
  },
  {
   "cell_type": "code",
   "execution_count": 192,
   "metadata": {},
   "outputs": [
    {
     "data": {
      "text/plain": [
       "0.09777777777777778"
      ]
     },
     "execution_count": 192,
     "metadata": {},
     "output_type": "execute_result"
    }
   ],
   "source": [
    "440 / 4500"
   ]
  },
  {
   "cell_type": "code",
   "execution_count": null,
   "metadata": {},
   "outputs": [],
   "source": [
    "fig, (ax1, ax2) = plt.subplots(1, 2, figsize=(10, 3))\n",
    "\n",
    "db_path = list((MAIN_DIR / \"_archive\" / \"experiments\" / \"2025-01-27\" / \"200\" / \"database\").glob(f\"run-plain-30-*.db\"))[1]\n",
    "db = DB(db_path)\n",
    "results = pd.read_sql_query(\"SELECT * FROM results\", db._conn)\n",
    "_ = results.loc[\n",
    "    results[\"prefix\"].str.startswith(\"config\")\n",
    "    & results[\"cached\"].eq(0)\n",
    "    & results[\"surrogate\"].eq(0)\n",
    "    & results[\"cost\"].lt(TSP_LKH_Solver.MAX_COST),\n",
    "    \"time\",\n",
    "]\n",
    "_.plot.hist(bins=50, ax=ax1)\n",
    "ax1.axvline(_.mean(), color=\"red\", linestyle=\"--\")\n",
    "ax1.set_xlim(0, 10)\n",
    "ax1.set_ylim(0, 1600)\n",
    "ax1.set_title(\"200 cities\")\n",
    "ax1.set_xlabel(\"Time (s)\")\n",
    "\n",
    "db_path = list((MAIN_DIR / \"_archive\" / \"experiments\" / \"2025-01-27\" / \"600\" / \"database\").glob(f\"run-plain-30-*.db\"))[3]\n",
    "db = DB(db_path)\n",
    "results = pd.read_sql_query(\"SELECT * FROM results\", db._conn)\n",
    "_ = results.loc[\n",
    "    results[\"prefix\"].str.startswith(\"config\")\n",
    "    & results[\"cached\"].eq(0)\n",
    "    & results[\"surrogate\"].eq(0)\n",
    "    & results[\"cost\"].lt(TSP_LKH_Solver.MAX_COST),\n",
    "    \"time\",\n",
    "]\n",
    "_.plot.hist(bins=50)\n",
    "ax2.axvline(_.mean(), color=\"red\", linestyle=\"--\")\n",
    "ax2.set_xlim(0, 10)\n",
    "ax2.set_ylim(0, 1600)\n",
    "ax2.set_title(\"600 cities\")\n",
    "ax2.set_xlabel(\"Time (s)\")\n",
    "\n",
    "plt.suptitle(\"Problem solving time distribution during training process\", y=1.09)\n",
    "plt.savefig(\"tmp.png\", dpi=300, bbox_inches=\"tight\")\n",
    "plt.show()"
   ]
  },
  {
   "cell_type": "code",
   "execution_count": 64,
   "metadata": {},
   "outputs": [
    {
     "name": "stdout",
     "output_type": "stream",
     "text": [
      "plain: 9.39 h\n",
      "sur25: 8.10 h\n",
      "sur50: 7.12 h\n",
      "sur75: 5.98 h\n"
     ]
    }
   ],
   "source": [
    "def agg_prefix(prefix):\n",
    "    times = {}\n",
    "    for idx, db_path in enumerate((MAIN_DIR / \"_archive\" / \"experiments\" / \"2025-01-27\" / \"600\" / \"database\").glob(f\"{prefix}-*.db\")):\n",
    "        db = DB(db_path)\n",
    "        results = pd.read_sql_query(\"SELECT * FROM results\", db._conn)\n",
    "        times[idx] = results.loc[\n",
    "            results[\"prefix\"].str.startswith(\"config\")\n",
    "            & results[\"cached\"].eq(0)\n",
    "            & results[\"surrogate\"].eq(0),\n",
    "            \"time\",\n",
    "        ].sum() / 3600\n",
    "    return np.round(pd.Series(times).mean(), 2)\n",
    "\n",
    "n = 30\n",
    "plain = agg_prefix(f\"run-plain-{n}\")\n",
    "sur25 = agg_prefix(f\"run-{n}-sur-25\")\n",
    "sur50 = agg_prefix(f\"run-{n}-sur-50\")\n",
    "sur75 = agg_prefix(f\"run-{n}-sur-75\")\n",
    "\n",
    "print(f\"plain: {plain:.2f} h\")\n",
    "print(f\"sur25: {sur25:.2f} h\")\n",
    "print(f\"sur50: {sur50:.2f} h\")\n",
    "print(f\"sur75: {sur75:.2f} h\")"
   ]
  },
  {
   "cell_type": "code",
   "execution_count": 18,
   "metadata": {},
   "outputs": [
    {
     "name": "stdout",
     "output_type": "stream",
     "text": [
      "plain: 3.02\n",
      "sur25: 3.05\n",
      "sur50: 3.10\n",
      "sur75: 3.12\n"
     ]
    }
   ],
   "source": [
    "# skip cutt-offs\n",
    "def agg_prefix(prefix):\n",
    "    times = {}\n",
    "    for idx, db_path in enumerate((MAIN_DIR / \"_archive\" / \"experiments\" / \"2025-01-27\" / \"600\" / \"database\").glob(f\"{prefix}-*.db\")):\n",
    "        db = DB(db_path)\n",
    "        results = pd.read_sql_query(\"SELECT * FROM results\", db._conn)\n",
    "        times[idx] = results.loc[\n",
    "            results[\"prefix\"].str.startswith(\"config\")\n",
    "            & results[\"cached\"].eq(0)\n",
    "            & results[\"surrogate\"].eq(0)\n",
    "            & results[\"cost\"].lt(TSP_LKH_Solver.MAX_COST),\n",
    "            \"time\",\n",
    "        ].mean()\n",
    "    return np.round(pd.Series(times).mean(), 2)\n",
    "\n",
    "n = 500\n",
    "plain = agg_prefix(f\"run-plain-{n}\")\n",
    "sur25 = agg_prefix(f\"run-{n}-sur-25\")\n",
    "sur50 = agg_prefix(f\"run-{n}-sur-50\")\n",
    "sur75 = agg_prefix(f\"run-{n}-sur-75\")\n",
    "\n",
    "print(f\"plain: {plain:.2f}\")\n",
    "print(f\"sur25: {sur25:.2f}\")\n",
    "print(f\"sur50: {sur50:.2f}\")\n",
    "print(f\"sur75: {sur75:.2f}\")"
   ]
  },
  {
   "cell_type": "code",
   "execution_count": 29,
   "metadata": {},
   "outputs": [
    {
     "name": "stdout",
     "output_type": "stream",
     "text": [
      "plain: 0.30\n",
      "sur25: 0.31\n",
      "sur50: 0.32\n",
      "sur75: 0.32\n"
     ]
    }
   ],
   "source": [
    "# % cutt-offs\n",
    "def agg_prefix(prefix):\n",
    "    times = {}\n",
    "    for idx, db_path in enumerate((MAIN_DIR / \"_archive\" / \"experiments\" / \"2025-01-27\" / \"200\" / \"database\").glob(f\"{prefix}-*.db\")):\n",
    "        db = DB(db_path)\n",
    "        results = pd.read_sql_query(\"SELECT * FROM results\", db._conn)\n",
    "        times[idx] = results.loc[\n",
    "            results[\"prefix\"].str.startswith(\"config\")\n",
    "            & results[\"cached\"].eq(0)\n",
    "            & results[\"surrogate\"].eq(0),\n",
    "            \"cost\"\n",
    "        ].eq(TSP_LKH_Solver.MAX_COST).mean()\n",
    "    return np.round(pd.Series(times).mean(), 2)\n",
    "\n",
    "n = 30\n",
    "plain = agg_prefix(f\"run-plain-{n}\")\n",
    "sur25 = agg_prefix(f\"run-{n}-sur-25\")\n",
    "sur50 = agg_prefix(f\"run-{n}-sur-50\")\n",
    "sur75 = agg_prefix(f\"run-{n}-sur-75\")\n",
    "\n",
    "print(f\"plain: {plain:.2f}\")\n",
    "print(f\"sur25: {sur25:.2f}\")\n",
    "print(f\"sur50: {sur50:.2f}\")\n",
    "print(f\"sur75: {sur75:.2f}\")"
   ]
  }
 ],
 "metadata": {
  "kernelspec": {
   "display_name": "SMAC",
   "language": "python",
   "name": "python3"
  },
  "language_info": {
   "codemirror_mode": {
    "name": "ipython",
    "version": 3
   },
   "file_extension": ".py",
   "mimetype": "text/x-python",
   "name": "python",
   "nbconvert_exporter": "python",
   "pygments_lexer": "ipython3",
   "version": "3.10.15"
  }
 },
 "nbformat": 4,
 "nbformat_minor": 2
}
