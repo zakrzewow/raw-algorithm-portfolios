{
 "cells": [
  {
   "cell_type": "code",
   "execution_count": 1,
   "metadata": {},
   "outputs": [],
   "source": [
    "import numpy as np\n",
    "import pandas as pd\n",
    "\n",
    "from src.constant import DATA_DIR, MAIN_DIR\n",
    "from src.database import DB\n",
    "from src.database.queries import *\n",
    "from src.instance.InstanceList import InstanceList\n",
    "from src.instance.TSP_Instance import TSP_from_index_file\n",
    "from src.solver.TSP_LKH_Solver import TSP_LKH_Solver"
   ]
  },
  {
   "cell_type": "code",
   "execution_count": null,
   "metadata": {},
   "outputs": [],
   "source": [
    "import matplotlib.pyplot as plt\n",
    "\n",
    "plt.rcParams[\"axes.grid\"] = True\n",
    "plt.rcParams[\"grid.alpha\"] = 0.2\n",
    "plt.rcParams[\"grid.color\"] = \"#cccccc\"\n",
    "plt.rcParams[\"axes.xmargin\"] = 0\n",
    "\n",
    "db_path = list((MAIN_DIR / \"_archive\" / \"experiments\" / \"2025-01-27\" / \"200\" / \"database\").glob(f\"run-plain-30-*.db\"))[1]\n",
    "db = DB(db_path)\n",
    "results = pd.read_sql_query(\"SELECT * FROM results\", db._conn)\n",
    "results.loc[\n",
    "    results[\"prefix\"].str.startswith(\"config\")\n",
    "    & results[\"cached\"].eq(0)\n",
    "    & results[\"surrogate\"].eq(0)\n",
    "    & results[\"cost\"].lt(TSP_LKH_Solver.MAX_COST),\n",
    "    \"time\",\n",
    "].plot.hist(bins=50)\n",
    "plt.xlim(0, 10)\n",
    "plt.title\n",
    "plt.show()"
   ]
  },
  {
   "cell_type": "code",
   "execution_count": 125,
   "metadata": {},
   "outputs": [
    {
     "data": {
      "text/plain": [
       "count    3267.000000\n",
       "mean        1.051145\n",
       "std         1.796130\n",
       "min         0.000000\n",
       "25%         0.060000\n",
       "50%         0.260000\n",
       "75%         1.090000\n",
       "max         9.920000\n",
       "Name: time, dtype: float64"
      ]
     },
     "execution_count": 125,
     "metadata": {},
     "output_type": "execute_result"
    }
   ],
   "source": [
    "results.loc[\n",
    "    results[\"prefix\"].str.startswith(\"config\")\n",
    "    & results[\"cached\"].eq(0)\n",
    "    & results[\"surrogate\"].eq(0)\n",
    "    & results[\"cost\"].lt(TSP_LKH_Solver.MAX_COST),\n",
    "    \"time\",\n",
    "].describe()"
   ]
  },
  {
   "cell_type": "code",
   "execution_count": 126,
   "metadata": {},
   "outputs": [
    {
     "data": {
      "text/plain": [
       "(0.274, 0.726)"
      ]
     },
     "execution_count": 126,
     "metadata": {},
     "output_type": "execute_result"
    }
   ],
   "source": [
    "(4500 - 3267) / 4500, 3267 / 4500"
   ]
  },
  {
   "cell_type": "code",
   "execution_count": 164,
   "metadata": {},
   "outputs": [
    {
     "data": {
      "text/plain": [
       "count    1836.000000\n",
       "mean        0.112002\n",
       "std         0.167162\n",
       "min         0.000000\n",
       "25%         0.040000\n",
       "50%         0.075000\n",
       "75%         0.160000\n",
       "max         5.805047\n",
       "Name: time, dtype: float64"
      ]
     },
     "execution_count": 164,
     "metadata": {},
     "output_type": "execute_result"
    }
   ],
   "source": [
    "results.loc[\n",
    "    results[\"prefix\"].str.startswith(\"config\")\n",
    "    & results[\"cached\"].eq(0)\n",
    "    & results[\"surrogate\"].eq(0)\n",
    "    & results[\"cost\"].lt(0.37),\n",
    "    \"time\",\n",
    "].describe()"
   ]
  },
  {
   "cell_type": "code",
   "execution_count": 169,
   "metadata": {},
   "outputs": [
    {
     "data": {
      "text/plain": [
       "0.33092104442384507"
      ]
     },
     "execution_count": 169,
     "metadata": {},
     "output_type": "execute_result"
    }
   ],
   "source": [
    "(results.loc[\n",
    "    results[\"prefix\"].str.startswith(\"config\")\n",
    "    & results[\"cached\"].eq(0)\n",
    "    & results[\"surrogate\"].eq(0)\n",
    "    & results[\"cost\"].lt(0.37),\n",
    "    \"time\",\n",
    "].sum() + (4500 - 1836) * 0.37) / 3600"
   ]
  },
  {
   "cell_type": "code",
   "execution_count": 170,
   "metadata": {},
   "outputs": [
    {
     "data": {
      "text/plain": [
       "0.037037037037037035"
      ]
     },
     "execution_count": 170,
     "metadata": {},
     "output_type": "execute_result"
    }
   ],
   "source": [
    "0.33 / 8.91"
   ]
  },
  {
   "cell_type": "code",
   "execution_count": 165,
   "metadata": {},
   "outputs": [
    {
     "data": {
      "text/plain": [
       "(0.592, 0.408)"
      ]
     },
     "execution_count": 165,
     "metadata": {},
     "output_type": "execute_result"
    }
   ],
   "source": [
    "(4500 - 1836) / 4500, 1836 / 4500"
   ]
  },
  {
   "cell_type": "code",
   "execution_count": 166,
   "metadata": {},
   "outputs": [
    {
     "data": {
      "text/plain": [
       "0.03819444444444445"
      ]
     },
     "execution_count": 166,
     "metadata": {},
     "output_type": "execute_result"
    }
   ],
   "source": [
    "0.11 / 2.88"
   ]
  },
  {
   "cell_type": "code",
   "execution_count": 163,
   "metadata": {},
   "outputs": [
    {
     "data": {
      "image/png": "[encoded data removed]",
      "text/plain": [
       "<Figure size 1000x300 with 1 Axes>"
      ]
     },
     "metadata": {},
     "output_type": "display_data"
    }
   ],
   "source": [
    "db_path = list((MAIN_DIR / \"_archive\" / \"experiments\" / \"2025-01-27\" / \"200\" / \"database\").glob(f\"run-plain-30-*.db\"))[1]\n",
    "db = DB(db_path)\n",
    "results = pd.read_sql_query(\"SELECT * FROM results\", db._conn)\n",
    "results.loc[\n",
    "    results[\"prefix\"].str.startswith(\"config\")\n",
    "    & results[\"cached\"].eq(0)\n",
    "    & results[\"surrogate\"].eq(0)\n",
    "    & results[\"cost\"].lt(TSP_LKH_Solver.MAX_COST),\n",
    "    \"time\",\n",
    "].plot.hist(bins=100, figsize=(10, 3))\n",
    "plt.xlim(0, 10)\n",
    "plt.axvline(0.37, color=\"red\")\n",
    "plt.text(0.40, 800, \"0.37\\nnew cut-off\", color=\"red\", fontsize=11, verticalalignment=\"bottom\")\n",
    "plt.suptitle(\"TSP solving time distribution (skipped cut-offs) - 200 cities\", y=1.)\n",
    "plt.savefig(\"tmp.png\", dpi=300, bbox_inches=\"tight\")\n",
    "plt.xlabel(\"Time (s)\")\n",
    "plt.show()"
   ]
  },
  {
   "cell_type": "code",
   "execution_count": 89,
   "metadata": {},
   "outputs": [
    {
     "data": {
      "text/plain": [
       "4.390004792473051"
      ]
     },
     "execution_count": 89,
     "metadata": {},
     "output_type": "execute_result"
    }
   ],
   "source": [
    "results.loc[\n",
    "    results[\"prefix\"].str.startswith(\"config\")\n",
    "    & results[\"cached\"].eq(0)\n",
    "    & results[\"surrogate\"].eq(0),\n",
    "    \"time\",\n",
    "].sum() / 3600"
   ]
  },
  {
   "cell_type": "code",
   "execution_count": 5,
   "metadata": {},
   "outputs": [
    {
     "data": {
      "text/plain": [
       "<Axes: ylabel='Frequency'>"
      ]
     },
     "execution_count": 5,
     "metadata": {},
     "output_type": "execute_result"
    },
    {
     "data": {
      "image/png": "[encoded data removed]",
      "text/plain": [
       "<Figure size 640x480 with 1 Axes>"
      ]
     },
     "metadata": {},
     "output_type": "display_data"
    }
   ],
   "source": [
    "db_path = list((MAIN_DIR / \"database\").glob(f\"run-plain-30-*.db\"))[0]\n",
    "db = DB(db_path)\n",
    "results = pd.read_sql_query(\"SELECT * FROM results\", db._conn)\n",
    "results.loc[\n",
    "    results[\"prefix\"].str.startswith(\"config\")\n",
    "    & results[\"cached\"].eq(0)\n",
    "    & results[\"surrogate\"].eq(0)\n",
    "    & results[\"cost\"].lt(0.37),\n",
    "    \"time\",\n",
    "].plot.hist(bins=20)"
   ]
  },
  {
   "cell_type": "code",
   "execution_count": 31,
   "metadata": {},
   "outputs": [
    {
     "data": {
      "text/plain": [
       "count    1457.000000\n",
       "mean        0.125429\n",
       "std         0.094702\n",
       "min         0.010000\n",
       "25%         0.050000\n",
       "50%         0.100000\n",
       "75%         0.190000\n",
       "max         0.360000\n",
       "Name: time, dtype: float64"
      ]
     },
     "execution_count": 31,
     "metadata": {},
     "output_type": "execute_result"
    }
   ],
   "source": [
    "results.loc[\n",
    "    results[\"prefix\"].str.startswith(\"config\")\n",
    "    & results[\"cached\"].eq(0)\n",
    "    & results[\"surrogate\"].eq(0)\n",
    "    & results[\"cost\"].lt(0.37),\n",
    "    \"time\",\n",
    "].describe()"
   ]
  },
  {
   "cell_type": "code",
   "execution_count": 32,
   "metadata": {},
   "outputs": [
    {
     "data": {
      "text/plain": [
       "0.3635166666666667"
      ]
     },
     "execution_count": 32,
     "metadata": {},
     "output_type": "execute_result"
    }
   ],
   "source": [
    "(results.loc[\n",
    "    results[\"prefix\"].str.startswith(\"config\")\n",
    "    & results[\"cached\"].eq(0)\n",
    "    & results[\"surrogate\"].eq(0)\n",
    "    & results[\"cost\"].lt(0.37),\n",
    "    \"time\",\n",
    "].sum() + (4500 - 1457) * 0.37) / 3600"
   ]
  },
  {
   "cell_type": "code",
   "execution_count": 27,
   "metadata": {},
   "outputs": [
    {
     "data": {
      "text/plain": [
       "0.3237777777777778"
      ]
     },
     "execution_count": 27,
     "metadata": {},
     "output_type": "execute_result"
    }
   ],
   "source": [
    "1457 / 4500"
   ]
  },
  {
   "cell_type": "code",
   "execution_count": 26,
   "metadata": {},
   "outputs": [
    {
     "data": {
      "text/plain": [
       "1.1788583333333333"
      ]
     },
     "execution_count": 26,
     "metadata": {},
     "output_type": "execute_result"
    }
   ],
   "source": [
    "results.loc[\n",
    "    results[\"prefix\"].str.startswith(\"config\")\n",
    "    & results[\"cached\"].eq(0)\n",
    "    & results[\"surrogate\"].eq(0),\n",
    "    \"time\",\n",
    "].sum() / 3600"
   ]
  },
  {
   "cell_type": "code",
   "execution_count": 159,
   "metadata": {},
   "outputs": [
    {
     "data": {
      "image/png": "[encoded data removed]",
      "text/plain": [
       "<Figure size 1000x300 with 2 Axes>"
      ]
     },
     "metadata": {},
     "output_type": "display_data"
    }
   ],
   "source": [
    "fig, (ax1, ax2) = plt.subplots(1, 2, figsize=(10, 3))\n",
    "\n",
    "db_path = list((MAIN_DIR / \"_archive\" / \"experiments\" / \"2025-01-27\" / \"200\" / \"database\").glob(f\"run-plain-30-*.db\"))[1]\n",
    "db = DB(db_path)\n",
    "results = pd.read_sql_query(\"SELECT * FROM results\", db._conn)\n",
    "_ = results.loc[\n",
    "    results[\"prefix\"].str.startswith(\"config\")\n",
    "    & results[\"cached\"].eq(0)\n",
    "    & results[\"surrogate\"].eq(0)\n",
    "    & results[\"cost\"].lt(TSP_LKH_Solver.MAX_COST),\n",
    "    \"time\",\n",
    "]\n",
    "_.plot.hist(bins=50, ax=ax1)\n",
    "ax1.axvline(_.mean(), color=\"red\", linestyle=\"--\")\n",
    "ax1.set_xlim(0, 10)\n",
    "ax1.set_ylim(0, 1600)\n",
    "ax1.set_title(\"200 cities\")\n",
    "ax1.set_xlabel(\"Time (s)\")\n",
    "\n",
    "db_path = list((MAIN_DIR / \"_archive\" / \"experiments\" / \"2025-01-27\" / \"600\" / \"database\").glob(f\"run-plain-30-*.db\"))[3]\n",
    "db = DB(db_path)\n",
    "results = pd.read_sql_query(\"SELECT * FROM results\", db._conn)\n",
    "_ = results.loc[\n",
    "    results[\"prefix\"].str.startswith(\"config\")\n",
    "    & results[\"cached\"].eq(0)\n",
    "    & results[\"surrogate\"].eq(0)\n",
    "    & results[\"cost\"].lt(TSP_LKH_Solver.MAX_COST),\n",
    "    \"time\",\n",
    "]\n",
    "_.plot.hist(bins=50)\n",
    "ax2.axvline(_.mean(), color=\"red\", linestyle=\"--\")\n",
    "ax2.set_xlim(0, 10)\n",
    "ax2.set_ylim(0, 1600)\n",
    "ax2.set_title(\"600 cities\")\n",
    "ax2.set_xlabel(\"Time (s)\")\n",
    "\n",
    "plt.suptitle(\"TSP solving time distribution (skipped cut-offs)\", y=1.09)\n",
    "plt.savefig(\"tmp.png\", dpi=300, bbox_inches=\"tight\")\n",
    "plt.show()"
   ]
  },
  {
   "cell_type": "code",
   "execution_count": 182,
   "metadata": {},
   "outputs": [
    {
     "data": {
      "image/png": "[encoded data removed]",
      "text/plain": [
       "<Figure size 640x480 with 1 Axes>"
      ]
     },
     "metadata": {},
     "output_type": "display_data"
    }
   ],
   "source": [
    "\n",
    "db_path = list((MAIN_DIR / \"database\").glob(f\"run-plain-30-979060.db\"))[0]\n",
    "db = DB(db_path)\n",
    "results = pd.read_sql_query(\"SELECT * FROM results\", db._conn)\n",
    "results.loc[\n",
    "    results[\"prefix\"].str.startswith(\"config\")\n",
    "    & results[\"cached\"].eq(0)\n",
    "    & results[\"surrogate\"].eq(0)\n",
    "    & results[\"cost\"].lt(3.7),\n",
    "    \"time\",\n",
    "].plot.hist(bins=20)\n",
    "plt.xlim(0, 0.37)\n",
    "plt.title\n",
    "plt.show()"
   ]
  },
  {
   "cell_type": "code",
   "execution_count": 185,
   "metadata": {},
   "outputs": [
    {
     "data": {
      "text/plain": [
       "count    440.000000\n",
       "mean       0.187886\n",
       "std        0.092166\n",
       "min        0.020000\n",
       "25%        0.110000\n",
       "50%        0.190000\n",
       "75%        0.260000\n",
       "max        0.360000\n",
       "Name: time, dtype: float64"
      ]
     },
     "execution_count": 185,
     "metadata": {},
     "output_type": "execute_result"
    }
   ],
   "source": [
    "results.loc[\n",
    "    results[\"prefix\"].str.startswith(\"config\")\n",
    "    & results[\"cached\"].eq(0)\n",
    "    & results[\"surrogate\"].eq(0)\n",
    "    & results[\"cost\"].lt(3.2),\n",
    "    \"time\",\n",
    "].describe()"
   ]
  },
  {
   "cell_type": "code",
   "execution_count": 191,
   "metadata": {},
   "outputs": [
    {
     "data": {
      "text/plain": [
       "4.195741666666667"
      ]
     },
     "execution_count": 191,
     "metadata": {},
     "output_type": "execute_result"
    }
   ],
   "source": [
    "(results.loc[\n",
    "    results[\"prefix\"].str.startswith(\"config\")\n",
    "    & results[\"cached\"].eq(0)\n",
    "    & results[\"surrogate\"].eq(0)\n",
    "    & results[\"cost\"].lt(3.7),\n",
    "    \"time\",\n",
    "].sum() + (4500 - 440) * 3.7) / 3600"
   ]
  },
  {
   "cell_type": "code",
   "execution_count": 192,
   "metadata": {},
   "outputs": [
    {
     "data": {
      "text/plain": [
       "0.09777777777777778"
      ]
     },
     "execution_count": 192,
     "metadata": {},
     "output_type": "execute_result"
    }
   ],
   "source": [
    "440 / 4500"
   ]
  },
  {
   "cell_type": "code",
   "execution_count": null,
   "metadata": {},
   "outputs": [],
   "source": [
    "fig, (ax1, ax2) = plt.subplots(1, 2, figsize=(10, 3))\n",
    "\n",
    "db_path = list((MAIN_DIR / \"_archive\" / \"experiments\" / \"2025-01-27\" / \"200\" / \"database\").glob(f\"run-plain-30-*.db\"))[1]\n",
    "db = DB(db_path)\n",
    "results = pd.read_sql_query(\"SELECT * FROM results\", db._conn)\n",
    "_ = results.loc[\n",
    "    results[\"prefix\"].str.startswith(\"config\")\n",
    "    & results[\"cached\"].eq(0)\n",
    "    & results[\"surrogate\"].eq(0)\n",
    "    & results[\"cost\"].lt(TSP_LKH_Solver.MAX_COST),\n",
    "    \"time\",\n",
    "]\n",
    "_.plot.hist(bins=50, ax=ax1)\n",
    "ax1.axvline(_.mean(), color=\"red\", linestyle=\"--\")\n",
    "ax1.set_xlim(0, 10)\n",
    "ax1.set_ylim(0, 1600)\n",
    "ax1.set_title(\"200 cities\")\n",
    "ax1.set_xlabel(\"Time (s)\")\n",
    "\n",
    "db_path = list((MAIN_DIR / \"_archive\" / \"experiments\" / \"2025-01-27\" / \"600\" / \"database\").glob(f\"run-plain-30-*.db\"))[3]\n",
    "db = DB(db_path)\n",
    "results = pd.read_sql_query(\"SELECT * FROM results\", db._conn)\n",
    "_ = results.loc[\n",
    "    results[\"prefix\"].str.startswith(\"config\")\n",
    "    & results[\"cached\"].eq(0)\n",
    "    & results[\"surrogate\"].eq(0)\n",
    "    & results[\"cost\"].lt(TSP_LKH_Solver.MAX_COST),\n",
    "    \"time\",\n",
    "]\n",
    "_.plot.hist(bins=50)\n",
    "ax2.axvline(_.mean(), color=\"red\", linestyle=\"--\")\n",
    "ax2.set_xlim(0, 10)\n",
    "ax2.set_ylim(0, 1600)\n",
    "ax2.set_title(\"600 cities\")\n",
    "ax2.set_xlabel(\"Time (s)\")\n",
    "\n",
    "plt.suptitle(\"Problem solving time distribution during training process\", y=1.09)\n",
    "plt.savefig(\"tmp.png\", dpi=300, bbox_inches=\"tight\")\n",
    "plt.show()"
   ]
  },
  {
   "cell_type": "code",
   "execution_count": 64,
   "metadata": {},
   "outputs": [
    {
     "name": "stdout",
     "output_type": "stream",
     "text": [
      "plain: 9.39 h\n",
      "sur25: 8.10 h\n",
      "sur50: 7.12 h\n",
      "sur75: 5.98 h\n"
     ]
    }
   ],
   "source": [
    "def agg_prefix(prefix):\n",
    "    times = {}\n",
    "    for idx, db_path in enumerate((MAIN_DIR / \"_archive\" / \"experiments\" / \"2025-01-27\" / \"600\" / \"database\").glob(f\"{prefix}-*.db\")):\n",
    "        db = DB(db_path)\n",
    "        results = pd.read_sql_query(\"SELECT * FROM results\", db._conn)\n",
    "        times[idx] = results.loc[\n",
    "            results[\"prefix\"].str.startswith(\"config\")\n",
    "            & results[\"cached\"].eq(0)\n",
    "            & results[\"surrogate\"].eq(0),\n",
    "            \"time\",\n",
    "        ].sum() / 3600\n",
    "    return np.round(pd.Series(times).mean(), 2)\n",
    "\n",
    "n = 30\n",
    "plain = agg_prefix(f\"run-plain-{n}\")\n",
    "sur25 = agg_prefix(f\"run-{n}-sur-25\")\n",
    "sur50 = agg_prefix(f\"run-{n}-sur-50\")\n",
    "sur75 = agg_prefix(f\"run-{n}-sur-75\")\n",
    "\n",
    "print(f\"plain: {plain:.2f} h\")\n",
    "print(f\"sur25: {sur25:.2f} h\")\n",
    "print(f\"sur50: {sur50:.2f} h\")\n",
    "print(f\"sur75: {sur75:.2f} h\")"
   ]
  },
  {
   "cell_type": "code",
   "execution_count": 18,
   "metadata": {},
   "outputs": [
    {
     "name": "stdout",
     "output_type": "stream",
     "text": [
      "plain: 3.02\n",
      "sur25: 3.05\n",
      "sur50: 3.10\n",
      "sur75: 3.12\n"
     ]
    }
   ],
   "source": [
    "# skip cutt-offs\n",
    "def agg_prefix(prefix):\n",
    "    times = {}\n",
    "    for idx, db_path in enumerate((MAIN_DIR / \"_archive\" / \"experiments\" / \"2025-01-27\" / \"600\" / \"database\").glob(f\"{prefix}-*.db\")):\n",
    "        db = DB(db_path)\n",
    "        results = pd.read_sql_query(\"SELECT * FROM results\", db._conn)\n",
    "        times[idx] = results.loc[\n",
    "            results[\"prefix\"].str.startswith(\"config\")\n",
    "            & results[\"cached\"].eq(0)\n",
    "            & results[\"surrogate\"].eq(0)\n",
    "            & results[\"cost\"].lt(TSP_LKH_Solver.MAX_COST),\n",
    "            \"time\",\n",
    "        ].mean()\n",
    "    return np.round(pd.Series(times).mean(), 2)\n",
    "\n",
    "n = 500\n",
    "plain = agg_prefix(f\"run-plain-{n}\")\n",
    "sur25 = agg_prefix(f\"run-{n}-sur-25\")\n",
    "sur50 = agg_prefix(f\"run-{n}-sur-50\")\n",
    "sur75 = agg_prefix(f\"run-{n}-sur-75\")\n",
    "\n",
    "print(f\"plain: {plain:.2f}\")\n",
    "print(f\"sur25: {sur25:.2f}\")\n",
    "print(f\"sur50: {sur50:.2f}\")\n",
    "print(f\"sur75: {sur75:.2f}\")"
   ]
  },
  {
   "cell_type": "code",
   "execution_count": 29,
   "metadata": {},
   "outputs": [
    {
     "name": "stdout",
     "output_type": "stream",
     "text": [
      "plain: 0.30\n",
      "sur25: 0.31\n",
      "sur50: 0.32\n",
      "sur75: 0.32\n"
     ]
    }
   ],
   "source": [
    "# % cutt-offs\n",
    "def agg_prefix(prefix):\n",
    "    times = {}\n",
    "    for idx, db_path in enumerate((MAIN_DIR / \"_archive\" / \"experiments\" / \"2025-01-27\" / \"200\" / \"database\").glob(f\"{prefix}-*.db\")):\n",
    "        db = DB(db_path)\n",
    "        results = pd.read_sql_query(\"SELECT * FROM results\", db._conn)\n",
    "        times[idx] = results.loc[\n",
    "            results[\"prefix\"].str.startswith(\"config\")\n",
    "            & results[\"cached\"].eq(0)\n",
    "            & results[\"surrogate\"].eq(0),\n",
    "            \"cost\"\n",
    "        ].eq(TSP_LKH_Solver.MAX_COST).mean()\n",
    "    return np.round(pd.Series(times).mean(), 2)\n",
    "\n",
    "n = 30\n",
    "plain = agg_prefix(f\"run-plain-{n}\")\n",
    "sur25 = agg_prefix(f\"run-{n}-sur-25\")\n",
    "sur50 = agg_prefix(f\"run-{n}-sur-50\")\n",
    "sur75 = agg_prefix(f\"run-{n}-sur-75\")\n",
    "\n",
    "print(f\"plain: {plain:.2f}\")\n",
    "print(f\"sur25: {sur25:.2f}\")\n",
    "print(f\"sur50: {sur50:.2f}\")\n",
    "print(f\"sur75: {sur75:.2f}\")"
   ]
  }
 ],
 "metadata": {
  "kernelspec": {
   "display_name": "SMAC",
   "language": "python",
   "name": "python3"
  },
  "language_info": {
   "codemirror_mode": {
    "name": "ipython",
    "version": 3
   },
   "file_extension": ".py",
   "mimetype": "text/x-python",
   "name": "python",
   "nbconvert_exporter": "python",
   "pygments_lexer": "ipython3",
   "version": "3.10.15"
  }
 },
 "nbformat": 4,
 "nbformat_minor": 2
}
