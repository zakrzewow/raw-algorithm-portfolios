{
 "cells": [
  {
   "cell_type": "code",
   "execution_count": 8,
   "metadata": {},
   "outputs": [],
   "source": [
    "import numpy as np\n",
    "import pandas as pd\n",
    "\n",
    "from src.constant import DATA_DIR, DATABASE_DIR\n",
    "from src.database import DB\n",
    "from src.database.queries import *\n",
    "from src.instance.InstanceList import InstanceList\n",
    "from src.instance.TSP_Instance import TSP_from_index_file\n",
    "from src.solver.TSP_LKH_Solver import TSP_LKH_Solver"
   ]
  },
  {
   "cell_type": "code",
   "execution_count": 9,
   "metadata": {},
   "outputs": [],
   "source": [
    "generators = [\n",
    "    \"cluster_netgen\",\n",
    "    \"compression\",\n",
    "    \"expansion\",\n",
    "    \"explosion\",\n",
    "    \"grid\",\n",
    "    \"cluster\",\n",
    "    \"implosion\",\n",
    "    \"linearprojection\",\n",
    "    \"rotation\",\n",
    "    \"uniform_portgen\",\n",
    "]\n",
    "\n",
    "test_instances = TSP_from_index_file(filepath=DATA_DIR / \"TSP\" / \"TEST\" / \"index.json\")\n",
    "\n",
    "id_to_generator_name = {\n",
    "    instance.id(): instance.filepath.parts[-2] for instance in test_instances\n",
    "}\n",
    "\n",
    "id_to_name = {\n",
    "    instance.id(): instance.filepath.parts[-1] for instance in test_instances\n",
    "}"
   ]
  },
  {
   "cell_type": "code",
   "execution_count": 11,
   "metadata": {},
   "outputs": [],
   "source": [
    "def agg_prefix(prefix):\n",
    "\n",
    "    frames = []\n",
    "\n",
    "    def agg_cost(x):\n",
    "        return sum(x == TSP_LKH_Solver.MAX_COST)\n",
    "        \n",
    "\n",
    "    for idx, db_path in enumerate(DATABASE_DIR.glob(f\"{prefix}-*.db\")):\n",
    "        db = DB(db_path)\n",
    "        results = pd.read_sql_query(\"SELECT * FROM results\", db._conn)\n",
    "        series = (\n",
    "            results.loc[results[\"prefix\"].str.startswith(\"test\")]\n",
    "            .groupby([\"instance_id\", \"prefix\"])[\"cost\"]\n",
    "            .min()\n",
    "            .reset_index()\n",
    "            .groupby(\"instance_id\")[\"cost\"]\n",
    "            .agg(agg_cost)\n",
    "        )\n",
    "        frames.append(series)\n",
    "        \n",
    "\n",
    "    df = (\n",
    "        pd.concat(frames, axis=1)\n",
    "        .sum(axis=1)\n",
    "        .rename(prefix)\n",
    "        .to_frame()\n",
    "    )\n",
    "\n",
    "    df[\"generator\"] = df.index.map(id_to_generator_name)\n",
    "    df[\"name\"] = df.index.map(id_to_name)\n",
    "    df = df.pivot_table(index=\"generator\", columns=\"name\", values=prefix).loc[generators, :]\n",
    "    return df\n",
    "\n",
    "n = 500\n",
    "plain = agg_prefix(f\"run-plain-{n}\")\n",
    "sur = agg_prefix(f\"run-{n}-sur-50\")\n",
    "\n",
    "sur = sur.assign(generator=\"surrogate-50\").set_index(\"generator\", append=True)\n",
    "plain = plain.assign(generator=f\"plain-{n}\").set_index(\"generator\", append=True)"
   ]
  },
  {
   "cell_type": "code",
   "execution_count": 12,
   "metadata": {},
   "outputs": [],
   "source": [
    "df = pd.concat([plain, sur], axis=0).sort_index(level=0).loc[generators]   \n",
    "df[\"mean\"] = df.mean(axis=1)"
   ]
  },
  {
   "cell_type": "code",
   "execution_count": 13,
   "metadata": {},
   "outputs": [
    {
     "name": "stdout",
     "output_type": "stream",
     "text": [
      "plain_total_mean=0.74 sur_total_mean=0.56\n"
     ]
    }
   ],
   "source": [
    "plain_total_mean = plain.mean(axis=1).mean(axis=0)\n",
    "sur_total_mean = sur.mean(axis=1).mean(axis=0)\n",
    "print(f\"{plain_total_mean=:.2f}\", f\"{sur_total_mean=:.2f}\")"
   ]
  },
  {
   "cell_type": "code",
   "execution_count": 14,
   "metadata": {},
   "outputs": [
    {
     "name": "stdout",
     "output_type": "stream",
     "text": [
      "plain_training=0.12 sur_training=0.00\n",
      "plain_not_training=1.36 sur_not_training=1.12\n"
     ]
    }
   ],
   "source": [
    "plain_training = plain.iloc[:5].mean(axis=1).mean(axis=0)\n",
    "sur_training = sur.iloc[:5].mean(axis=1).mean(axis=0)\n",
    "\n",
    "plain_not_training = plain.iloc[5:].mean(axis=1).mean(axis=0)\n",
    "sur_not_training = sur.iloc[5:].mean(axis=1).mean(axis=0)\n",
    "\n",
    "print(f\"{plain_training=:.2f}\", f\"{sur_training=:.2f}\")\n",
    "print(f\"{plain_not_training=:.2f}\", f\"{sur_not_training=:.2f}\")"
   ]
  },
  {
   "cell_type": "code",
   "execution_count": 15,
   "metadata": {},
   "outputs": [],
   "source": [
    "# \n",
    "df.to_excel(\"tmp.xlsx\")"
   ]
  }
 ],
 "metadata": {
  "kernelspec": {
   "display_name": "SMAC",
   "language": "python",
   "name": "python3"
  },
  "language_info": {
   "codemirror_mode": {
    "name": "ipython",
    "version": 3
   },
   "file_extension": ".py",
   "mimetype": "text/x-python",
   "name": "python",
   "nbconvert_exporter": "python",
   "pygments_lexer": "ipython3",
   "version": "3.10.15"
  }
 },
 "nbformat": 4,
 "nbformat_minor": 2
}
