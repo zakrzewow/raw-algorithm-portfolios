{
 "cells": [
  {
   "cell_type": "code",
   "execution_count": 1,
   "metadata": {},
   "outputs": [],
   "source": [
    "import numpy as np\n",
    "import pandas as pd\n",
    "\n",
    "from src.constant import DATA_DIR, DATABASE_DIR\n",
    "from src.database import DB\n",
    "from src.database.queries import *\n",
    "from src.instance.InstanceList import InstanceList\n",
    "from src.instance.TSP_Instance import TSP_from_index_file\n",
    "from src.solver.TSP_LKH_Solver import TSP_LKH_Solver"
   ]
  },
  {
   "cell_type": "code",
   "execution_count": 2,
   "metadata": {},
   "outputs": [],
   "source": [
    "generators = [\n",
    "    \"cluster_netgen\",\n",
    "    \"compression\",\n",
    "    \"expansion\",\n",
    "    \"explosion\",\n",
    "    \"grid\",\n",
    "    \"cluster\",\n",
    "    \"implosion\",\n",
    "    \"linearprojection\",\n",
    "    \"rotation\",\n",
    "    \"uniform_portgen\",\n",
    "]\n",
    "\n",
    "instances = TSP_from_index_file(filepath=DATA_DIR / \"TSP\" / \"CEPS_benchmark\" / \"index.json\")\n",
    "test_instances = InstanceList()\n",
    "for i in range(10):\n",
    "    test_instances.append(instances[i * 50])\n",
    "\n",
    "id_to_generator_name = {instance.id(): instance.filepath.parts[-2] for instance in test_instances}"
   ]
  },
  {
   "cell_type": "code",
   "execution_count": 3,
   "metadata": {},
   "outputs": [
    {
     "data": {
      "text/html": [
       "<div>\n",
       "<style scoped>\n",
       "    .dataframe tbody tr th:only-of-type {\n",
       "        vertical-align: middle;\n",
       "    }\n",
       "\n",
       "    .dataframe tbody tr th {\n",
       "        vertical-align: top;\n",
       "    }\n",
       "\n",
       "    .dataframe thead th {\n",
       "        text-align: right;\n",
       "    }\n",
       "</style>\n",
       "<table border=\"1\" class=\"dataframe\">\n",
       "  <thead>\n",
       "    <tr style=\"text-align: right;\">\n",
       "      <th>instance_id</th>\n",
       "      <th>cluster_netgen</th>\n",
       "      <th>compression</th>\n",
       "      <th>expansion</th>\n",
       "      <th>explosion</th>\n",
       "      <th>grid</th>\n",
       "      <th>cluster</th>\n",
       "      <th>implosion</th>\n",
       "      <th>linearprojection</th>\n",
       "      <th>rotation</th>\n",
       "      <th>uniform_portgen</th>\n",
       "    </tr>\n",
       "  </thead>\n",
       "  <tbody>\n",
       "    <tr>\n",
       "      <th>run-245-sur-50</th>\n",
       "      <td>2.35</td>\n",
       "      <td>3.16</td>\n",
       "      <td>4.16</td>\n",
       "      <td>2.31</td>\n",
       "      <td>3.63</td>\n",
       "      <td>5.6</td>\n",
       "      <td>2.03</td>\n",
       "      <td>2.28</td>\n",
       "      <td>2.35</td>\n",
       "      <td>2.53</td>\n",
       "    </tr>\n",
       "  </tbody>\n",
       "</table>\n",
       "</div>"
      ],
      "text/plain": [
       "instance_id     cluster_netgen  compression  expansion  explosion  grid  \\\n",
       "run-245-sur-50            2.35         3.16       4.16       2.31  3.63   \n",
       "\n",
       "instance_id     cluster  implosion  linearprojection  rotation  \\\n",
       "run-245-sur-50      5.6       2.03              2.28      2.35   \n",
       "\n",
       "instance_id     uniform_portgen  \n",
       "run-245-sur-50             2.53  "
      ]
     },
     "execution_count": 3,
     "metadata": {},
     "output_type": "execute_result"
    }
   ],
   "source": [
    "# PREFIX = \"run-plain-245\"\n",
    "PREFIX = \"run-245-sur-50\"\n",
    "# PREFIX = \"run-plain-500\"\n",
    "# PREFIX = \"run-500-sur-50\"\n",
    "# PREFIX = \"run-90-sur-50\"\n",
    "# PREFIX = \"run-90-sur-70\"\n",
    "# PREFIX = \"run-90-sur-90\"\n",
    "\n",
    "frames = []\n",
    "\n",
    "def agg_cost(x):\n",
    "    count = x.shape[0]\n",
    "    x = x[x < 100]\n",
    "    idx = count // 2\n",
    "    if x.shape[0] <= idx:\n",
    "        return x.iloc[-1]\n",
    "    return x.iloc[idx]\n",
    "    \n",
    "\n",
    "for idx, db_path in enumerate(DATABASE_DIR.glob(f\"{PREFIX}-*.db\")):\n",
    "    db = DB(db_path)\n",
    "    results = pd.read_sql_query(\"SELECT * FROM results\", db._conn)\n",
    "    series = (\n",
    "        results.loc[results[\"prefix\"].str.startswith(\"test\")]\n",
    "        .groupby([\"instance_id\", \"prefix\"])[\"cost\"]\n",
    "        .min()\n",
    "        .reset_index()\n",
    "        .groupby(\"instance_id\")[\"cost\"]\n",
    "        .agg(agg_cost)\n",
    "    )\n",
    "    frames.append(series)\n",
    "    \n",
    "\n",
    "df = (\n",
    "    pd.concat(frames, axis=1)\n",
    "    .mean(axis=1)\n",
    "    # .std(axis=1)\n",
    "    .round(2)\n",
    "    .rename(PREFIX)\n",
    "    .to_frame()\n",
    ")\n",
    "df.index = df.index.map(id_to_generator_name)\n",
    "df.loc[generators].T"
   ]
  },
  {
   "cell_type": "code",
   "execution_count": 4,
   "metadata": {},
   "outputs": [
    {
     "data": {
      "text/plain": [
       "run-245-sur-50    3.04\n",
       "dtype: float64"
      ]
     },
     "execution_count": 4,
     "metadata": {},
     "output_type": "execute_result"
    }
   ],
   "source": [
    "df.loc[generators].mean().round(2)"
   ]
  },
  {
   "cell_type": "code",
   "execution_count": 6,
   "metadata": {},
   "outputs": [
    {
     "data": {
      "text/plain": [
       "888050.07"
      ]
     },
     "execution_count": 6,
     "metadata": {},
     "output_type": "execute_result"
    }
   ],
   "source": [
    "times = {}\n",
    "\n",
    "for idx, db_path in enumerate(DATABASE_DIR.glob(f\"{PREFIX}-*.db\")):\n",
    "    db = DB(db_path)\n",
    "    results = pd.read_sql_query(\"SELECT * FROM results\", db._conn)\n",
    "    times[idx] = results.loc[\n",
    "        results[\"prefix\"].str.startswith(\"config\")\n",
    "        & results[\"cached\"].eq(0)\n",
    "        & results[\"surrogate\"].eq(0),\n",
    "        \"time\",\n",
    "    ].sum()\n",
    "    \n",
    "np.round(pd.Series(times).mean(), 2)"
   ]
  },
  {
   "cell_type": "code",
   "execution_count": 7,
   "metadata": {},
   "outputs": [
    {
     "data": {
      "text/plain": [
       "246.68057431587908"
      ]
     },
     "execution_count": 7,
     "metadata": {},
     "output_type": "execute_result"
    }
   ],
   "source": [
    "pd.Series(times).mean() / 3600"
   ]
  }
 ],
 "metadata": {
  "kernelspec": {
   "display_name": "SMAC",
   "language": "python",
   "name": "python3"
  },
  "language_info": {
   "codemirror_mode": {
    "name": "ipython",
    "version": 3
   },
   "file_extension": ".py",
   "mimetype": "text/x-python",
   "name": "python",
   "nbconvert_exporter": "python",
   "pygments_lexer": "ipython3",
   "version": "3.10.15"
  }
 },
 "nbformat": 4,
 "nbformat_minor": 2
}
